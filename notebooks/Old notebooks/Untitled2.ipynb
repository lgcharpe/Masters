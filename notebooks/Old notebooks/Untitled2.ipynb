{
 "cells": [
  {
   "cell_type": "code",
   "execution_count": 1,
   "metadata": {},
   "outputs": [],
   "source": [
    "from __future__ import absolute_import, division, print_function\n",
    "from __future__ import unicode_literals\n",
    "import os\n",
    "os.environ['TF_FORCE_GPU_ALLOW_GROWTH'] = 'true'"
   ]
  },
  {
   "cell_type": "code",
   "execution_count": 63,
   "metadata": {},
   "outputs": [],
   "source": [
    "import tensorflow as tf\n",
    "import numpy as np\n",
    "import copy\n",
    "import tqdm\n",
    "import IProgress\n",
    "from hfunc import models\n",
    "from hfunc import metrics\n",
    "import time\n",
    "import matplotlib.pyplot as plt"
   ]
  },
  {
   "cell_type": "code",
   "execution_count": 3,
   "metadata": {},
   "outputs": [],
   "source": [
    "cifar = tf.keras.datasets.cifar10\n",
    "class_accuracy = metrics.ClassAccuracy()\n",
    "\n",
    "(x_train, y_train), (x_test, y_test) = cifar.load_data()\n",
    "x_train, x_test = x_train / 255.0, x_test / 255.0  # Converting interger values to floats (0 to 1)\n",
    "y_train, y_test = tf.one_hot(y_train.flatten(), 10), tf.one_hot(y_test.flatten(), 10)\n",
    "y_test_flat = np.argmax(y_test, axis=1)"
   ]
  },
  {
   "cell_type": "code",
   "execution_count": 4,
   "metadata": {},
   "outputs": [],
   "source": [
    "model2 = tf.keras.models.Sequential([\n",
    "    tf.keras.layers.Conv2D(32, 3, padding='same', activation='relu', input_shape=(32, 32, 3)),\n",
    "    tf.keras.layers.MaxPool2D(),\n",
    "    tf.keras.layers.Conv2D(64, 3, padding='same', activation='relu'),\n",
    "    tf.keras.layers.MaxPool2D(),\n",
    "    tf.keras.layers.Conv2D(128, 3, padding='same', activation='relu'),\n",
    "    tf.keras.layers.MaxPool2D(),\n",
    "    tf.keras.layers.Conv2D(256, 3, padding='same', activation='relu'),\n",
    "    tf.keras.layers.Flatten(),\n",
    "    tf.keras.layers.Dense(64, activation='relu'),\n",
    "    tf.keras.layers.Dense(10, activation='softmax')\n",
    "])\n",
    "model2.compile(optimizer='adam', loss='categorical_crossentropy', metrics=['accuracy', tf.keras.metrics.AUC()])"
   ]
  },
  {
   "cell_type": "code",
   "execution_count": 5,
   "metadata": {},
   "outputs": [],
   "source": [
    "tester_model2 = tf.keras.models.Sequential([\n",
    "    tf.keras.layers.Conv2D(32, 3, padding='same', activation='relu', input_shape=(32, 32, 3)),\n",
    "    tf.keras.layers.MaxPool2D(),\n",
    "    tf.keras.layers.Conv2D(64, 3, padding='same', activation='relu'),\n",
    "    tf.keras.layers.MaxPool2D(),\n",
    "    tf.keras.layers.Conv2D(128, 3, padding='same', activation='relu'),\n",
    "    tf.keras.layers.MaxPool2D(),\n",
    "    tf.keras.layers.Conv2D(256, 3, padding='same', activation='relu'),\n",
    "    tf.keras.layers.Flatten(),\n",
    "    tf.keras.layers.Dense(64, activation='relu'),\n",
    "    tf.keras.layers.Dense(10, activation='softmax')\n",
    "])\n",
    "tester_model2.compile(optimizer='adam', loss='categorical_crossentropy', metrics=['accuracy', tf.keras.metrics.AUC()])"
   ]
  },
  {
   "cell_type": "code",
   "execution_count": 6,
   "metadata": {},
   "outputs": [
    {
     "name": "stdout",
     "output_type": "stream",
     "text": [
      "Epoch 1/5\n",
      "1563/1563 [==============================] - 6s 4ms/step - loss: 1.4364 - accuracy: 0.4804 - auc: 0.8799 - val_loss: 1.1864 - val_accuracy: 0.5812 - val_auc: 0.9204\n",
      "Epoch 2/5\n",
      "1563/1563 [==============================] - 5s 3ms/step - loss: 0.9800 - accuracy: 0.6536 - auc: 0.9453 - val_loss: 0.9751 - val_accuracy: 0.6523 - val_auc: 0.9458\n",
      "Epoch 3/5\n",
      "1563/1563 [==============================] - 5s 3ms/step - loss: 0.7919 - accuracy: 0.7200 - auc: 0.9637 - val_loss: 0.8467 - val_accuracy: 0.7039 - val_auc: 0.9586\n",
      "Epoch 4/5\n",
      "1563/1563 [==============================] - 5s 3ms/step - loss: 0.6572 - accuracy: 0.7705 - auc: 0.9745 - val_loss: 0.8780 - val_accuracy: 0.7068 - val_auc: 0.9555\n",
      "Epoch 5/5\n",
      "1563/1563 [==============================] - 5s 3ms/step - loss: 0.5452 - accuracy: 0.8091 - auc: 0.9818 - val_loss: 0.8190 - val_accuracy: 0.7279 - val_auc: 0.9614\n"
     ]
    },
    {
     "data": {
      "text/plain": [
       "<tensorflow.python.keras.callbacks.History at 0x296dd0c75c8>"
      ]
     },
     "execution_count": 6,
     "metadata": {},
     "output_type": "execute_result"
    }
   ],
   "source": [
    "model2.fit(x_train, y_train, validation_data=(x_test, y_test), epochs=5)"
   ]
  },
  {
   "cell_type": "code",
   "execution_count": 7,
   "metadata": {},
   "outputs": [
    {
     "name": "stdout",
     "output_type": "stream",
     "text": [
      "313/313 [==============================] - 1s 2ms/step - loss: 0.8190 - accuracy: 0.7279 - auc: 0.9614\n"
     ]
    },
    {
     "data": {
      "text/plain": [
       "[0.8190144896507263, 0.7279000282287598, 0.961372435092926]"
      ]
     },
     "execution_count": 7,
     "metadata": {},
     "output_type": "execute_result"
    }
   ],
   "source": [
    "model2.evaluate(x_test, y_test)"
   ]
  },
  {
   "cell_type": "code",
   "execution_count": 12,
   "metadata": {},
   "outputs": [],
   "source": [
    "model2.save_weights(\"C:\\\\Users\\\\Lucas\\\\Documents\\\\Masters\\\\models\\\\3-6-20\\\\model2.ckpt\")"
   ]
  },
  {
   "cell_type": "code",
   "execution_count": 14,
   "metadata": {},
   "outputs": [
    {
     "name": "stdout",
     "output_type": "stream",
     "text": [
      "20/20 - 0s - loss: 0.8190 - accuracy: 0.7279 - auc: 0.9614\n",
      "Considering layer 5\n",
      "Layer optimized\n",
      "Considering layer 4\n",
      "Layer optimized\n",
      "Considering layer 3\n",
      "Layer optimized\n",
      "Considering layer 2\n",
      "Layer optimized\n",
      "Considering layer 1\n",
      "Layer optimized\n",
      "Considering layer 5\n",
      "Layer optimized\n",
      "Considering layer 4\n",
      "Layer optimized\n",
      "Considering layer 3\n",
      "Layer optimized\n",
      "Considering layer 2\n",
      "Layer optimized\n",
      "Considering layer 1\n",
      "Layer optimized\n",
      "Considering layer 5\n",
      "Layer optimized\n",
      "Considering layer 4\n",
      "Layer optimized\n",
      "Considering layer 3\n",
      "Layer optimized\n",
      "Considering layer 2\n",
      "Layer optimized\n",
      "Considering layer 1\n",
      "Layer optimized\n",
      "Considering layer 5\n",
      "Layer optimized\n",
      "Considering layer 4\n",
      "Layer optimized\n",
      "Considering layer 3\n",
      "Layer optimized\n",
      "Considering layer 2\n",
      "Layer optimized\n",
      "Considering layer 1\n",
      "Layer optimized\n",
      "Considering layer 5\n",
      "Layer optimized\n",
      "Considering layer 4\n",
      "Layer optimized\n",
      "Considering layer 3\n",
      "Layer optimized\n",
      "Considering layer 2\n",
      "Layer optimized\n",
      "Considering layer 1\n",
      "Layer optimized\n",
      "Considering layer 5\n",
      "Layer optimized\n",
      "Considering layer 4\n",
      "Layer optimized\n",
      "Considering layer 3\n",
      "Layer optimized\n",
      "Considering layer 2\n",
      "Layer optimized\n",
      "Considering layer 1\n",
      "Layer optimized\n",
      "Considering layer 5\n",
      "Layer optimized\n",
      "Considering layer 4\n",
      "Layer optimized\n",
      "Considering layer 3\n",
      "Layer optimized\n",
      "Considering layer 2\n",
      "Layer optimized\n",
      "Considering layer 1\n",
      "Layer optimized\n",
      "Considering layer 5\n",
      "Layer optimized\n",
      "Considering layer 4\n",
      "Layer optimized\n",
      "Considering layer 3\n",
      "Layer optimized\n",
      "Considering layer 2\n",
      "Layer optimized\n",
      "Considering layer 1\n",
      "Layer optimized\n",
      "Considering layer 5\n",
      "Layer optimized\n",
      "Considering layer 4\n",
      "Layer optimized\n",
      "Considering layer 3\n",
      "Layer optimized\n",
      "Considering layer 2\n",
      "Layer optimized\n",
      "Considering layer 1\n",
      "Layer optimized\n",
      "Considering layer 5\n",
      "Layer optimized\n",
      "Considering layer 4\n",
      "Layer optimized\n",
      "Considering layer 3\n",
      "Layer optimized\n",
      "Considering layer 2\n",
      "Layer optimized\n",
      "Considering layer 1\n",
      "Layer optimized\n"
     ]
    }
   ],
   "source": [
    "loss, acc, auc = model2.evaluate(x_test, y_test, verbose=2, batch_size=512)\n",
    "original2 = model2.get_weights()\n",
    "weight_len = len(original2) - 3\n",
    "frac = 0.75\n",
    "tol = -1e-5\n",
    "ignore_tol = -1e-3\n",
    "with open('results.txt', 'w') as f:\n",
    "    for k in range(10):\n",
    "        f.write(f\"######### CLASS {k} #########\\n\")\n",
    "        dense_layer_sizes = [64]\n",
    "        conv_layer_sizes = [256, 128, 64, 32]\n",
    "        conv_len = weight_len - 2 * len(dense_layer_sizes)\n",
    "        bas2 = [acc]\n",
    "        bls2 = [loss]\n",
    "        best_weights = model2.get_weights()\n",
    "        nodes_removed2 = []\n",
    "        best_acc = 0\n",
    "        best_loss = 1e20\n",
    "        ol = loss\n",
    "        num_removed2 = 0\n",
    "        #amounts = []\n",
    "        #places = []\n",
    "        y_pred = model2.predict(x_test)\n",
    "        y_pred_flat = np.argmax(y_pred, axis=1)\n",
    "        y_pred_class = np.array([1 if y == k else 0 for y in y_pred_flat])\n",
    "        y_test_class = np.array([1 if y == k else 0 for y in y_test_flat])\n",
    "\n",
    "        oa = (y_pred_class == y_test_class).mean()\n",
    "        for layer, size in enumerate(dense_layer_sizes):\n",
    "            f.write(f\"Layer {len(dense_layer_sizes+conv_layer_sizes) - layer}\\n\")\n",
    "            end_not_reached = True\n",
    "            num_removed2 = 0\n",
    "            nodes_removed2 = []\n",
    "            nodes_included = list(np.arange(size))\n",
    "            current_pos = nodes_included[0]\n",
    "            idx = 0\n",
    "            print(f'Considering layer {len(dense_layer_sizes+conv_layer_sizes) - layer}')\n",
    "            while end_not_reached:\n",
    "                w = copy.deepcopy(best_weights)\n",
    "                w[weight_len - (2*layer+1)][:,current_pos] = 0\n",
    "                w[weight_len - 2*layer][current_pos] = 0\n",
    "                tester_model2.set_weights(w)\n",
    "                del w\n",
    "                nl, na, nauc = tester_model2.evaluate(x_test, y_test, verbose=0, batch_size=1024)\n",
    "                y_pred = tester_model2.predict(x_test)\n",
    "                y_pred_flat = np.argmax(y_pred, axis=1)\n",
    "                y_pred_class = np.array([1 if y == k else 0 for y in y_pred_flat])\n",
    "\n",
    "                na = (y_pred_class == y_test_class).mean()\n",
    "                # print(f\"Node {current_pos}:\", 0.*(na - oa) + 1.*(ol - nl))\n",
    "                if frac*(na - oa) + (1.-frac)*(ol - nl) >= tol:\n",
    "                    best_change = frac*(na - oa) + (1.-frac)*(ol - nl)\n",
    "                    ol = nl\n",
    "                    oa = na\n",
    "                    size -= 1\n",
    "                    dense_layer_sizes[layer] -= 1\n",
    "                    nodes_removed2 += [current_pos]\n",
    "                    nodes_included.remove(current_pos)\n",
    "                    best_weights[weight_len - (2*layer+1)][:,current_pos] = 0\n",
    "                    best_weights[weight_len - 2*layer][current_pos] = 0\n",
    "                    num_removed2 += 1\n",
    "                    #print(\"Improvement has occured!! Accuracy:\", na, \"--- Loss:\", nl, '--- Change:', best_change, '--- New tol:', tol)\n",
    "                    idx = 0\n",
    "                elif frac*(na - oa) + (1.-frac)*(ol - nl) <= ignore_tol:  # Ignoring very important nodes\n",
    "                    size -= 1\n",
    "                    nodes_included.remove(current_pos)\n",
    "                    idx += 1\n",
    "                else:\n",
    "                    idx += 1\n",
    "                if idx >= size:\n",
    "                    print(\"Layer optimized\")\n",
    "                    end_not_reached = False\n",
    "                else:\n",
    "                    current_pos = nodes_included[idx]\n",
    "            f.write(f\"Num nodes removed: {num_removed2}\\n\")\n",
    "            f.write(f\"Position of nodes removed: \")\n",
    "            for p in nodes_removed2:\n",
    "                f.write(f\"{p}, \")\n",
    "            f.write(\"\\n\")\n",
    "            #amounts.append(num_removed2)\n",
    "            #places.append(nodes_removed2)\n",
    "\n",
    "\n",
    "        for layer, size in enumerate(conv_layer_sizes):\n",
    "            f.write(f\"Layer {len(conv_layer_sizes) - layer}\\n\")\n",
    "            end_not_reached = True\n",
    "            num_removed2 = 0\n",
    "            nodes_removed2 = []\n",
    "            nodes_included = list(np.arange(size))\n",
    "            current_pos = nodes_included[0]\n",
    "            idx = 0\n",
    "            print(f'Considering layer {len(conv_layer_sizes) - layer}')\n",
    "            while end_not_reached:\n",
    "                w = copy.deepcopy(best_weights)\n",
    "                w[conv_len - (2*layer+1)][:,:,:,current_pos] = 0\n",
    "                w[conv_len - 2*layer][current_pos] = 0\n",
    "                tester_model2.set_weights(w)\n",
    "                del w\n",
    "                nl, na, nauc = tester_model2.evaluate(x_test, y_test, verbose=0, batch_size=1024)\n",
    "                y_pred = tester_model2.predict(x_test)\n",
    "                y_pred_flat = np.argmax(y_pred, axis=1)\n",
    "                y_pred_class = np.array([1 if y == k else 0 for y in y_pred_flat])\n",
    "\n",
    "                na = (y_pred_class == y_test_class).mean()\n",
    "                # print(f\"Node {current_pos}:\", 0.*(na - oa) + 1.*(ol - nl))\n",
    "                if frac*(na - oa) + (1.-frac)*(ol - nl) >= tol:\n",
    "                    best_change = frac*(na - oa) + (1.-frac)*(ol - nl)\n",
    "                    ol = nl\n",
    "                    oa = na\n",
    "                    size -= 1\n",
    "                    conv_layer_sizes[layer] -= 1\n",
    "                    nodes_removed2 += [current_pos]\n",
    "                    nodes_included.remove(current_pos)\n",
    "                    best_weights[conv_len - (2*layer+1)][:,:,:,current_pos] = 0\n",
    "                    best_weights[conv_len - 2*layer][current_pos] = 0\n",
    "                    num_removed2 += 1\n",
    "                    #print(\"Improvement has occured!! Accuracy:\", na, \"--- Loss:\", nl, '--- Change:', best_change, '--- New tol:', tol)\n",
    "                    idx = 0\n",
    "                elif frac*(na - oa) + (1.-frac)*(ol - nl) <= ignore_tol:\n",
    "                    size -= 1\n",
    "                    nodes_included.remove(current_pos)\n",
    "                    idx += 1\n",
    "                else:\n",
    "                    idx += 1\n",
    "                if idx >= size:\n",
    "                    print(\"Layer optimized\")\n",
    "                    end_not_reached = False\n",
    "                else:\n",
    "                    current_pos = nodes_included[idx]\n",
    "            f.write(f\"Num nodes removed: {num_removed2}\\n\")\n",
    "            f.write(f\"Position of nodes removed: \")\n",
    "            for p in nodes_removed2:\n",
    "                f.write(f\"{p}, \")\n",
    "            f.write(\"\\n\")\n",
    "            #amounts.append(num_removed2)\n",
    "            #places.append(nodes_removed2)\n",
    "        \n",
    "end = time.time()\n",
    "tester_model2.set_weights(best_weights)"
   ]
  },
  {
   "cell_type": "code",
   "execution_count": 15,
   "metadata": {},
   "outputs": [
    {
     "name": "stdout",
     "output_type": "stream",
     "text": [
      "355.0\n",
      "697.0\n"
     ]
    }
   ],
   "source": [
    "fp = tf.keras.metrics.FalsePositives()\n",
    "tp = tf.keras.metrics.TruePositives()\n",
    "\n",
    "y_pred = tester_model2.predict(x_test)\n",
    "y_pred_flat = np.argmax(y_pred, axis=1)\n",
    "y_pred_class_5 = [1 if y == 4 else 0 for y in y_pred_flat]\n",
    "y_test_class_5 = [1 if y == 4 else 0 for y in y_test_flat]\n",
    "\n",
    "fp.update_state(y_test_class_5, y_pred_class_5)\n",
    "tp.update_state(y_test_class_5, y_pred_class_5)\n",
    "\n",
    "print(fp.result().numpy())\n",
    "print(tp.result().numpy())"
   ]
  },
  {
   "cell_type": "code",
   "execution_count": 16,
   "metadata": {},
   "outputs": [
    {
     "name": "stdout",
     "output_type": "stream",
     "text": [
      "325.0\n",
      "696.0\n"
     ]
    }
   ],
   "source": [
    "fp = tf.keras.metrics.FalsePositives()\n",
    "tp = tf.keras.metrics.TruePositives()\n",
    "\n",
    "y_pred = model2.predict(x_test)\n",
    "y_pred_flat = np.argmax(y_pred, axis=1)\n",
    "y_pred_class_5 = np.array([1 if y == 4 else 0 for y in y_pred_flat])\n",
    "y_test_class_5 = np.array([1 if y == 4 else 0 for y in y_test_flat])\n",
    "\n",
    "\n",
    "fp.update_state(y_test_class_5, y_pred_class_5)\n",
    "tp.update_state(y_test_class_5, y_pred_class_5)\n",
    "\n",
    "print(fp.result().numpy())\n",
    "print(tp.result().numpy())"
   ]
  },
  {
   "cell_type": "code",
   "execution_count": 17,
   "metadata": {},
   "outputs": [
    {
     "name": "stdout",
     "output_type": "stream",
     "text": [
      "[0.821, 0.822, 0.608, 0.55, 0.696, 0.694, 0.754, 0.748, 0.784, 0.802]\n"
     ]
    }
   ],
   "source": [
    "y_pred = model2.predict(x_test)\n",
    "K = len(set(y_test_flat))\n",
    "yp = tf.argmax(y_pred, axis=1)\n",
    "acc = []\n",
    "for i in range(K):\n",
    "    a = np.mean((yp[y_test_flat == i] == y_test_flat[y_test_flat == i]).numpy())\n",
    "    acc.append(a)\n",
    "accuracies = tf.convert_to_tensor(acc)\n",
    "print(acc)"
   ]
  },
  {
   "cell_type": "code",
   "execution_count": 18,
   "metadata": {},
   "outputs": [
    {
     "name": "stdout",
     "output_type": "stream",
     "text": [
      "[0.786, 0.861, 0.617, 0.588, 0.697, 0.523, 0.808, 0.768, 0.841, 0.808]\n"
     ]
    }
   ],
   "source": [
    "y_pred = tester_model2.predict(x_test)\n",
    "K = len(set(y_test_flat))\n",
    "yp = tf.argmax(y_pred, axis=1)\n",
    "acc = []\n",
    "for i in range(K):\n",
    "    a = np.mean((yp[y_test_flat == i] == y_test_flat[y_test_flat == i]).numpy())\n",
    "    acc.append(a)\n",
    "accuracies = tf.convert_to_tensor(acc)\n",
    "print(acc)"
   ]
  },
  {
   "cell_type": "markdown",
   "metadata": {},
   "source": [
    "# Class Specific removals"
   ]
  },
  {
   "cell_type": "code",
   "execution_count": 29,
   "metadata": {},
   "outputs": [],
   "source": [
    "lines = []\n",
    "with open(\"results.txt\") as f:\n",
    "    for line in f:\n",
    "        line = line.strip()\n",
    "        lines.append(line)"
   ]
  },
  {
   "cell_type": "code",
   "execution_count": 40,
   "metadata": {
    "collapsed": true,
    "jupyter": {
     "outputs_hidden": true
    }
   },
   "outputs": [
    {
     "data": {
      "text/plain": [
       "['######### CLASS 0 #########',\n",
       " 'Layer 5',\n",
       " 'Num nodes removed: 45',\n",
       " 'Position of nodes removed: 4, 1, 3, 7, 6, 8, 11, 10, 12, 15, 14, 16, 17, 18, 19, 20, 21, 22, 23, 24, 25, 28, 27, 29, 30, 31, 34, 36, 35, 37, 38, 47, 44, 42, 51, 52, 50, 55, 54, 56, 57, 58, 59, 60, 61,',\n",
       " 'Layer 4',\n",
       " 'Num nodes removed: 104',\n",
       " 'Position of nodes removed: 0, 5, 7, 8, 10, 11, 14, 20, 27, 28, 29, 25, 32, 34, 19, 22, 35, 37, 39, 6, 40, 43, 44, 48, 30, 21, 18, 36, 33, 1, 50, 52, 67, 58, 78, 79, 87, 90, 92, 9, 4, 12, 63, 66, 74, 95, 103, 98, 105, 116, 119, 16, 62, 84, 118, 60, 113, 121, 47, 51, 104, 101, 125, 126, 128, 132, 136, 137, 139, 148, 149, 151, 152, 159, 167, 168, 171, 170, 176, 175, 177, 182, 190, 191, 193, 194, 195, 197, 201, 203, 211, 209, 217, 218, 42, 76, 187, 220, 226, 231, 233, 245, 240, 246,',\n",
       " 'Layer 3',\n",
       " 'Num nodes removed: 36',\n",
       " 'Position of nodes removed: 0, 1, 2, 11, 13, 8, 12, 16, 15, 19, 21, 20, 22, 28, 32, 34, 39, 46, 40, 42, 58, 55, 50, 80, 64, 79, 82, 84, 88, 94, 93, 91, 101, 116, 119, 111,',\n",
       " 'Layer 2',\n",
       " 'Num nodes removed: 12',\n",
       " 'Position of nodes removed: 13, 30, 15, 22, 38, 37, 42, 39, 43, 60, 55, 62,',\n",
       " 'Layer 1',\n",
       " 'Num nodes removed: 0',\n",
       " 'Position of nodes removed:',\n",
       " '######### CLASS 1 #########',\n",
       " 'Layer 5',\n",
       " 'Num nodes removed: 43',\n",
       " 'Position of nodes removed: 4, 1, 3, 7, 6, 8, 11, 10, 12, 15, 14, 16, 17, 18, 19, 20, 22, 23, 24, 25, 28, 27, 29, 30, 31, 34, 36, 35, 37, 38, 47, 44, 42, 51, 52, 50, 55, 54, 56, 58, 59, 60, 61,',\n",
       " 'Layer 4',\n",
       " 'Num nodes removed: 111',\n",
       " 'Position of nodes removed: 1, 4, 5, 7, 8, 10, 11, 19, 14, 0, 9, 13, 16, 20, 22, 17, 18, 21, 25, 27, 28, 29, 30, 32, 35, 37, 39, 34, 40, 43, 48, 47, 31, 41, 50, 51, 52, 64, 36, 49, 33, 58, 63, 42, 66, 67, 77, 78, 79, 87, 90, 92, 61, 94, 45, 59, 95, 98, 103, 105, 116, 113, 119, 118, 121, 44, 54, 84, 115, 114, 125, 126, 128, 136, 139, 148, 149, 151, 152, 157, 138, 156, 122, 6, 74, 159, 167, 168, 170, 171, 172, 176, 177, 175, 190, 182, 194, 193, 195, 197, 201, 211, 203, 217, 209, 226, 220, 233, 231, 245, 240,',\n",
       " 'Layer 3',\n",
       " 'Num nodes removed: 36',\n",
       " 'Position of nodes removed: 0, 1, 2, 11, 8, 12, 16, 13, 15, 19, 21, 20, 22, 34, 39, 28, 32, 46, 40, 42, 58, 50, 80, 55, 64, 79, 88, 82, 84, 94, 93, 91, 101, 111, 119, 116,',\n",
       " 'Layer 2',\n",
       " 'Num nodes removed: 11',\n",
       " 'Position of nodes removed: 22, 13, 30, 38, 15, 37, 42, 39, 60, 43, 62,',\n",
       " 'Layer 1',\n",
       " 'Num nodes removed: 0',\n",
       " 'Position of nodes removed:',\n",
       " '######### CLASS 2 #########',\n",
       " 'Layer 5',\n",
       " 'Num nodes removed: 43',\n",
       " 'Position of nodes removed: 4, 1, 3, 7, 6, 8, 11, 10, 14, 16, 15, 17, 18, 19, 20, 21, 22, 23, 24, 25, 28, 27, 29, 30, 31, 34, 36, 35, 37, 38, 47, 44, 42, 51, 52, 50, 55, 54, 56, 58, 59, 60, 61,',\n",
       " 'Layer 4',\n",
       " 'Num nodes removed: 100',\n",
       " 'Position of nodes removed: 2, 4, 5, 7, 8, 9, 10, 11, 13, 18, 19, 20, 27, 28, 25, 29, 3, 22, 32, 35, 37, 40, 41, 30, 39, 43, 50, 51, 52, 67, 58, 75, 26, 36, 42, 71, 47, 64, 24, 66, 31, 54, 78, 72, 79, 87, 90, 94, 61, 95, 98, 103, 105, 116, 113, 121, 84, 77, 49, 62, 125, 107, 126, 118, 136, 128, 139, 132, 142, 74, 149, 152, 148, 151, 159, 167, 168, 170, 171, 175, 177, 176, 182, 190, 189, 191, 194, 193, 195, 197, 211, 203, 209, 217, 226, 220, 231, 245, 233, 240,',\n",
       " 'Layer 3',\n",
       " 'Num nodes removed: 35',\n",
       " 'Position of nodes removed: 0, 1, 2, 11, 8, 12, 16, 13, 15, 19, 21, 20, 22, 34, 39, 28, 32, 46, 40, 42, 58, 50, 55, 79, 64, 88, 82, 84, 80, 94, 93, 91, 111, 119, 116,',\n",
       " 'Layer 2',\n",
       " 'Num nodes removed: 10',\n",
       " 'Position of nodes removed: 13, 22, 15, 38, 37, 30, 42, 39, 43, 60,',\n",
       " 'Layer 1',\n",
       " 'Num nodes removed: 0',\n",
       " 'Position of nodes removed:',\n",
       " '######### CLASS 3 #########',\n",
       " 'Layer 5',\n",
       " 'Num nodes removed: 42',\n",
       " 'Position of nodes removed: 4, 1, 3, 7, 6, 8, 11, 10, 14, 16, 15, 17, 18, 19, 20, 22, 23, 24, 25, 28, 27, 29, 30, 31, 34, 36, 35, 37, 38, 47, 44, 42, 51, 52, 50, 55, 54, 56, 58, 59, 60, 61,',\n",
       " 'Layer 4',\n",
       " 'Num nodes removed: 115',\n",
       " 'Position of nodes removed: 1, 4, 5, 7, 8, 9, 10, 14, 20, 11, 32, 27, 33, 39, 35, 37, 40, 43, 48, 16, 18, 19, 22, 30, 0, 2, 23, 29, 44, 25, 28, 31, 51, 47, 50, 52, 54, 65, 56, 58, 67, 78, 71, 79, 66, 62, 55, 72, 87, 90, 92, 76, 73, 84, 61, 80, 41, 74, 93, 96, 86, 95, 98, 99, 83, 103, 105, 116, 121, 104, 118, 119, 125, 126, 133, 42, 128, 136, 138, 113, 123, 139, 149, 148, 151, 152, 159, 167, 168, 171, 170, 175, 177, 176, 190, 189, 155, 182, 191, 194, 193, 195, 197, 201, 209, 203, 211, 217, 226, 220, 233, 231, 240, 245, 246,',\n",
       " 'Layer 3',\n",
       " 'Num nodes removed: 36',\n",
       " 'Position of nodes removed: 0, 1, 11, 8, 12, 16, 13, 15, 19, 21, 20, 22, 34, 28, 32, 39, 46, 40, 42, 51, 50, 58, 55, 79, 64, 88, 82, 84, 80, 94, 91, 93, 116, 101, 119, 111,',\n",
       " 'Layer 2',\n",
       " 'Num nodes removed: 10',\n",
       " 'Position of nodes removed: 22, 13, 15, 37, 39, 30, 38, 42, 43, 60,',\n",
       " 'Layer 1',\n",
       " 'Num nodes removed: 1',\n",
       " 'Position of nodes removed: 26,',\n",
       " '######### CLASS 4 #########',\n",
       " 'Layer 5',\n",
       " 'Num nodes removed: 44',\n",
       " 'Position of nodes removed: 4, 1, 3, 7, 6, 8, 11, 10, 14, 16, 15, 17, 18, 19, 20, 21, 22, 23, 24, 25, 28, 27, 29, 30, 31, 32, 35, 34, 36, 37, 38, 47, 44, 42, 51, 52, 50, 55, 54, 56, 58, 59, 60, 61,',\n",
       " 'Layer 4',\n",
       " 'Num nodes removed: 118',\n",
       " 'Position of nodes removed: 2, 5, 7, 8, 10, 4, 9, 11, 16, 13, 19, 20, 25, 1, 21, 27, 28, 30, 22, 18, 31, 32, 35, 40, 37, 39, 41, 43, 48, 52, 50, 67, 58, 75, 26, 29, 34, 64, 59, 70, 42, 54, 55, 56, 78, 79, 82, 77, 87, 86, 92, 47, 90, 91, 95, 98, 105, 103, 116, 113, 118, 119, 63, 93, 122, 74, 121, 94, 65, 51, 110, 125, 126, 128, 133, 136, 138, 83, 84, 73, 132, 139, 148, 149, 151, 152, 159, 166, 167, 168, 170, 171, 176, 177, 175, 182, 189, 191, 62, 193, 190, 194, 195, 197, 201, 217, 203, 211, 209, 226, 220, 229, 231, 240, 233, 244, 245, 246,',\n",
       " 'Layer 3',\n",
       " 'Num nodes removed: 37',\n",
       " 'Position of nodes removed: 0, 1, 2, 12, 8, 11, 13, 16, 15, 19, 21, 20, 22, 33, 28, 32, 39, 34, 46, 40, 42, 58, 50, 64, 55, 80, 79, 94, 82, 91, 84, 88, 93, 111, 101, 119, 116,',\n",
       " 'Layer 2',\n",
       " 'Num nodes removed: 10',\n",
       " 'Position of nodes removed: 13, 22, 30, 15, 38, 39, 37, 42, 43, 60,',\n",
       " 'Layer 1',\n",
       " 'Num nodes removed: 6',\n",
       " 'Position of nodes removed: 26, 21, 15, 5, 6, 17,',\n",
       " '######### CLASS 5 #########',\n",
       " 'Layer 5',\n",
       " 'Num nodes removed: 44',\n",
       " 'Position of nodes removed: 4, 1, 3, 7, 6, 8, 11, 10, 12, 15, 14, 16, 17, 18, 19, 20, 21, 22, 23, 24, 25, 28, 27, 29, 30, 31, 34, 36, 35, 37, 38, 47, 44, 42, 51, 52, 50, 55, 54, 56, 58, 59, 60, 61,',\n",
       " 'Layer 4',\n",
       " 'Num nodes removed: 103',\n",
       " 'Position of nodes removed: 0, 5, 6, 7, 8, 11, 18, 20, 21, 10, 4, 2, 14, 13, 22, 25, 30, 27, 29, 32, 35, 37, 40, 39, 41, 43, 50, 52, 54, 58, 59, 28, 64, 9, 61, 1, 51, 66, 63, 67, 78, 79, 87, 90, 92, 19, 86, 95, 105, 98, 116, 113, 118, 121, 33, 125, 126, 128, 136, 137, 139, 148, 149, 152, 151, 159, 163, 48, 83, 74, 104, 133, 147, 82, 103, 167, 164, 168, 170, 171, 175, 177, 176, 190, 182, 191, 186, 194, 193, 195, 197, 201, 211, 203, 209, 217, 226, 220, 231, 233, 240, 245, 246,',\n",
       " 'Layer 3',\n",
       " 'Num nodes removed: 35',\n",
       " 'Position of nodes removed: 0, 1, 11, 8, 12, 16, 13, 15, 19, 21, 20, 22, 34, 28, 32, 39, 40, 46, 42, 51, 50, 58, 80, 55, 64, 88, 82, 79, 84, 91, 93, 111, 94, 119, 116,',\n",
       " 'Layer 2',\n",
       " 'Num nodes removed: 10',\n",
       " 'Position of nodes removed: 13, 30, 22, 15, 37, 38, 39, 42, 43, 60,',\n",
       " 'Layer 1',\n",
       " 'Num nodes removed: 1',\n",
       " 'Position of nodes removed: 26,',\n",
       " '######### CLASS 6 #########',\n",
       " 'Layer 5',\n",
       " 'Num nodes removed: 45',\n",
       " 'Position of nodes removed: 4, 1, 3, 7, 6, 8, 11, 10, 12, 15, 14, 16, 17, 18, 19, 20, 21, 22, 23, 24, 25, 28, 27, 29, 30, 31, 34, 36, 35, 37, 38, 47, 40, 42, 44, 51, 52, 50, 55, 54, 56, 58, 59, 60, 61,',\n",
       " 'Layer 4',\n",
       " 'Num nodes removed: 111',\n",
       " 'Position of nodes removed: 2, 1, 4, 5, 7, 8, 11, 18, 19, 6, 12, 14, 13, 16, 20, 21, 10, 26, 22, 27, 28, 30, 29, 32, 35, 37, 40, 43, 47, 48, 39, 50, 52, 54, 59, 58, 64, 49, 56, 63, 67, 78, 79, 84, 75, 87, 92, 41, 90, 91, 65, 94, 74, 95, 96, 98, 105, 103, 111, 116, 113, 119, 120, 118, 125, 126, 128, 133, 122, 136, 138, 131, 86, 139, 148, 151, 149, 152, 159, 167, 168, 170, 171, 175, 177, 176, 179, 190, 182, 193, 194, 195, 197, 201, 203, 211, 209, 217, 226, 220, 231, 236, 216, 77, 82, 214, 166, 233, 240, 245, 246,',\n",
       " 'Layer 3',\n",
       " 'Num nodes removed: 36',\n",
       " 'Position of nodes removed: 0, 1, 8, 11, 12, 16, 13, 15, 19, 21, 20, 22, 32, 34, 28, 39, 40, 46, 42, 58, 50, 55, 79, 64, 80, 85, 82, 88, 84, 93, 91, 94, 101, 116, 119, 111,',\n",
       " 'Layer 2',\n",
       " 'Num nodes removed: 10',\n",
       " 'Position of nodes removed: 13, 22, 15, 30, 37, 38, 39, 42, 43, 60,',\n",
       " 'Layer 1',\n",
       " 'Num nodes removed: 0',\n",
       " 'Position of nodes removed:',\n",
       " '######### CLASS 7 #########',\n",
       " 'Layer 5',\n",
       " 'Num nodes removed: 42',\n",
       " 'Position of nodes removed: 4, 1, 3, 7, 6, 8, 11, 10, 14, 16, 15, 17, 18, 19, 20, 22, 23, 24, 25, 28, 27, 29, 30, 31, 35, 34, 36, 37, 38, 47, 44, 42, 51, 52, 50, 55, 54, 56, 58, 59, 60, 61,',\n",
       " 'Layer 4',\n",
       " 'Num nodes removed: 115',\n",
       " 'Position of nodes removed: 0, 2, 1, 5, 7, 8, 11, 13, 16, 4, 20, 25, 9, 19, 27, 28, 30, 18, 22, 29, 32, 35, 36, 10, 37, 39, 40, 41, 43, 49, 24, 50, 52, 54, 66, 42, 51, 58, 67, 76, 31, 78, 79, 84, 48, 77, 87, 90, 92, 56, 86, 94, 55, 95, 98, 99, 47, 61, 83, 103, 105, 114, 82, 113, 116, 121, 59, 93, 104, 12, 115, 110, 74, 118, 125, 126, 128, 136, 137, 139, 147, 119, 149, 148, 151, 152, 159, 163, 14, 167, 168, 171, 170, 175, 177, 176, 180, 190, 182, 191, 193, 194, 195, 197, 201, 203, 217, 209, 211, 220, 226, 231, 233, 245, 240,',\n",
       " 'Layer 3',\n",
       " 'Num nodes removed: 36',\n",
       " 'Position of nodes removed: 0, 1, 2, 12, 8, 11, 13, 16, 15, 19, 21, 20, 22, 34, 28, 32, 40, 46, 39, 42, 58, 50, 55, 64, 80, 79, 82, 84, 88, 93, 94, 91, 116, 101, 119, 111,',\n",
       " 'Layer 2',\n",
       " 'Num nodes removed: 10',\n",
       " 'Position of nodes removed: 13, 38, 22, 15, 37, 42, 30, 39, 60, 43,',\n",
       " 'Layer 1',\n",
       " 'Num nodes removed: 6',\n",
       " 'Position of nodes removed: 26, 19, 21, 5, 6, 15,',\n",
       " '######### CLASS 8 #########',\n",
       " 'Layer 5',\n",
       " 'Num nodes removed: 44',\n",
       " 'Position of nodes removed: 4, 1, 3, 7, 6, 8, 11, 10, 12, 15, 14, 16, 17, 18, 19, 20, 21, 22, 23, 24, 25, 28, 27, 29, 30, 31, 34, 36, 35, 37, 38, 47, 44, 42, 51, 52, 50, 55, 54, 56, 58, 59, 60, 61,',\n",
       " 'Layer 4',\n",
       " 'Num nodes removed: 108',\n",
       " 'Position of nodes removed: 0, 2, 5, 7, 8, 9, 10, 11, 14, 18, 19, 1, 20, 21, 22, 4, 27, 28, 30, 29, 31, 32, 35, 37, 40, 43, 48, 39, 44, 25, 41, 16, 47, 50, 51, 52, 54, 45, 59, 58, 60, 64, 62, 66, 55, 63, 67, 78, 79, 87, 90, 92, 42, 95, 98, 103, 104, 13, 94, 105, 116, 113, 118, 125, 126, 128, 139, 136, 148, 149, 151, 152, 159, 167, 168, 170, 171, 175, 177, 176, 190, 182, 191, 193, 194, 195, 197, 201, 203, 209, 211, 216, 49, 96, 17, 91, 121, 133, 204, 34, 138, 217, 226, 220, 231, 233, 240, 245,',\n",
       " 'Layer 3',\n",
       " 'Num nodes removed: 35',\n",
       " 'Position of nodes removed: 0, 1, 2, 8, 11, 12, 16, 13, 15, 19, 21, 20, 22, 28, 32, 34, 39, 40, 46, 42, 58, 50, 79, 55, 64, 80, 84, 82, 91, 88, 93, 94, 111, 119, 116,',\n",
       " 'Layer 2',\n",
       " 'Num nodes removed: 10',\n",
       " 'Position of nodes removed: 30, 13, 22, 37, 15, 38, 39, 42, 43, 60,',\n",
       " 'Layer 1',\n",
       " 'Num nodes removed: 5',\n",
       " 'Position of nodes removed: 26, 17, 6, 19, 5,',\n",
       " '######### CLASS 9 #########',\n",
       " 'Layer 5',\n",
       " 'Num nodes removed: 45',\n",
       " 'Position of nodes removed: 4, 1, 3, 7, 6, 8, 11, 10, 12, 15, 14, 16, 17, 18, 19, 20, 21, 22, 23, 24, 25, 28, 27, 29, 30, 31, 34, 36, 35, 37, 38, 47, 44, 42, 51, 52, 50, 55, 54, 56, 57, 58, 59, 60, 61,',\n",
       " 'Layer 4',\n",
       " 'Num nodes removed: 115',\n",
       " 'Position of nodes removed: 1, 5, 7, 8, 10, 11, 16, 14, 2, 20, 25, 4, 13, 12, 27, 28, 29, 6, 18, 22, 30, 31, 32, 35, 36, 37, 39, 9, 40, 42, 43, 48, 49, 19, 47, 41, 50, 52, 66, 0, 26, 54, 58, 64, 17, 51, 63, 56, 67, 77, 34, 78, 79, 84, 87, 90, 92, 61, 75, 74, 95, 98, 103, 105, 111, 104, 83, 33, 113, 116, 114, 94, 119, 115, 93, 65, 118, 121, 91, 125, 126, 128, 136, 138, 139, 148, 149, 152, 151, 159, 167, 168, 171, 170, 176, 175, 177, 183, 182, 190, 193, 194, 195, 197, 201, 211, 203, 209, 217, 226, 220, 231, 233, 240, 245,',\n",
       " 'Layer 3',\n",
       " 'Num nodes removed: 35',\n",
       " 'Position of nodes removed: 0, 1, 2, 11, 8, 12, 16, 13, 15, 19, 21, 20, 22, 34, 28, 32, 39, 40, 42, 46, 58, 50, 80, 55, 64, 79, 82, 84, 88, 94, 93, 91, 111, 119, 116,',\n",
       " 'Layer 2',\n",
       " 'Num nodes removed: 10',\n",
       " 'Position of nodes removed: 22, 13, 30, 38, 15, 39, 37, 42, 43, 60,',\n",
       " 'Layer 1',\n",
       " 'Num nodes removed: 1',\n",
       " 'Position of nodes removed: 26,']"
      ]
     },
     "execution_count": 40,
     "metadata": {},
     "output_type": "execute_result"
    }
   ],
   "source": [
    "lines"
   ]
  },
  {
   "cell_type": "code",
   "execution_count": 35,
   "metadata": {},
   "outputs": [
    {
     "data": {
      "text/plain": [
       "'45'"
      ]
     },
     "execution_count": 35,
     "metadata": {},
     "output_type": "execute_result"
    }
   ],
   "source": [
    "lines[2][19:]"
   ]
  },
  {
   "cell_type": "code",
   "execution_count": 37,
   "metadata": {},
   "outputs": [
    {
     "data": {
      "text/plain": [
       "'4, 1, 3, 7, 6, 8, 11, 10, 12, 15, 14, 16, 17, 18, 19, 20, 21, 22, 23, 24, 25, 28, 27, 29, 30, 31, 34, 36, 35, 37, 38, 47, 44, 42, 51, 52, 50, 55, 54, 56, 57, 58, 59, 60, 61,'"
      ]
     },
     "execution_count": 37,
     "metadata": {},
     "output_type": "execute_result"
    }
   ],
   "source": [
    "lines[3][27:]"
   ]
  },
  {
   "cell_type": "code",
   "execution_count": 39,
   "metadata": {
    "collapsed": true,
    "jupyter": {
     "outputs_hidden": true
    }
   },
   "outputs": [
    {
     "data": {
      "text/plain": [
       "['4',\n",
       " '1',\n",
       " '3',\n",
       " '7',\n",
       " '6',\n",
       " '8',\n",
       " '11',\n",
       " '10',\n",
       " '12',\n",
       " '15',\n",
       " '14',\n",
       " '16',\n",
       " '17',\n",
       " '18',\n",
       " '19',\n",
       " '20',\n",
       " '21',\n",
       " '22',\n",
       " '23',\n",
       " '24',\n",
       " '25',\n",
       " '28',\n",
       " '27',\n",
       " '29',\n",
       " '30',\n",
       " '31',\n",
       " '34',\n",
       " '36',\n",
       " '35',\n",
       " '37',\n",
       " '38',\n",
       " '47',\n",
       " '44',\n",
       " '42',\n",
       " '51',\n",
       " '52',\n",
       " '50',\n",
       " '55',\n",
       " '54',\n",
       " '56',\n",
       " '57',\n",
       " '58',\n",
       " '59',\n",
       " '60',\n",
       " '61']"
      ]
     },
     "execution_count": 39,
     "metadata": {},
     "output_type": "execute_result"
    }
   ],
   "source": [
    "lines[3][27:].replace(\",\", \"\").split()"
   ]
  },
  {
   "cell_type": "code",
   "execution_count": 57,
   "metadata": {},
   "outputs": [],
   "source": [
    "rem_dict = {}\n",
    "ltc = [2, 3, 5, 6, 8, 9, 11, 12, 14, 15]\n",
    "for k in range(10):\n",
    "    am = []\n",
    "    pl = []\n",
    "    for i, line in enumerate(ltc):\n",
    "        line = line + 16*k\n",
    "        if i % 2 == 0:\n",
    "            am.append(int(lines[line][19:]))\n",
    "        else:\n",
    "            pl.append(list(map(int, lines[line][27:].replace(\",\", \"\").split())))\n",
    "    rem_dict[f\"class_{k}\"] = [am, pl]"
   ]
  },
  {
   "cell_type": "code",
   "execution_count": null,
   "metadata": {},
   "outputs": [],
   "source": [
    "plt.scatter(np.arange(64))"
   ]
  },
  {
   "cell_type": "code",
   "execution_count": 61,
   "metadata": {},
   "outputs": [
    {
     "data": {
      "text/plain": [
       "array([0., 1., 0., 1., 1., 0., 1., 1., 1., 0., 1., 1., 1., 0., 1., 1., 1.,\n",
       "       1., 1., 1., 1., 1., 1., 1., 1., 1., 0., 1., 1., 1., 1., 1., 0., 0.,\n",
       "       1., 1., 1., 1., 1., 0., 0., 0., 1., 0., 1., 0., 0., 1., 0., 0., 1.,\n",
       "       1., 1., 0., 1., 1., 1., 1., 1., 1., 1., 1., 0., 0.])"
      ]
     },
     "execution_count": 61,
     "metadata": {},
     "output_type": "execute_result"
    }
   ],
   "source": [
    "a = np.zeros(64)\n",
    "a[rem_dict[\"class_0\"][1][0]] = 1\n",
    "a"
   ]
  },
  {
   "cell_type": "code",
   "execution_count": 80,
   "metadata": {},
   "outputs": [
    {
     "data": {
      "image/png": "[encoded data removed]",
      "text/plain": [
       "<Figure size 432x288 with 1 Axes>"
      ]
     },
     "metadata": {
      "needs_background": "light"
     },
     "output_type": "display_data"
    },
    {
     "data": {
      "image/png": "[encoded data removed]",
      "text/plain": [
       "<Figure size 432x288 with 1 Axes>"
      ]
     },
     "metadata": {
      "needs_background": "light"
     },
     "output_type": "display_data"
    },
    {
     "data": {
      "image/png": "[encoded data removed]",
      "text/plain": [
       "<Figure size 432x288 with 1 Axes>"
      ]
     },
     "metadata": {
      "needs_background": "light"
     },
     "output_type": "display_data"
    },
    {
     "data": {
      "image/png": "[encoded data removed]",
      "text/plain": [
       "<Figure size 432x288 with 1 Axes>"
      ]
     },
     "metadata": {
      "needs_background": "light"
     },
     "output_type": "display_data"
    },
    {
     "data": {
      "image/png": "[encoded data removed]",
      "text/plain": [
       "<Figure size 432x288 with 1 Axes>"
      ]
     },
     "metadata": {
      "needs_background": "light"
     },
     "output_type": "display_data"
    },
    {
     "data": {
      "image/png": "[encoded data removed]",
      "text/plain": [
       "<Figure size 432x288 with 1 Axes>"
      ]
     },
     "metadata": {
      "needs_background": "light"
     },
     "output_type": "display_data"
    },
    {
     "data": {
      "image/png": "[encoded data removed]",
      "text/plain": [
       "<Figure size 432x288 with 1 Axes>"
      ]
     },
     "metadata": {
      "needs_background": "light"
     },
     "output_type": "display_data"
    },
    {
     "data": {
      "image/png": "[encoded data removed]",
      "text/plain": [
       "<Figure size 432x288 with 1 Axes>"
      ]
     },
     "metadata": {
      "needs_background": "light"
     },
     "output_type": "display_data"
    },
    {
     "data": {
      "image/png": "[encoded data removed]",
      "text/plain": [
       "<Figure size 432x288 with 1 Axes>"
      ]
     },
     "metadata": {
      "needs_background": "light"
     },
     "output_type": "display_data"
    },
    {
     "data": {
      "image/png": "[encoded data removed]",
      "text/plain": [
       "<Figure size 432x288 with 1 Axes>"
      ]
     },
     "metadata": {
      "needs_background": "light"
     },
     "output_type": "display_data"
    }
   ],
   "source": [
    "layer = 5\n",
    "layer_size = 64\n",
    "for k in range(10):\n",
    "    a = np.zeros(layer_size)\n",
    "    a[rem_dict[f\"class_{k}\"][1][5-layer]] = 1\n",
    "    plt.scatter(np.arange(layer_size), a)\n",
    "    plt.title(f\"Class {k}\")\n",
    "    plt.show()"
   ]
  },
  {
   "cell_type": "code",
   "execution_count": null,
   "metadata": {},
   "outputs": [],
   "source": []
  }
 ],
 "metadata": {
  "kernelspec": {
   "display_name": "Python 3",
   "language": "python",
   "name": "python3"
  },
  "language_info": {
   "codemirror_mode": {
    "name": "ipython",
    "version": 3
   },
   "file_extension": ".py",
   "mimetype": "text/x-python",
   "name": "python",
   "nbconvert_exporter": "python",
   "pygments_lexer": "ipython3",
   "version": "3.7.6"
  }
 },
 "nbformat": 4,
 "nbformat_minor": 4
}
