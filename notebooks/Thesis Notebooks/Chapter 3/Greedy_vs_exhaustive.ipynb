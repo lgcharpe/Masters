{
 "cells": [
  {
   "cell_type": "markdown",
   "metadata": {},
   "source": [
    "# Chapter 4.2"
   ]
  },
  {
   "cell_type": "markdown",
   "metadata": {},
   "source": [
    "## Importing Libraries"
   ]
  },
  {
   "cell_type": "code",
   "execution_count": 1,
   "metadata": {},
   "outputs": [],
   "source": [
    "from __future__ import absolute_import, division, print_function\n",
    "from __future__ import unicode_literals"
   ]
  },
  {
   "cell_type": "code",
   "execution_count": 2,
   "metadata": {},
   "outputs": [],
   "source": [
    "import tensorflow as tf\n",
    "import numpy as np\n",
    "import pandas as pd\n",
    "from sklearn.model_selection import train_test_split\n",
    "import matplotlib.pyplot as plt\n",
    "import copy\n",
    "import tqdm\n",
    "from hfunc import models\n",
    "from hfunc import metrics\n",
    "import time"
   ]
  },
  {
   "cell_type": "markdown",
   "metadata": {},
   "source": [
    "## Self-created functions"
   ]
  },
  {
   "cell_type": "code",
   "execution_count": 3,
   "metadata": {},
   "outputs": [],
   "source": [
    "def node_pruning(model, tester_model, x, y, layer_sizes, tol, ignore_cutoff, method='exhaustive'):\n",
    "\n",
    "    loss, acc = model.evaluate(x, y, verbose=0, batch_size=256)\n",
    "    original = model.get_weights()\n",
    "    weight_len = len(original) - 3\n",
    "    bas = [acc]\n",
    "    bls = [loss]\n",
    "    best_weights = model.get_weights()\n",
    "    best_acc = 0\n",
    "    best_loss = 1e20\n",
    "    ol = loss\n",
    "    oa = acc\n",
    "    amounts = []\n",
    "    places = []\n",
    "\n",
    "    for layer, size in enumerate(layer_sizes):\n",
    "        end_not_reached = True\n",
    "        num_removed = 0\n",
    "        nodes_removed = []\n",
    "        if method == 'exhaustive':\n",
    "            current_pos = 0\n",
    "            best_change = tol\n",
    "            best_pos = -1\n",
    "            improved = False\n",
    "            while end_not_reached or improved:\n",
    "                if not(end_not_reached):\n",
    "                    end_not_reached = True\n",
    "                    improved = False\n",
    "                    current_pos = 0\n",
    "                    size -= 1\n",
    "                    nodes_removed += [best_pos]\n",
    "                    best_weights[weight_len - (2*layer+1)][...,best_pos] = 0\n",
    "                    best_weights[weight_len - 2*layer][best_pos] = 0\n",
    "                    best_pos = -1\n",
    "                    ol = best_loss\n",
    "                    oa = best_acc\n",
    "                    bas += [best_acc]\n",
    "                    bls += [best_loss]\n",
    "                    best_change = tol\n",
    "                    num_removed += 1\n",
    "                if current_pos in nodes_removed:\n",
    "                    current_pos += 1\n",
    "                    if current_pos - num_removed >= size:\n",
    "                        end_not_reached = False\n",
    "                    continue\n",
    "                w = copy.deepcopy(best_weights)\n",
    "                w[weight_len - (2*layer+1)][...,current_pos] = 0\n",
    "                w[weight_len - 2*layer][current_pos] = 0\n",
    "                tester_model.set_weights(w)\n",
    "                nl, na = tester_model.evaluate(x, y, verbose=0, batch_size=256)\n",
    "                if ol - nl >= best_change:\n",
    "                    best_change = ol - nl\n",
    "                    best_pos = current_pos\n",
    "                    improved = True\n",
    "                    best_acc = na\n",
    "                    best_loss = nl\n",
    "                current_pos += 1\n",
    "                if current_pos - num_removed >= size:\n",
    "                    end_not_reached = False\n",
    "        elif method == 'greedy':\n",
    "            nodes_to_estimate = list(np.arange(size))\n",
    "            current_pos = nodes_to_estimate[0]\n",
    "            idx = 0\n",
    "            while end_not_reached:\n",
    "                w = copy.deepcopy(best_weights)\n",
    "                w[weight_len - (2*layer+1)][...,current_pos] = 0\n",
    "                w[weight_len - 2*layer][current_pos] = 0\n",
    "                tester_model.set_weights(w)\n",
    "                nl, na = tester_model.evaluate(x, y, verbose=0, batch_size=256)\n",
    "                if ol - nl >= tol:\n",
    "                    oa = na\n",
    "                    ol = nl\n",
    "                    size -= 1\n",
    "                    nodes_removed += [current_pos]\n",
    "                    nodes_to_estimate.remove(current_pos)\n",
    "                    best_weights[weight_len - (2*layer+1)][..., current_pos] = 0\n",
    "                    best_weights[weight_len - 2*layer][current_pos] = 0\n",
    "                    bas += [oa]\n",
    "                    bls += [ol]\n",
    "                    num_removed += 1\n",
    "                    idx = 0\n",
    "                elif ol - nl <= ignore_cutoff:\n",
    "                    size -= 1\n",
    "                    nodes_to_estimate.remove(current_pos)\n",
    "                else:\n",
    "                    idx += 1\n",
    "                if idx >= size:\n",
    "                    end_not_reached = False\n",
    "                else:\n",
    "                    current_pos = nodes_to_estimate[idx]\n",
    "        amounts.append(num_removed)\n",
    "        places.append(nodes_removed)\n",
    "\n",
    "    return best_weights, bas, bls, amounts, places"
   ]
  },
  {
   "cell_type": "code",
   "execution_count": null,
   "metadata": {},
   "outputs": [],
   "source": []
  },
  {
   "cell_type": "markdown",
   "metadata": {},
   "source": [
    "## Multi-layer Perceptron"
   ]
  },
  {
   "cell_type": "markdown",
   "metadata": {},
   "source": [
    "### MNIST"
   ]
  },
  {
   "cell_type": "code",
   "execution_count": 4,
   "metadata": {},
   "outputs": [],
   "source": [
    "np.random.seed(2020)"
   ]
  },
  {
   "cell_type": "code",
   "execution_count": 5,
   "metadata": {},
   "outputs": [],
   "source": [
    "mnist = tf.keras.datasets.mnist\n",
    "(x_train, y_train), (x_test, y_test) = mnist.load_data()\n",
    "x_train, x_test = x_train / 255.0, x_test / 255.0  # Converting interger values to floats (0 to 1)"
   ]
  },
  {
   "cell_type": "code",
   "execution_count": 6,
   "metadata": {},
   "outputs": [],
   "source": [
    "tester_model = tf.keras.models.Sequential([\n",
    "    tf.keras.layers.Flatten(input_shape=(28, 28)),\n",
    "    tf.keras.layers.Dense(128, activation='relu'),\n",
    "    tf.keras.layers.Dense(64, activation='relu'),\n",
    "    tf.keras.layers.Dense(32, activation='relu'),\n",
    "    tf.keras.layers.Dense(10, activation='softmax')\n",
    "])\n",
    "tester_model.compile(\n",
    "    optimizer='adam',\n",
    "    loss='sparse_categorical_crossentropy',\n",
    "    metrics=['accuracy']\n",
    ")"
   ]
  },
  {
   "cell_type": "code",
   "execution_count": 7,
   "metadata": {},
   "outputs": [],
   "source": [
    "x_train, x_val, y_train, y_val = train_test_split(x_train, y_train, train_size=0.85, stratify=None)"
   ]
  },
  {
   "cell_type": "code",
   "execution_count": null,
   "metadata": {},
   "outputs": [
    {
     "name": "stderr",
     "output_type": "stream",
     "text": [
      "  0%|                                                                                           | 0/10 [00:00<?, ?it/s]"
     ]
    }
   ],
   "source": [
    "trials = 10\n",
    "tol = -1e-5\n",
    "layer_sizes = [32, 64, 128]\n",
    "num_rem_ex = []\n",
    "num_rem_greed = []\n",
    "num_rem_greed2 = []\n",
    "delta_accs_ex = []\n",
    "delta_losses_ex = []\n",
    "delta_accs_greed = []\n",
    "delta_losses_greed = []\n",
    "delta_accs_greed2 = []\n",
    "delta_losses_greed2 = []\n",
    "diff_accs = []\n",
    "diff_losses = []\n",
    "diff_rem = []\n",
    "diff_rem2 = []\n",
    "diff_accs2 = []\n",
    "diff_losses2 = []\n",
    "time_ex = []\n",
    "time_greed = []\n",
    "time_greed2 = []\n",
    "\n",
    "for trial in tqdm.trange(trials):\n",
    "    model = tf.keras.models.Sequential([\n",
    "        tf.keras.layers.Flatten(input_shape=(28, 28)),\n",
    "        tf.keras.layers.Dense(128, activation='relu'),\n",
    "        tf.keras.layers.Dense(64, activation='relu'),\n",
    "        tf.keras.layers.Dense(32, activation='relu'),\n",
    "        tf.keras.layers.Dense(10, activation='softmax')\n",
    "    ])\n",
    "    model.compile(\n",
    "        optimizer='adam',\n",
    "        loss='sparse_categorical_crossentropy',\n",
    "        metrics=['accuracy']\n",
    "    )\n",
    "    \n",
    "    model.fit(x_train, y_train, epochs=5, verbose=0)\n",
    "    l, a = model.evaluate(x_test, y_test, verbose=0)\n",
    "    \n",
    "    ig_cut = None\n",
    "    \n",
    "    start = time.time()\n",
    "    shrinked_weights, _, _, tmp_a, _ = node_pruning(model, tester_model, x_val, y_val, layer_sizes, tol, ig_cut)\n",
    "    end = time.time()\n",
    "    num_rem_ex += [tmp_a]\n",
    "    tester_model.set_weights(shrinked_weights)\n",
    "    nl, na = tester_model.evaluate(x_test, y_test, verbose=0)\n",
    "    delta_accs_ex += [na - a]\n",
    "    delta_losses_ex += [nl - l]\n",
    "    time_ex += [end - start]\n",
    "    \n",
    "    ig_cut = -1e-2\n",
    "    \n",
    "    start = time.time()\n",
    "    shrinked_weights, _, _, tmp_a, _ = node_pruning(model, tester_model, x_val, y_val, layer_sizes, tol, ig_cut, method='greedy')\n",
    "    end = time.time()\n",
    "    num_rem_greed += [tmp_a]\n",
    "    tester_model.set_weights(shrinked_weights)\n",
    "    nl, na = tester_model.evaluate(x_test, y_test, verbose=0)\n",
    "    delta_accs_greed += [na - a]\n",
    "    delta_losses_greed += [nl - l]\n",
    "    time_greed += [end - start]\n",
    "    \n",
    "    ig_cut = -1e-3\n",
    "    \n",
    "    start = time.time()\n",
    "    shrinked_weights, _, _, tmp_a, _ = node_pruning(model, tester_model, x_val, y_val, layer_sizes, tol, ig_cut, method='greedy')\n",
    "    end = time.time()\n",
    "    num_rem_greed2 += [tmp_a]\n",
    "    tester_model.set_weights(shrinked_weights)\n",
    "    nl, na = tester_model.evaluate(x_test, y_test, verbose=0)\n",
    "    delta_accs_greed2 += [na - a]\n",
    "    delta_losses_greed2 += [nl - l]\n",
    "    time_greed2 += [end - start]\n",
    "    \n",
    "    diff_accs += [delta_accs_ex[trial] - delta_accs_greed[trial]]\n",
    "    diff_accs2 += [delta_accs_ex[trial] - delta_accs_greed2[trial]]\n",
    "    diff_losses += [delta_losses_ex[trial] - delta_losses_greed[trial]]\n",
    "    diff_losses2 += [delta_losses_ex[trial] - delta_losses_greed2[trial]]\n",
    "    temp_rem = []\n",
    "    temp_rem2 = []\n",
    "    for i in range(len(layer_sizes)):   \n",
    "        temp_rem += [num_rem_greed[trial][i] - num_rem_ex[trial][i]]\n",
    "        temp_rem2 += [num_rem_greed2[trial][i] - num_rem_ex[trial][i]]\n",
    "        \n",
    "    diff_rem += [temp_rem]\n",
    "    diff_rem2 += [temp_rem2]"
   ]
  },
  {
   "cell_type": "code",
   "execution_count": null,
   "metadata": {},
   "outputs": [],
   "source": [
    "DR = pd.DataFrame(diff_rem, columns=[\"Layer 3\", \"Layer 2\", \"Layer 1\"])\n",
    "DR.to_csv('../../../results/num_removed_MLP_greed_ex_mnist.csv')\n",
    "DR.describe()"
   ]
  },
  {
   "cell_type": "code",
   "execution_count": null,
   "metadata": {},
   "outputs": [],
   "source": [
    "DR2 = pd.DataFrame(diff_rem2, columns=[\"Layer 3\", \"Layer 2\", \"Layer 1\"])\n",
    "DR2.to_csv('../../../results/num_removed_MLP_greed_ex_2_mnist.csv')\n",
    "DR2.describe()"
   ]
  },
  {
   "cell_type": "code",
   "execution_count": null,
   "metadata": {},
   "outputs": [],
   "source": [
    "A = pd.DataFrame([delta_accs_ex, delta_accs_greed, delta_accs_greed2])\n",
    "A = A.T\n",
    "A.columns = ['Exhaustive', 'Greedy (-1e-2 cutoff)', 'Greedy (-1e-3 cutoff)']\n",
    "A.to_csv('../../../results/change_accuracy_MLP_greed_ex_mnist.csv')\n",
    "A.describe()"
   ]
  },
  {
   "cell_type": "code",
   "execution_count": null,
   "metadata": {},
   "outputs": [],
   "source": [
    "L = pd.DataFrame([delta_losses_ex, delta_losses_greed, delta_losses_greed2])\n",
    "L = L.T\n",
    "L.columns = ['Exhaustive', 'Greedy (-1e-2 cutoff)', 'Greedy (-1e-3 cutoff)']\n",
    "L.to_csv('../../../results/change_loss_MLP_greed_ex_mnist.csv')\n",
    "L.describe()"
   ]
  },
  {
   "cell_type": "code",
   "execution_count": null,
   "metadata": {},
   "outputs": [],
   "source": [
    "DA = pd.Series(diff_accs)\n",
    "DA.to_csv('../../../results/diff_accuracy_MLP_greed_ex_mnist.csv')\n",
    "DA.describe()"
   ]
  },
  {
   "cell_type": "code",
   "execution_count": null,
   "metadata": {},
   "outputs": [],
   "source": [
    "DA2 = pd.Series(diff_accs2)\n",
    "DA2.to_csv('../../../results/diff_accuracy_MLP_greed_ex_2_mnist.csv')\n",
    "DA2.describe()"
   ]
  },
  {
   "cell_type": "code",
   "execution_count": null,
   "metadata": {},
   "outputs": [],
   "source": [
    "DL = pd.Series(diff_losses)\n",
    "DL.to_csv('../../../results/diff_loss_MLP_greed_ex_mnist.csv')\n",
    "DL.describe()"
   ]
  },
  {
   "cell_type": "code",
   "execution_count": null,
   "metadata": {},
   "outputs": [],
   "source": [
    "DL2 = pd.Series(diff_losses2)\n",
    "DL2.to_csv('../../../results/diff_loss_MLP_greed_ex_2_mnist.csv')\n",
    "DL2.describe()"
   ]
  },
  {
   "cell_type": "code",
   "execution_count": null,
   "metadata": {},
   "outputs": [],
   "source": [
    "Time = pd.DataFrame([time_ex, time_greed, time_greed2])\n",
    "Time = Time.T\n",
    "Time.columns = ['Exhaustive', 'Greedy (-1e-2 cutoff)', 'Greedy (-1e-3 cutoff)']\n",
    "Time.to_csv('../../../results/time_MLP_greed_ex_mnist.csv')\n",
    "Time.describe()"
   ]
  },
  {
   "cell_type": "code",
   "execution_count": null,
   "metadata": {},
   "outputs": [],
   "source": [
    "diff_rem = [sum(rem) for rem in diff_rem]"
   ]
  },
  {
   "cell_type": "code",
   "execution_count": null,
   "metadata": {},
   "outputs": [],
   "source": [
    "diff_rem2 = [sum(rem) for rem in diff_rem2]"
   ]
  },
  {
   "cell_type": "code",
   "execution_count": null,
   "metadata": {},
   "outputs": [],
   "source": [
    "plt.rcParams[\"figure.figsize\"] = (16,8)\n",
    "plt.scatter(x=diff_rem, y=diff_accs, marker='o', color='red', s=60)\n",
    "plt.title(\"Accuracy difference in Greedy (-1e-2 cutoff) versus Exhaustive pruning\", size=28)\n",
    "plt.xlabel(\"Difference in nodes removed\", size=20)\n",
    "plt.xticks(fontsize=20)\n",
    "plt.ylabel(\"Difference in Accuracy\", size=20)\n",
    "plt.yticks(fontsize=20)\n",
    "plt.grid(True)\n",
    "plt.savefig(\"../../../figures/diff_accuracy_vs_nodes_removed_MLP_greed_ex_mnist.png\")"
   ]
  },
  {
   "cell_type": "code",
   "execution_count": null,
   "metadata": {},
   "outputs": [],
   "source": [
    "plt.rcParams[\"figure.figsize\"] = (16,8)\n",
    "plt.scatter(x=diff_rem2, y=diff_accs2, marker='o', color='red', s=60)\n",
    "plt.title(\"Accuracy difference in Greedy (-1e-3 cutoff) versus Exhaustive pruning\", size=28)\n",
    "plt.xlabel(\"Difference in nodes removed\", size=20)\n",
    "plt.xticks(fontsize=20)\n",
    "plt.ylabel(\"Difference in Accuracy\", size=20)\n",
    "plt.yticks(fontsize=20)\n",
    "plt.grid(True)\n",
    "plt.savefig(\"../../../figures/diff_accuracy_vs_nodes_removed_MLP_greed_ex_2_mnist.png\")"
   ]
  },
  {
   "cell_type": "code",
   "execution_count": null,
   "metadata": {},
   "outputs": [],
   "source": [
    "plt.scatter(x=diff_rem, y=diff_losses, marker='o', color='red', s=60)\n",
    "plt.title(\"Loss difference in Greedy (-1e-2 cutoff) versus Exhaustive pruning\", size=28)\n",
    "plt.xlabel(\"Difference in nodes removed\", size=20)\n",
    "plt.xticks(fontsize=20)\n",
    "plt.ylabel(\"Difference in Loss\", size=20)\n",
    "plt.yticks(fontsize=20)\n",
    "plt.grid(True)\n",
    "plt.savefig(\"../../../figures/diff_loss_vs_nodes_removed_MLP_greed_ex_mnist.png\")"
   ]
  },
  {
   "cell_type": "code",
   "execution_count": null,
   "metadata": {},
   "outputs": [],
   "source": [
    "plt.scatter(x=diff_rem2, y=diff_losses2, marker='o', color='red', s=60)\n",
    "plt.title(\"Loss difference in Greedy (-1e-3 cutoff) versus Exhaustive pruning\", size=28)\n",
    "plt.xlabel(\"Difference in nodes removed\", size=20)\n",
    "plt.xticks(fontsize=20)\n",
    "plt.ylabel(\"Difference in Loss\", size=20)\n",
    "plt.yticks(fontsize=20)\n",
    "plt.grid(True)\n",
    "plt.savefig(\"../../../figures/diff_loss_vs_nodes_removed_MLP_greed_ex_2_mnist.png\")"
   ]
  },
  {
   "cell_type": "code",
   "execution_count": null,
   "metadata": {},
   "outputs": [],
   "source": [
    "tol = -1e-5\n",
    "ig_cut = -1e-3\n",
    "layer_sizes = [32, 64, 128]\n",
    "model = tf.keras.models.Sequential([\n",
    "    tf.keras.layers.Flatten(input_shape=(28, 28)),\n",
    "    tf.keras.layers.Dense(128, activation='relu'),\n",
    "    tf.keras.layers.Dense(64, activation='relu'),\n",
    "    tf.keras.layers.Dense(32, activation='relu'),\n",
    "    tf.keras.layers.Dense(10, activation='softmax')\n",
    "])\n",
    "model.compile(\n",
    "    optimizer='adam',\n",
    "    loss='sparse_categorical_crossentropy',\n",
    "    metrics=['accuracy']\n",
    ")\n",
    "\n",
    "model.fit(x_train, y_train, epochs=5, verbose=0)\n",
    "shrinked_weights, acc_ev, loss_ev, num_rem, _ = node_pruning(model, tester_model, x_val, y_val, layer_sizes, tol, ig_cut, method='greedy')\n",
    "l, a = model.evaluate(x_test, y_test, verbose=0)\n",
    "tester_model.set_weights(shrinked_weights)\n",
    "nl, na = tester_model.evaluate(x_test, y_test, verbose=0)"
   ]
  },
  {
   "cell_type": "code",
   "execution_count": null,
   "metadata": {},
   "outputs": [],
   "source": [
    "print(f\"Original loss: {l}, New loss: {nl}\")\n",
    "print(f\"Original accuracy: {a}, New accuracy: {na}\")\n",
    "print(f\"Number of nodes removed: {num_rem}\")"
   ]
  },
  {
   "cell_type": "code",
   "execution_count": null,
   "metadata": {},
   "outputs": [],
   "source": [
    "changes = []\n",
    "tot_rem = 0\n",
    "for rem in num_rem:\n",
    "    tot_rem += rem\n",
    "    changes.append(tot_rem)\n",
    "colors = [\"black\", \"blue\", \"red\", \"green\"]"
   ]
  },
  {
   "cell_type": "code",
   "execution_count": null,
   "metadata": {},
   "outputs": [],
   "source": [
    "plt.plot(acc_ev)\n",
    "plt.title(\"Evolution of accuracy as nodes are removed\", size=28)\n",
    "plt.ylabel(\"Accuracy\", size=20)\n",
    "plt.yticks(fontsize=20)\n",
    "plt.grid(True)\n",
    "num_layers = len(changes)\n",
    "for i, pos in enumerate(changes[:-1]):\n",
    "    plt.axvline(x=pos, label=f\"Layer {num_layers-i} -> Layer {num_layers-(i+1)}\", color=colors[i])\n",
    "plt.legend(fontsize=20)\n",
    "plt.savefig(\"../../../figures/ev_acc_MLP_greed_pru_mnist.png\")"
   ]
  },
  {
   "cell_type": "code",
   "execution_count": null,
   "metadata": {},
   "outputs": [],
   "source": [
    "plt.plot(loss_ev)\n",
    "plt.title(\"Evolution of loss as nodes are removed\", size=28)\n",
    "plt.ylabel(\"Loss\", size=20)\n",
    "plt.yticks(fontsize=20)\n",
    "plt.grid(True)\n",
    "num_layers = len(changes)\n",
    "for i, pos in enumerate(changes[:-1]):\n",
    "    plt.axvline(x=pos, label=f\"Layer {num_layers-i} -> Layer {num_layers-(i+1)}\", color=colors[i])\n",
    "plt.legend(fontsize=20)\n",
    "plt.savefig(\"../../../figures/ev_loss_MLP_greed_pru_mnist.png\")"
   ]
  },
  {
   "cell_type": "markdown",
   "metadata": {},
   "source": [
    "### Fashion MNIST"
   ]
  },
  {
   "cell_type": "markdown",
   "metadata": {},
   "source": [
    "#### Set seed"
   ]
  },
  {
   "cell_type": "code",
   "execution_count": null,
   "metadata": {},
   "outputs": [],
   "source": [
    "np.random.seed(2020)"
   ]
  },
  {
   "cell_type": "code",
   "execution_count": null,
   "metadata": {},
   "outputs": [],
   "source": [
    "fmnist = tf.keras.datasets.fashion_mnist\n",
    "(x_train, y_train), (x_test, y_test) = fmnist.load_data()\n",
    "x_train, x_test = x_train / 255.0, x_test / 255.0  # Converting interger values to floats (0 to 1)"
   ]
  },
  {
   "cell_type": "code",
   "execution_count": null,
   "metadata": {},
   "outputs": [],
   "source": [
    "tester_model = tf.keras.models.Sequential([\n",
    "    tf.keras.layers.Flatten(input_shape=(28, 28)),\n",
    "    tf.keras.layers.Dense(128, activation='relu'),\n",
    "    tf.keras.layers.Dense(64, activation='relu'),\n",
    "    tf.keras.layers.Dense(32, activation='relu'),\n",
    "    tf.keras.layers.Dense(10, activation='softmax')\n",
    "])\n",
    "tester_model.compile(\n",
    "    optimizer='adam',\n",
    "    loss='sparse_categorical_crossentropy',\n",
    "    metrics=['accuracy']\n",
    ")"
   ]
  },
  {
   "cell_type": "code",
   "execution_count": null,
   "metadata": {},
   "outputs": [],
   "source": [
    "x_train, x_val, y_train, y_val = train_test_split(x_train, y_train, train_size=0.85, stratify=None)"
   ]
  },
  {
   "cell_type": "code",
   "execution_count": null,
   "metadata": {},
   "outputs": [],
   "source": [
    "trials = 10\n",
    "tol = -1e-5\n",
    "layer_sizes = [32, 64, 128]\n",
    "num_rem_ex = []\n",
    "num_rem_greed = []\n",
    "num_rem_greed2 = []\n",
    "delta_accs_ex = []\n",
    "delta_losses_ex = []\n",
    "delta_accs_greed = []\n",
    "delta_losses_greed = []\n",
    "delta_accs_greed2 = []\n",
    "delta_losses_greed2 = []\n",
    "diff_accs = []\n",
    "diff_losses = []\n",
    "diff_rem = []\n",
    "diff_rem2 = []\n",
    "diff_accs2 = []\n",
    "diff_losses2 = []\n",
    "time_ex = []\n",
    "time_greed = []\n",
    "time_greed2 = []\n",
    "\n",
    "for trial in tqdm.trange(trials):\n",
    "    model = tf.keras.models.Sequential([\n",
    "        tf.keras.layers.Flatten(input_shape=(28, 28)),\n",
    "        tf.keras.layers.Dense(128, activation='relu'),\n",
    "        tf.keras.layers.Dense(64, activation='relu'),\n",
    "        tf.keras.layers.Dense(32, activation='relu'),\n",
    "        tf.keras.layers.Dense(10, activation='softmax')\n",
    "    ])\n",
    "    model.compile(\n",
    "        optimizer='adam',\n",
    "        loss='sparse_categorical_crossentropy',\n",
    "        metrics=['accuracy']\n",
    "    )\n",
    "    \n",
    "    model.fit(x_train, y_train, epochs=5, verbose=0)\n",
    "    l, a = model.evaluate(x_test, y_test, verbose=0)\n",
    "    \n",
    "    ig_cut = None\n",
    "    \n",
    "    start = time.time()\n",
    "    shrinked_weights, _, _, tmp_a, _ = node_pruning(model, tester_model, x_val, y_val, layer_sizes, tol, ig_cut)\n",
    "    end = time.time()\n",
    "    num_rem_ex += [tmp_a]\n",
    "    tester_model.set_weights(shrinked_weights)\n",
    "    nl, na = tester_model.evaluate(x_test, y_test, verbose=0)\n",
    "    delta_accs_ex += [na - a]\n",
    "    delta_losses_ex += [nl - l]\n",
    "    time_ex += [end - start]\n",
    "    \n",
    "    ig_cut = -1e-2\n",
    "    \n",
    "    start = time.time()\n",
    "    shrinked_weights, _, _, tmp_a, _ = node_pruning(model, tester_model, x_val, y_val, layer_sizes, tol, ig_cut, method='greedy')\n",
    "    end = time.time()\n",
    "    num_rem_greed += [tmp_a]\n",
    "    tester_model.set_weights(shrinked_weights)\n",
    "    nl, na = tester_model.evaluate(x_test, y_test, verbose=0)\n",
    "    delta_accs_greed += [na - a]\n",
    "    delta_losses_greed += [nl - l]\n",
    "    time_greed += [end - start]\n",
    "    \n",
    "    ig_cut = -1e-3\n",
    "    \n",
    "    start = time.time()\n",
    "    shrinked_weights, _, _, tmp_a, _ = node_pruning(model, tester_model, x_val, y_val, layer_sizes, tol, ig_cut, method='greedy')\n",
    "    end = time.time()\n",
    "    num_rem_greed2 += [tmp_a]\n",
    "    tester_model.set_weights(shrinked_weights)\n",
    "    nl, na = tester_model.evaluate(x_test, y_test, verbose=0)\n",
    "    delta_accs_greed2 += [na - a]\n",
    "    delta_losses_greed2 += [nl - l]\n",
    "    time_greed2 += [end - start]\n",
    "    \n",
    "    diff_accs += [delta_accs_ex[trial] - delta_accs_greed[trial]]\n",
    "    diff_accs2 += [delta_accs_ex[trial] - delta_accs_greed2[trial]]\n",
    "    diff_losses += [delta_losses_ex[trial] - delta_losses_greed[trial]]\n",
    "    diff_losses2 += [delta_losses_ex[trial] - delta_losses_greed2[trial]]\n",
    "    temp_rem = []\n",
    "    temp_rem2 = []\n",
    "    for i in range(len(layer_sizes)):   \n",
    "        temp_rem += [num_rem_greed[trial][i] - num_rem_ex[trial][i]]\n",
    "        temp_rem2 += [num_rem_greed2[trial][i] - num_rem_ex[trial][i]]\n",
    "        \n",
    "    diff_rem += [temp_rem]\n",
    "    diff_rem2 += [temp_rem2]"
   ]
  },
  {
   "cell_type": "code",
   "execution_count": null,
   "metadata": {},
   "outputs": [],
   "source": [
    "DR = pd.DataFrame(diff_rem, columns=[\"Layer 3\", \"Layer 2\", \"Layer 1\"])\n",
    "DR.to_csv('../../../results/num_removed_MLP_greed_ex_fmnist.csv')\n",
    "DR.describe()"
   ]
  },
  {
   "cell_type": "code",
   "execution_count": null,
   "metadata": {},
   "outputs": [],
   "source": [
    "DR2 = pd.DataFrame(diff_rem2, columns=[\"Layer 3\", \"Layer 2\", \"Layer 1\"])\n",
    "DR2.to_csv('../../../results/num_removed_MLP_greed_ex_2_fmnist.csv')\n",
    "DR2.describe()"
   ]
  },
  {
   "cell_type": "code",
   "execution_count": null,
   "metadata": {},
   "outputs": [],
   "source": [
    "A = pd.DataFrame([delta_accs_ex, delta_accs_greed, delta_accs_greed2])\n",
    "A = A.T\n",
    "A.columns = ['Exhaustive', 'Greedy (-1e-2 cutoff)', 'Greedy (-1e-3 cutoff)']\n",
    "A.to_csv('../../../results/change_accuracy_MLP_greed_ex_fmnist.csv')\n",
    "A.describe()"
   ]
  },
  {
   "cell_type": "code",
   "execution_count": null,
   "metadata": {},
   "outputs": [],
   "source": [
    "L = pd.DataFrame([delta_losses_ex, delta_losses_greed, delta_losses_greed2])\n",
    "L = L.T\n",
    "L.columns = ['Exhaustive', 'Greedy (-1e-2 cutoff)', 'Greedy (-1e-3 cutoff)']\n",
    "L.to_csv('../../../results/change_loss_MLP_greed_ex_fmnist.csv')\n",
    "L.describe()"
   ]
  },
  {
   "cell_type": "code",
   "execution_count": null,
   "metadata": {},
   "outputs": [],
   "source": [
    "DA = pd.Series(diff_accs)\n",
    "DA.to_csv('../../../results/diff_accuracy_MLP_greed_ex_fmnist.csv')\n",
    "DA.describe()"
   ]
  },
  {
   "cell_type": "code",
   "execution_count": null,
   "metadata": {},
   "outputs": [],
   "source": [
    "DA2 = pd.Series(diff_accs2)\n",
    "DA2.to_csv('../../../results/diff_accuracy_MLP_greed_ex_2_fmnist.csv')\n",
    "DA2.describe()"
   ]
  },
  {
   "cell_type": "code",
   "execution_count": null,
   "metadata": {},
   "outputs": [],
   "source": [
    "DL = pd.Series(diff_losses)\n",
    "DL.to_csv('../../../results/diff_loss_MLP_greed_ex_fmnist.csv')\n",
    "DL.describe()"
   ]
  },
  {
   "cell_type": "code",
   "execution_count": null,
   "metadata": {},
   "outputs": [],
   "source": [
    "DL2 = pd.Series(diff_losses2)\n",
    "DL2.to_csv('../../../results/diff_loss_MLP_greed_ex_2_fmnist.csv')\n",
    "DL2.describe()"
   ]
  },
  {
   "cell_type": "code",
   "execution_count": null,
   "metadata": {},
   "outputs": [],
   "source": [
    "Time = pd.DataFrame([time_ex, time_greed, time_greed2])\n",
    "Time = Time.T\n",
    "Time.columns = ['Exhaustive', 'Greedy (-1e-2 cutoff)', 'Greedy (-1e-3 cutoff)']\n",
    "Time.to_csv('../../../results/time_MLP_greed_ex_fmnist.csv')\n",
    "Time.describe()"
   ]
  },
  {
   "cell_type": "code",
   "execution_count": null,
   "metadata": {},
   "outputs": [],
   "source": [
    "diff_rem = [sum(rem) for rem in diff_rem]"
   ]
  },
  {
   "cell_type": "code",
   "execution_count": null,
   "metadata": {},
   "outputs": [],
   "source": [
    "diff_rem2 = [sum(rem) for rem in diff_rem2]"
   ]
  },
  {
   "cell_type": "code",
   "execution_count": null,
   "metadata": {},
   "outputs": [],
   "source": [
    "plt.rcParams[\"figure.figsize\"] = (16,8)\n",
    "plt.scatter(x=diff_rem, y=diff_accs, marker='o', color='red', s=60)\n",
    "plt.title(\"Accuracy difference in Greedy (-1e-2 cutoff) versus Exhaustive pruning\", size=28)\n",
    "plt.xlabel(\"Difference in nodes removed\", size=20)\n",
    "plt.xticks(fontsize=20)\n",
    "plt.ylabel(\"Difference in Accuracy\", size=20)\n",
    "plt.yticks(fontsize=20)\n",
    "plt.grid(True)\n",
    "plt.savefig(\"../../../figures/diff_accuracy_vs_nodes_removed_MLP_greed_ex_fmnist.png\")"
   ]
  },
  {
   "cell_type": "code",
   "execution_count": null,
   "metadata": {},
   "outputs": [],
   "source": [
    "plt.rcParams[\"figure.figsize\"] = (16,8)\n",
    "plt.scatter(x=diff_rem2, y=diff_accs2, marker='o', color='red', s=60)\n",
    "plt.title(\"Accuracy difference in Greedy (-1e-3 cutoff) versus Exhaustive pruning\", size=28)\n",
    "plt.xlabel(\"Difference in nodes removed\", size=20)\n",
    "plt.xticks(fontsize=20)\n",
    "plt.ylabel(\"Difference in Accuracy\", size=20)\n",
    "plt.yticks(fontsize=20)\n",
    "plt.grid(True)\n",
    "plt.savefig(\"../../../figures/diff_accuracy_vs_nodes_removed_MLP_greed_ex_2_fmnist.png\")"
   ]
  },
  {
   "cell_type": "code",
   "execution_count": null,
   "metadata": {},
   "outputs": [],
   "source": [
    "plt.scatter(x=diff_rem, y=diff_losses, marker='o', color='red', s=60)\n",
    "plt.title(\"Loss difference in Greedy (-1e-2 cutoff) versus Exhaustive pruning\", size=28)\n",
    "plt.xlabel(\"Difference in nodes removed\", size=20)\n",
    "plt.xticks(fontsize=20)\n",
    "plt.ylabel(\"Difference in Loss\", size=20)\n",
    "plt.yticks(fontsize=20)\n",
    "plt.grid(True)\n",
    "plt.savefig(\"../../../figures/diff_loss_vs_nodes_removed_MLP_greed_ex_fmnist.png\")"
   ]
  },
  {
   "cell_type": "code",
   "execution_count": null,
   "metadata": {},
   "outputs": [],
   "source": [
    "plt.scatter(x=diff_rem2, y=diff_losses2, marker='o', color='red', s=60)\n",
    "plt.title(\"Loss difference in Greedy (-1e-3 cutoff) versus Exhaustive pruning\", size=28)\n",
    "plt.xlabel(\"Difference in nodes removed\", size=20)\n",
    "plt.xticks(fontsize=20)\n",
    "plt.ylabel(\"Difference in Loss\", size=20)\n",
    "plt.yticks(fontsize=20)\n",
    "plt.grid(True)\n",
    "plt.savefig(\"../../../figures/diff_loss_vs_nodes_removed_MLP_greed_ex_2_fmnist.png\")"
   ]
  },
  {
   "cell_type": "code",
   "execution_count": null,
   "metadata": {},
   "outputs": [],
   "source": [
    "tol = -1e-5\n",
    "ig_cut = -1e-3\n",
    "layer_sizes = [32, 64, 128]\n",
    "model = tf.keras.models.Sequential([\n",
    "    tf.keras.layers.Flatten(input_shape=(28, 28)),\n",
    "    tf.keras.layers.Dense(128, activation='relu'),\n",
    "    tf.keras.layers.Dense(64, activation='relu'),\n",
    "    tf.keras.layers.Dense(32, activation='relu'),\n",
    "    tf.keras.layers.Dense(10, activation='softmax')\n",
    "])\n",
    "model.compile(\n",
    "    optimizer='adam',\n",
    "    loss='sparse_categorical_crossentropy',\n",
    "    metrics=['accuracy']\n",
    ")\n",
    "\n",
    "model.fit(x_train, y_train, epochs=5, verbose=0)\n",
    "shrinked_weights, acc_ev, loss_ev, num_rem, _ = node_pruning(model, tester_model, x_val, y_val, layer_sizes, tol, ig_cut, method='greedy')\n",
    "l, a = model.evaluate(x_test, y_test, verbose=0)\n",
    "tester_model.set_weights(shrinked_weights)\n",
    "nl, na = tester_model.evaluate(x_test, y_test, verbose=0)"
   ]
  },
  {
   "cell_type": "code",
   "execution_count": null,
   "metadata": {},
   "outputs": [],
   "source": [
    "print(f\"Original loss: {l}, New loss: {nl}\")\n",
    "print(f\"Original accuracy: {a}, New accuracy: {na}\")\n",
    "print(f\"Number of nodes removed: {num_rem}\")"
   ]
  },
  {
   "cell_type": "code",
   "execution_count": null,
   "metadata": {},
   "outputs": [],
   "source": [
    "changes = []\n",
    "tot_rem = 0\n",
    "for rem in num_rem:\n",
    "    tot_rem += rem\n",
    "    changes.append(tot_rem)\n",
    "colors = [\"black\", \"blue\", \"red\", \"green\"]"
   ]
  },
  {
   "cell_type": "code",
   "execution_count": null,
   "metadata": {},
   "outputs": [],
   "source": [
    "plt.plot(acc_ev)\n",
    "plt.title(\"Evolution of accuracy as nodes are removed\", size=28)\n",
    "plt.ylabel(\"Accuracy\", size=20)\n",
    "plt.yticks(fontsize=20)\n",
    "plt.grid(True)\n",
    "num_layers = len(changes)\n",
    "for i, pos in enumerate(changes[:-1]):\n",
    "    plt.axvline(x=pos, label=f\"Layer {num_layers-i} -> Layer {num_layers-(i+1)}\", color=colors[i])\n",
    "plt.legend(fontsize=20)\n",
    "plt.savefig(\"../../../figures/ev_acc_MLP_greed_pru_fmnist.png\")"
   ]
  },
  {
   "cell_type": "code",
   "execution_count": null,
   "metadata": {},
   "outputs": [],
   "source": [
    "plt.plot(loss_ev)\n",
    "plt.title(\"Evolution of loss as nodes are removed\", size=28)\n",
    "plt.ylabel(\"Loss\", size=20)\n",
    "plt.yticks(fontsize=20)\n",
    "plt.grid(True)\n",
    "num_layers = len(changes)\n",
    "for i, pos in enumerate(changes[:-1]):\n",
    "    plt.axvline(x=pos, label=f\"Layer {num_layers-i} -> Layer {num_layers-(i+1)}\", color=colors[i])\n",
    "plt.legend(fontsize=20)\n",
    "plt.savefig(\"../../../figures/ev_loss_MLP_greed_pru_fmnist.png\")"
   ]
  },
  {
   "cell_type": "code",
   "execution_count": null,
   "metadata": {},
   "outputs": [],
   "source": []
  },
  {
   "cell_type": "markdown",
   "metadata": {},
   "source": [
    "## Convolutional Neural Network"
   ]
  },
  {
   "cell_type": "markdown",
   "metadata": {},
   "source": [
    "### MNIST"
   ]
  },
  {
   "cell_type": "code",
   "execution_count": null,
   "metadata": {},
   "outputs": [],
   "source": [
    "np.random.seed(2020)"
   ]
  },
  {
   "cell_type": "code",
   "execution_count": null,
   "metadata": {},
   "outputs": [],
   "source": [
    "mnist = tf.keras.datasets.mnist\n",
    "(x_train, y_train), (x_test, y_test) = mnist.load_data()\n",
    "x_train, x_test = x_train / 255.0, x_test / 255.0  # Converting interger values to floats (0 to 1)\n",
    "x_train, x_test = x_train[..., np.newaxis], x_test[..., np.newaxis]"
   ]
  },
  {
   "cell_type": "code",
   "execution_count": null,
   "metadata": {},
   "outputs": [],
   "source": [
    "tester_model = tf.keras.models.Sequential([\n",
    "    tf.keras.layers.Conv2D(32, 3, padding='same', activation='relu', input_shape=(28, 28, 1)),\n",
    "    tf.keras.layers.MaxPool2D(),\n",
    "    tf.keras.layers.Conv2D(64, 3, padding='same', activation='relu'),\n",
    "    tf.keras.layers.MaxPool2D(),\n",
    "    tf.keras.layers.Conv2D(128, 3, padding='same', activation='relu'),\n",
    "    tf.keras.layers.MaxPool2D(),\n",
    "    tf.keras.layers.Conv2D(256, 3, padding='same', activation='relu'),\n",
    "    tf.keras.layers.Flatten(),\n",
    "    tf.keras.layers.Dense(64, activation='relu'),\n",
    "    tf.keras.layers.Dense(10, activation='softmax')\n",
    "])\n",
    "tester_model.compile(\n",
    "    optimizer='adam',\n",
    "    loss='sparse_categorical_crossentropy',\n",
    "    metrics=['accuracy']\n",
    ")"
   ]
  },
  {
   "cell_type": "code",
   "execution_count": null,
   "metadata": {},
   "outputs": [],
   "source": [
    "x_train, x_val, y_train, y_val = train_test_split(x_train, y_train, train_size=0.85, stratify=None)"
   ]
  },
  {
   "cell_type": "code",
   "execution_count": null,
   "metadata": {},
   "outputs": [],
   "source": [
    "trials = 5\n",
    "tol = -1e-5\n",
    "layer_sizes = [64, 256, 128, 64, 32]\n",
    "num_rem_ex = []\n",
    "num_rem_greed = []\n",
    "num_rem_greed2 = []\n",
    "delta_accs_ex = []\n",
    "delta_losses_ex = []\n",
    "delta_accs_greed = []\n",
    "delta_losses_greed = []\n",
    "delta_accs_greed2 = []\n",
    "delta_losses_greed2 = []\n",
    "diff_accs = []\n",
    "diff_losses = []\n",
    "diff_rem = []\n",
    "diff_rem2 = []\n",
    "diff_accs2 = []\n",
    "diff_losses2 = []\n",
    "time_ex = []\n",
    "time_greed = []\n",
    "time_greed2 = []\n",
    "\n",
    "for trial in tqdm.trange(trials):\n",
    "    model = tf.keras.models.Sequential([\n",
    "        tf.keras.layers.Conv2D(32, 3, padding='same', activation='relu', input_shape=(28, 28, 1)),\n",
    "        tf.keras.layers.MaxPool2D(),\n",
    "        tf.keras.layers.Conv2D(64, 3, padding='same', activation='relu'),\n",
    "        tf.keras.layers.MaxPool2D(),\n",
    "        tf.keras.layers.Conv2D(128, 3, padding='same', activation='relu'),\n",
    "        tf.keras.layers.MaxPool2D(),\n",
    "        tf.keras.layers.Conv2D(256, 3, padding='same', activation='relu'),\n",
    "        tf.keras.layers.Flatten(),\n",
    "        tf.keras.layers.Dense(64, activation='relu'),\n",
    "        tf.keras.layers.Dense(10, activation='softmax')\n",
    "    ])\n",
    "    model.compile(\n",
    "        optimizer='adam',\n",
    "        loss='sparse_categorical_crossentropy',\n",
    "        metrics=['accuracy']\n",
    "    )\n",
    "    \n",
    "    model.fit(x_train, y_train, epochs=5, verbose=0)\n",
    "    l, a = model.evaluate(x_test, y_test, verbose=0)\n",
    "    \n",
    "    ig_cut = None\n",
    "    \n",
    "    start = time.time()\n",
    "    shrinked_weights, _, _, tmp_a, _ = node_pruning(model, tester_model, x_val, y_val, layer_sizes, tol, ig_cut)\n",
    "    end = time.time()\n",
    "    num_rem_ex += [tmp_a]\n",
    "    tester_model.set_weights(shrinked_weights)\n",
    "    nl, na = tester_model.evaluate(x_test, y_test, verbose=0)\n",
    "    delta_accs_ex += [na - a]\n",
    "    delta_losses_ex += [nl - l]\n",
    "    time_ex += [end - start]\n",
    "    \n",
    "    ig_cut = -1e-2\n",
    "    \n",
    "    start = time.time()\n",
    "    shrinked_weights, _, _, tmp_a, _ = node_pruning(model, tester_model, x_val, y_val, layer_sizes, tol, ig_cut, method='greedy')\n",
    "    end = time.time()\n",
    "    num_rem_greed += [tmp_a]\n",
    "    tester_model.set_weights(shrinked_weights)\n",
    "    nl, na = tester_model.evaluate(x_test, y_test, verbose=0)\n",
    "    delta_accs_greed += [na - a]\n",
    "    delta_losses_greed += [nl - l]\n",
    "    time_greed += [end - start]\n",
    "    \n",
    "    ig_cut = -1e-3\n",
    "    \n",
    "    start = time.time()\n",
    "    shrinked_weights, _, _, tmp_a, _ = node_pruning(model, tester_model, x_val, y_val, layer_sizes, tol, ig_cut, method='greedy')\n",
    "    end = time.time()\n",
    "    num_rem_greed2 += [tmp_a]\n",
    "    tester_model.set_weights(shrinked_weights)\n",
    "    nl, na = tester_model.evaluate(x_test, y_test, verbose=0)\n",
    "    delta_accs_greed2 += [na - a]\n",
    "    delta_losses_greed2 += [nl - l]\n",
    "    time_greed2 += [end - start]\n",
    "    \n",
    "    diff_accs += [delta_accs_ex[trial] - delta_accs_greed[trial]]\n",
    "    diff_accs2 += [delta_accs_ex[trial] - delta_accs_greed2[trial]]\n",
    "    diff_losses += [delta_losses_ex[trial] - delta_losses_greed[trial]]\n",
    "    diff_losses2 += [delta_losses_ex[trial] - delta_losses_greed2[trial]]\n",
    "    temp_rem = []\n",
    "    temp_rem2 = []\n",
    "    for i in range(len(layer_sizes)):   \n",
    "        temp_rem += [num_rem_greed[trial][i] - num_rem_ex[trial][i]]\n",
    "        temp_rem2 += [num_rem_greed2[trial][i] - num_rem_ex[trial][i]]\n",
    "        \n",
    "    diff_rem += [temp_rem]\n",
    "    diff_rem2 += [temp_rem2]"
   ]
  },
  {
   "cell_type": "code",
   "execution_count": null,
   "metadata": {},
   "outputs": [],
   "source": [
    "DR = pd.DataFrame(diff_rem, columns=[\"Layer 5\", \"Layer 4\", \"Layer 3\", \"Layer 2\", \"Layer 1\"])\n",
    "DR.to_csv('../../../results/num_removed_CNN_greed_ex_mnist.csv')\n",
    "DR.describe()"
   ]
  },
  {
   "cell_type": "code",
   "execution_count": null,
   "metadata": {},
   "outputs": [],
   "source": [
    "DR2 = pd.DataFrame(diff_rem2, columns=[\"Layer 5\", \"Layer 4\", \"Layer 3\", \"Layer 2\", \"Layer 1\"])\n",
    "DR2.to_csv('../../../results/num_removed_CNN_greed_ex_2_mnist.csv')\n",
    "DR2.describe()"
   ]
  },
  {
   "cell_type": "code",
   "execution_count": null,
   "metadata": {},
   "outputs": [],
   "source": [
    "A = pd.DataFrame([delta_accs_ex, delta_accs_greed, delta_accs_greed2])\n",
    "A = A.T\n",
    "A.columns = ['Exhaustive', 'Greedy (-1e-2 cutoff)', 'Greedy (-1e-3 cutoff)']\n",
    "A.to_csv('../../../results/change_accuracy_CNN_greed_ex_mnist.csv')\n",
    "A.describe()"
   ]
  },
  {
   "cell_type": "code",
   "execution_count": null,
   "metadata": {},
   "outputs": [],
   "source": [
    "L = pd.DataFrame([delta_losses_ex, delta_losses_greed, delta_losses_greed2])\n",
    "L = L.T\n",
    "L.columns = ['Exhaustive', 'Greedy (-1e-2 cutoff)', 'Greedy (-1e-3 cutoff)']\n",
    "L.to_csv('../../../results/change_loss_CNN_greed_ex_mnist.csv')\n",
    "L.describe()"
   ]
  },
  {
   "cell_type": "code",
   "execution_count": null,
   "metadata": {},
   "outputs": [],
   "source": [
    "DA = pd.Series(diff_accs)\n",
    "DA.to_csv('../../../results/diff_accuracy_CNN_greed_ex_mnist.csv')\n",
    "DA.describe()"
   ]
  },
  {
   "cell_type": "code",
   "execution_count": null,
   "metadata": {},
   "outputs": [],
   "source": [
    "DA2 = pd.Series(diff_accs2)\n",
    "DA2.to_csv('../../../results/diff_accuracy_CNN_greed_ex_2_mnist.csv')\n",
    "DA2.describe()"
   ]
  },
  {
   "cell_type": "code",
   "execution_count": null,
   "metadata": {},
   "outputs": [],
   "source": [
    "DL = pd.Series(diff_losses)\n",
    "DL.to_csv('../../../results/diff_loss_CNN_greed_ex_mnist.csv')\n",
    "DL.describe()"
   ]
  },
  {
   "cell_type": "code",
   "execution_count": null,
   "metadata": {},
   "outputs": [],
   "source": [
    "DL2 = pd.Series(diff_losses2)\n",
    "DL2.to_csv('../../../results/diff_loss_CNN_greed_ex_2_mnist.csv')\n",
    "DL2.describe()"
   ]
  },
  {
   "cell_type": "code",
   "execution_count": null,
   "metadata": {},
   "outputs": [],
   "source": [
    "Time = pd.DataFrame([time_ex, time_greed, time_greed2])\n",
    "Time = Time.T\n",
    "Time.columns = ['Exhaustive', 'Greedy (-1e-2 cutoff)', 'Greedy (-1e-3 cutoff)']\n",
    "Time.to_csv('../../../results/time_CNN_greed_ex_mnist.csv')\n",
    "Time.describe()"
   ]
  },
  {
   "cell_type": "code",
   "execution_count": null,
   "metadata": {},
   "outputs": [],
   "source": [
    "diff_rem = [sum(rem) for rem in diff_rem]"
   ]
  },
  {
   "cell_type": "code",
   "execution_count": null,
   "metadata": {},
   "outputs": [],
   "source": [
    "diff_rem2 = [sum(rem) for rem in diff_rem2]"
   ]
  },
  {
   "cell_type": "code",
   "execution_count": null,
   "metadata": {},
   "outputs": [],
   "source": [
    "plt.rcParams[\"figure.figsize\"] = (16,8)\n",
    "plt.scatter(x=diff_rem, y=diff_accs, marker='o', color='red', s=60)\n",
    "plt.title(\"Accuracy difference in Greedy (-1e-2 cutoff) versus Exhaustive pruning\", size=28)\n",
    "plt.xlabel(\"Difference in nodes removed\", size=20)\n",
    "plt.xticks(fontsize=20)\n",
    "plt.ylabel(\"Difference in Accuracy\", size=20)\n",
    "plt.yticks(fontsize=20)\n",
    "plt.grid(True)\n",
    "plt.savefig(\"../../../figures/diff_accuracy_vs_nodes_removed_CNN_greed_ex_mnist.png\")"
   ]
  },
  {
   "cell_type": "code",
   "execution_count": null,
   "metadata": {},
   "outputs": [],
   "source": [
    "plt.rcParams[\"figure.figsize\"] = (16,8)\n",
    "plt.scatter(x=diff_rem2, y=diff_accs2, marker='o', color='red', s=60)\n",
    "plt.title(\"Accuracy difference in Greedy (-1e-3 cutoff) versus Exhaustive pruning\", size=28)\n",
    "plt.xlabel(\"Difference in nodes removed\", size=20)\n",
    "plt.xticks(fontsize=20)\n",
    "plt.ylabel(\"Difference in Accuracy\", size=20)\n",
    "plt.yticks(fontsize=20)\n",
    "plt.grid(True)\n",
    "plt.savefig(\"../../../figures/diff_accuracy_vs_nodes_removed_CNN_greed_ex_2_mnist.png\")"
   ]
  },
  {
   "cell_type": "code",
   "execution_count": null,
   "metadata": {},
   "outputs": [],
   "source": [
    "plt.scatter(x=diff_rem, y=diff_losses, marker='o', color='red', s=60)\n",
    "plt.title(\"Loss difference in Greedy (-1e-2 cutoff) versus Exhaustive pruning\", size=28)\n",
    "plt.xlabel(\"Difference in nodes removed\", size=20)\n",
    "plt.xticks(fontsize=20)\n",
    "plt.ylabel(\"Difference in Loss\", size=20)\n",
    "plt.yticks(fontsize=20)\n",
    "plt.grid(True)\n",
    "plt.savefig(\"../../../figures/diff_loss_vs_nodes_removed_CNN_greed_ex_mnist.png\")"
   ]
  },
  {
   "cell_type": "code",
   "execution_count": null,
   "metadata": {},
   "outputs": [],
   "source": [
    "plt.scatter(x=diff_rem2, y=diff_losses2, marker='o', color='red', s=60)\n",
    "plt.title(\"Loss difference in Greedy (-1e-3 cutoff) versus Exhaustive pruning\", size=28)\n",
    "plt.xlabel(\"Difference in nodes removed\", size=20)\n",
    "plt.xticks(fontsize=20)\n",
    "plt.ylabel(\"Difference in Loss\", size=20)\n",
    "plt.yticks(fontsize=20)\n",
    "plt.grid(True)\n",
    "plt.savefig(\"../../../figures/diff_loss_vs_nodes_removed_CNN_greed_ex_2_mnist.png\")"
   ]
  },
  {
   "cell_type": "code",
   "execution_count": null,
   "metadata": {},
   "outputs": [],
   "source": [
    "tol = -1e-5\n",
    "ig_cut = -1e-3\n",
    "layer_sizes = [64, 256, 128, 64, 32]\n",
    "model = tf.keras.models.Sequential([\n",
    "    tf.keras.layers.Conv2D(32, 3, padding='same', activation='relu', input_shape=(28, 28, 1)),\n",
    "    tf.keras.layers.MaxPool2D(),\n",
    "    tf.keras.layers.Conv2D(64, 3, padding='same', activation='relu'),\n",
    "    tf.keras.layers.MaxPool2D(),\n",
    "    tf.keras.layers.Conv2D(128, 3, padding='same', activation='relu'),\n",
    "    tf.keras.layers.MaxPool2D(),\n",
    "    tf.keras.layers.Conv2D(256, 3, padding='same', activation='relu'),\n",
    "    tf.keras.layers.Flatten(),\n",
    "    tf.keras.layers.Dense(64, activation='relu'),\n",
    "    tf.keras.layers.Dense(10, activation='softmax')\n",
    "])\n",
    "model.compile(\n",
    "    optimizer='adam',\n",
    "    loss='sparse_categorical_crossentropy',\n",
    "    metrics=['accuracy']\n",
    ")\n",
    "\n",
    "model.fit(x_train, y_train, epochs=5, verbose=0)\n",
    "shrinked_weights, acc_ev, loss_ev, num_rem, _ = node_pruning(model, tester_model, x_val, y_val, layer_sizes, tol, ig_cut, method='greedy')\n",
    "l, a = model.evaluate(x_test, y_test, verbose=0)\n",
    "tester_model.set_weights(shrinked_weights)\n",
    "nl, na = tester_model.evaluate(x_test, y_test, verbose=0)"
   ]
  },
  {
   "cell_type": "code",
   "execution_count": null,
   "metadata": {},
   "outputs": [],
   "source": [
    "print(f\"Original loss: {l}, New loss: {nl}\")\n",
    "print(f\"Original accuracy: {a}, New accuracy: {na}\")\n",
    "print(f\"Number of nodes removed: {num_rem}\")"
   ]
  },
  {
   "cell_type": "code",
   "execution_count": null,
   "metadata": {},
   "outputs": [],
   "source": [
    "changes = []\n",
    "tot_rem = 0\n",
    "for rem in num_rem:\n",
    "    tot_rem += rem\n",
    "    changes.append(tot_rem)\n",
    "colors = [\"black\", \"blue\", \"red\", \"green\"]"
   ]
  },
  {
   "cell_type": "code",
   "execution_count": null,
   "metadata": {},
   "outputs": [],
   "source": [
    "plt.plot(acc_ev)\n",
    "plt.title(\"Evolution of accuracy as nodes are removed\", size=28)\n",
    "plt.ylabel(\"Accuracy\", size=20)\n",
    "plt.yticks(fontsize=20)\n",
    "plt.grid(True)\n",
    "num_layers = len(changes)\n",
    "for i, pos in enumerate(changes[:-1]):\n",
    "    plt.axvline(x=pos, label=f\"Layer {num_layers-i} -> Layer {num_layers-(i+1)}\", color=colors[i])\n",
    "plt.legend(fontsize=20)\n",
    "plt.savefig(\"../../../figures/ev_acc_CNN_greed_pru_mnist.png\")"
   ]
  },
  {
   "cell_type": "code",
   "execution_count": null,
   "metadata": {},
   "outputs": [],
   "source": [
    "plt.plot(loss_ev)\n",
    "plt.title(\"Evolution of loss as nodes are removed\", size=28)\n",
    "plt.ylabel(\"Loss\", size=20)\n",
    "plt.yticks(fontsize=20)\n",
    "plt.grid(True)\n",
    "num_layers = len(changes)\n",
    "for i, pos in enumerate(changes[:-1]):\n",
    "    plt.axvline(x=pos, label=f\"Layer {num_layers-i} -> Layer {num_layers-(i+1)}\", color=colors[i])\n",
    "plt.legend(fontsize=20)\n",
    "plt.savefig(\"../../../figures/ev_loss_CNN_greed_pru_mnist.png\")"
   ]
  },
  {
   "cell_type": "markdown",
   "metadata": {},
   "source": [
    "### Fashion MNIST"
   ]
  },
  {
   "cell_type": "code",
   "execution_count": null,
   "metadata": {},
   "outputs": [],
   "source": [
    "np.random.seed(2020)"
   ]
  },
  {
   "cell_type": "code",
   "execution_count": null,
   "metadata": {},
   "outputs": [],
   "source": [
    "fmnist = tf.keras.datasets.fashion_mnist\n",
    "(x_train, y_train), (x_test, y_test) = fmnist.load_data()\n",
    "x_train, x_test = x_train / 255.0, x_test / 255.0  # Converting interger values to floats (0 to 1)\n",
    "x_train, x_test = x_train[..., np.newaxis], x_test[..., np.newaxis]"
   ]
  },
  {
   "cell_type": "code",
   "execution_count": null,
   "metadata": {},
   "outputs": [],
   "source": [
    "tester_model = tf.keras.models.Sequential([\n",
    "    tf.keras.layers.Conv2D(32, 3, padding='same', activation='relu', input_shape=(28, 28, 1)),\n",
    "    tf.keras.layers.MaxPool2D(),\n",
    "    tf.keras.layers.Conv2D(64, 3, padding='same', activation='relu'),\n",
    "    tf.keras.layers.MaxPool2D(),\n",
    "    tf.keras.layers.Conv2D(128, 3, padding='same', activation='relu'),\n",
    "    tf.keras.layers.MaxPool2D(),\n",
    "    tf.keras.layers.Conv2D(256, 3, padding='same', activation='relu'),\n",
    "    tf.keras.layers.Flatten(),\n",
    "    tf.keras.layers.Dense(64, activation='relu'),\n",
    "    tf.keras.layers.Dense(10, activation='softmax')\n",
    "])\n",
    "tester_model.compile(\n",
    "    optimizer='adam',\n",
    "    loss='sparse_categorical_crossentropy',\n",
    "    metrics=['accuracy']\n",
    ")"
   ]
  },
  {
   "cell_type": "code",
   "execution_count": null,
   "metadata": {},
   "outputs": [],
   "source": [
    "x_train, x_val, y_train, y_val = train_test_split(x_train, y_train, train_size=0.85, stratify=None)"
   ]
  },
  {
   "cell_type": "code",
   "execution_count": null,
   "metadata": {},
   "outputs": [],
   "source": [
    "trials = 5\n",
    "tol = -1e-5\n",
    "layer_sizes = [64, 256, 128, 64, 32]\n",
    "num_rem_ex = []\n",
    "num_rem_greed = []\n",
    "num_rem_greed2 = []\n",
    "delta_accs_ex = []\n",
    "delta_losses_ex = []\n",
    "delta_accs_greed = []\n",
    "delta_losses_greed = []\n",
    "delta_accs_greed2 = []\n",
    "delta_losses_greed2 = []\n",
    "diff_accs = []\n",
    "diff_losses = []\n",
    "diff_rem = []\n",
    "diff_rem2 = []\n",
    "diff_accs2 = []\n",
    "diff_losses2 = []\n",
    "time_ex = []\n",
    "time_greed = []\n",
    "time_greed2 = []\n",
    "\n",
    "for trial in tqdm.trange(trials):\n",
    "    model = tf.keras.models.Sequential([\n",
    "        tf.keras.layers.Conv2D(32, 3, padding='same', activation='relu', input_shape=(28, 28, 1)),\n",
    "        tf.keras.layers.MaxPool2D(),\n",
    "        tf.keras.layers.Conv2D(64, 3, padding='same', activation='relu'),\n",
    "        tf.keras.layers.MaxPool2D(),\n",
    "        tf.keras.layers.Conv2D(128, 3, padding='same', activation='relu'),\n",
    "        tf.keras.layers.MaxPool2D(),\n",
    "        tf.keras.layers.Conv2D(256, 3, padding='same', activation='relu'),\n",
    "        tf.keras.layers.Flatten(),\n",
    "        tf.keras.layers.Dense(64, activation='relu'),\n",
    "        tf.keras.layers.Dense(10, activation='softmax')\n",
    "    ])\n",
    "    model.compile(\n",
    "        optimizer='adam',\n",
    "        loss='sparse_categorical_crossentropy',\n",
    "        metrics=['accuracy']\n",
    "    )\n",
    "    \n",
    "    model.fit(x_train, y_train, epochs=5, verbose=0)\n",
    "    l, a = model.evaluate(x_test, y_test, verbose=0)\n",
    "    \n",
    "    ig_cut = None\n",
    "    \n",
    "    start = time.time()\n",
    "    shrinked_weights, _, _, tmp_a, _ = node_pruning(model, tester_model, x_val, y_val, layer_sizes, tol, ig_cut)\n",
    "    end = time.time()\n",
    "    num_rem_ex += [tmp_a]\n",
    "    tester_model.set_weights(shrinked_weights)\n",
    "    nl, na = tester_model.evaluate(x_test, y_test, verbose=0)\n",
    "    delta_accs_ex += [na - a]\n",
    "    delta_losses_ex += [nl - l]\n",
    "    time_ex += [end - start]\n",
    "    \n",
    "    ig_cut = -1e-2\n",
    "    \n",
    "    start = time.time()\n",
    "    shrinked_weights, _, _, tmp_a, _ = node_pruning(model, tester_model, x_val, y_val, layer_sizes, tol, ig_cut, method='greedy')\n",
    "    end = time.time()\n",
    "    num_rem_greed += [tmp_a]\n",
    "    tester_model.set_weights(shrinked_weights)\n",
    "    nl, na = tester_model.evaluate(x_test, y_test, verbose=0)\n",
    "    delta_accs_greed += [na - a]\n",
    "    delta_losses_greed += [nl - l]\n",
    "    time_greed += [end - start]\n",
    "    \n",
    "    ig_cut = -1e-3\n",
    "    \n",
    "    start = time.time()\n",
    "    shrinked_weights, _, _, tmp_a, _ = node_pruning(model, tester_model, x_val, y_val, layer_sizes, tol, ig_cut, method='greedy')\n",
    "    end = time.time()\n",
    "    num_rem_greed2 += [tmp_a]\n",
    "    tester_model.set_weights(shrinked_weights)\n",
    "    nl, na = tester_model.evaluate(x_test, y_test, verbose=0)\n",
    "    delta_accs_greed2 += [na - a]\n",
    "    delta_losses_greed2 += [nl - l]\n",
    "    time_greed2 += [end - start]\n",
    "    \n",
    "    diff_accs += [delta_accs_ex[trial] - delta_accs_greed[trial]]\n",
    "    diff_accs2 += [delta_accs_ex[trial] - delta_accs_greed2[trial]]\n",
    "    diff_losses += [delta_losses_ex[trial] - delta_losses_greed[trial]]\n",
    "    diff_losses2 += [delta_losses_ex[trial] - delta_losses_greed2[trial]]\n",
    "    temp_rem = []\n",
    "    temp_rem2 = []\n",
    "    for i in range(len(layer_sizes)):   \n",
    "        temp_rem += [num_rem_greed[trial][i] - num_rem_ex[trial][i]]\n",
    "        temp_rem2 += [num_rem_greed2[trial][i] - num_rem_ex[trial][i]]\n",
    "        \n",
    "    diff_rem += [temp_rem]\n",
    "    diff_rem2 += [temp_rem2]"
   ]
  },
  {
   "cell_type": "code",
   "execution_count": null,
   "metadata": {},
   "outputs": [],
   "source": [
    "DR = pd.DataFrame(diff_rem, columns=[\"Layer 5\", \"Layer 4\", \"Layer 3\", \"Layer 2\", \"Layer 1\"])\n",
    "DR.to_csv('../../../results/num_removed_CNN_greed_ex_fmnist.csv')\n",
    "DR.describe()"
   ]
  },
  {
   "cell_type": "code",
   "execution_count": null,
   "metadata": {},
   "outputs": [],
   "source": [
    "DR2 = pd.DataFrame(diff_rem2, columns=[\"Layer 5\", \"Layer 4\", \"Layer 3\", \"Layer 2\", \"Layer 1\"])\n",
    "DR2.to_csv('../../../results/num_removed_CNN_greed_ex_2_fmnist.csv')\n",
    "DR2.describe()"
   ]
  },
  {
   "cell_type": "code",
   "execution_count": null,
   "metadata": {},
   "outputs": [],
   "source": [
    "A = pd.DataFrame([delta_accs_ex, delta_accs_greed, delta_accs_greed2])\n",
    "A = A.T\n",
    "A.columns = ['Exhaustive', 'Greedy (-1e-2 cutoff)', 'Greedy (-1e-3 cutoff)']\n",
    "A.to_csv('../../../results/change_accuracy_CNN_greed_ex_fmnist.csv')\n",
    "A.describe()"
   ]
  },
  {
   "cell_type": "code",
   "execution_count": null,
   "metadata": {},
   "outputs": [],
   "source": [
    "L = pd.DataFrame([delta_losses_ex, delta_losses_greed, delta_losses_greed2])\n",
    "L = L.T\n",
    "L.columns = ['Exhaustive', 'Greedy (-1e-2 cutoff)', 'Greedy (-1e-3 cutoff)']\n",
    "L.to_csv('../../../results/change_loss_CNN_greed_ex_fmnist.csv')\n",
    "L.describe()"
   ]
  },
  {
   "cell_type": "code",
   "execution_count": null,
   "metadata": {},
   "outputs": [],
   "source": [
    "DA = pd.Series(diff_accs)\n",
    "DA.to_csv('../../../results/diff_accuracy_CNN_greed_ex_fmnist.csv')\n",
    "DA.describe()"
   ]
  },
  {
   "cell_type": "code",
   "execution_count": null,
   "metadata": {},
   "outputs": [],
   "source": [
    "DA2 = pd.Series(diff_accs2)\n",
    "DA2.to_csv('../../../results/diff_accuracy_CNN_greed_ex_2_fmnist.csv')\n",
    "DA2.describe()"
   ]
  },
  {
   "cell_type": "code",
   "execution_count": null,
   "metadata": {},
   "outputs": [],
   "source": [
    "DL = pd.Series(diff_losses)\n",
    "DL.to_csv('../../../results/diff_loss_CNN_greed_ex_fmnist.csv')\n",
    "DL.describe()"
   ]
  },
  {
   "cell_type": "code",
   "execution_count": null,
   "metadata": {},
   "outputs": [],
   "source": [
    "DL2 = pd.Series(diff_losses2)\n",
    "DL2.to_csv('../../../results/diff_loss_CNN_greed_ex_2_fmnist.csv')\n",
    "DL2.describe()"
   ]
  },
  {
   "cell_type": "code",
   "execution_count": null,
   "metadata": {},
   "outputs": [],
   "source": [
    "Time = pd.DataFrame([time_ex, time_greed, time_greed2])\n",
    "Time = Time.T\n",
    "Time.columns = ['Exhaustive', 'Greedy (-1e-2 cutoff)', 'Greedy (-1e-3 cutoff)']\n",
    "Time.to_csv('../../../results/time_CNN_greed_ex_fmnist.csv')\n",
    "Time.describe()"
   ]
  },
  {
   "cell_type": "code",
   "execution_count": null,
   "metadata": {},
   "outputs": [],
   "source": [
    "diff_rem = [sum(rem) for rem in diff_rem]"
   ]
  },
  {
   "cell_type": "code",
   "execution_count": null,
   "metadata": {},
   "outputs": [],
   "source": [
    "diff_rem2 = [sum(rem) for rem in diff_rem2]"
   ]
  },
  {
   "cell_type": "code",
   "execution_count": null,
   "metadata": {},
   "outputs": [],
   "source": [
    "plt.rcParams[\"figure.figsize\"] = (16,8)\n",
    "plt.scatter(x=diff_rem, y=diff_accs, marker='o', color='red', s=60)\n",
    "plt.title(\"Accuracy difference in Greedy (-1e-2 cutoff) versus Exhaustive pruning\", size=28)\n",
    "plt.xlabel(\"Difference in nodes removed\", size=20)\n",
    "plt.xticks(fontsize=20)\n",
    "plt.ylabel(\"Difference in Accuracy\", size=20)\n",
    "plt.yticks(fontsize=20)\n",
    "plt.grid(True)\n",
    "plt.savefig(\"../../../figures/diff_accuracy_vs_nodes_removed_CNN_greed_ex_fmnist.png\")"
   ]
  },
  {
   "cell_type": "code",
   "execution_count": null,
   "metadata": {},
   "outputs": [],
   "source": [
    "plt.rcParams[\"figure.figsize\"] = (16,8)\n",
    "plt.scatter(x=diff_rem2, y=diff_accs2, marker='o', color='red', s=60)\n",
    "plt.title(\"Accuracy difference in Greedy (-1e-3 cutoff) versus Exhaustive pruning\", size=28)\n",
    "plt.xlabel(\"Difference in nodes removed\", size=20)\n",
    "plt.xticks(fontsize=20)\n",
    "plt.ylabel(\"Difference in Accuracy\", size=20)\n",
    "plt.yticks(fontsize=20)\n",
    "plt.grid(True)\n",
    "plt.savefig(\"../../../figures/diff_accuracy_vs_nodes_removed_CNN_greed_ex_2_fmnist.png\")"
   ]
  },
  {
   "cell_type": "code",
   "execution_count": null,
   "metadata": {},
   "outputs": [],
   "source": [
    "plt.scatter(x=diff_rem, y=diff_losses, marker='o', color='red', s=60)\n",
    "plt.title(\"Loss difference in Greedy (-1e-2 cutoff) versus Exhaustive pruning\", size=28)\n",
    "plt.xlabel(\"Difference in nodes removed\", size=20)\n",
    "plt.xticks(fontsize=20)\n",
    "plt.ylabel(\"Difference in Loss\", size=20)\n",
    "plt.yticks(fontsize=20)\n",
    "plt.grid(True)\n",
    "plt.savefig(\"../../../figures/diff_loss_vs_nodes_removed_CNN_greed_ex_fmnist.png\")"
   ]
  },
  {
   "cell_type": "code",
   "execution_count": null,
   "metadata": {},
   "outputs": [],
   "source": [
    "plt.scatter(x=diff_rem2, y=diff_losses2, marker='o', color='red', s=60)\n",
    "plt.title(\"Loss difference in Greedy (-1e-3 cutoff) versus Exhaustive pruning\", size=28)\n",
    "plt.xlabel(\"Difference in nodes removed\", size=20)\n",
    "plt.xticks(fontsize=20)\n",
    "plt.ylabel(\"Difference in Loss\", size=20)\n",
    "plt.yticks(fontsize=20)\n",
    "plt.grid(True)\n",
    "plt.savefig(\"../../../figures/diff_loss_vs_nodes_removed_CNN_greed_ex_2_fmnist.png\")"
   ]
  },
  {
   "cell_type": "code",
   "execution_count": null,
   "metadata": {},
   "outputs": [],
   "source": [
    "tol = -1e-5\n",
    "ig_cut = -1e-3\n",
    "layer_sizes = [64, 256, 128, 64, 32]\n",
    "model = tf.keras.models.Sequential([\n",
    "    tf.keras.layers.Conv2D(32, 3, padding='same', activation='relu', input_shape=(28, 28, 1)),\n",
    "    tf.keras.layers.MaxPool2D(),\n",
    "    tf.keras.layers.Conv2D(64, 3, padding='same', activation='relu'),\n",
    "    tf.keras.layers.MaxPool2D(),\n",
    "    tf.keras.layers.Conv2D(128, 3, padding='same', activation='relu'),\n",
    "    tf.keras.layers.MaxPool2D(),\n",
    "    tf.keras.layers.Conv2D(256, 3, padding='same', activation='relu'),\n",
    "    tf.keras.layers.Flatten(),\n",
    "    tf.keras.layers.Dense(64, activation='relu'),\n",
    "    tf.keras.layers.Dense(10, activation='softmax')\n",
    "])\n",
    "model.compile(\n",
    "    optimizer='adam',\n",
    "    loss='sparse_categorical_crossentropy',\n",
    "    metrics=['accuracy']\n",
    ")\n",
    "\n",
    "model.fit(x_train, y_train, epochs=5, verbose=0)\n",
    "shrinked_weights, acc_ev, loss_ev, num_rem, _ = node_pruning(model, tester_model, x_val, y_val, layer_sizes, tol, ig_cut, method='greedy')\n",
    "l, a = model.evaluate(x_test, y_test, verbose=0)\n",
    "tester_model.set_weights(shrinked_weights)\n",
    "nl, na = tester_model.evaluate(x_test, y_test, verbose=0)"
   ]
  },
  {
   "cell_type": "code",
   "execution_count": null,
   "metadata": {},
   "outputs": [],
   "source": [
    "print(f\"Original loss: {l}, New loss: {nl}\")\n",
    "print(f\"Original accuracy: {a}, New accuracy: {na}\")\n",
    "print(f\"Number of nodes removed: {num_rem}\")"
   ]
  },
  {
   "cell_type": "code",
   "execution_count": null,
   "metadata": {},
   "outputs": [],
   "source": [
    "changes = []\n",
    "tot_rem = 0\n",
    "for rem in num_rem:\n",
    "    tot_rem += rem\n",
    "    changes.append(tot_rem)\n",
    "colors = [\"black\", \"blue\", \"red\", \"green\"]"
   ]
  },
  {
   "cell_type": "code",
   "execution_count": null,
   "metadata": {},
   "outputs": [],
   "source": [
    "plt.plot(acc_ev)\n",
    "plt.title(\"Evolution of accuracy as nodes are removed\", size=28)\n",
    "plt.ylabel(\"Accuracy\", size=20)\n",
    "plt.yticks(fontsize=20)\n",
    "plt.grid(True)\n",
    "num_layers = len(changes)\n",
    "for i, pos in enumerate(changes[:-1]):\n",
    "    plt.axvline(x=pos, label=f\"Layer {num_layers-i} -> Layer {num_layers-(i+1)}\", color=colors[i])\n",
    "plt.legend(fontsize=20)\n",
    "plt.savefig(\"../../../figures/ev_acc_CNN_greed_pru_fmnist.png\")"
   ]
  },
  {
   "cell_type": "code",
   "execution_count": null,
   "metadata": {},
   "outputs": [],
   "source": [
    "plt.plot(loss_ev)\n",
    "plt.title(\"Evolution of loss as nodes are removed\", size=28)\n",
    "plt.ylabel(\"Loss\", size=20)\n",
    "plt.yticks(fontsize=20)\n",
    "plt.grid(True)\n",
    "num_layers = len(changes)\n",
    "for i, pos in enumerate(changes[:-1]):\n",
    "    plt.axvline(x=pos, label=f\"Layer {num_layers-i} -> Layer {num_layers-(i+1)}\", color=colors[i])\n",
    "plt.legend(fontsize=20)\n",
    "plt.savefig(\"../../../figures/ev_loss_CNN_greed_pru_fmnist.png\")"
   ]
  },
  {
   "cell_type": "markdown",
   "metadata": {},
   "source": [
    "### CIFAR10"
   ]
  },
  {
   "cell_type": "code",
   "execution_count": null,
   "metadata": {},
   "outputs": [],
   "source": [
    "np.random.seed(2020)"
   ]
  },
  {
   "cell_type": "code",
   "execution_count": null,
   "metadata": {},
   "outputs": [],
   "source": [
    "cifar = tf.keras.datasets.cifar10\n",
    "(x_train, y_train), (x_test, y_test) = cifar.load_data()\n",
    "x_train, x_test = x_train / 255.0, x_test / 255.0  # Converting interger values to floats (0 to 1)"
   ]
  },
  {
   "cell_type": "code",
   "execution_count": null,
   "metadata": {},
   "outputs": [],
   "source": [
    "tester_model = tf.keras.models.Sequential([\n",
    "    tf.keras.layers.Conv2D(32, 3, padding='same', activation='relu', input_shape=(32, 32, 3)),\n",
    "    tf.keras.layers.MaxPool2D(),\n",
    "    tf.keras.layers.Conv2D(64, 3, padding='same', activation='relu'),\n",
    "    tf.keras.layers.MaxPool2D(),\n",
    "    tf.keras.layers.Conv2D(128, 3, padding='same', activation='relu'),\n",
    "    tf.keras.layers.MaxPool2D(),\n",
    "    tf.keras.layers.Conv2D(256, 3, padding='same', activation='relu'),\n",
    "    tf.keras.layers.Flatten(),\n",
    "    tf.keras.layers.Dense(64, activation='relu'),\n",
    "    tf.keras.layers.Dense(10, activation='softmax')\n",
    "])\n",
    "tester_model.compile(\n",
    "    optimizer='adam',\n",
    "    loss='sparse_categorical_crossentropy',\n",
    "    metrics=['accuracy']\n",
    ")"
   ]
  },
  {
   "cell_type": "code",
   "execution_count": null,
   "metadata": {},
   "outputs": [],
   "source": [
    "x_train, x_val, y_train, y_val = train_test_split(x_train, y_train, train_size=0.85, stratify=None)"
   ]
  },
  {
   "cell_type": "code",
   "execution_count": null,
   "metadata": {},
   "outputs": [],
   "source": [
    "trials = 5\n",
    "tol = -1e-5\n",
    "layer_sizes = [64, 256, 128, 64, 32]\n",
    "num_rem_ex = []\n",
    "num_rem_greed = []\n",
    "num_rem_greed2 = []\n",
    "delta_accs_ex = []\n",
    "delta_losses_ex = []\n",
    "delta_accs_greed = []\n",
    "delta_losses_greed = []\n",
    "delta_accs_greed2 = []\n",
    "delta_losses_greed2 = []\n",
    "diff_accs = []\n",
    "diff_losses = []\n",
    "diff_rem = []\n",
    "diff_rem2 = []\n",
    "diff_accs2 = []\n",
    "diff_losses2 = []\n",
    "time_ex = []\n",
    "time_greed = []\n",
    "time_greed2 = []\n",
    "\n",
    "for trial in tqdm.trange(trials):\n",
    "    model = tf.keras.models.Sequential([\n",
    "        tf.keras.layers.Conv2D(32, 3, padding='same', activation='relu', input_shape=(32, 32, 3)),\n",
    "        tf.keras.layers.MaxPool2D(),\n",
    "        tf.keras.layers.Conv2D(64, 3, padding='same', activation='relu'),\n",
    "        tf.keras.layers.MaxPool2D(),\n",
    "        tf.keras.layers.Conv2D(128, 3, padding='same', activation='relu'),\n",
    "        tf.keras.layers.MaxPool2D(),\n",
    "        tf.keras.layers.Conv2D(256, 3, padding='same', activation='relu'),\n",
    "        tf.keras.layers.Flatten(),\n",
    "        tf.keras.layers.Dense(64, activation='relu'),\n",
    "        tf.keras.layers.Dense(10, activation='softmax')\n",
    "    ])\n",
    "    model.compile(\n",
    "        optimizer='adam',\n",
    "        loss='sparse_categorical_crossentropy',\n",
    "        metrics=['accuracy']\n",
    "    )\n",
    "    \n",
    "    model.fit(x_train, y_train, epochs=5, verbose=0)\n",
    "    l, a = model.evaluate(x_test, y_test, verbose=0)\n",
    "    \n",
    "    ig_cut = None\n",
    "    \n",
    "    start = time.time()\n",
    "    shrinked_weights, _, _, tmp_a, _ = node_pruning(model, tester_model, x_val, y_val, layer_sizes, tol, ig_cut)\n",
    "    end = time.time()\n",
    "    num_rem_ex += [tmp_a]\n",
    "    tester_model.set_weights(shrinked_weights)\n",
    "    nl, na = tester_model.evaluate(x_test, y_test, verbose=0)\n",
    "    delta_accs_ex += [na - a]\n",
    "    delta_losses_ex += [nl - l]\n",
    "    time_ex += [end - start]\n",
    "    \n",
    "    ig_cut = -1e-2\n",
    "    \n",
    "    start = time.time()\n",
    "    shrinked_weights, _, _, tmp_a, _ = node_pruning(model, tester_model, x_val, y_val, layer_sizes, tol, ig_cut, method='greedy')\n",
    "    end = time.time()\n",
    "    num_rem_greed += [tmp_a]\n",
    "    tester_model.set_weights(shrinked_weights)\n",
    "    nl, na = tester_model.evaluate(x_test, y_test, verbose=0)\n",
    "    delta_accs_greed += [na - a]\n",
    "    delta_losses_greed += [nl - l]\n",
    "    time_greed += [end - start]\n",
    "    \n",
    "    ig_cut = -1e-3\n",
    "    \n",
    "    start = time.time()\n",
    "    shrinked_weights, _, _, tmp_a, _ = node_pruning(model, tester_model, x_val, y_val, layer_sizes, tol, ig_cut, method='greedy')\n",
    "    end = time.time()\n",
    "    num_rem_greed2 += [tmp_a]\n",
    "    tester_model.set_weights(shrinked_weights)\n",
    "    nl, na = tester_model.evaluate(x_test, y_test, verbose=0)\n",
    "    delta_accs_greed2 += [na - a]\n",
    "    delta_losses_greed2 += [nl - l]\n",
    "    time_greed2 += [end - start]\n",
    "    \n",
    "    diff_accs += [delta_accs_ex[trial] - delta_accs_greed[trial]]\n",
    "    diff_accs2 += [delta_accs_ex[trial] - delta_accs_greed2[trial]]\n",
    "    diff_losses += [delta_losses_ex[trial] - delta_losses_greed[trial]]\n",
    "    diff_losses2 += [delta_losses_ex[trial] - delta_losses_greed2[trial]]\n",
    "    temp_rem = []\n",
    "    temp_rem2 = []\n",
    "    for i in range(len(layer_sizes)):   \n",
    "        temp_rem += [num_rem_greed[trial][i] - num_rem_ex[trial][i]]\n",
    "        temp_rem2 += [num_rem_greed2[trial][i] - num_rem_ex[trial][i]]\n",
    "        \n",
    "    diff_rem += [temp_rem]\n",
    "    diff_rem2 += [temp_rem2]"
   ]
  },
  {
   "cell_type": "code",
   "execution_count": null,
   "metadata": {},
   "outputs": [],
   "source": [
    "DR = pd.DataFrame(diff_rem, columns=[\"Layer 5\", \"Layer 4\", \"Layer 3\", \"Layer 2\", \"Layer 1\"])\n",
    "DR.to_csv('../../../results/num_removed_CNN_greed_ex_cifar.csv')\n",
    "DR.describe()"
   ]
  },
  {
   "cell_type": "code",
   "execution_count": null,
   "metadata": {},
   "outputs": [],
   "source": [
    "DR2 = pd.DataFrame(diff_rem2, columns=[\"Layer 5\", \"Layer 4\", \"Layer 3\", \"Layer 2\", \"Layer 1\"])\n",
    "DR2.to_csv('../../../results/num_removed_CNN_greed_ex_2_cifar.csv')\n",
    "DR2.describe()"
   ]
  },
  {
   "cell_type": "code",
   "execution_count": null,
   "metadata": {},
   "outputs": [],
   "source": [
    "A = pd.DataFrame([delta_accs_ex, delta_accs_greed, delta_accs_greed2])\n",
    "A = A.T\n",
    "A.columns = ['Exhaustive', 'Greedy (-1e-2 cutoff)', 'Greedy (-1e-3 cutoff)']\n",
    "A.to_csv('../../../results/change_accuracy_CNN_greed_ex_cifar.csv')\n",
    "A.describe()"
   ]
  },
  {
   "cell_type": "code",
   "execution_count": null,
   "metadata": {},
   "outputs": [],
   "source": [
    "L = pd.DataFrame([delta_losses_ex, delta_losses_greed, delta_losses_greed2])\n",
    "L = L.T\n",
    "L.columns = ['Exhaustive', 'Greedy (-1e-2 cutoff)', 'Greedy (-1e-3 cutoff)']\n",
    "L.to_csv('../../../results/change_loss_CNN_greed_ex_cifar.csv')\n",
    "L.describe()"
   ]
  },
  {
   "cell_type": "code",
   "execution_count": null,
   "metadata": {},
   "outputs": [],
   "source": [
    "DA = pd.Series(diff_accs)\n",
    "DA.to_csv('../../../results/diff_accuracy_CNN_greed_ex_cifar.csv')\n",
    "DA.describe()"
   ]
  },
  {
   "cell_type": "code",
   "execution_count": null,
   "metadata": {},
   "outputs": [],
   "source": [
    "DA2 = pd.Series(diff_accs2)\n",
    "DA2.to_csv('../../../results/diff_accuracy_CNN_greed_ex_2_cifar.csv')\n",
    "DA2.describe()"
   ]
  },
  {
   "cell_type": "code",
   "execution_count": null,
   "metadata": {},
   "outputs": [],
   "source": [
    "DL = pd.Series(diff_losses)\n",
    "DL.to_csv('../../../results/diff_loss_CNN_greed_ex_cifar.csv')\n",
    "DL.describe()"
   ]
  },
  {
   "cell_type": "code",
   "execution_count": null,
   "metadata": {},
   "outputs": [],
   "source": [
    "DL2 = pd.Series(diff_losses2)\n",
    "DL2.to_csv('../../../results/diff_loss_CNN_greed_ex_2_cifar.csv')\n",
    "DL2.describe()"
   ]
  },
  {
   "cell_type": "code",
   "execution_count": null,
   "metadata": {},
   "outputs": [],
   "source": [
    "Time = pd.DataFrame([time_ex, time_greed, time_greed2])\n",
    "Time = Time.T\n",
    "Time.columns = ['Exhaustive', 'Greedy (-1e-2 cutoff)', 'Greedy (-1e-3 cutoff)']\n",
    "Time.to_csv('../../../results/time_CNN_greed_ex_cifar.csv')\n",
    "Time.describe()"
   ]
  },
  {
   "cell_type": "code",
   "execution_count": null,
   "metadata": {},
   "outputs": [],
   "source": [
    "diff_rem = [sum(rem) for rem in diff_rem]"
   ]
  },
  {
   "cell_type": "code",
   "execution_count": null,
   "metadata": {},
   "outputs": [],
   "source": [
    "diff_rem2 = [sum(rem) for rem in diff_rem2]"
   ]
  },
  {
   "cell_type": "code",
   "execution_count": null,
   "metadata": {},
   "outputs": [],
   "source": [
    "plt.rcParams[\"figure.figsize\"] = (16,8)\n",
    "plt.scatter(x=diff_rem, y=diff_accs, marker='o', color='red', s=60)\n",
    "plt.title(\"Accuracy difference in Greedy (-1e-2 cutoff) versus Exhaustive pruning\", size=28)\n",
    "plt.xlabel(\"Difference in nodes removed\", size=20)\n",
    "plt.xticks(fontsize=20)\n",
    "plt.ylabel(\"Difference in Accuracy\", size=20)\n",
    "plt.yticks(fontsize=20)\n",
    "plt.grid(True)\n",
    "plt.savefig(\"../../../figures/diff_accuracy_vs_nodes_removed_CNN_greed_ex_cifar.png\")"
   ]
  },
  {
   "cell_type": "code",
   "execution_count": null,
   "metadata": {},
   "outputs": [],
   "source": [
    "plt.rcParams[\"figure.figsize\"] = (16,8)\n",
    "plt.scatter(x=diff_rem2, y=diff_accs2, marker='o', color='red', s=60)\n",
    "plt.title(\"Accuracy difference in Greedy (-1e-3 cutoff) versus Exhaustive pruning\", size=28)\n",
    "plt.xlabel(\"Difference in nodes removed\", size=20)\n",
    "plt.xticks(fontsize=20)\n",
    "plt.ylabel(\"Difference in Accuracy\", size=20)\n",
    "plt.yticks(fontsize=20)\n",
    "plt.grid(True)\n",
    "plt.savefig(\"../../../figures/diff_accuracy_vs_nodes_removed_CNN_greed_ex_2_cifar.png\")"
   ]
  },
  {
   "cell_type": "code",
   "execution_count": null,
   "metadata": {},
   "outputs": [],
   "source": [
    "plt.scatter(x=diff_rem, y=diff_losses, marker='o', color='red', s=60)\n",
    "plt.title(\"Loss difference in Greedy (-1e-2 cutoff) versus Exhaustive pruning\", size=28)\n",
    "plt.xlabel(\"Difference in nodes removed\", size=20)\n",
    "plt.xticks(fontsize=20)\n",
    "plt.ylabel(\"Difference in Loss\", size=20)\n",
    "plt.yticks(fontsize=20)\n",
    "plt.grid(True)\n",
    "plt.savefig(\"../../../figures/diff_loss_vs_nodes_removed_CNN_greed_ex_cifar.png\")"
   ]
  },
  {
   "cell_type": "code",
   "execution_count": null,
   "metadata": {},
   "outputs": [],
   "source": [
    "plt.scatter(x=diff_rem2, y=diff_losses2, marker='o', color='red', s=60)\n",
    "plt.title(\"Loss difference in Greedy (-1e-3 cutoff) versus Exhaustive pruning\", size=28)\n",
    "plt.xlabel(\"Difference in nodes removed\", size=20)\n",
    "plt.xticks(fontsize=20)\n",
    "plt.ylabel(\"Difference in Loss\", size=20)\n",
    "plt.yticks(fontsize=20)\n",
    "plt.grid(True)\n",
    "plt.savefig(\"../../../figures/diff_loss_vs_nodes_removed_CNN_greed_ex_2_cifar.png\")"
   ]
  },
  {
   "cell_type": "code",
   "execution_count": null,
   "metadata": {},
   "outputs": [],
   "source": [
    "tol = -1e-5\n",
    "ig_cut = -1e-3\n",
    "layer_sizes = [64, 256, 128, 64, 32]\n",
    "model = tf.keras.models.Sequential([\n",
    "    tf.keras.layers.Conv2D(32, 3, padding='same', activation='relu', input_shape=(32, 32, 3)),\n",
    "    tf.keras.layers.MaxPool2D(),\n",
    "    tf.keras.layers.Conv2D(64, 3, padding='same', activation='relu'),\n",
    "    tf.keras.layers.MaxPool2D(),\n",
    "    tf.keras.layers.Conv2D(128, 3, padding='same', activation='relu'),\n",
    "    tf.keras.layers.MaxPool2D(),\n",
    "    tf.keras.layers.Conv2D(256, 3, padding='same', activation='relu'),\n",
    "    tf.keras.layers.Flatten(),\n",
    "    tf.keras.layers.Dense(64, activation='relu'),\n",
    "    tf.keras.layers.Dense(10, activation='softmax')\n",
    "])\n",
    "model.compile(\n",
    "    optimizer='adam',\n",
    "    loss='sparse_categorical_crossentropy',\n",
    "    metrics=['accuracy']\n",
    ")\n",
    "\n",
    "model.fit(x_train, y_train, epochs=5, verbose=0)\n",
    "shrinked_weights, acc_ev, loss_ev, num_rem, _ = node_pruning(model, tester_model, x_val, y_val, layer_sizes, tol, ig_cut, method='greedy')\n",
    "l, a = model.evaluate(x_test, y_test, verbose=0)\n",
    "tester_model.set_weights(shrinked_weights)\n",
    "nl, na = tester_model.evaluate(x_test, y_test, verbose=0)"
   ]
  },
  {
   "cell_type": "code",
   "execution_count": null,
   "metadata": {},
   "outputs": [],
   "source": [
    "print(f\"Original loss: {l}, New loss: {nl}\")\n",
    "print(f\"Original accuracy: {a}, New accuracy: {na}\")\n",
    "print(f\"Number of nodes removed: {num_rem}\")"
   ]
  },
  {
   "cell_type": "code",
   "execution_count": null,
   "metadata": {},
   "outputs": [],
   "source": [
    "changes = []\n",
    "tot_rem = 0\n",
    "for rem in num_rem:\n",
    "    tot_rem += rem\n",
    "    changes.append(tot_rem)\n",
    "colors = [\"black\", \"blue\", \"red\", \"green\"]"
   ]
  },
  {
   "cell_type": "code",
   "execution_count": null,
   "metadata": {},
   "outputs": [],
   "source": [
    "plt.plot(acc_ev)\n",
    "plt.title(\"Evolution of accuracy as nodes are removed\", size=28)\n",
    "plt.ylabel(\"Accuracy\", size=20)\n",
    "plt.yticks(fontsize=20)\n",
    "plt.grid(True)\n",
    "num_layers = len(changes)\n",
    "for i, pos in enumerate(changes[:-1]):\n",
    "    plt.axvline(x=pos, label=f\"Layer {num_layers-i} -> Layer {num_layers-(i+1)}\", color=colors[i])\n",
    "plt.legend(fontsize=20)\n",
    "plt.savefig(\"../../../figures/ev_acc_CNN_greed_pru_cifar.png\")"
   ]
  },
  {
   "cell_type": "code",
   "execution_count": null,
   "metadata": {},
   "outputs": [],
   "source": [
    "plt.plot(loss_ev)\n",
    "plt.title(\"Evolution of loss as nodes are removed\", size=28)\n",
    "plt.ylabel(\"Loss\", size=20)\n",
    "plt.yticks(fontsize=20)\n",
    "plt.grid(True)\n",
    "num_layers = len(changes)\n",
    "for i, pos in enumerate(changes[:-1]):\n",
    "    plt.axvline(x=pos, label=f\"Layer {num_layers-i} -> Layer {num_layers-(i+1)}\", color=colors[i])\n",
    "plt.legend(fontsize=20)\n",
    "plt.savefig(\"../../../figures/ev_loss_CNN_greed_pru_cifar.png\")"
   ]
  }
 ],
 "metadata": {
  "kernelspec": {
   "display_name": "Python 3",
   "language": "python",
   "name": "python3"
  },
  "language_info": {
   "codemirror_mode": {
    "name": "ipython",
    "version": 3
   },
   "file_extension": ".py",
   "mimetype": "text/x-python",
   "name": "python",
   "nbconvert_exporter": "python",
   "pygments_lexer": "ipython3",
   "version": "3.7.6"
  }
 },
 "nbformat": 4,
 "nbformat_minor": 4
}
