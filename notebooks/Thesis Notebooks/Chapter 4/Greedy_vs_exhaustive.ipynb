{
 "cells": [
  {
   "cell_type": "markdown",
   "metadata": {},
   "source": [
    "# Chapter 4.2"
   ]
  },
  {
   "cell_type": "markdown",
   "metadata": {},
   "source": [
    "## Importing Libraries"
   ]
  },
  {
   "cell_type": "code",
   "execution_count": 1,
   "metadata": {},
   "outputs": [],
   "source": [
    "from __future__ import absolute_import, division, print_function\n",
    "from __future__ import unicode_literals"
   ]
  },
  {
   "cell_type": "code",
   "execution_count": 2,
   "metadata": {},
   "outputs": [],
   "source": [
    "import tensorflow as tf\n",
    "import numpy as np\n",
    "import pandas as pd\n",
    "from sklearn.model_selection import train_test_split\n",
    "import matplotlib.pyplot as plt\n",
    "import copy\n",
    "import tqdm\n",
    "from hfunc import models\n",
    "from hfunc import metrics\n",
    "import time"
   ]
  },
  {
   "cell_type": "markdown",
   "metadata": {},
   "source": [
    "## Self-created functions"
   ]
  },
  {
   "cell_type": "code",
   "execution_count": 3,
   "metadata": {},
   "outputs": [],
   "source": [
    "def node_pruning(model, tester_model, x, y, layer_sizes, tol, ignore_cutoff, method='exhaustive'):\n",
    "\n",
    "    loss, acc = model.evaluate(x, y, verbose=0, batch_size=256)\n",
    "    original = model.get_weights()\n",
    "    weight_len = len(original) - 3\n",
    "    bas = [acc]\n",
    "    bls = [loss]\n",
    "    best_weights = model.get_weights()\n",
    "    best_acc = 0\n",
    "    best_loss = 1e20\n",
    "    ol = loss\n",
    "    oa = acc\n",
    "    amounts = []\n",
    "    places = []\n",
    "\n",
    "    for layer, size in enumerate(layer_sizes):\n",
    "        end_not_reached = True\n",
    "        num_removed = 0\n",
    "        nodes_removed = []\n",
    "        if method == 'exhaustive':\n",
    "            current_pos = 0\n",
    "            best_change = tol\n",
    "            best_pos = -1\n",
    "            improved = False\n",
    "            while end_not_reached or improved:\n",
    "                if not(end_not_reached):\n",
    "                    end_not_reached = True\n",
    "                    improved = False\n",
    "                    current_pos = 0\n",
    "                    size -= 1\n",
    "                    nodes_removed += [best_pos]\n",
    "                    best_weights[weight_len - (2*layer+1)][...,best_pos] = 0\n",
    "                    best_weights[weight_len - 2*layer][best_pos] = 0\n",
    "                    best_pos = -1\n",
    "                    ol = best_loss\n",
    "                    oa = best_acc\n",
    "                    bas += [best_acc]\n",
    "                    bls += [best_loss]\n",
    "                    best_change = tol\n",
    "                    num_removed += 1\n",
    "                if current_pos in nodes_removed:\n",
    "                    current_pos += 1\n",
    "                    if current_pos - num_removed >= size:\n",
    "                        end_not_reached = False\n",
    "                    continue\n",
    "                w = copy.deepcopy(best_weights)\n",
    "                w[weight_len - (2*layer+1)][...,current_pos] = 0\n",
    "                w[weight_len - 2*layer][current_pos] = 0\n",
    "                tester_model.set_weights(w)\n",
    "                nl, na = tester_model.evaluate(x, y, verbose=0, batch_size=256)\n",
    "                if ol - nl >= best_change:\n",
    "                    best_change = ol - nl\n",
    "                    best_pos = current_pos\n",
    "                    improved = True\n",
    "                    best_acc = na\n",
    "                    best_loss = nl\n",
    "                current_pos += 1\n",
    "                if current_pos - num_removed >= size:\n",
    "                    end_not_reached = False\n",
    "        elif method == 'greedy':\n",
    "            nodes_to_estimate = list(np.arange(size))\n",
    "            current_pos = nodes_to_estimate[0]\n",
    "            idx = 0\n",
    "            while end_not_reached:\n",
    "                w = copy.deepcopy(best_weights)\n",
    "                w[weight_len - (2*layer+1)][...,current_pos] = 0\n",
    "                w[weight_len - 2*layer][current_pos] = 0\n",
    "                tester_model.set_weights(w)\n",
    "                nl, na = tester_model.evaluate(x, y, verbose=0, batch_size=256)\n",
    "                if ol - nl >= best_change:\n",
    "                    oa = na\n",
    "                    na = nl\n",
    "                    size -= 1\n",
    "                    nodes_removed += [current_pos]\n",
    "                    nodes_to_estimate.remove(current_pos)\n",
    "                    best_weights[weight_len - (2*layer+1)][..., current_pos] = 0\n",
    "                    best_weights[weight_len - 2*layer][current_pos] = 0\n",
    "                    bas += [oa]\n",
    "                    bls += [ol]\n",
    "                    num_removed += 1\n",
    "                    idx = 0\n",
    "                elif ol - nl <= ignore_cutoff:\n",
    "                    size -= 1\n",
    "                    nodes_to_estimate.remove(current_pos)\n",
    "                    idx += 1\n",
    "                else:\n",
    "                    idx += 1\n",
    "                if idx >= size:\n",
    "                    end_not_reached = False\n",
    "                else:\n",
    "                    current_pos = nodes_to_estimate[idx]\n",
    "        amounts.append(num_removed)\n",
    "        places.append(nodes_removed)\n",
    "\n",
    "    return best_weights, bas, bls, amounts, places"
   ]
  },
  {
   "cell_type": "code",
   "execution_count": null,
   "metadata": {},
   "outputs": [],
   "source": []
  },
  {
   "cell_type": "markdown",
   "metadata": {},
   "source": [
    "## Multi-layer Perceptron"
   ]
  },
  {
   "cell_type": "code",
   "execution_count": null,
   "metadata": {},
   "outputs": [],
   "source": []
  },
  {
   "cell_type": "markdown",
   "metadata": {},
   "source": [
    "## Convolutional Neural Network"
   ]
  },
  {
   "cell_type": "code",
   "execution_count": null,
   "metadata": {},
   "outputs": [],
   "source": []
  }
 ],
 "metadata": {
  "kernelspec": {
   "display_name": "Python 3",
   "language": "python",
   "name": "python3"
  },
  "language_info": {
   "codemirror_mode": {
    "name": "ipython",
    "version": 3
   },
   "file_extension": ".py",
   "mimetype": "text/x-python",
   "name": "python",
   "nbconvert_exporter": "python",
   "pygments_lexer": "ipython3",
   "version": "3.7.6"
  }
 },
 "nbformat": 4,
 "nbformat_minor": 4
}
