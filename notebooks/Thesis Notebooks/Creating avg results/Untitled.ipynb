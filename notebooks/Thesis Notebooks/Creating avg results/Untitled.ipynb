{
 "cells": [
  {
   "cell_type": "code",
   "execution_count": 1,
   "metadata": {},
   "outputs": [],
   "source": [
    "import pandas as pd"
   ]
  },
  {
   "cell_type": "code",
   "execution_count": 25,
   "metadata": {},
   "outputs": [
    {
     "data": {
      "text/html": [
       "<div>\n",
       "<style scoped>\n",
       "    .dataframe tbody tr th:only-of-type {\n",
       "        vertical-align: middle;\n",
       "    }\n",
       "\n",
       "    .dataframe tbody tr th {\n",
       "        vertical-align: top;\n",
       "    }\n",
       "\n",
       "    .dataframe thead th {\n",
       "        text-align: right;\n",
       "    }\n",
       "</style>\n",
       "<table border=\"1\" class=\"dataframe\">\n",
       "  <thead>\n",
       "    <tr style=\"text-align: right;\">\n",
       "      <th></th>\n",
       "      <th>64</th>\n",
       "      <th>32</th>\n",
       "      <th>16</th>\n",
       "      <th>8</th>\n",
       "      <th>4</th>\n",
       "      <th>2</th>\n",
       "      <th>1</th>\n",
       "    </tr>\n",
       "  </thead>\n",
       "  <tbody>\n",
       "    <tr>\n",
       "      <th>mean</th>\n",
       "      <td>0.848527</td>\n",
       "      <td>0.942736</td>\n",
       "      <td>0.961917</td>\n",
       "      <td>0.968121</td>\n",
       "      <td>0.970445</td>\n",
       "      <td>0.971441</td>\n",
       "      <td>0.971984</td>\n",
       "    </tr>\n",
       "    <tr>\n",
       "      <th>std</th>\n",
       "      <td>0.041705</td>\n",
       "      <td>0.013024</td>\n",
       "      <td>0.005639</td>\n",
       "      <td>0.003178</td>\n",
       "      <td>0.001986</td>\n",
       "      <td>0.001336</td>\n",
       "      <td>0.000920</td>\n",
       "    </tr>\n",
       "    <tr>\n",
       "      <th>min</th>\n",
       "      <td>0.683100</td>\n",
       "      <td>0.886100</td>\n",
       "      <td>0.927000</td>\n",
       "      <td>0.952300</td>\n",
       "      <td>0.960200</td>\n",
       "      <td>0.962400</td>\n",
       "      <td>0.968700</td>\n",
       "    </tr>\n",
       "    <tr>\n",
       "      <th>25%</th>\n",
       "      <td>0.821525</td>\n",
       "      <td>0.936400</td>\n",
       "      <td>0.958800</td>\n",
       "      <td>0.966400</td>\n",
       "      <td>0.969400</td>\n",
       "      <td>0.970800</td>\n",
       "      <td>0.971500</td>\n",
       "    </tr>\n",
       "    <tr>\n",
       "      <th>50%</th>\n",
       "      <td>0.854600</td>\n",
       "      <td>0.944800</td>\n",
       "      <td>0.962800</td>\n",
       "      <td>0.968500</td>\n",
       "      <td>0.970800</td>\n",
       "      <td>0.971700</td>\n",
       "      <td>0.972100</td>\n",
       "    </tr>\n",
       "    <tr>\n",
       "      <th>75%</th>\n",
       "      <td>0.880300</td>\n",
       "      <td>0.952600</td>\n",
       "      <td>0.966000</td>\n",
       "      <td>0.970400</td>\n",
       "      <td>0.971900</td>\n",
       "      <td>0.972400</td>\n",
       "      <td>0.972600</td>\n",
       "    </tr>\n",
       "    <tr>\n",
       "      <th>max</th>\n",
       "      <td>0.932800</td>\n",
       "      <td>0.966200</td>\n",
       "      <td>0.972400</td>\n",
       "      <td>0.974900</td>\n",
       "      <td>0.974400</td>\n",
       "      <td>0.974300</td>\n",
       "      <td>0.973600</td>\n",
       "    </tr>\n",
       "  </tbody>\n",
       "</table>\n",
       "</div>"
      ],
      "text/plain": [
       "            64        32        16        8         4         2         1 \n",
       "mean  0.848527  0.942736  0.961917  0.968121  0.970445  0.971441  0.971984\n",
       "std   0.041705  0.013024  0.005639  0.003178  0.001986  0.001336  0.000920\n",
       "min   0.683100  0.886100  0.927000  0.952300  0.960200  0.962400  0.968700\n",
       "25%   0.821525  0.936400  0.958800  0.966400  0.969400  0.970800  0.971500\n",
       "50%   0.854600  0.944800  0.962800  0.968500  0.970800  0.971700  0.972100\n",
       "75%   0.880300  0.952600  0.966000  0.970400  0.971900  0.972400  0.972600\n",
       "max   0.932800  0.966200  0.972400  0.974900  0.974400  0.974300  0.973600"
      ]
     },
     "execution_count": 25,
     "metadata": {},
     "output_type": "execute_result"
    }
   ],
   "source": [
    "A = pd.read_csv('../../../results/accs_random_removal_mnist.csv', index_col=0)\n",
    "A = A.T\n",
    "\n",
    "A.describe().drop(['count'])"
   ]
  },
  {
   "cell_type": "code",
   "execution_count": 26,
   "metadata": {},
   "outputs": [],
   "source": [
    "A[A.columns[::-1]].describe().drop(['count']).round(4).to_latex('../../../latex/tables/accs_random_removal_mnist.tex', bold_rows=True)"
   ]
  },
  {
   "cell_type": "code",
   "execution_count": 27,
   "metadata": {},
   "outputs": [
    {
     "data": {
      "text/html": [
       "<div>\n",
       "<style scoped>\n",
       "    .dataframe tbody tr th:only-of-type {\n",
       "        vertical-align: middle;\n",
       "    }\n",
       "\n",
       "    .dataframe tbody tr th {\n",
       "        vertical-align: top;\n",
       "    }\n",
       "\n",
       "    .dataframe thead th {\n",
       "        text-align: right;\n",
       "    }\n",
       "</style>\n",
       "<table border=\"1\" class=\"dataframe\">\n",
       "  <thead>\n",
       "    <tr style=\"text-align: right;\">\n",
       "      <th></th>\n",
       "      <th>8</th>\n",
       "      <th>4</th>\n",
       "      <th>3</th>\n",
       "      <th>2</th>\n",
       "      <th>1</th>\n",
       "    </tr>\n",
       "  </thead>\n",
       "  <tbody>\n",
       "    <tr>\n",
       "      <th>count</th>\n",
       "      <td>20.000000</td>\n",
       "      <td>20.000000</td>\n",
       "      <td>20.000000</td>\n",
       "      <td>20.000000</td>\n",
       "      <td>20.000000</td>\n",
       "    </tr>\n",
       "    <tr>\n",
       "      <th>mean</th>\n",
       "      <td>0.972635</td>\n",
       "      <td>0.973300</td>\n",
       "      <td>0.973735</td>\n",
       "      <td>0.974225</td>\n",
       "      <td>0.975070</td>\n",
       "    </tr>\n",
       "    <tr>\n",
       "      <th>std</th>\n",
       "      <td>0.000452</td>\n",
       "      <td>0.000771</td>\n",
       "      <td>0.000977</td>\n",
       "      <td>0.000927</td>\n",
       "      <td>0.000643</td>\n",
       "    </tr>\n",
       "    <tr>\n",
       "      <th>min</th>\n",
       "      <td>0.972400</td>\n",
       "      <td>0.972300</td>\n",
       "      <td>0.972300</td>\n",
       "      <td>0.972800</td>\n",
       "      <td>0.973900</td>\n",
       "    </tr>\n",
       "    <tr>\n",
       "      <th>25%</th>\n",
       "      <td>0.972400</td>\n",
       "      <td>0.972825</td>\n",
       "      <td>0.972900</td>\n",
       "      <td>0.973575</td>\n",
       "      <td>0.974575</td>\n",
       "    </tr>\n",
       "    <tr>\n",
       "      <th>50%</th>\n",
       "      <td>0.972400</td>\n",
       "      <td>0.973200</td>\n",
       "      <td>0.973700</td>\n",
       "      <td>0.973900</td>\n",
       "      <td>0.975100</td>\n",
       "    </tr>\n",
       "    <tr>\n",
       "      <th>75%</th>\n",
       "      <td>0.972550</td>\n",
       "      <td>0.973725</td>\n",
       "      <td>0.974500</td>\n",
       "      <td>0.974950</td>\n",
       "      <td>0.975600</td>\n",
       "    </tr>\n",
       "    <tr>\n",
       "      <th>max</th>\n",
       "      <td>0.973900</td>\n",
       "      <td>0.975000</td>\n",
       "      <td>0.976000</td>\n",
       "      <td>0.976100</td>\n",
       "      <td>0.976200</td>\n",
       "    </tr>\n",
       "  </tbody>\n",
       "</table>\n",
       "</div>"
      ],
      "text/plain": [
       "               8          4          3          2          1\n",
       "count  20.000000  20.000000  20.000000  20.000000  20.000000\n",
       "mean    0.972635   0.973300   0.973735   0.974225   0.975070\n",
       "std     0.000452   0.000771   0.000977   0.000927   0.000643\n",
       "min     0.972400   0.972300   0.972300   0.972800   0.973900\n",
       "25%     0.972400   0.972825   0.972900   0.973575   0.974575\n",
       "50%     0.972400   0.973200   0.973700   0.973900   0.975100\n",
       "75%     0.972550   0.973725   0.974500   0.974950   0.975600\n",
       "max     0.973900   0.975000   0.976000   0.976100   0.976200"
      ]
     },
     "execution_count": 27,
     "metadata": {},
     "output_type": "execute_result"
    }
   ],
   "source": [
    "A = pd.read_csv('../../../results/accs_random_removal_improving_mnist.csv', index_col=0)\n",
    "A = A.T\n",
    "A.describe()"
   ]
  },
  {
   "cell_type": "code",
   "execution_count": 28,
   "metadata": {},
   "outputs": [],
   "source": [
    "A[A.columns[::-1]].describe().drop(['count']).round(4).to_latex('../../../latex/tables/accs_random_removal_improving_mnist.tex', bold_rows=True)"
   ]
  },
  {
   "cell_type": "code",
   "execution_count": 29,
   "metadata": {},
   "outputs": [
    {
     "data": {
      "text/html": [
       "<div>\n",
       "<style scoped>\n",
       "    .dataframe tbody tr th:only-of-type {\n",
       "        vertical-align: middle;\n",
       "    }\n",
       "\n",
       "    .dataframe tbody tr th {\n",
       "        vertical-align: top;\n",
       "    }\n",
       "\n",
       "    .dataframe thead th {\n",
       "        text-align: right;\n",
       "    }\n",
       "</style>\n",
       "<table border=\"1\" class=\"dataframe\">\n",
       "  <thead>\n",
       "    <tr style=\"text-align: right;\">\n",
       "      <th></th>\n",
       "      <th>64</th>\n",
       "      <th>32</th>\n",
       "      <th>16</th>\n",
       "      <th>8</th>\n",
       "      <th>4</th>\n",
       "      <th>2</th>\n",
       "      <th>1</th>\n",
       "    </tr>\n",
       "  </thead>\n",
       "  <tbody>\n",
       "    <tr>\n",
       "      <th>count</th>\n",
       "      <td>1000.000000</td>\n",
       "      <td>1000.000000</td>\n",
       "      <td>1000.000000</td>\n",
       "      <td>1000.000000</td>\n",
       "      <td>1000.000000</td>\n",
       "      <td>1000.000000</td>\n",
       "      <td>1000.000000</td>\n",
       "    </tr>\n",
       "    <tr>\n",
       "      <th>mean</th>\n",
       "      <td>0.739420</td>\n",
       "      <td>0.829493</td>\n",
       "      <td>0.854300</td>\n",
       "      <td>0.861841</td>\n",
       "      <td>0.865154</td>\n",
       "      <td>0.866732</td>\n",
       "      <td>0.867660</td>\n",
       "    </tr>\n",
       "    <tr>\n",
       "      <th>std</th>\n",
       "      <td>0.044278</td>\n",
       "      <td>0.019952</td>\n",
       "      <td>0.009643</td>\n",
       "      <td>0.005855</td>\n",
       "      <td>0.004244</td>\n",
       "      <td>0.002991</td>\n",
       "      <td>0.002112</td>\n",
       "    </tr>\n",
       "    <tr>\n",
       "      <th>min</th>\n",
       "      <td>0.549300</td>\n",
       "      <td>0.738200</td>\n",
       "      <td>0.805000</td>\n",
       "      <td>0.840500</td>\n",
       "      <td>0.847000</td>\n",
       "      <td>0.847000</td>\n",
       "      <td>0.857800</td>\n",
       "    </tr>\n",
       "    <tr>\n",
       "      <th>25%</th>\n",
       "      <td>0.717075</td>\n",
       "      <td>0.818975</td>\n",
       "      <td>0.849100</td>\n",
       "      <td>0.858200</td>\n",
       "      <td>0.863200</td>\n",
       "      <td>0.865300</td>\n",
       "      <td>0.867000</td>\n",
       "    </tr>\n",
       "    <tr>\n",
       "      <th>50%</th>\n",
       "      <td>0.743700</td>\n",
       "      <td>0.833600</td>\n",
       "      <td>0.855800</td>\n",
       "      <td>0.862600</td>\n",
       "      <td>0.865900</td>\n",
       "      <td>0.867400</td>\n",
       "      <td>0.868400</td>\n",
       "    </tr>\n",
       "    <tr>\n",
       "      <th>75%</th>\n",
       "      <td>0.769825</td>\n",
       "      <td>0.844100</td>\n",
       "      <td>0.861100</td>\n",
       "      <td>0.866300</td>\n",
       "      <td>0.868100</td>\n",
       "      <td>0.868500</td>\n",
       "      <td>0.868600</td>\n",
       "    </tr>\n",
       "    <tr>\n",
       "      <th>max</th>\n",
       "      <td>0.830700</td>\n",
       "      <td>0.865600</td>\n",
       "      <td>0.874700</td>\n",
       "      <td>0.876700</td>\n",
       "      <td>0.874500</td>\n",
       "      <td>0.873500</td>\n",
       "      <td>0.872600</td>\n",
       "    </tr>\n",
       "  </tbody>\n",
       "</table>\n",
       "</div>"
      ],
      "text/plain": [
       "                64           32           16           8            4   \\\n",
       "count  1000.000000  1000.000000  1000.000000  1000.000000  1000.000000   \n",
       "mean      0.739420     0.829493     0.854300     0.861841     0.865154   \n",
       "std       0.044278     0.019952     0.009643     0.005855     0.004244   \n",
       "min       0.549300     0.738200     0.805000     0.840500     0.847000   \n",
       "25%       0.717075     0.818975     0.849100     0.858200     0.863200   \n",
       "50%       0.743700     0.833600     0.855800     0.862600     0.865900   \n",
       "75%       0.769825     0.844100     0.861100     0.866300     0.868100   \n",
       "max       0.830700     0.865600     0.874700     0.876700     0.874500   \n",
       "\n",
       "                2            1   \n",
       "count  1000.000000  1000.000000  \n",
       "mean      0.866732     0.867660  \n",
       "std       0.002991     0.002112  \n",
       "min       0.847000     0.857800  \n",
       "25%       0.865300     0.867000  \n",
       "50%       0.867400     0.868400  \n",
       "75%       0.868500     0.868600  \n",
       "max       0.873500     0.872600  "
      ]
     },
     "execution_count": 29,
     "metadata": {},
     "output_type": "execute_result"
    }
   ],
   "source": [
    "A = pd.read_csv('../../../results/accs_random_removal_fmnist.csv', index_col=0)\n",
    "A = A.T\n",
    "A.describe()"
   ]
  },
  {
   "cell_type": "code",
   "execution_count": 30,
   "metadata": {},
   "outputs": [],
   "source": [
    "A[A.columns[::-1]].describe().drop(['count']).round(4).to_latex('../../../latex/tables/accs_random_removal_fmnist.tex', bold_rows=True)"
   ]
  },
  {
   "cell_type": "code",
   "execution_count": 31,
   "metadata": {},
   "outputs": [
    {
     "data": {
      "text/html": [
       "<div>\n",
       "<style scoped>\n",
       "    .dataframe tbody tr th:only-of-type {\n",
       "        vertical-align: middle;\n",
       "    }\n",
       "\n",
       "    .dataframe tbody tr th {\n",
       "        vertical-align: top;\n",
       "    }\n",
       "\n",
       "    .dataframe thead th {\n",
       "        text-align: right;\n",
       "    }\n",
       "</style>\n",
       "<table border=\"1\" class=\"dataframe\">\n",
       "  <thead>\n",
       "    <tr style=\"text-align: right;\">\n",
       "      <th></th>\n",
       "      <th>8</th>\n",
       "      <th>4</th>\n",
       "      <th>3</th>\n",
       "      <th>2</th>\n",
       "      <th>1</th>\n",
       "    </tr>\n",
       "  </thead>\n",
       "  <tbody>\n",
       "    <tr>\n",
       "      <th>count</th>\n",
       "      <td>20.000000</td>\n",
       "      <td>20.000000</td>\n",
       "      <td>20.000000</td>\n",
       "      <td>20.000000</td>\n",
       "      <td>20.000000</td>\n",
       "    </tr>\n",
       "    <tr>\n",
       "      <th>mean</th>\n",
       "      <td>0.870585</td>\n",
       "      <td>0.873075</td>\n",
       "      <td>0.874295</td>\n",
       "      <td>0.875200</td>\n",
       "      <td>0.874875</td>\n",
       "    </tr>\n",
       "    <tr>\n",
       "      <th>std</th>\n",
       "      <td>0.001879</td>\n",
       "      <td>0.001823</td>\n",
       "      <td>0.001822</td>\n",
       "      <td>0.001772</td>\n",
       "      <td>0.002274</td>\n",
       "    </tr>\n",
       "    <tr>\n",
       "      <th>min</th>\n",
       "      <td>0.868500</td>\n",
       "      <td>0.870500</td>\n",
       "      <td>0.871800</td>\n",
       "      <td>0.871800</td>\n",
       "      <td>0.870200</td>\n",
       "    </tr>\n",
       "    <tr>\n",
       "      <th>25%</th>\n",
       "      <td>0.868500</td>\n",
       "      <td>0.871725</td>\n",
       "      <td>0.872950</td>\n",
       "      <td>0.874250</td>\n",
       "      <td>0.873350</td>\n",
       "    </tr>\n",
       "    <tr>\n",
       "      <th>50%</th>\n",
       "      <td>0.870600</td>\n",
       "      <td>0.872700</td>\n",
       "      <td>0.873900</td>\n",
       "      <td>0.875000</td>\n",
       "      <td>0.874600</td>\n",
       "    </tr>\n",
       "    <tr>\n",
       "      <th>75%</th>\n",
       "      <td>0.871550</td>\n",
       "      <td>0.874125</td>\n",
       "      <td>0.875775</td>\n",
       "      <td>0.876350</td>\n",
       "      <td>0.877000</td>\n",
       "    </tr>\n",
       "    <tr>\n",
       "      <th>max</th>\n",
       "      <td>0.874800</td>\n",
       "      <td>0.876400</td>\n",
       "      <td>0.877500</td>\n",
       "      <td>0.879400</td>\n",
       "      <td>0.878200</td>\n",
       "    </tr>\n",
       "  </tbody>\n",
       "</table>\n",
       "</div>"
      ],
      "text/plain": [
       "               8          4          3          2          1\n",
       "count  20.000000  20.000000  20.000000  20.000000  20.000000\n",
       "mean    0.870585   0.873075   0.874295   0.875200   0.874875\n",
       "std     0.001879   0.001823   0.001822   0.001772   0.002274\n",
       "min     0.868500   0.870500   0.871800   0.871800   0.870200\n",
       "25%     0.868500   0.871725   0.872950   0.874250   0.873350\n",
       "50%     0.870600   0.872700   0.873900   0.875000   0.874600\n",
       "75%     0.871550   0.874125   0.875775   0.876350   0.877000\n",
       "max     0.874800   0.876400   0.877500   0.879400   0.878200"
      ]
     },
     "execution_count": 31,
     "metadata": {},
     "output_type": "execute_result"
    }
   ],
   "source": [
    "A = pd.read_csv('../../../results/accs_random_removal_improving_fmnist.csv', index_col=0)\n",
    "A = A.T\n",
    "A.describe()"
   ]
  },
  {
   "cell_type": "code",
   "execution_count": 32,
   "metadata": {},
   "outputs": [],
   "source": [
    "A[A.columns[::-1]].describe().drop(['count']).round(4).to_latex('../../../latex/tables/accs_random_removal_improving_fmnist.tex', bold_rows=True)"
   ]
  },
  {
   "cell_type": "code",
   "execution_count": 35,
   "metadata": {},
   "outputs": [
    {
     "data": {
      "text/html": [
       "<div>\n",
       "<style scoped>\n",
       "    .dataframe tbody tr th:only-of-type {\n",
       "        vertical-align: middle;\n",
       "    }\n",
       "\n",
       "    .dataframe tbody tr th {\n",
       "        vertical-align: top;\n",
       "    }\n",
       "\n",
       "    .dataframe thead th {\n",
       "        text-align: right;\n",
       "    }\n",
       "</style>\n",
       "<table border=\"1\" class=\"dataframe\">\n",
       "  <thead>\n",
       "    <tr style=\"text-align: right;\">\n",
       "      <th></th>\n",
       "      <th>64</th>\n",
       "      <th>32</th>\n",
       "      <th>16</th>\n",
       "      <th>8</th>\n",
       "      <th>4</th>\n",
       "      <th>2</th>\n",
       "      <th>1</th>\n",
       "    </tr>\n",
       "  </thead>\n",
       "  <tbody>\n",
       "    <tr>\n",
       "      <th>mean</th>\n",
       "      <td>0.446568</td>\n",
       "      <td>0.179376</td>\n",
       "      <td>0.121617</td>\n",
       "      <td>0.102391</td>\n",
       "      <td>0.094847</td>\n",
       "      <td>0.091354</td>\n",
       "      <td>0.089476</td>\n",
       "    </tr>\n",
       "    <tr>\n",
       "      <th>std</th>\n",
       "      <td>0.107404</td>\n",
       "      <td>0.036119</td>\n",
       "      <td>0.016426</td>\n",
       "      <td>0.009524</td>\n",
       "      <td>0.005803</td>\n",
       "      <td>0.003836</td>\n",
       "      <td>0.002613</td>\n",
       "    </tr>\n",
       "    <tr>\n",
       "      <th>min</th>\n",
       "      <td>0.230566</td>\n",
       "      <td>0.112669</td>\n",
       "      <td>0.090062</td>\n",
       "      <td>0.084443</td>\n",
       "      <td>0.083758</td>\n",
       "      <td>0.083917</td>\n",
       "      <td>0.084770</td>\n",
       "    </tr>\n",
       "    <tr>\n",
       "      <th>25%</th>\n",
       "      <td>0.366245</td>\n",
       "      <td>0.151553</td>\n",
       "      <td>0.110106</td>\n",
       "      <td>0.095662</td>\n",
       "      <td>0.090660</td>\n",
       "      <td>0.088709</td>\n",
       "      <td>0.087741</td>\n",
       "    </tr>\n",
       "    <tr>\n",
       "      <th>50%</th>\n",
       "      <td>0.431301</td>\n",
       "      <td>0.173848</td>\n",
       "      <td>0.118624</td>\n",
       "      <td>0.101203</td>\n",
       "      <td>0.093718</td>\n",
       "      <td>0.090672</td>\n",
       "      <td>0.088999</td>\n",
       "    </tr>\n",
       "    <tr>\n",
       "      <th>75%</th>\n",
       "      <td>0.511249</td>\n",
       "      <td>0.197996</td>\n",
       "      <td>0.130489</td>\n",
       "      <td>0.106858</td>\n",
       "      <td>0.098065</td>\n",
       "      <td>0.093192</td>\n",
       "      <td>0.090758</td>\n",
       "    </tr>\n",
       "    <tr>\n",
       "      <th>max</th>\n",
       "      <td>0.988322</td>\n",
       "      <td>0.340889</td>\n",
       "      <td>0.223338</td>\n",
       "      <td>0.148904</td>\n",
       "      <td>0.129176</td>\n",
       "      <td>0.124468</td>\n",
       "      <td>0.099743</td>\n",
       "    </tr>\n",
       "  </tbody>\n",
       "</table>\n",
       "</div>"
      ],
      "text/plain": [
       "            64        32        16        8         4         2         1 \n",
       "mean  0.446568  0.179376  0.121617  0.102391  0.094847  0.091354  0.089476\n",
       "std   0.107404  0.036119  0.016426  0.009524  0.005803  0.003836  0.002613\n",
       "min   0.230566  0.112669  0.090062  0.084443  0.083758  0.083917  0.084770\n",
       "25%   0.366245  0.151553  0.110106  0.095662  0.090660  0.088709  0.087741\n",
       "50%   0.431301  0.173848  0.118624  0.101203  0.093718  0.090672  0.088999\n",
       "75%   0.511249  0.197996  0.130489  0.106858  0.098065  0.093192  0.090758\n",
       "max   0.988322  0.340889  0.223338  0.148904  0.129176  0.124468  0.099743"
      ]
     },
     "execution_count": 35,
     "metadata": {},
     "output_type": "execute_result"
    }
   ],
   "source": [
    "L = pd.read_csv('../../../results/losses_random_removal_mnist.csv', index_col=0)\n",
    "L = L.T\n",
    "\n",
    "L.describe().drop(['count'])"
   ]
  },
  {
   "cell_type": "code",
   "execution_count": 36,
   "metadata": {},
   "outputs": [],
   "source": [
    "L[L.columns[::-1]].describe().drop(['count']).round(4).to_latex('../../../latex/tables/losses_random_removal_mnist.tex', bold_rows=True)"
   ]
  },
  {
   "cell_type": "code",
   "execution_count": 37,
   "metadata": {},
   "outputs": [
    {
     "data": {
      "text/html": [
       "<div>\n",
       "<style scoped>\n",
       "    .dataframe tbody tr th:only-of-type {\n",
       "        vertical-align: middle;\n",
       "    }\n",
       "\n",
       "    .dataframe tbody tr th {\n",
       "        vertical-align: top;\n",
       "    }\n",
       "\n",
       "    .dataframe thead th {\n",
       "        text-align: right;\n",
       "    }\n",
       "</style>\n",
       "<table border=\"1\" class=\"dataframe\">\n",
       "  <thead>\n",
       "    <tr style=\"text-align: right;\">\n",
       "      <th></th>\n",
       "      <th>8</th>\n",
       "      <th>4</th>\n",
       "      <th>3</th>\n",
       "      <th>2</th>\n",
       "      <th>1</th>\n",
       "    </tr>\n",
       "  </thead>\n",
       "  <tbody>\n",
       "    <tr>\n",
       "      <th>count</th>\n",
       "      <td>20.000000</td>\n",
       "      <td>20.000000</td>\n",
       "      <td>20.000000</td>\n",
       "      <td>20.000000</td>\n",
       "      <td>20.000000</td>\n",
       "    </tr>\n",
       "    <tr>\n",
       "      <th>mean</th>\n",
       "      <td>0.087305</td>\n",
       "      <td>0.085965</td>\n",
       "      <td>0.084898</td>\n",
       "      <td>0.084107</td>\n",
       "      <td>0.081889</td>\n",
       "    </tr>\n",
       "    <tr>\n",
       "      <th>std</th>\n",
       "      <td>0.001489</td>\n",
       "      <td>0.002041</td>\n",
       "      <td>0.001461</td>\n",
       "      <td>0.002319</td>\n",
       "      <td>0.001942</td>\n",
       "    </tr>\n",
       "    <tr>\n",
       "      <th>min</th>\n",
       "      <td>0.082889</td>\n",
       "      <td>0.081235</td>\n",
       "      <td>0.081726</td>\n",
       "      <td>0.079564</td>\n",
       "      <td>0.077565</td>\n",
       "    </tr>\n",
       "    <tr>\n",
       "      <th>25%</th>\n",
       "      <td>0.087862</td>\n",
       "      <td>0.084700</td>\n",
       "      <td>0.084096</td>\n",
       "      <td>0.082943</td>\n",
       "      <td>0.080665</td>\n",
       "    </tr>\n",
       "    <tr>\n",
       "      <th>50%</th>\n",
       "      <td>0.087934</td>\n",
       "      <td>0.086520</td>\n",
       "      <td>0.084675</td>\n",
       "      <td>0.084117</td>\n",
       "      <td>0.081291</td>\n",
       "    </tr>\n",
       "    <tr>\n",
       "      <th>75%</th>\n",
       "      <td>0.087934</td>\n",
       "      <td>0.086980</td>\n",
       "      <td>0.086087</td>\n",
       "      <td>0.085754</td>\n",
       "      <td>0.083135</td>\n",
       "    </tr>\n",
       "    <tr>\n",
       "      <th>max</th>\n",
       "      <td>0.088868</td>\n",
       "      <td>0.089754</td>\n",
       "      <td>0.087224</td>\n",
       "      <td>0.087849</td>\n",
       "      <td>0.085597</td>\n",
       "    </tr>\n",
       "  </tbody>\n",
       "</table>\n",
       "</div>"
      ],
      "text/plain": [
       "               8          4          3          2          1\n",
       "count  20.000000  20.000000  20.000000  20.000000  20.000000\n",
       "mean    0.087305   0.085965   0.084898   0.084107   0.081889\n",
       "std     0.001489   0.002041   0.001461   0.002319   0.001942\n",
       "min     0.082889   0.081235   0.081726   0.079564   0.077565\n",
       "25%     0.087862   0.084700   0.084096   0.082943   0.080665\n",
       "50%     0.087934   0.086520   0.084675   0.084117   0.081291\n",
       "75%     0.087934   0.086980   0.086087   0.085754   0.083135\n",
       "max     0.088868   0.089754   0.087224   0.087849   0.085597"
      ]
     },
     "execution_count": 37,
     "metadata": {},
     "output_type": "execute_result"
    }
   ],
   "source": [
    "L = pd.read_csv('../../../results/losses_random_removal_improving_mnist.csv', index_col=0)\n",
    "L = L.T\n",
    "L.describe()"
   ]
  },
  {
   "cell_type": "code",
   "execution_count": 38,
   "metadata": {},
   "outputs": [],
   "source": [
    "L[L.columns[::-1]].describe().drop(['count']).round(4).to_latex('../../../latex/tables/losses_random_removal_improving_mnist.tex', bold_rows=True)"
   ]
  },
  {
   "cell_type": "code",
   "execution_count": 39,
   "metadata": {},
   "outputs": [
    {
     "data": {
      "text/html": [
       "<div>\n",
       "<style scoped>\n",
       "    .dataframe tbody tr th:only-of-type {\n",
       "        vertical-align: middle;\n",
       "    }\n",
       "\n",
       "    .dataframe tbody tr th {\n",
       "        vertical-align: top;\n",
       "    }\n",
       "\n",
       "    .dataframe thead th {\n",
       "        text-align: right;\n",
       "    }\n",
       "</style>\n",
       "<table border=\"1\" class=\"dataframe\">\n",
       "  <thead>\n",
       "    <tr style=\"text-align: right;\">\n",
       "      <th></th>\n",
       "      <th>64</th>\n",
       "      <th>32</th>\n",
       "      <th>16</th>\n",
       "      <th>8</th>\n",
       "      <th>4</th>\n",
       "      <th>2</th>\n",
       "      <th>1</th>\n",
       "    </tr>\n",
       "  </thead>\n",
       "  <tbody>\n",
       "    <tr>\n",
       "      <th>count</th>\n",
       "      <td>1000.000000</td>\n",
       "      <td>1000.000000</td>\n",
       "      <td>1000.000000</td>\n",
       "      <td>1000.000000</td>\n",
       "      <td>1000.000000</td>\n",
       "      <td>1000.000000</td>\n",
       "      <td>1000.000000</td>\n",
       "    </tr>\n",
       "    <tr>\n",
       "      <th>mean</th>\n",
       "      <td>0.706201</td>\n",
       "      <td>0.460722</td>\n",
       "      <td>0.393947</td>\n",
       "      <td>0.373015</td>\n",
       "      <td>0.364346</td>\n",
       "      <td>0.360122</td>\n",
       "      <td>0.357810</td>\n",
       "    </tr>\n",
       "    <tr>\n",
       "      <th>std</th>\n",
       "      <td>0.118168</td>\n",
       "      <td>0.049531</td>\n",
       "      <td>0.022848</td>\n",
       "      <td>0.013691</td>\n",
       "      <td>0.009820</td>\n",
       "      <td>0.007008</td>\n",
       "      <td>0.004880</td>\n",
       "    </tr>\n",
       "    <tr>\n",
       "      <th>min</th>\n",
       "      <td>0.472961</td>\n",
       "      <td>0.372549</td>\n",
       "      <td>0.351513</td>\n",
       "      <td>0.344837</td>\n",
       "      <td>0.343449</td>\n",
       "      <td>0.345162</td>\n",
       "      <td>0.345931</td>\n",
       "    </tr>\n",
       "    <tr>\n",
       "      <th>25%</th>\n",
       "      <td>0.623537</td>\n",
       "      <td>0.424450</td>\n",
       "      <td>0.377217</td>\n",
       "      <td>0.362925</td>\n",
       "      <td>0.357621</td>\n",
       "      <td>0.355903</td>\n",
       "      <td>0.355735</td>\n",
       "    </tr>\n",
       "    <tr>\n",
       "      <th>50%</th>\n",
       "      <td>0.686746</td>\n",
       "      <td>0.450386</td>\n",
       "      <td>0.389976</td>\n",
       "      <td>0.371131</td>\n",
       "      <td>0.362512</td>\n",
       "      <td>0.358449</td>\n",
       "      <td>0.356431</td>\n",
       "    </tr>\n",
       "    <tr>\n",
       "      <th>75%</th>\n",
       "      <td>0.761893</td>\n",
       "      <td>0.485715</td>\n",
       "      <td>0.406018</td>\n",
       "      <td>0.381101</td>\n",
       "      <td>0.369336</td>\n",
       "      <td>0.363180</td>\n",
       "      <td>0.359089</td>\n",
       "    </tr>\n",
       "    <tr>\n",
       "      <th>max</th>\n",
       "      <td>1.364899</td>\n",
       "      <td>0.707925</td>\n",
       "      <td>0.510603</td>\n",
       "      <td>0.429679</td>\n",
       "      <td>0.403501</td>\n",
       "      <td>0.405484</td>\n",
       "      <td>0.379082</td>\n",
       "    </tr>\n",
       "  </tbody>\n",
       "</table>\n",
       "</div>"
      ],
      "text/plain": [
       "                64           32           16           8            4   \\\n",
       "count  1000.000000  1000.000000  1000.000000  1000.000000  1000.000000   \n",
       "mean      0.706201     0.460722     0.393947     0.373015     0.364346   \n",
       "std       0.118168     0.049531     0.022848     0.013691     0.009820   \n",
       "min       0.472961     0.372549     0.351513     0.344837     0.343449   \n",
       "25%       0.623537     0.424450     0.377217     0.362925     0.357621   \n",
       "50%       0.686746     0.450386     0.389976     0.371131     0.362512   \n",
       "75%       0.761893     0.485715     0.406018     0.381101     0.369336   \n",
       "max       1.364899     0.707925     0.510603     0.429679     0.403501   \n",
       "\n",
       "                2            1   \n",
       "count  1000.000000  1000.000000  \n",
       "mean      0.360122     0.357810  \n",
       "std       0.007008     0.004880  \n",
       "min       0.345162     0.345931  \n",
       "25%       0.355903     0.355735  \n",
       "50%       0.358449     0.356431  \n",
       "75%       0.363180     0.359089  \n",
       "max       0.405484     0.379082  "
      ]
     },
     "execution_count": 39,
     "metadata": {},
     "output_type": "execute_result"
    }
   ],
   "source": [
    "L = pd.read_csv('../../../results/losses_random_removal_fmnist.csv', index_col=0)\n",
    "L = L.T\n",
    "L.describe()"
   ]
  },
  {
   "cell_type": "code",
   "execution_count": 40,
   "metadata": {},
   "outputs": [],
   "source": [
    "L[L.columns[::-1]].describe().drop(['count']).round(4).to_latex('../../../latex/tables/losses_random_removal_fmnist.tex', bold_rows=True)"
   ]
  },
  {
   "cell_type": "code",
   "execution_count": 41,
   "metadata": {},
   "outputs": [
    {
     "data": {
      "text/html": [
       "<div>\n",
       "<style scoped>\n",
       "    .dataframe tbody tr th:only-of-type {\n",
       "        vertical-align: middle;\n",
       "    }\n",
       "\n",
       "    .dataframe tbody tr th {\n",
       "        vertical-align: top;\n",
       "    }\n",
       "\n",
       "    .dataframe thead th {\n",
       "        text-align: right;\n",
       "    }\n",
       "</style>\n",
       "<table border=\"1\" class=\"dataframe\">\n",
       "  <thead>\n",
       "    <tr style=\"text-align: right;\">\n",
       "      <th></th>\n",
       "      <th>8</th>\n",
       "      <th>4</th>\n",
       "      <th>3</th>\n",
       "      <th>2</th>\n",
       "      <th>1</th>\n",
       "    </tr>\n",
       "  </thead>\n",
       "  <tbody>\n",
       "    <tr>\n",
       "      <th>count</th>\n",
       "      <td>20.000000</td>\n",
       "      <td>20.000000</td>\n",
       "      <td>20.000000</td>\n",
       "      <td>20.000000</td>\n",
       "      <td>20.000000</td>\n",
       "    </tr>\n",
       "    <tr>\n",
       "      <th>mean</th>\n",
       "      <td>0.352263</td>\n",
       "      <td>0.346888</td>\n",
       "      <td>0.344741</td>\n",
       "      <td>0.344445</td>\n",
       "      <td>0.343323</td>\n",
       "    </tr>\n",
       "    <tr>\n",
       "      <th>std</th>\n",
       "      <td>0.002992</td>\n",
       "      <td>0.003630</td>\n",
       "      <td>0.003713</td>\n",
       "      <td>0.003941</td>\n",
       "      <td>0.003447</td>\n",
       "    </tr>\n",
       "    <tr>\n",
       "      <th>min</th>\n",
       "      <td>0.347569</td>\n",
       "      <td>0.340290</td>\n",
       "      <td>0.337891</td>\n",
       "      <td>0.335182</td>\n",
       "      <td>0.338291</td>\n",
       "    </tr>\n",
       "    <tr>\n",
       "      <th>25%</th>\n",
       "      <td>0.349627</td>\n",
       "      <td>0.344326</td>\n",
       "      <td>0.341571</td>\n",
       "      <td>0.342375</td>\n",
       "      <td>0.341254</td>\n",
       "    </tr>\n",
       "    <tr>\n",
       "      <th>50%</th>\n",
       "      <td>0.352323</td>\n",
       "      <td>0.346583</td>\n",
       "      <td>0.344369</td>\n",
       "      <td>0.344093</td>\n",
       "      <td>0.342546</td>\n",
       "    </tr>\n",
       "    <tr>\n",
       "      <th>75%</th>\n",
       "      <td>0.355735</td>\n",
       "      <td>0.349196</td>\n",
       "      <td>0.347719</td>\n",
       "      <td>0.346062</td>\n",
       "      <td>0.344211</td>\n",
       "    </tr>\n",
       "    <tr>\n",
       "      <th>max</th>\n",
       "      <td>0.355735</td>\n",
       "      <td>0.355291</td>\n",
       "      <td>0.351043</td>\n",
       "      <td>0.351513</td>\n",
       "      <td>0.350519</td>\n",
       "    </tr>\n",
       "  </tbody>\n",
       "</table>\n",
       "</div>"
      ],
      "text/plain": [
       "               8          4          3          2          1\n",
       "count  20.000000  20.000000  20.000000  20.000000  20.000000\n",
       "mean    0.352263   0.346888   0.344741   0.344445   0.343323\n",
       "std     0.002992   0.003630   0.003713   0.003941   0.003447\n",
       "min     0.347569   0.340290   0.337891   0.335182   0.338291\n",
       "25%     0.349627   0.344326   0.341571   0.342375   0.341254\n",
       "50%     0.352323   0.346583   0.344369   0.344093   0.342546\n",
       "75%     0.355735   0.349196   0.347719   0.346062   0.344211\n",
       "max     0.355735   0.355291   0.351043   0.351513   0.350519"
      ]
     },
     "execution_count": 41,
     "metadata": {},
     "output_type": "execute_result"
    }
   ],
   "source": [
    "L = pd.read_csv('../../../results/losses_random_removal_improving_fmnist.csv', index_col=0)\n",
    "L = L.T\n",
    "L.describe()"
   ]
  },
  {
   "cell_type": "code",
   "execution_count": 42,
   "metadata": {},
   "outputs": [],
   "source": [
    "L[L.columns[::-1]].describe().drop(['count']).round(4).to_latex('../../../latex/tables/losses_random_removal_improving_fmnist.tex', bold_rows=True)"
   ]
  },
  {
   "cell_type": "code",
   "execution_count": 43,
   "metadata": {},
   "outputs": [
    {
     "data": {
      "text/html": [
       "<div>\n",
       "<style scoped>\n",
       "    .dataframe tbody tr th:only-of-type {\n",
       "        vertical-align: middle;\n",
       "    }\n",
       "\n",
       "    .dataframe tbody tr th {\n",
       "        vertical-align: top;\n",
       "    }\n",
       "\n",
       "    .dataframe thead th {\n",
       "        text-align: right;\n",
       "    }\n",
       "</style>\n",
       "<table border=\"1\" class=\"dataframe\">\n",
       "  <thead>\n",
       "    <tr style=\"text-align: right;\">\n",
       "      <th></th>\n",
       "      <th>8</th>\n",
       "      <th>4</th>\n",
       "      <th>3</th>\n",
       "      <th>2</th>\n",
       "      <th>1</th>\n",
       "    </tr>\n",
       "  </thead>\n",
       "  <tbody>\n",
       "    <tr>\n",
       "      <th>count</th>\n",
       "      <td>20.000000</td>\n",
       "      <td>20.000000</td>\n",
       "      <td>20.000000</td>\n",
       "      <td>20.000000</td>\n",
       "      <td>20.000000</td>\n",
       "    </tr>\n",
       "    <tr>\n",
       "      <th>mean</th>\n",
       "      <td>2.400000</td>\n",
       "      <td>5.800000</td>\n",
       "      <td>8.250000</td>\n",
       "      <td>8.900000</td>\n",
       "      <td>7.400000</td>\n",
       "    </tr>\n",
       "    <tr>\n",
       "      <th>std</th>\n",
       "      <td>3.761299</td>\n",
       "      <td>3.302312</td>\n",
       "      <td>2.731396</td>\n",
       "      <td>2.789076</td>\n",
       "      <td>1.698296</td>\n",
       "    </tr>\n",
       "    <tr>\n",
       "      <th>min</th>\n",
       "      <td>0.000000</td>\n",
       "      <td>0.000000</td>\n",
       "      <td>3.000000</td>\n",
       "      <td>4.000000</td>\n",
       "      <td>5.000000</td>\n",
       "    </tr>\n",
       "    <tr>\n",
       "      <th>25%</th>\n",
       "      <td>0.000000</td>\n",
       "      <td>4.000000</td>\n",
       "      <td>6.000000</td>\n",
       "      <td>7.500000</td>\n",
       "      <td>6.000000</td>\n",
       "    </tr>\n",
       "    <tr>\n",
       "      <th>50%</th>\n",
       "      <td>0.000000</td>\n",
       "      <td>4.000000</td>\n",
       "      <td>9.000000</td>\n",
       "      <td>8.000000</td>\n",
       "      <td>7.000000</td>\n",
       "    </tr>\n",
       "    <tr>\n",
       "      <th>75%</th>\n",
       "      <td>8.000000</td>\n",
       "      <td>8.000000</td>\n",
       "      <td>9.750000</td>\n",
       "      <td>10.000000</td>\n",
       "      <td>8.250000</td>\n",
       "    </tr>\n",
       "    <tr>\n",
       "      <th>max</th>\n",
       "      <td>8.000000</td>\n",
       "      <td>12.000000</td>\n",
       "      <td>12.000000</td>\n",
       "      <td>16.000000</td>\n",
       "      <td>11.000000</td>\n",
       "    </tr>\n",
       "  </tbody>\n",
       "</table>\n",
       "</div>"
      ],
      "text/plain": [
       "               8          4          3          2          1\n",
       "count  20.000000  20.000000  20.000000  20.000000  20.000000\n",
       "mean    2.400000   5.800000   8.250000   8.900000   7.400000\n",
       "std     3.761299   3.302312   2.731396   2.789076   1.698296\n",
       "min     0.000000   0.000000   3.000000   4.000000   5.000000\n",
       "25%     0.000000   4.000000   6.000000   7.500000   6.000000\n",
       "50%     0.000000   4.000000   9.000000   8.000000   7.000000\n",
       "75%     8.000000   8.000000   9.750000  10.000000   8.250000\n",
       "max     8.000000  12.000000  12.000000  16.000000  11.000000"
      ]
     },
     "execution_count": 43,
     "metadata": {},
     "output_type": "execute_result"
    }
   ],
   "source": [
    "NR = pd.read_csv('../../../results/number_nodes_removed_random_removal_improving_mnist.csv', index_col=0)\n",
    "NR = NR.T\n",
    "NR.describe()"
   ]
  },
  {
   "cell_type": "code",
   "execution_count": 44,
   "metadata": {},
   "outputs": [],
   "source": [
    "NR[NR.columns[::-1]].describe().drop(['count']).round(4).to_latex('../../../latex/tables/number_nodes_removed_random_removal_improving_mnist.tex', bold_rows=True)"
   ]
  },
  {
   "cell_type": "code",
   "execution_count": 45,
   "metadata": {},
   "outputs": [
    {
     "data": {
      "text/html": [
       "<div>\n",
       "<style scoped>\n",
       "    .dataframe tbody tr th:only-of-type {\n",
       "        vertical-align: middle;\n",
       "    }\n",
       "\n",
       "    .dataframe tbody tr th {\n",
       "        vertical-align: top;\n",
       "    }\n",
       "\n",
       "    .dataframe thead th {\n",
       "        text-align: right;\n",
       "    }\n",
       "</style>\n",
       "<table border=\"1\" class=\"dataframe\">\n",
       "  <thead>\n",
       "    <tr style=\"text-align: right;\">\n",
       "      <th></th>\n",
       "      <th>8</th>\n",
       "      <th>4</th>\n",
       "      <th>3</th>\n",
       "      <th>2</th>\n",
       "      <th>1</th>\n",
       "    </tr>\n",
       "  </thead>\n",
       "  <tbody>\n",
       "    <tr>\n",
       "      <th>count</th>\n",
       "      <td>20.000000</td>\n",
       "      <td>20.000000</td>\n",
       "      <td>20.000000</td>\n",
       "      <td>20.000000</td>\n",
       "      <td>20.000000</td>\n",
       "    </tr>\n",
       "    <tr>\n",
       "      <th>mean</th>\n",
       "      <td>5.600000</td>\n",
       "      <td>8.400000</td>\n",
       "      <td>10.650000</td>\n",
       "      <td>8.600000</td>\n",
       "      <td>5.500000</td>\n",
       "    </tr>\n",
       "    <tr>\n",
       "      <th>std</th>\n",
       "      <td>3.761299</td>\n",
       "      <td>3.408967</td>\n",
       "      <td>3.150188</td>\n",
       "      <td>1.846761</td>\n",
       "      <td>1.572795</td>\n",
       "    </tr>\n",
       "    <tr>\n",
       "      <th>min</th>\n",
       "      <td>0.000000</td>\n",
       "      <td>4.000000</td>\n",
       "      <td>3.000000</td>\n",
       "      <td>6.000000</td>\n",
       "      <td>2.000000</td>\n",
       "    </tr>\n",
       "    <tr>\n",
       "      <th>25%</th>\n",
       "      <td>0.000000</td>\n",
       "      <td>7.000000</td>\n",
       "      <td>9.000000</td>\n",
       "      <td>8.000000</td>\n",
       "      <td>5.000000</td>\n",
       "    </tr>\n",
       "    <tr>\n",
       "      <th>50%</th>\n",
       "      <td>8.000000</td>\n",
       "      <td>8.000000</td>\n",
       "      <td>12.000000</td>\n",
       "      <td>8.000000</td>\n",
       "      <td>5.500000</td>\n",
       "    </tr>\n",
       "    <tr>\n",
       "      <th>75%</th>\n",
       "      <td>8.000000</td>\n",
       "      <td>12.000000</td>\n",
       "      <td>12.000000</td>\n",
       "      <td>10.000000</td>\n",
       "      <td>6.250000</td>\n",
       "    </tr>\n",
       "    <tr>\n",
       "      <th>max</th>\n",
       "      <td>8.000000</td>\n",
       "      <td>16.000000</td>\n",
       "      <td>18.000000</td>\n",
       "      <td>12.000000</td>\n",
       "      <td>8.000000</td>\n",
       "    </tr>\n",
       "  </tbody>\n",
       "</table>\n",
       "</div>"
      ],
      "text/plain": [
       "               8          4          3          2          1\n",
       "count  20.000000  20.000000  20.000000  20.000000  20.000000\n",
       "mean    5.600000   8.400000  10.650000   8.600000   5.500000\n",
       "std     3.761299   3.408967   3.150188   1.846761   1.572795\n",
       "min     0.000000   4.000000   3.000000   6.000000   2.000000\n",
       "25%     0.000000   7.000000   9.000000   8.000000   5.000000\n",
       "50%     8.000000   8.000000  12.000000   8.000000   5.500000\n",
       "75%     8.000000  12.000000  12.000000  10.000000   6.250000\n",
       "max     8.000000  16.000000  18.000000  12.000000   8.000000"
      ]
     },
     "execution_count": 45,
     "metadata": {},
     "output_type": "execute_result"
    }
   ],
   "source": [
    "NR = pd.read_csv('../../../results/number_nodes_removed_random_removal_improving_fmnist.csv', index_col=0)\n",
    "NR = NR.T\n",
    "NR.describe()"
   ]
  },
  {
   "cell_type": "code",
   "execution_count": 46,
   "metadata": {},
   "outputs": [],
   "source": [
    "NR[NR.columns[::-1]].describe().drop(['count']).round(4).to_latex('../../../latex/tables/number_nodes_removed_random_removal_improving_fmnist.tex', bold_rows=True)"
   ]
  },
  {
   "cell_type": "code",
   "execution_count": 50,
   "metadata": {},
   "outputs": [],
   "source": [
    "NI = pd.read_csv('../../../results/single_layer_node_importance_mnist.csv', index_col=0)\n",
    "NI.describe().drop(['count']).round(2).to_latex('../../../latex/tables/single_layer_node_importance_mnist.tex', bold_rows=True)"
   ]
  },
  {
   "cell_type": "code",
   "execution_count": 49,
   "metadata": {},
   "outputs": [
    {
     "data": {
      "text/html": [
       "<div>\n",
       "<style scoped>\n",
       "    .dataframe tbody tr th:only-of-type {\n",
       "        vertical-align: middle;\n",
       "    }\n",
       "\n",
       "    .dataframe tbody tr th {\n",
       "        vertical-align: top;\n",
       "    }\n",
       "\n",
       "    .dataframe thead th {\n",
       "        text-align: right;\n",
       "    }\n",
       "</style>\n",
       "<table border=\"1\" class=\"dataframe\">\n",
       "  <thead>\n",
       "    <tr style=\"text-align: right;\">\n",
       "      <th></th>\n",
       "      <th>Zero Nodes</th>\n",
       "      <th>Worse Nodes</th>\n",
       "      <th>Important Nodes</th>\n",
       "    </tr>\n",
       "  </thead>\n",
       "  <tbody>\n",
       "    <tr>\n",
       "      <th>mean</th>\n",
       "      <td>2.26</td>\n",
       "      <td>13.86</td>\n",
       "      <td>111.88</td>\n",
       "    </tr>\n",
       "    <tr>\n",
       "      <th>std</th>\n",
       "      <td>1.43</td>\n",
       "      <td>6.00</td>\n",
       "      <td>5.90</td>\n",
       "    </tr>\n",
       "    <tr>\n",
       "      <th>min</th>\n",
       "      <td>0.00</td>\n",
       "      <td>4.00</td>\n",
       "      <td>100.00</td>\n",
       "    </tr>\n",
       "    <tr>\n",
       "      <th>25%</th>\n",
       "      <td>1.00</td>\n",
       "      <td>9.00</td>\n",
       "      <td>107.25</td>\n",
       "    </tr>\n",
       "    <tr>\n",
       "      <th>50%</th>\n",
       "      <td>2.50</td>\n",
       "      <td>13.00</td>\n",
       "      <td>112.00</td>\n",
       "    </tr>\n",
       "    <tr>\n",
       "      <th>75%</th>\n",
       "      <td>3.00</td>\n",
       "      <td>18.00</td>\n",
       "      <td>116.75</td>\n",
       "    </tr>\n",
       "    <tr>\n",
       "      <th>max</th>\n",
       "      <td>5.00</td>\n",
       "      <td>27.00</td>\n",
       "      <td>123.00</td>\n",
       "    </tr>\n",
       "  </tbody>\n",
       "</table>\n",
       "</div>"
      ],
      "text/plain": [
       "      Zero Nodes  Worse Nodes  Important Nodes\n",
       "mean        2.26        13.86           111.88\n",
       "std         1.43         6.00             5.90\n",
       "min         0.00         4.00           100.00\n",
       "25%         1.00         9.00           107.25\n",
       "50%         2.50        13.00           112.00\n",
       "75%         3.00        18.00           116.75\n",
       "max         5.00        27.00           123.00"
      ]
     },
     "execution_count": 49,
     "metadata": {},
     "output_type": "execute_result"
    }
   ],
   "source": [
    "NI.describe().drop(['count']).round(2)"
   ]
  },
  {
   "cell_type": "code",
   "execution_count": 51,
   "metadata": {},
   "outputs": [],
   "source": [
    "NI = pd.read_csv('../../../results/single_layer_node_importance_fmnist.csv', index_col=0)\n",
    "NI.describe().drop(['count']).round(2).to_latex('../../../latex/tables/single_layer_node_importance_fmnist.tex', bold_rows=True)"
   ]
  },
  {
   "cell_type": "code",
   "execution_count": 52,
   "metadata": {},
   "outputs": [
    {
     "data": {
      "text/html": [
       "<div>\n",
       "<style scoped>\n",
       "    .dataframe tbody tr th:only-of-type {\n",
       "        vertical-align: middle;\n",
       "    }\n",
       "\n",
       "    .dataframe tbody tr th {\n",
       "        vertical-align: top;\n",
       "    }\n",
       "\n",
       "    .dataframe thead th {\n",
       "        text-align: right;\n",
       "    }\n",
       "</style>\n",
       "<table border=\"1\" class=\"dataframe\">\n",
       "  <thead>\n",
       "    <tr style=\"text-align: right;\">\n",
       "      <th></th>\n",
       "      <th>Zero Nodes</th>\n",
       "      <th>Worse Nodes</th>\n",
       "      <th>Important Nodes</th>\n",
       "    </tr>\n",
       "  </thead>\n",
       "  <tbody>\n",
       "    <tr>\n",
       "      <th>mean</th>\n",
       "      <td>13.96</td>\n",
       "      <td>20.92</td>\n",
       "      <td>93.12</td>\n",
       "    </tr>\n",
       "    <tr>\n",
       "      <th>std</th>\n",
       "      <td>3.36</td>\n",
       "      <td>6.50</td>\n",
       "      <td>7.02</td>\n",
       "    </tr>\n",
       "    <tr>\n",
       "      <th>min</th>\n",
       "      <td>5.00</td>\n",
       "      <td>8.00</td>\n",
       "      <td>80.00</td>\n",
       "    </tr>\n",
       "    <tr>\n",
       "      <th>25%</th>\n",
       "      <td>12.00</td>\n",
       "      <td>16.00</td>\n",
       "      <td>89.00</td>\n",
       "    </tr>\n",
       "    <tr>\n",
       "      <th>50%</th>\n",
       "      <td>14.00</td>\n",
       "      <td>19.50</td>\n",
       "      <td>92.00</td>\n",
       "    </tr>\n",
       "    <tr>\n",
       "      <th>75%</th>\n",
       "      <td>16.00</td>\n",
       "      <td>25.75</td>\n",
       "      <td>97.75</td>\n",
       "    </tr>\n",
       "    <tr>\n",
       "      <th>max</th>\n",
       "      <td>24.00</td>\n",
       "      <td>36.00</td>\n",
       "      <td>115.00</td>\n",
       "    </tr>\n",
       "  </tbody>\n",
       "</table>\n",
       "</div>"
      ],
      "text/plain": [
       "      Zero Nodes  Worse Nodes  Important Nodes\n",
       "mean       13.96        20.92            93.12\n",
       "std         3.36         6.50             7.02\n",
       "min         5.00         8.00            80.00\n",
       "25%        12.00        16.00            89.00\n",
       "50%        14.00        19.50            92.00\n",
       "75%        16.00        25.75            97.75\n",
       "max        24.00        36.00           115.00"
      ]
     },
     "execution_count": 52,
     "metadata": {},
     "output_type": "execute_result"
    }
   ],
   "source": [
    "NI.describe().drop(['count']).round(2)"
   ]
  },
  {
   "cell_type": "code",
   "execution_count": 53,
   "metadata": {},
   "outputs": [],
   "source": [
    "NI = pd.read_csv('../../../results/single_layer_node_importance_val_mnist.csv', index_col=0)\n",
    "NI.describe().drop(['count']).round(2).to_latex('../../../latex/tables/single_layer_node_importance_val_mnist.tex', bold_rows=True)"
   ]
  },
  {
   "cell_type": "code",
   "execution_count": 54,
   "metadata": {},
   "outputs": [
    {
     "data": {
      "text/html": [
       "<div>\n",
       "<style scoped>\n",
       "    .dataframe tbody tr th:only-of-type {\n",
       "        vertical-align: middle;\n",
       "    }\n",
       "\n",
       "    .dataframe tbody tr th {\n",
       "        vertical-align: top;\n",
       "    }\n",
       "\n",
       "    .dataframe thead th {\n",
       "        text-align: right;\n",
       "    }\n",
       "</style>\n",
       "<table border=\"1\" class=\"dataframe\">\n",
       "  <thead>\n",
       "    <tr style=\"text-align: right;\">\n",
       "      <th></th>\n",
       "      <th>Zero Nodes</th>\n",
       "      <th>Worse Nodes</th>\n",
       "      <th>Important Nodes</th>\n",
       "    </tr>\n",
       "  </thead>\n",
       "  <tbody>\n",
       "    <tr>\n",
       "      <th>mean</th>\n",
       "      <td>2.12</td>\n",
       "      <td>24.64</td>\n",
       "      <td>101.24</td>\n",
       "    </tr>\n",
       "    <tr>\n",
       "      <th>std</th>\n",
       "      <td>1.60</td>\n",
       "      <td>6.47</td>\n",
       "      <td>6.20</td>\n",
       "    </tr>\n",
       "    <tr>\n",
       "      <th>min</th>\n",
       "      <td>0.00</td>\n",
       "      <td>11.00</td>\n",
       "      <td>86.00</td>\n",
       "    </tr>\n",
       "    <tr>\n",
       "      <th>25%</th>\n",
       "      <td>1.00</td>\n",
       "      <td>19.00</td>\n",
       "      <td>96.25</td>\n",
       "    </tr>\n",
       "    <tr>\n",
       "      <th>50%</th>\n",
       "      <td>2.00</td>\n",
       "      <td>24.00</td>\n",
       "      <td>102.00</td>\n",
       "    </tr>\n",
       "    <tr>\n",
       "      <th>75%</th>\n",
       "      <td>3.00</td>\n",
       "      <td>29.75</td>\n",
       "      <td>105.00</td>\n",
       "    </tr>\n",
       "    <tr>\n",
       "      <th>max</th>\n",
       "      <td>5.00</td>\n",
       "      <td>39.00</td>\n",
       "      <td>112.00</td>\n",
       "    </tr>\n",
       "  </tbody>\n",
       "</table>\n",
       "</div>"
      ],
      "text/plain": [
       "      Zero Nodes  Worse Nodes  Important Nodes\n",
       "mean        2.12        24.64           101.24\n",
       "std         1.60         6.47             6.20\n",
       "min         0.00        11.00            86.00\n",
       "25%         1.00        19.00            96.25\n",
       "50%         2.00        24.00           102.00\n",
       "75%         3.00        29.75           105.00\n",
       "max         5.00        39.00           112.00"
      ]
     },
     "execution_count": 54,
     "metadata": {},
     "output_type": "execute_result"
    }
   ],
   "source": [
    "NI.describe().drop(['count']).round(2)"
   ]
  },
  {
   "cell_type": "code",
   "execution_count": 55,
   "metadata": {},
   "outputs": [],
   "source": [
    "NI = pd.read_csv('../../../results/single_layer_node_importance_val_fmnist.csv', index_col=0)\n",
    "NI.describe().drop(['count']).round(2).to_latex('../../../latex/tables/single_layer_node_importance_val_fmnist.tex', bold_rows=True)"
   ]
  },
  {
   "cell_type": "code",
   "execution_count": 56,
   "metadata": {},
   "outputs": [
    {
     "data": {
      "text/html": [
       "<div>\n",
       "<style scoped>\n",
       "    .dataframe tbody tr th:only-of-type {\n",
       "        vertical-align: middle;\n",
       "    }\n",
       "\n",
       "    .dataframe tbody tr th {\n",
       "        vertical-align: top;\n",
       "    }\n",
       "\n",
       "    .dataframe thead th {\n",
       "        text-align: right;\n",
       "    }\n",
       "</style>\n",
       "<table border=\"1\" class=\"dataframe\">\n",
       "  <thead>\n",
       "    <tr style=\"text-align: right;\">\n",
       "      <th></th>\n",
       "      <th>Zero Nodes</th>\n",
       "      <th>Worse Nodes</th>\n",
       "      <th>Important Nodes</th>\n",
       "    </tr>\n",
       "  </thead>\n",
       "  <tbody>\n",
       "    <tr>\n",
       "      <th>mean</th>\n",
       "      <td>15.32</td>\n",
       "      <td>27.54</td>\n",
       "      <td>85.14</td>\n",
       "    </tr>\n",
       "    <tr>\n",
       "      <th>std</th>\n",
       "      <td>3.04</td>\n",
       "      <td>6.79</td>\n",
       "      <td>6.46</td>\n",
       "    </tr>\n",
       "    <tr>\n",
       "      <th>min</th>\n",
       "      <td>10.00</td>\n",
       "      <td>14.00</td>\n",
       "      <td>71.00</td>\n",
       "    </tr>\n",
       "    <tr>\n",
       "      <th>25%</th>\n",
       "      <td>13.00</td>\n",
       "      <td>22.25</td>\n",
       "      <td>80.50</td>\n",
       "    </tr>\n",
       "    <tr>\n",
       "      <th>50%</th>\n",
       "      <td>15.00</td>\n",
       "      <td>26.50</td>\n",
       "      <td>86.00</td>\n",
       "    </tr>\n",
       "    <tr>\n",
       "      <th>75%</th>\n",
       "      <td>18.00</td>\n",
       "      <td>32.75</td>\n",
       "      <td>90.75</td>\n",
       "    </tr>\n",
       "    <tr>\n",
       "      <th>max</th>\n",
       "      <td>21.00</td>\n",
       "      <td>41.00</td>\n",
       "      <td>97.00</td>\n",
       "    </tr>\n",
       "  </tbody>\n",
       "</table>\n",
       "</div>"
      ],
      "text/plain": [
       "      Zero Nodes  Worse Nodes  Important Nodes\n",
       "mean       15.32        27.54            85.14\n",
       "std         3.04         6.79             6.46\n",
       "min        10.00        14.00            71.00\n",
       "25%        13.00        22.25            80.50\n",
       "50%        15.00        26.50            86.00\n",
       "75%        18.00        32.75            90.75\n",
       "max        21.00        41.00            97.00"
      ]
     },
     "execution_count": 56,
     "metadata": {},
     "output_type": "execute_result"
    }
   ],
   "source": [
    "NI.describe().drop(['count']).round(2)"
   ]
  },
  {
   "cell_type": "code",
   "execution_count": null,
   "metadata": {},
   "outputs": [],
   "source": []
  },
  {
   "cell_type": "code",
   "execution_count": 57,
   "metadata": {},
   "outputs": [],
   "source": [
    "NI = pd.read_csv('../../../results/multi_layer_1_node_importance_mnist.csv', index_col=0)\n",
    "NI.describe().drop(['count']).round(2).to_latex('../../../latex/tables/multi_layer_1_node_importance_mnist.tex', bold_rows=True)"
   ]
  },
  {
   "cell_type": "code",
   "execution_count": 58,
   "metadata": {},
   "outputs": [],
   "source": [
    "NI = pd.read_csv('../../../results/multi_layer_2_node_importance_mnist.csv', index_col=0)\n",
    "NI.describe().drop(['count']).round(2).to_latex('../../../latex/tables/multi_layer_2_node_importance_mnist.tex', bold_rows=True)"
   ]
  },
  {
   "cell_type": "code",
   "execution_count": 59,
   "metadata": {},
   "outputs": [],
   "source": [
    "NI = pd.read_csv('../../../results/multi_layer_3_node_importance_mnist.csv', index_col=0)\n",
    "NI.describe().drop(['count']).round(2).to_latex('../../../latex/tables/multi_layer_3_node_importance_mnist.tex', bold_rows=True)"
   ]
  },
  {
   "cell_type": "code",
   "execution_count": null,
   "metadata": {},
   "outputs": [],
   "source": []
  },
  {
   "cell_type": "code",
   "execution_count": 60,
   "metadata": {},
   "outputs": [],
   "source": [
    "NI = pd.read_csv('../../../results/multi_layer_1_node_importance_fmnist.csv', index_col=0)\n",
    "NI.describe().drop(['count']).round(2).to_latex('../../../latex/tables/multi_layer_1_node_importance_fmnist.tex', bold_rows=True)"
   ]
  },
  {
   "cell_type": "code",
   "execution_count": 61,
   "metadata": {},
   "outputs": [],
   "source": [
    "NI = pd.read_csv('../../../results/multi_layer_2_node_importance_fmnist.csv', index_col=0)\n",
    "NI.describe().drop(['count']).round(2).to_latex('../../../latex/tables/multi_layer_2_node_importance_fmnist.tex', bold_rows=True)"
   ]
  },
  {
   "cell_type": "code",
   "execution_count": 62,
   "metadata": {},
   "outputs": [],
   "source": [
    "NI = pd.read_csv('../../../results/multi_layer_3_node_importance_fmnist.csv', index_col=0)\n",
    "NI.describe().drop(['count']).round(2).to_latex('../../../latex/tables/multi_layer_3_node_importance_fmnist.tex', bold_rows=True)"
   ]
  },
  {
   "cell_type": "code",
   "execution_count": null,
   "metadata": {},
   "outputs": [],
   "source": []
  },
  {
   "cell_type": "code",
   "execution_count": 63,
   "metadata": {},
   "outputs": [],
   "source": [
    "NI = pd.read_csv('../../../results/multi_layer_1_node_importance_val_mnist.csv', index_col=0)\n",
    "NI.describe().drop(['count']).round(2).to_latex('../../../latex/tables/multi_layer_1_node_importance_val_mnist.tex', bold_rows=True)"
   ]
  },
  {
   "cell_type": "code",
   "execution_count": 64,
   "metadata": {},
   "outputs": [],
   "source": [
    "NI = pd.read_csv('../../../results/multi_layer_2_node_importance_val_mnist.csv', index_col=0)\n",
    "NI.describe().drop(['count']).round(2).to_latex('../../../latex/tables/multi_layer_2_node_importance_val_mnist.tex', bold_rows=True)"
   ]
  },
  {
   "cell_type": "code",
   "execution_count": 65,
   "metadata": {},
   "outputs": [],
   "source": [
    "NI = pd.read_csv('../../../results/multi_layer_3_node_importance_val_mnist.csv', index_col=0)\n",
    "NI.describe().drop(['count']).round(2).to_latex('../../../latex/tables/multi_layer_3_node_importance_val_mnist.tex', bold_rows=True)"
   ]
  },
  {
   "cell_type": "code",
   "execution_count": null,
   "metadata": {},
   "outputs": [],
   "source": []
  },
  {
   "cell_type": "code",
   "execution_count": 66,
   "metadata": {},
   "outputs": [],
   "source": [
    "NI = pd.read_csv('../../../results/multi_layer_1_node_importance_val_fmnist.csv', index_col=0)\n",
    "NI.describe().drop(['count']).round(2).to_latex('../../../latex/tables/multi_layer_1_node_importance_val_fmnist.tex', bold_rows=True)"
   ]
  },
  {
   "cell_type": "code",
   "execution_count": 67,
   "metadata": {},
   "outputs": [],
   "source": [
    "NI = pd.read_csv('../../../results/multi_layer_2_node_importance_val_fmnist.csv', index_col=0)\n",
    "NI.describe().drop(['count']).round(2).to_latex('../../../latex/tables/multi_layer_2_node_importance_val_fmnist.tex', bold_rows=True)"
   ]
  },
  {
   "cell_type": "code",
   "execution_count": 68,
   "metadata": {},
   "outputs": [],
   "source": [
    "NI = pd.read_csv('../../../results/multi_layer_3_node_importance_val_fmnist.csv', index_col=0)\n",
    "NI.describe().drop(['count']).round(2).to_latex('../../../latex/tables/multi_layer_3_node_importance_val_fmnist.tex', bold_rows=True)"
   ]
  },
  {
   "cell_type": "code",
   "execution_count": null,
   "metadata": {},
   "outputs": [],
   "source": []
  },
  {
   "cell_type": "code",
   "execution_count": 69,
   "metadata": {},
   "outputs": [],
   "source": [
    "NI = pd.read_csv('../../../results/CNN_dense_node_importance_mnist.csv', index_col=0)\n",
    "NI.describe().drop(['count']).round(2).to_latex('../../../latex/tables/CNN_dense_node_importance_mnist.tex', bold_rows=True)"
   ]
  },
  {
   "cell_type": "code",
   "execution_count": 70,
   "metadata": {},
   "outputs": [],
   "source": [
    "NI = pd.read_csv('../../../results/CNN_conv_1_node_importance_mnist.csv', index_col=0)\n",
    "NI.describe().drop(['count']).round(2).to_latex('../../../latex/tables/CNN_conv_1_node_importance_mnist.tex', bold_rows=True)"
   ]
  },
  {
   "cell_type": "code",
   "execution_count": 71,
   "metadata": {},
   "outputs": [],
   "source": [
    "NI = pd.read_csv('../../../results/CNN_conv_2_node_importance_mnist.csv', index_col=0)\n",
    "NI.describe().drop(['count']).round(2).to_latex('../../../latex/tables/CNN_conv_2_node_importance_mnist.tex', bold_rows=True)"
   ]
  },
  {
   "cell_type": "code",
   "execution_count": 72,
   "metadata": {},
   "outputs": [],
   "source": [
    "NI = pd.read_csv('../../../results/CNN_conv_3_node_importance_mnist.csv', index_col=0)\n",
    "NI.describe().drop(['count']).round(2).to_latex('../../../latex/tables/CNN_conv_3_node_importance_mnist.tex', bold_rows=True)"
   ]
  },
  {
   "cell_type": "code",
   "execution_count": 73,
   "metadata": {},
   "outputs": [],
   "source": [
    "NI = pd.read_csv('../../../results/CNN_conv_4_node_importance_mnist.csv', index_col=0)\n",
    "NI.describe().drop(['count']).round(2).to_latex('../../../latex/tables/CNN_conv_4_node_importance_mnist.tex', bold_rows=True)"
   ]
  },
  {
   "cell_type": "code",
   "execution_count": null,
   "metadata": {},
   "outputs": [],
   "source": []
  },
  {
   "cell_type": "code",
   "execution_count": 74,
   "metadata": {},
   "outputs": [],
   "source": [
    "NI = pd.read_csv('../../../results/CNN_dense_node_importance_fmnist.csv', index_col=0)\n",
    "NI.describe().drop(['count']).round(2).to_latex('../../../latex/tables/CNN_dense_node_importance_fmnist.tex', bold_rows=True)"
   ]
  },
  {
   "cell_type": "code",
   "execution_count": 75,
   "metadata": {},
   "outputs": [],
   "source": [
    "NI = pd.read_csv('../../../results/CNN_conv_1_node_importance_fmnist.csv', index_col=0)\n",
    "NI.describe().drop(['count']).round(2).to_latex('../../../latex/tables/CNN_conv_1_node_importance_fmnist.tex', bold_rows=True)"
   ]
  },
  {
   "cell_type": "code",
   "execution_count": 76,
   "metadata": {},
   "outputs": [],
   "source": [
    "NI = pd.read_csv('../../../results/CNN_conv_2_node_importance_fmnist.csv', index_col=0)\n",
    "NI.describe().drop(['count']).round(2).to_latex('../../../latex/tables/CNN_conv_2_node_importance_fmnist.tex', bold_rows=True)"
   ]
  },
  {
   "cell_type": "code",
   "execution_count": 77,
   "metadata": {},
   "outputs": [],
   "source": [
    "NI = pd.read_csv('../../../results/CNN_conv_3_node_importance_fmnist.csv', index_col=0)\n",
    "NI.describe().drop(['count']).round(2).to_latex('../../../latex/tables/CNN_conv_3_node_importance_fmnist.tex', bold_rows=True)"
   ]
  },
  {
   "cell_type": "code",
   "execution_count": 78,
   "metadata": {},
   "outputs": [],
   "source": [
    "NI = pd.read_csv('../../../results/CNN_conv_4_node_importance_mnist.csv', index_col=0)\n",
    "NI.describe().drop(['count']).round(2).to_latex('../../../latex/tables/CNN_conv_4_node_importance_fmnist.tex', bold_rows=True)"
   ]
  },
  {
   "cell_type": "code",
   "execution_count": null,
   "metadata": {},
   "outputs": [],
   "source": []
  },
  {
   "cell_type": "code",
   "execution_count": 79,
   "metadata": {},
   "outputs": [],
   "source": [
    "NI = pd.read_csv('../../../results/CNN_dense_node_importance_cifar.csv', index_col=0)\n",
    "NI.describe().drop(['count']).round(2).to_latex('../../../latex/tables/CNN_dense_node_importance_cifar.tex', bold_rows=True)"
   ]
  },
  {
   "cell_type": "code",
   "execution_count": 80,
   "metadata": {},
   "outputs": [],
   "source": [
    "NI = pd.read_csv('../../../results/CNN_conv_1_node_importance_cifar.csv', index_col=0)\n",
    "NI.describe().drop(['count']).round(2).to_latex('../../../latex/tables/CNN_conv_1_node_importance_cifar.tex', bold_rows=True)"
   ]
  },
  {
   "cell_type": "code",
   "execution_count": 81,
   "metadata": {},
   "outputs": [],
   "source": [
    "NI = pd.read_csv('../../../results/CNN_conv_2_node_importance_cifar.csv', index_col=0)\n",
    "NI.describe().drop(['count']).round(2).to_latex('../../../latex/tables/CNN_conv_2_node_importance_cifar.tex', bold_rows=True)"
   ]
  },
  {
   "cell_type": "code",
   "execution_count": 82,
   "metadata": {},
   "outputs": [],
   "source": [
    "NI = pd.read_csv('../../../results/CNN_conv_3_node_importance_cifar.csv', index_col=0)\n",
    "NI.describe().drop(['count']).round(2).to_latex('../../../latex/tables/CNN_conv_3_node_importance_cifar.tex', bold_rows=True)"
   ]
  },
  {
   "cell_type": "code",
   "execution_count": 83,
   "metadata": {},
   "outputs": [],
   "source": [
    "NI = pd.read_csv('../../../results/CNN_conv_4_node_importance_cifar.csv', index_col=0)\n",
    "NI.describe().drop(['count']).round(2).to_latex('../../../latex/tables/CNN_conv_4_node_importance_cifar.tex', bold_rows=True)"
   ]
  },
  {
   "cell_type": "code",
   "execution_count": null,
   "metadata": {},
   "outputs": [],
   "source": []
  },
  {
   "cell_type": "code",
   "execution_count": 84,
   "metadata": {},
   "outputs": [],
   "source": [
    "NI = pd.read_csv('../../../results/CNN_dense_node_importance_val_mnist.csv', index_col=0)\n",
    "NI.describe().drop(['count']).round(2).to_latex('../../../latex/tables/CNN_dense_node_importance_val_mnist.tex', bold_rows=True)"
   ]
  },
  {
   "cell_type": "code",
   "execution_count": 85,
   "metadata": {},
   "outputs": [],
   "source": [
    "NI = pd.read_csv('../../../results/CNN_conv_1_node_importance_val_mnist.csv', index_col=0)\n",
    "NI.describe().drop(['count']).round(2).to_latex('../../../latex/tables/CNN_conv_1_node_importance_val_mnist.tex', bold_rows=True)"
   ]
  },
  {
   "cell_type": "code",
   "execution_count": 86,
   "metadata": {},
   "outputs": [],
   "source": [
    "NI = pd.read_csv('../../../results/CNN_conv_2_node_importance_val_mnist.csv', index_col=0)\n",
    "NI.describe().drop(['count']).round(2).to_latex('../../../latex/tables/CNN_conv_2_node_importance_val_mnist.tex', bold_rows=True)"
   ]
  },
  {
   "cell_type": "code",
   "execution_count": 87,
   "metadata": {},
   "outputs": [],
   "source": [
    "NI = pd.read_csv('../../../results/CNN_conv_3_node_importance_val_mnist.csv', index_col=0)\n",
    "NI.describe().drop(['count']).round(2).to_latex('../../../latex/tables/CNN_conv_3_node_importance_val_mnist.tex', bold_rows=True)"
   ]
  },
  {
   "cell_type": "code",
   "execution_count": 88,
   "metadata": {},
   "outputs": [],
   "source": [
    "NI = pd.read_csv('../../../results/CNN_conv_4_node_importance_val_mnist.csv', index_col=0)\n",
    "NI.describe().drop(['count']).round(2).to_latex('../../../latex/tables/CNN_conv_4_node_importance_val_mnist.tex', bold_rows=True)"
   ]
  },
  {
   "cell_type": "code",
   "execution_count": null,
   "metadata": {},
   "outputs": [],
   "source": []
  },
  {
   "cell_type": "code",
   "execution_count": 89,
   "metadata": {},
   "outputs": [],
   "source": [
    "NI = pd.read_csv('../../../results/CNN_dense_node_importance_val_fmnist.csv', index_col=0)\n",
    "NI.describe().drop(['count']).round(2).to_latex('../../../latex/tables/CNN_dense_node_importance_val_fmnist.tex', bold_rows=True)"
   ]
  },
  {
   "cell_type": "code",
   "execution_count": 90,
   "metadata": {},
   "outputs": [],
   "source": [
    "NI = pd.read_csv('../../../results/CNN_conv_1_node_importance_val_fmnist.csv', index_col=0)\n",
    "NI.describe().drop(['count']).round(2).to_latex('../../../latex/tables/CNN_conv_1_node_importance_val_fmnist.tex', bold_rows=True)"
   ]
  },
  {
   "cell_type": "code",
   "execution_count": 91,
   "metadata": {},
   "outputs": [],
   "source": [
    "NI = pd.read_csv('../../../results/CNN_conv_2_node_importance_val_fmnist.csv', index_col=0)\n",
    "NI.describe().drop(['count']).round(2).to_latex('../../../latex/tables/CNN_conv_2_node_importance_val_fmnist.tex', bold_rows=True)"
   ]
  },
  {
   "cell_type": "code",
   "execution_count": 92,
   "metadata": {},
   "outputs": [],
   "source": [
    "NI = pd.read_csv('../../../results/CNN_conv_3_node_importance_val_fmnist.csv', index_col=0)\n",
    "NI.describe().drop(['count']).round(2).to_latex('../../../latex/tables/CNN_conv_3_node_importance_val_fmnist.tex', bold_rows=True)"
   ]
  },
  {
   "cell_type": "code",
   "execution_count": 93,
   "metadata": {},
   "outputs": [],
   "source": [
    "NI = pd.read_csv('../../../results/CNN_conv_4_node_importance_val_fmnist.csv', index_col=0)\n",
    "NI.describe().drop(['count']).round(2).to_latex('../../../latex/tables/CNN_conv_4_node_importance_val_fmnist.tex', bold_rows=True)"
   ]
  },
  {
   "cell_type": "code",
   "execution_count": null,
   "metadata": {},
   "outputs": [],
   "source": []
  },
  {
   "cell_type": "code",
   "execution_count": 94,
   "metadata": {},
   "outputs": [],
   "source": [
    "NI = pd.read_csv('../../../results/CNN_dense_node_importance_val_cifar.csv', index_col=0)\n",
    "NI.describe().drop(['count']).round(2).to_latex('../../../latex/tables/CNN_dense_node_importance_val_cifar.tex', bold_rows=True)"
   ]
  },
  {
   "cell_type": "code",
   "execution_count": 95,
   "metadata": {},
   "outputs": [],
   "source": [
    "NI = pd.read_csv('../../../results/CNN_conv_1_node_importance_val_cifar.csv', index_col=0)\n",
    "NI.describe().drop(['count']).round(2).to_latex('../../../latex/tables/CNN_conv_1_node_importance_val_cifar.tex', bold_rows=True)"
   ]
  },
  {
   "cell_type": "code",
   "execution_count": 96,
   "metadata": {},
   "outputs": [],
   "source": [
    "NI = pd.read_csv('../../../results/CNN_conv_2_node_importance_val_cifar.csv', index_col=0)\n",
    "NI.describe().drop(['count']).round(2).to_latex('../../../latex/tables/CNN_conv_2_node_importance_val_cifar.tex', bold_rows=True)"
   ]
  },
  {
   "cell_type": "code",
   "execution_count": 97,
   "metadata": {},
   "outputs": [],
   "source": [
    "NI = pd.read_csv('../../../results/CNN_conv_3_node_importance_val_cifar.csv', index_col=0)\n",
    "NI.describe().drop(['count']).round(2).to_latex('../../../latex/tables/CNN_conv_3_node_importance_val_cifar.tex', bold_rows=True)"
   ]
  },
  {
   "cell_type": "code",
   "execution_count": 98,
   "metadata": {},
   "outputs": [],
   "source": [
    "NI = pd.read_csv('../../../results/CNN_conv_4_node_importance_val_cifar.csv', index_col=0)\n",
    "NI.describe().drop(['count']).round(2).to_latex('../../../latex/tables/CNN_conv_4_node_importance_val_cifar.tex', bold_rows=True)"
   ]
  },
  {
   "cell_type": "code",
   "execution_count": null,
   "metadata": {},
   "outputs": [],
   "source": []
  },
  {
   "cell_type": "code",
   "execution_count": 103,
   "metadata": {},
   "outputs": [],
   "source": [
    "NR = pd.read_csv('../../../results/num_removed_ANN_pre_calc_mnist.csv', index_col=0)\n",
    "NR.columns = ['Number of Nodes']\n",
    "NR.describe().drop(['count']).round(2).to_latex('../../../latex/tables/num_removed_ANN_pre_calc_mnist.tex', bold_rows=True)"
   ]
  },
  {
   "cell_type": "code",
   "execution_count": 104,
   "metadata": {},
   "outputs": [],
   "source": [
    "A = pd.read_csv('../../../results/change_accuracy_ANN_pre_calc_mnist.csv', index_col=0)\n",
    "A.columns = ['Change in Accuracy']\n",
    "A.describe().drop(['count']).round(4).to_latex('../../../latex/tables/change_accuracy_ANN_pre_calc_mnist.tex', bold_rows=True)"
   ]
  },
  {
   "cell_type": "code",
   "execution_count": 105,
   "metadata": {},
   "outputs": [],
   "source": [
    "L = pd.read_csv('../../../results/chnage_loss_ANN_pre_calc_mnist.csv', index_col=0)\n",
    "L.columns = ['Change in Loss']\n",
    "L.describe().drop(['count']).round(4).to_latex('../../../latex/tables/change_loss_ANN_pre_calc_mnist.tex', bold_rows=True)"
   ]
  },
  {
   "cell_type": "code",
   "execution_count": null,
   "metadata": {},
   "outputs": [],
   "source": []
  },
  {
   "cell_type": "code",
   "execution_count": 106,
   "metadata": {},
   "outputs": [],
   "source": [
    "NR = pd.read_csv('../../../results/num_removed_ANN_pre_calc_fmnist.csv', index_col=0)\n",
    "NR.columns = ['Number of Nodes']\n",
    "NR.describe().drop(['count']).round(2).to_latex('../../../latex/tables/num_removed_ANN_pre_calc_fmnist.tex', bold_rows=True)"
   ]
  },
  {
   "cell_type": "code",
   "execution_count": 107,
   "metadata": {},
   "outputs": [],
   "source": [
    "A = pd.read_csv('../../../results/change_accuracy_ANN_pre_calc_fmnist.csv', index_col=0)\n",
    "A.columns = ['Change in Accuracy']\n",
    "A.describe().drop(['count']).round(4).to_latex('../../../latex/tables/change_accuracy_ANN_pre_calc_fmnist.tex', bold_rows=True)"
   ]
  },
  {
   "cell_type": "code",
   "execution_count": 108,
   "metadata": {},
   "outputs": [],
   "source": [
    "L = pd.read_csv('../../../results/chnage_loss_ANN_pre_calc_fmnist.csv', index_col=0)\n",
    "L.columns = ['Change in Loss']\n",
    "L.describe().drop(['count']).round(4).to_latex('../../../latex/tables/change_loss_ANN_pre_calc_fmnist.tex', bold_rows=True)"
   ]
  },
  {
   "cell_type": "code",
   "execution_count": null,
   "metadata": {},
   "outputs": [],
   "source": []
  },
  {
   "cell_type": "code",
   "execution_count": 109,
   "metadata": {},
   "outputs": [],
   "source": [
    "NR = pd.read_csv('../../../results/num_removed_ANN_pre_calc_val_mnist.csv', index_col=0)\n",
    "NR.columns = ['Number of Nodes']\n",
    "NR.describe().drop(['count']).round(2).to_latex('../../../latex/tables/num_removed_ANN_pre_calc_val_mnist.tex', bold_rows=True)"
   ]
  },
  {
   "cell_type": "code",
   "execution_count": 110,
   "metadata": {},
   "outputs": [],
   "source": [
    "A = pd.read_csv('../../../results/change_accuracy_ANN_pre_calc_val_mnist.csv', index_col=0)\n",
    "A.columns = ['Change in Accuracy']\n",
    "A.describe().drop(['count']).round(4).to_latex('../../../latex/tables/change_accuracy_ANN_pre_calc_val_mnist.tex', bold_rows=True)"
   ]
  },
  {
   "cell_type": "code",
   "execution_count": 111,
   "metadata": {},
   "outputs": [],
   "source": [
    "L = pd.read_csv('../../../results/chnage_loss_ANN_pre_calc_val_mnist.csv', index_col=0)\n",
    "L.columns = ['Change in Loss']\n",
    "L.describe().drop(['count']).round(4).to_latex('../../../latex/tables/change_loss_ANN_pre_calc_val_mnist.tex', bold_rows=True)"
   ]
  },
  {
   "cell_type": "code",
   "execution_count": null,
   "metadata": {},
   "outputs": [],
   "source": []
  },
  {
   "cell_type": "code",
   "execution_count": 112,
   "metadata": {},
   "outputs": [],
   "source": [
    "NR = pd.read_csv('../../../results/num_removed_ANN_pre_calc_val_fmnist.csv', index_col=0)\n",
    "NR.columns = ['Number of Nodes']\n",
    "NR.describe().drop(['count']).round(2).to_latex('../../../latex/tables/num_removed_ANN_pre_calc_val_fmnist.tex', bold_rows=True)"
   ]
  },
  {
   "cell_type": "code",
   "execution_count": 113,
   "metadata": {},
   "outputs": [],
   "source": [
    "A = pd.read_csv('../../../results/change_accuracy_ANN_pre_calc_val_fmnist.csv', index_col=0)\n",
    "A.columns = ['Change in Accuracy']\n",
    "A.describe().drop(['count']).round(4).to_latex('../../../latex/tables/change_accuracy_ANN_pre_calc_val_fmnist.tex', bold_rows=True)"
   ]
  },
  {
   "cell_type": "code",
   "execution_count": 114,
   "metadata": {},
   "outputs": [],
   "source": [
    "L = pd.read_csv('../../../results/chnage_loss_ANN_pre_calc_val_fmnist.csv', index_col=0)\n",
    "L.columns = ['Change in Loss']\n",
    "L.describe().drop(['count']).round(4).to_latex('../../../latex/tables/change_loss_ANN_pre_calc_val_fmnist.tex', bold_rows=True)"
   ]
  },
  {
   "cell_type": "code",
   "execution_count": null,
   "metadata": {},
   "outputs": [],
   "source": []
  },
  {
   "cell_type": "code",
   "execution_count": 115,
   "metadata": {},
   "outputs": [],
   "source": [
    "NR = pd.read_csv('../../../results/num_removed_MLP_pre_calc_mnist.csv', index_col=0)\n",
    "NR.describe().drop(['count']).round(2).to_latex('../../../latex/tables/num_removed_MLP_pre_calc_mnist.tex', bold_rows=True)"
   ]
  },
  {
   "cell_type": "code",
   "execution_count": 116,
   "metadata": {},
   "outputs": [],
   "source": [
    "A = pd.read_csv('../../../results/change_accuracy_MLP_pre_calc_mnist.csv', index_col=0)\n",
    "A.columns = ['Change in Accuracy']\n",
    "A.describe().drop(['count']).round(4).to_latex('../../../latex/tables/change_accuracy_MLP_pre_calc_mnist.tex', bold_rows=True)"
   ]
  },
  {
   "cell_type": "code",
   "execution_count": 117,
   "metadata": {},
   "outputs": [],
   "source": [
    "L = pd.read_csv('../../../results/chnage_loss_MLP_pre_calc_mnist.csv', index_col=0)\n",
    "L.columns = ['Change in Loss']\n",
    "L.describe().drop(['count']).round(4).to_latex('../../../latex/tables/change_loss_MLP_pre_calc_mnist.tex', bold_rows=True)"
   ]
  },
  {
   "cell_type": "code",
   "execution_count": null,
   "metadata": {},
   "outputs": [],
   "source": []
  },
  {
   "cell_type": "code",
   "execution_count": 118,
   "metadata": {},
   "outputs": [],
   "source": [
    "NR = pd.read_csv('../../../results/num_removed_MLP_pre_calc_fmnist.csv', index_col=0)\n",
    "NR.describe().drop(['count']).round(2).to_latex('../../../latex/tables/num_removed_MLP_pre_calc_fmnist.tex', bold_rows=True)"
   ]
  },
  {
   "cell_type": "code",
   "execution_count": 119,
   "metadata": {},
   "outputs": [],
   "source": [
    "A = pd.read_csv('../../../results/change_accuracy_MLP_pre_calc_fmnist.csv', index_col=0)\n",
    "A.columns = ['Change in Accuracy']\n",
    "A.describe().drop(['count']).round(4).to_latex('../../../latex/tables/change_accuracy_MLP_pre_calc_fmnist.tex', bold_rows=True)"
   ]
  },
  {
   "cell_type": "code",
   "execution_count": 120,
   "metadata": {},
   "outputs": [],
   "source": [
    "L = pd.read_csv('../../../results/chnage_loss_MLP_pre_calc_fmnist.csv', index_col=0)\n",
    "L.columns = ['Change in Loss']\n",
    "L.describe().drop(['count']).round(4).to_latex('../../../latex/tables/change_loss_MLP_pre_calc_fmnist.tex', bold_rows=True)"
   ]
  },
  {
   "cell_type": "code",
   "execution_count": null,
   "metadata": {},
   "outputs": [],
   "source": []
  },
  {
   "cell_type": "code",
   "execution_count": 121,
   "metadata": {},
   "outputs": [],
   "source": [
    "NR = pd.read_csv('../../../results/num_removed_MLP_pre_calc_val_mnist.csv', index_col=0)\n",
    "NR.describe().drop(['count']).round(2).to_latex('../../../latex/tables/num_removed_MLP_pre_calc_val_mnist.tex', bold_rows=True)"
   ]
  },
  {
   "cell_type": "code",
   "execution_count": 122,
   "metadata": {},
   "outputs": [],
   "source": [
    "A = pd.read_csv('../../../results/change_accuracy_MLP_pre_calc_val_mnist.csv', index_col=0)\n",
    "A.columns = ['Change in Accuracy']\n",
    "A.describe().drop(['count']).round(4).to_latex('../../../latex/tables/change_accuracy_MLP_pre_calc_val_mnist.tex', bold_rows=True)"
   ]
  },
  {
   "cell_type": "code",
   "execution_count": 123,
   "metadata": {},
   "outputs": [],
   "source": [
    "L = pd.read_csv('../../../results/chnage_loss_MLP_pre_calc_val_mnist.csv', index_col=0)\n",
    "L.columns = ['Change in Loss']\n",
    "L.describe().drop(['count']).round(4).to_latex('../../../latex/tables/change_loss_MLP_pre_calc_val_mnist.tex', bold_rows=True)"
   ]
  },
  {
   "cell_type": "code",
   "execution_count": null,
   "metadata": {},
   "outputs": [],
   "source": []
  },
  {
   "cell_type": "code",
   "execution_count": 124,
   "metadata": {},
   "outputs": [],
   "source": [
    "NR = pd.read_csv('../../../results/num_removed_MLP_pre_calc_val_fmnist.csv', index_col=0)\n",
    "NR.describe().drop(['count']).round(2).to_latex('../../../latex/tables/num_removed_MLP_pre_calc_val_fmnist.tex', bold_rows=True)"
   ]
  },
  {
   "cell_type": "code",
   "execution_count": 125,
   "metadata": {},
   "outputs": [],
   "source": [
    "A = pd.read_csv('../../../results/change_accuracy_MLP_pre_calc_val_fmnist.csv', index_col=0)\n",
    "A.columns = ['Change in Accuracy']\n",
    "A.describe().drop(['count']).round(4).to_latex('../../../latex/tables/change_accuracy_MLP_pre_calc_val_fmnist.tex', bold_rows=True)"
   ]
  },
  {
   "cell_type": "code",
   "execution_count": 126,
   "metadata": {},
   "outputs": [],
   "source": [
    "L = pd.read_csv('../../../results/chnage_loss_MLP_pre_calc_val_fmnist.csv', index_col=0)\n",
    "L.columns = ['Change in Loss']\n",
    "L.describe().drop(['count']).round(4).to_latex('../../../latex/tables/change_loss_MLP_pre_calc_val_fmnist.tex', bold_rows=True)"
   ]
  },
  {
   "cell_type": "code",
   "execution_count": null,
   "metadata": {},
   "outputs": [],
   "source": []
  },
  {
   "cell_type": "code",
   "execution_count": 127,
   "metadata": {},
   "outputs": [],
   "source": [
    "NR = pd.read_csv('../../../results/num_removed_CNN_pre_calc_mnist.csv', index_col=0)\n",
    "NR.describe().drop(['count']).round(2).to_latex('../../../latex/tables/num_removed_CNN_pre_calc_mnist.tex', bold_rows=True)"
   ]
  },
  {
   "cell_type": "code",
   "execution_count": 128,
   "metadata": {},
   "outputs": [],
   "source": [
    "A = pd.read_csv('../../../results/change_accuracy_CNN_pre_calc_mnist.csv', index_col=0)\n",
    "A.columns = ['Change in Accuracy']\n",
    "A.describe().drop(['count']).round(4).to_latex('../../../latex/tables/change_accuracy_CNN_pre_calc_mnist.tex', bold_rows=True)"
   ]
  },
  {
   "cell_type": "code",
   "execution_count": 129,
   "metadata": {},
   "outputs": [],
   "source": [
    "L = pd.read_csv('../../../results/chnage_loss_CNN_pre_calc_mnist.csv', index_col=0)\n",
    "L.columns = ['Change in Loss']\n",
    "L.describe().drop(['count']).round(4).to_latex('../../../latex/tables/change_loss_CNN_pre_calc_mnist.tex', bold_rows=True)"
   ]
  },
  {
   "cell_type": "code",
   "execution_count": null,
   "metadata": {},
   "outputs": [],
   "source": []
  },
  {
   "cell_type": "code",
   "execution_count": 130,
   "metadata": {},
   "outputs": [],
   "source": [
    "NR = pd.read_csv('../../../results/num_removed_CNN_pre_calc_fmnist.csv', index_col=0)\n",
    "NR.describe().drop(['count']).round(2).to_latex('../../../latex/tables/num_removed_CNN_pre_calc_fmnist.tex', bold_rows=True)"
   ]
  },
  {
   "cell_type": "code",
   "execution_count": 131,
   "metadata": {},
   "outputs": [],
   "source": [
    "A = pd.read_csv('../../../results/change_accuracy_CNN_pre_calc_fmnist.csv', index_col=0)\n",
    "A.columns = ['Change in Accuracy']\n",
    "A.describe().drop(['count']).round(4).to_latex('../../../latex/tables/change_accuracy_CNN_pre_calc_fmnist.tex', bold_rows=True)"
   ]
  },
  {
   "cell_type": "code",
   "execution_count": 132,
   "metadata": {},
   "outputs": [],
   "source": [
    "L = pd.read_csv('../../../results/chnage_loss_CNN_pre_calc_fmnist.csv', index_col=0)\n",
    "L.columns = ['Change in Loss']\n",
    "L.describe().drop(['count']).round(4).to_latex('../../../latex/tables/change_loss_CNN_pre_calc_fmnist.tex', bold_rows=True)"
   ]
  },
  {
   "cell_type": "code",
   "execution_count": null,
   "metadata": {},
   "outputs": [],
   "source": []
  },
  {
   "cell_type": "code",
   "execution_count": 133,
   "metadata": {},
   "outputs": [],
   "source": [
    "NR = pd.read_csv('../../../results/num_removed_CNN_pre_calc_cifar.csv', index_col=0)\n",
    "NR.describe().drop(['count']).round(2).to_latex('../../../latex/tables/num_removed_CNN_pre_calc_cifar.tex', bold_rows=True)"
   ]
  },
  {
   "cell_type": "code",
   "execution_count": 134,
   "metadata": {},
   "outputs": [],
   "source": [
    "A = pd.read_csv('../../../results/change_accuracy_CNN_pre_calc_cifar.csv', index_col=0)\n",
    "A.columns = ['Change in Accuracy']\n",
    "A.describe().drop(['count']).round(4).to_latex('../../../latex/tables/change_accuracy_CNN_pre_calc_cifar.tex', bold_rows=True)"
   ]
  },
  {
   "cell_type": "code",
   "execution_count": 135,
   "metadata": {},
   "outputs": [],
   "source": [
    "L = pd.read_csv('../../../results/chnage_loss_CNN_pre_calc_cifar.csv', index_col=0)\n",
    "L.columns = ['Change in Loss']\n",
    "L.describe().drop(['count']).round(4).to_latex('../../../latex/tables/change_loss_CNN_pre_calc_cifar.tex', bold_rows=True)"
   ]
  },
  {
   "cell_type": "code",
   "execution_count": null,
   "metadata": {},
   "outputs": [],
   "source": []
  },
  {
   "cell_type": "code",
   "execution_count": 136,
   "metadata": {},
   "outputs": [],
   "source": [
    "NR = pd.read_csv('../../../results/num_removed_CNN_pre_calc_val_mnist.csv', index_col=0)\n",
    "NR.describe().drop(['count']).round(2).to_latex('../../../latex/tables/num_removed_CNN_pre_calc_val_mnist.tex', bold_rows=True)"
   ]
  },
  {
   "cell_type": "code",
   "execution_count": 137,
   "metadata": {},
   "outputs": [],
   "source": [
    "A = pd.read_csv('../../../results/change_accuracy_CNN_pre_calc_val_mnist.csv', index_col=0)\n",
    "A.columns = ['Change in Accuracy']\n",
    "A.describe().drop(['count']).round(4).to_latex('../../../latex/tables/change_accuracy_CNN_pre_calc_val_mnist.tex', bold_rows=True)"
   ]
  },
  {
   "cell_type": "code",
   "execution_count": 138,
   "metadata": {},
   "outputs": [],
   "source": [
    "L = pd.read_csv('../../../results/chnage_loss_CNN_pre_calc_val_mnist.csv', index_col=0)\n",
    "L.columns = ['Change in Loss']\n",
    "L.describe().drop(['count']).round(4).to_latex('../../../latex/tables/change_loss_CNN_pre_calc_val_mnist.tex', bold_rows=True)"
   ]
  },
  {
   "cell_type": "code",
   "execution_count": null,
   "metadata": {},
   "outputs": [],
   "source": []
  },
  {
   "cell_type": "code",
   "execution_count": 139,
   "metadata": {},
   "outputs": [],
   "source": [
    "NR = pd.read_csv('../../../results/num_removed_CNN_pre_calc_val_fmnist.csv', index_col=0)\n",
    "NR.describe().drop(['count']).round(2).to_latex('../../../latex/tables/num_removed_CNN_pre_calc_val_fmnist.tex', bold_rows=True)"
   ]
  },
  {
   "cell_type": "code",
   "execution_count": 140,
   "metadata": {},
   "outputs": [],
   "source": [
    "A = pd.read_csv('../../../results/change_accuracy_CNN_pre_calc_val_fmnist.csv', index_col=0)\n",
    "A.columns = ['Change in Accuracy']\n",
    "A.describe().drop(['count']).round(4).to_latex('../../../latex/tables/change_accuracy_CNN_pre_calc_val_fmnist.tex', bold_rows=True)"
   ]
  },
  {
   "cell_type": "code",
   "execution_count": 141,
   "metadata": {},
   "outputs": [],
   "source": [
    "L = pd.read_csv('../../../results/chnage_loss_CNN_pre_calc_val_fmnist.csv', index_col=0)\n",
    "L.columns = ['Change in Loss']\n",
    "L.describe().drop(['count']).round(4).to_latex('../../../latex/tables/change_loss_CNN_pre_calc_val_fmnist.tex', bold_rows=True)"
   ]
  },
  {
   "cell_type": "code",
   "execution_count": null,
   "metadata": {},
   "outputs": [],
   "source": []
  },
  {
   "cell_type": "code",
   "execution_count": 142,
   "metadata": {},
   "outputs": [],
   "source": [
    "NR = pd.read_csv('../../../results/num_removed_CNN_pre_calc_val_cifar.csv', index_col=0)\n",
    "NR.describe().drop(['count']).round(2).to_latex('../../../latex/tables/num_removed_CNN_pre_calc_val_cifar.tex', bold_rows=True)"
   ]
  },
  {
   "cell_type": "code",
   "execution_count": 143,
   "metadata": {},
   "outputs": [],
   "source": [
    "A = pd.read_csv('../../../results/change_accuracy_CNN_pre_calc_val_cifar.csv', index_col=0)\n",
    "A.columns = ['Change in Accuracy']\n",
    "A.describe().drop(['count']).round(4).to_latex('../../../latex/tables/change_accuracy_CNN_pre_calc_val_cifar.tex', bold_rows=True)"
   ]
  },
  {
   "cell_type": "code",
   "execution_count": 144,
   "metadata": {},
   "outputs": [],
   "source": [
    "L = pd.read_csv('../../../results/chnage_loss_CNN_pre_calc_val_cifar.csv', index_col=0)\n",
    "L.columns = ['Change in Loss']\n",
    "L.describe().drop(['count']).round(4).to_latex('../../../latex/tables/change_loss_CNN_pre_calc_val_cifar.tex', bold_rows=True)"
   ]
  },
  {
   "cell_type": "code",
   "execution_count": null,
   "metadata": {},
   "outputs": [],
   "source": []
  }
 ],
 "metadata": {
  "kernelspec": {
   "display_name": "Python 3",
   "language": "python",
   "name": "python3"
  },
  "language_info": {
   "codemirror_mode": {
    "name": "ipython",
    "version": 3
   },
   "file_extension": ".py",
   "mimetype": "text/x-python",
   "name": "python",
   "nbconvert_exporter": "python",
   "pygments_lexer": "ipython3",
   "version": "3.7.6"
  }
 },
 "nbformat": 4,
 "nbformat_minor": 4
}
