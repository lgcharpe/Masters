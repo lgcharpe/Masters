{
 "cells": [
  {
   "cell_type": "code",
   "execution_count": 1,
   "metadata": {},
   "outputs": [],
   "source": [
    "import pandas as pd"
   ]
  },
  {
   "cell_type": "code",
   "execution_count": 2,
   "metadata": {},
   "outputs": [
    {
     "data": {
      "text/html": [
       "<div>\n",
       "<style scoped>\n",
       "    .dataframe tbody tr th:only-of-type {\n",
       "        vertical-align: middle;\n",
       "    }\n",
       "\n",
       "    .dataframe tbody tr th {\n",
       "        vertical-align: top;\n",
       "    }\n",
       "\n",
       "    .dataframe thead th {\n",
       "        text-align: right;\n",
       "    }\n",
       "</style>\n",
       "<table border=\"1\" class=\"dataframe\">\n",
       "  <thead>\n",
       "    <tr style=\"text-align: right;\">\n",
       "      <th></th>\n",
       "      <th>64</th>\n",
       "      <th>32</th>\n",
       "      <th>16</th>\n",
       "      <th>8</th>\n",
       "      <th>4</th>\n",
       "      <th>2</th>\n",
       "      <th>1</th>\n",
       "    </tr>\n",
       "  </thead>\n",
       "  <tbody>\n",
       "    <tr>\n",
       "      <th>mean</th>\n",
       "      <td>0.848527</td>\n",
       "      <td>0.942736</td>\n",
       "      <td>0.961917</td>\n",
       "      <td>0.968121</td>\n",
       "      <td>0.970445</td>\n",
       "      <td>0.971441</td>\n",
       "      <td>0.971984</td>\n",
       "    </tr>\n",
       "    <tr>\n",
       "      <th>std</th>\n",
       "      <td>0.041705</td>\n",
       "      <td>0.013024</td>\n",
       "      <td>0.005639</td>\n",
       "      <td>0.003178</td>\n",
       "      <td>0.001986</td>\n",
       "      <td>0.001336</td>\n",
       "      <td>0.000920</td>\n",
       "    </tr>\n",
       "    <tr>\n",
       "      <th>min</th>\n",
       "      <td>0.683100</td>\n",
       "      <td>0.886100</td>\n",
       "      <td>0.927000</td>\n",
       "      <td>0.952300</td>\n",
       "      <td>0.960200</td>\n",
       "      <td>0.962400</td>\n",
       "      <td>0.968700</td>\n",
       "    </tr>\n",
       "    <tr>\n",
       "      <th>25%</th>\n",
       "      <td>0.821525</td>\n",
       "      <td>0.936400</td>\n",
       "      <td>0.958800</td>\n",
       "      <td>0.966400</td>\n",
       "      <td>0.969400</td>\n",
       "      <td>0.970800</td>\n",
       "      <td>0.971500</td>\n",
       "    </tr>\n",
       "    <tr>\n",
       "      <th>50%</th>\n",
       "      <td>0.854600</td>\n",
       "      <td>0.944800</td>\n",
       "      <td>0.962800</td>\n",
       "      <td>0.968500</td>\n",
       "      <td>0.970800</td>\n",
       "      <td>0.971700</td>\n",
       "      <td>0.972100</td>\n",
       "    </tr>\n",
       "    <tr>\n",
       "      <th>75%</th>\n",
       "      <td>0.880300</td>\n",
       "      <td>0.952600</td>\n",
       "      <td>0.966000</td>\n",
       "      <td>0.970400</td>\n",
       "      <td>0.971900</td>\n",
       "      <td>0.972400</td>\n",
       "      <td>0.972600</td>\n",
       "    </tr>\n",
       "    <tr>\n",
       "      <th>max</th>\n",
       "      <td>0.932800</td>\n",
       "      <td>0.966200</td>\n",
       "      <td>0.972400</td>\n",
       "      <td>0.974900</td>\n",
       "      <td>0.974400</td>\n",
       "      <td>0.974300</td>\n",
       "      <td>0.973600</td>\n",
       "    </tr>\n",
       "  </tbody>\n",
       "</table>\n",
       "</div>"
      ],
      "text/plain": [
       "            64        32        16        8         4         2         1 \n",
       "mean  0.848527  0.942736  0.961917  0.968121  0.970445  0.971441  0.971984\n",
       "std   0.041705  0.013024  0.005639  0.003178  0.001986  0.001336  0.000920\n",
       "min   0.683100  0.886100  0.927000  0.952300  0.960200  0.962400  0.968700\n",
       "25%   0.821525  0.936400  0.958800  0.966400  0.969400  0.970800  0.971500\n",
       "50%   0.854600  0.944800  0.962800  0.968500  0.970800  0.971700  0.972100\n",
       "75%   0.880300  0.952600  0.966000  0.970400  0.971900  0.972400  0.972600\n",
       "max   0.932800  0.966200  0.972400  0.974900  0.974400  0.974300  0.973600"
      ]
     },
     "execution_count": 2,
     "metadata": {},
     "output_type": "execute_result"
    }
   ],
   "source": [
    "A = pd.read_csv('../../../results/accs_random_removal_mnist.csv', index_col=0)\n",
    "A = A.T\n",
    "\n",
    "A.describe().drop(['count'])"
   ]
  },
  {
   "cell_type": "code",
   "execution_count": 26,
   "metadata": {},
   "outputs": [],
   "source": [
    "A[A.columns[::-1]].describe().drop(['count']).round(4).to_latex('../../../latex/tables/accs_random_removal_mnist.tex', bold_rows=True)"
   ]
  },
  {
   "cell_type": "code",
   "execution_count": 3,
   "metadata": {},
   "outputs": [],
   "source": [
    "A1 = A[A.columns[::-1]].describe().drop(['count']).round(4)"
   ]
  },
  {
   "cell_type": "code",
   "execution_count": 27,
   "metadata": {},
   "outputs": [
    {
     "data": {
      "text/html": [
       "<div>\n",
       "<style scoped>\n",
       "    .dataframe tbody tr th:only-of-type {\n",
       "        vertical-align: middle;\n",
       "    }\n",
       "\n",
       "    .dataframe tbody tr th {\n",
       "        vertical-align: top;\n",
       "    }\n",
       "\n",
       "    .dataframe thead th {\n",
       "        text-align: right;\n",
       "    }\n",
       "</style>\n",
       "<table border=\"1\" class=\"dataframe\">\n",
       "  <thead>\n",
       "    <tr style=\"text-align: right;\">\n",
       "      <th></th>\n",
       "      <th>8</th>\n",
       "      <th>4</th>\n",
       "      <th>3</th>\n",
       "      <th>2</th>\n",
       "      <th>1</th>\n",
       "    </tr>\n",
       "  </thead>\n",
       "  <tbody>\n",
       "    <tr>\n",
       "      <th>count</th>\n",
       "      <td>20.000000</td>\n",
       "      <td>20.000000</td>\n",
       "      <td>20.000000</td>\n",
       "      <td>20.000000</td>\n",
       "      <td>20.000000</td>\n",
       "    </tr>\n",
       "    <tr>\n",
       "      <th>mean</th>\n",
       "      <td>0.972635</td>\n",
       "      <td>0.973300</td>\n",
       "      <td>0.973735</td>\n",
       "      <td>0.974225</td>\n",
       "      <td>0.975070</td>\n",
       "    </tr>\n",
       "    <tr>\n",
       "      <th>std</th>\n",
       "      <td>0.000452</td>\n",
       "      <td>0.000771</td>\n",
       "      <td>0.000977</td>\n",
       "      <td>0.000927</td>\n",
       "      <td>0.000643</td>\n",
       "    </tr>\n",
       "    <tr>\n",
       "      <th>min</th>\n",
       "      <td>0.972400</td>\n",
       "      <td>0.972300</td>\n",
       "      <td>0.972300</td>\n",
       "      <td>0.972800</td>\n",
       "      <td>0.973900</td>\n",
       "    </tr>\n",
       "    <tr>\n",
       "      <th>25%</th>\n",
       "      <td>0.972400</td>\n",
       "      <td>0.972825</td>\n",
       "      <td>0.972900</td>\n",
       "      <td>0.973575</td>\n",
       "      <td>0.974575</td>\n",
       "    </tr>\n",
       "    <tr>\n",
       "      <th>50%</th>\n",
       "      <td>0.972400</td>\n",
       "      <td>0.973200</td>\n",
       "      <td>0.973700</td>\n",
       "      <td>0.973900</td>\n",
       "      <td>0.975100</td>\n",
       "    </tr>\n",
       "    <tr>\n",
       "      <th>75%</th>\n",
       "      <td>0.972550</td>\n",
       "      <td>0.973725</td>\n",
       "      <td>0.974500</td>\n",
       "      <td>0.974950</td>\n",
       "      <td>0.975600</td>\n",
       "    </tr>\n",
       "    <tr>\n",
       "      <th>max</th>\n",
       "      <td>0.973900</td>\n",
       "      <td>0.975000</td>\n",
       "      <td>0.976000</td>\n",
       "      <td>0.976100</td>\n",
       "      <td>0.976200</td>\n",
       "    </tr>\n",
       "  </tbody>\n",
       "</table>\n",
       "</div>"
      ],
      "text/plain": [
       "               8          4          3          2          1\n",
       "count  20.000000  20.000000  20.000000  20.000000  20.000000\n",
       "mean    0.972635   0.973300   0.973735   0.974225   0.975070\n",
       "std     0.000452   0.000771   0.000977   0.000927   0.000643\n",
       "min     0.972400   0.972300   0.972300   0.972800   0.973900\n",
       "25%     0.972400   0.972825   0.972900   0.973575   0.974575\n",
       "50%     0.972400   0.973200   0.973700   0.973900   0.975100\n",
       "75%     0.972550   0.973725   0.974500   0.974950   0.975600\n",
       "max     0.973900   0.975000   0.976000   0.976100   0.976200"
      ]
     },
     "execution_count": 27,
     "metadata": {},
     "output_type": "execute_result"
    }
   ],
   "source": [
    "A = pd.read_csv('../../../results/accs_random_removal_improving_mnist.csv', index_col=0)\n",
    "A = A.T\n",
    "A.describe()"
   ]
  },
  {
   "cell_type": "code",
   "execution_count": 28,
   "metadata": {},
   "outputs": [],
   "source": [
    "A[A.columns[::-1]].describe().drop(['count']).round(4).to_latex('../../../latex/tables/accs_random_removal_improving_mnist.tex', bold_rows=True)"
   ]
  },
  {
   "cell_type": "code",
   "execution_count": 31,
   "metadata": {},
   "outputs": [
    {
     "data": {
      "text/html": [
       "<div>\n",
       "<style scoped>\n",
       "    .dataframe tbody tr th:only-of-type {\n",
       "        vertical-align: middle;\n",
       "    }\n",
       "\n",
       "    .dataframe tbody tr th {\n",
       "        vertical-align: top;\n",
       "    }\n",
       "\n",
       "    .dataframe thead th {\n",
       "        text-align: right;\n",
       "    }\n",
       "</style>\n",
       "<table border=\"1\" class=\"dataframe\">\n",
       "  <thead>\n",
       "    <tr style=\"text-align: right;\">\n",
       "      <th></th>\n",
       "      <th>64</th>\n",
       "      <th>32</th>\n",
       "      <th>16</th>\n",
       "      <th>8</th>\n",
       "      <th>4</th>\n",
       "      <th>2</th>\n",
       "      <th>1</th>\n",
       "    </tr>\n",
       "  </thead>\n",
       "  <tbody>\n",
       "    <tr>\n",
       "      <th>count</th>\n",
       "      <td>1000.000000</td>\n",
       "      <td>1000.000000</td>\n",
       "      <td>1000.000000</td>\n",
       "      <td>1000.000000</td>\n",
       "      <td>1000.000000</td>\n",
       "      <td>1000.000000</td>\n",
       "      <td>1000.000000</td>\n",
       "    </tr>\n",
       "    <tr>\n",
       "      <th>mean</th>\n",
       "      <td>0.739420</td>\n",
       "      <td>0.829493</td>\n",
       "      <td>0.854300</td>\n",
       "      <td>0.861841</td>\n",
       "      <td>0.865154</td>\n",
       "      <td>0.866732</td>\n",
       "      <td>0.867660</td>\n",
       "    </tr>\n",
       "    <tr>\n",
       "      <th>std</th>\n",
       "      <td>0.044278</td>\n",
       "      <td>0.019952</td>\n",
       "      <td>0.009643</td>\n",
       "      <td>0.005855</td>\n",
       "      <td>0.004244</td>\n",
       "      <td>0.002991</td>\n",
       "      <td>0.002112</td>\n",
       "    </tr>\n",
       "    <tr>\n",
       "      <th>min</th>\n",
       "      <td>0.549300</td>\n",
       "      <td>0.738200</td>\n",
       "      <td>0.805000</td>\n",
       "      <td>0.840500</td>\n",
       "      <td>0.847000</td>\n",
       "      <td>0.847000</td>\n",
       "      <td>0.857800</td>\n",
       "    </tr>\n",
       "    <tr>\n",
       "      <th>25%</th>\n",
       "      <td>0.717075</td>\n",
       "      <td>0.818975</td>\n",
       "      <td>0.849100</td>\n",
       "      <td>0.858200</td>\n",
       "      <td>0.863200</td>\n",
       "      <td>0.865300</td>\n",
       "      <td>0.867000</td>\n",
       "    </tr>\n",
       "    <tr>\n",
       "      <th>50%</th>\n",
       "      <td>0.743700</td>\n",
       "      <td>0.833600</td>\n",
       "      <td>0.855800</td>\n",
       "      <td>0.862600</td>\n",
       "      <td>0.865900</td>\n",
       "      <td>0.867400</td>\n",
       "      <td>0.868400</td>\n",
       "    </tr>\n",
       "    <tr>\n",
       "      <th>75%</th>\n",
       "      <td>0.769825</td>\n",
       "      <td>0.844100</td>\n",
       "      <td>0.861100</td>\n",
       "      <td>0.866300</td>\n",
       "      <td>0.868100</td>\n",
       "      <td>0.868500</td>\n",
       "      <td>0.868600</td>\n",
       "    </tr>\n",
       "    <tr>\n",
       "      <th>max</th>\n",
       "      <td>0.830700</td>\n",
       "      <td>0.865600</td>\n",
       "      <td>0.874700</td>\n",
       "      <td>0.876700</td>\n",
       "      <td>0.874500</td>\n",
       "      <td>0.873500</td>\n",
       "      <td>0.872600</td>\n",
       "    </tr>\n",
       "  </tbody>\n",
       "</table>\n",
       "</div>"
      ],
      "text/plain": [
       "                64           32           16           8            4   \\\n",
       "count  1000.000000  1000.000000  1000.000000  1000.000000  1000.000000   \n",
       "mean      0.739420     0.829493     0.854300     0.861841     0.865154   \n",
       "std       0.044278     0.019952     0.009643     0.005855     0.004244   \n",
       "min       0.549300     0.738200     0.805000     0.840500     0.847000   \n",
       "25%       0.717075     0.818975     0.849100     0.858200     0.863200   \n",
       "50%       0.743700     0.833600     0.855800     0.862600     0.865900   \n",
       "75%       0.769825     0.844100     0.861100     0.866300     0.868100   \n",
       "max       0.830700     0.865600     0.874700     0.876700     0.874500   \n",
       "\n",
       "                2            1   \n",
       "count  1000.000000  1000.000000  \n",
       "mean      0.866732     0.867660  \n",
       "std       0.002991     0.002112  \n",
       "min       0.847000     0.857800  \n",
       "25%       0.865300     0.867000  \n",
       "50%       0.867400     0.868400  \n",
       "75%       0.868500     0.868600  \n",
       "max       0.873500     0.872600  "
      ]
     },
     "execution_count": 31,
     "metadata": {},
     "output_type": "execute_result"
    }
   ],
   "source": [
    "A = pd.read_csv('../../../results/accs_random_removal_fmnist.csv', index_col=0)\n",
    "A = A.T\n",
    "A.describe()"
   ]
  },
  {
   "cell_type": "code",
   "execution_count": 30,
   "metadata": {},
   "outputs": [],
   "source": [
    "A[A.columns[::-1]].describe().drop(['count']).round(4).to_latex('../../../latex/tables/accs_random_removal_fmnist.tex', bold_rows=True)"
   ]
  },
  {
   "cell_type": "code",
   "execution_count": 32,
   "metadata": {},
   "outputs": [],
   "source": [
    "A2 = A[A.columns[::-1]].describe().drop(['count']).round(4)"
   ]
  },
  {
   "cell_type": "code",
   "execution_count": 31,
   "metadata": {},
   "outputs": [
    {
     "data": {
      "text/html": [
       "<div>\n",
       "<style scoped>\n",
       "    .dataframe tbody tr th:only-of-type {\n",
       "        vertical-align: middle;\n",
       "    }\n",
       "\n",
       "    .dataframe tbody tr th {\n",
       "        vertical-align: top;\n",
       "    }\n",
       "\n",
       "    .dataframe thead th {\n",
       "        text-align: right;\n",
       "    }\n",
       "</style>\n",
       "<table border=\"1\" class=\"dataframe\">\n",
       "  <thead>\n",
       "    <tr style=\"text-align: right;\">\n",
       "      <th></th>\n",
       "      <th>8</th>\n",
       "      <th>4</th>\n",
       "      <th>3</th>\n",
       "      <th>2</th>\n",
       "      <th>1</th>\n",
       "    </tr>\n",
       "  </thead>\n",
       "  <tbody>\n",
       "    <tr>\n",
       "      <th>count</th>\n",
       "      <td>20.000000</td>\n",
       "      <td>20.000000</td>\n",
       "      <td>20.000000</td>\n",
       "      <td>20.000000</td>\n",
       "      <td>20.000000</td>\n",
       "    </tr>\n",
       "    <tr>\n",
       "      <th>mean</th>\n",
       "      <td>0.870585</td>\n",
       "      <td>0.873075</td>\n",
       "      <td>0.874295</td>\n",
       "      <td>0.875200</td>\n",
       "      <td>0.874875</td>\n",
       "    </tr>\n",
       "    <tr>\n",
       "      <th>std</th>\n",
       "      <td>0.001879</td>\n",
       "      <td>0.001823</td>\n",
       "      <td>0.001822</td>\n",
       "      <td>0.001772</td>\n",
       "      <td>0.002274</td>\n",
       "    </tr>\n",
       "    <tr>\n",
       "      <th>min</th>\n",
       "      <td>0.868500</td>\n",
       "      <td>0.870500</td>\n",
       "      <td>0.871800</td>\n",
       "      <td>0.871800</td>\n",
       "      <td>0.870200</td>\n",
       "    </tr>\n",
       "    <tr>\n",
       "      <th>25%</th>\n",
       "      <td>0.868500</td>\n",
       "      <td>0.871725</td>\n",
       "      <td>0.872950</td>\n",
       "      <td>0.874250</td>\n",
       "      <td>0.873350</td>\n",
       "    </tr>\n",
       "    <tr>\n",
       "      <th>50%</th>\n",
       "      <td>0.870600</td>\n",
       "      <td>0.872700</td>\n",
       "      <td>0.873900</td>\n",
       "      <td>0.875000</td>\n",
       "      <td>0.874600</td>\n",
       "    </tr>\n",
       "    <tr>\n",
       "      <th>75%</th>\n",
       "      <td>0.871550</td>\n",
       "      <td>0.874125</td>\n",
       "      <td>0.875775</td>\n",
       "      <td>0.876350</td>\n",
       "      <td>0.877000</td>\n",
       "    </tr>\n",
       "    <tr>\n",
       "      <th>max</th>\n",
       "      <td>0.874800</td>\n",
       "      <td>0.876400</td>\n",
       "      <td>0.877500</td>\n",
       "      <td>0.879400</td>\n",
       "      <td>0.878200</td>\n",
       "    </tr>\n",
       "  </tbody>\n",
       "</table>\n",
       "</div>"
      ],
      "text/plain": [
       "               8          4          3          2          1\n",
       "count  20.000000  20.000000  20.000000  20.000000  20.000000\n",
       "mean    0.870585   0.873075   0.874295   0.875200   0.874875\n",
       "std     0.001879   0.001823   0.001822   0.001772   0.002274\n",
       "min     0.868500   0.870500   0.871800   0.871800   0.870200\n",
       "25%     0.868500   0.871725   0.872950   0.874250   0.873350\n",
       "50%     0.870600   0.872700   0.873900   0.875000   0.874600\n",
       "75%     0.871550   0.874125   0.875775   0.876350   0.877000\n",
       "max     0.874800   0.876400   0.877500   0.879400   0.878200"
      ]
     },
     "execution_count": 31,
     "metadata": {},
     "output_type": "execute_result"
    }
   ],
   "source": [
    "A = pd.read_csv('../../../results/accs_random_removal_improving_fmnist.csv', index_col=0)\n",
    "A = A.T\n",
    "A.describe()"
   ]
  },
  {
   "cell_type": "code",
   "execution_count": 32,
   "metadata": {},
   "outputs": [],
   "source": [
    "A[A.columns[::-1]].describe().drop(['count']).round(4).to_latex('../../../latex/tables/accs_random_removal_improving_fmnist.tex', bold_rows=True)"
   ]
  },
  {
   "cell_type": "code",
   "execution_count": 4,
   "metadata": {},
   "outputs": [
    {
     "data": {
      "text/html": [
       "<div>\n",
       "<style scoped>\n",
       "    .dataframe tbody tr th:only-of-type {\n",
       "        vertical-align: middle;\n",
       "    }\n",
       "\n",
       "    .dataframe tbody tr th {\n",
       "        vertical-align: top;\n",
       "    }\n",
       "\n",
       "    .dataframe thead th {\n",
       "        text-align: right;\n",
       "    }\n",
       "</style>\n",
       "<table border=\"1\" class=\"dataframe\">\n",
       "  <thead>\n",
       "    <tr style=\"text-align: right;\">\n",
       "      <th></th>\n",
       "      <th>64</th>\n",
       "      <th>32</th>\n",
       "      <th>16</th>\n",
       "      <th>8</th>\n",
       "      <th>4</th>\n",
       "      <th>2</th>\n",
       "      <th>1</th>\n",
       "    </tr>\n",
       "  </thead>\n",
       "  <tbody>\n",
       "    <tr>\n",
       "      <th>mean</th>\n",
       "      <td>0.446568</td>\n",
       "      <td>0.179376</td>\n",
       "      <td>0.121617</td>\n",
       "      <td>0.102391</td>\n",
       "      <td>0.094847</td>\n",
       "      <td>0.091354</td>\n",
       "      <td>0.089476</td>\n",
       "    </tr>\n",
       "    <tr>\n",
       "      <th>std</th>\n",
       "      <td>0.107404</td>\n",
       "      <td>0.036119</td>\n",
       "      <td>0.016426</td>\n",
       "      <td>0.009524</td>\n",
       "      <td>0.005803</td>\n",
       "      <td>0.003836</td>\n",
       "      <td>0.002613</td>\n",
       "    </tr>\n",
       "    <tr>\n",
       "      <th>min</th>\n",
       "      <td>0.230566</td>\n",
       "      <td>0.112669</td>\n",
       "      <td>0.090062</td>\n",
       "      <td>0.084443</td>\n",
       "      <td>0.083758</td>\n",
       "      <td>0.083917</td>\n",
       "      <td>0.084770</td>\n",
       "    </tr>\n",
       "    <tr>\n",
       "      <th>25%</th>\n",
       "      <td>0.366245</td>\n",
       "      <td>0.151553</td>\n",
       "      <td>0.110106</td>\n",
       "      <td>0.095662</td>\n",
       "      <td>0.090660</td>\n",
       "      <td>0.088709</td>\n",
       "      <td>0.087741</td>\n",
       "    </tr>\n",
       "    <tr>\n",
       "      <th>50%</th>\n",
       "      <td>0.431301</td>\n",
       "      <td>0.173848</td>\n",
       "      <td>0.118624</td>\n",
       "      <td>0.101203</td>\n",
       "      <td>0.093718</td>\n",
       "      <td>0.090672</td>\n",
       "      <td>0.088999</td>\n",
       "    </tr>\n",
       "    <tr>\n",
       "      <th>75%</th>\n",
       "      <td>0.511249</td>\n",
       "      <td>0.197996</td>\n",
       "      <td>0.130489</td>\n",
       "      <td>0.106858</td>\n",
       "      <td>0.098065</td>\n",
       "      <td>0.093192</td>\n",
       "      <td>0.090758</td>\n",
       "    </tr>\n",
       "    <tr>\n",
       "      <th>max</th>\n",
       "      <td>0.988322</td>\n",
       "      <td>0.340889</td>\n",
       "      <td>0.223338</td>\n",
       "      <td>0.148904</td>\n",
       "      <td>0.129176</td>\n",
       "      <td>0.124468</td>\n",
       "      <td>0.099743</td>\n",
       "    </tr>\n",
       "  </tbody>\n",
       "</table>\n",
       "</div>"
      ],
      "text/plain": [
       "            64        32        16        8         4         2         1 \n",
       "mean  0.446568  0.179376  0.121617  0.102391  0.094847  0.091354  0.089476\n",
       "std   0.107404  0.036119  0.016426  0.009524  0.005803  0.003836  0.002613\n",
       "min   0.230566  0.112669  0.090062  0.084443  0.083758  0.083917  0.084770\n",
       "25%   0.366245  0.151553  0.110106  0.095662  0.090660  0.088709  0.087741\n",
       "50%   0.431301  0.173848  0.118624  0.101203  0.093718  0.090672  0.088999\n",
       "75%   0.511249  0.197996  0.130489  0.106858  0.098065  0.093192  0.090758\n",
       "max   0.988322  0.340889  0.223338  0.148904  0.129176  0.124468  0.099743"
      ]
     },
     "execution_count": 4,
     "metadata": {},
     "output_type": "execute_result"
    }
   ],
   "source": [
    "L = pd.read_csv('../../../results/losses_random_removal_mnist.csv', index_col=0)\n",
    "L = L.T\n",
    "\n",
    "L.describe().drop(['count'])"
   ]
  },
  {
   "cell_type": "code",
   "execution_count": 36,
   "metadata": {},
   "outputs": [],
   "source": [
    "L[L.columns[::-1]].describe().drop(['count']).round(4).to_latex('../../../latex/tables/losses_random_removal_mnist.tex', bold_rows=True)"
   ]
  },
  {
   "cell_type": "code",
   "execution_count": 5,
   "metadata": {},
   "outputs": [],
   "source": [
    "L1 = L[L.columns[::-1]].describe().drop(['count']).round(4)"
   ]
  },
  {
   "cell_type": "code",
   "execution_count": 37,
   "metadata": {},
   "outputs": [
    {
     "data": {
      "text/html": [
       "<div>\n",
       "<style scoped>\n",
       "    .dataframe tbody tr th:only-of-type {\n",
       "        vertical-align: middle;\n",
       "    }\n",
       "\n",
       "    .dataframe tbody tr th {\n",
       "        vertical-align: top;\n",
       "    }\n",
       "\n",
       "    .dataframe thead th {\n",
       "        text-align: right;\n",
       "    }\n",
       "</style>\n",
       "<table border=\"1\" class=\"dataframe\">\n",
       "  <thead>\n",
       "    <tr style=\"text-align: right;\">\n",
       "      <th></th>\n",
       "      <th>8</th>\n",
       "      <th>4</th>\n",
       "      <th>3</th>\n",
       "      <th>2</th>\n",
       "      <th>1</th>\n",
       "    </tr>\n",
       "  </thead>\n",
       "  <tbody>\n",
       "    <tr>\n",
       "      <th>count</th>\n",
       "      <td>20.000000</td>\n",
       "      <td>20.000000</td>\n",
       "      <td>20.000000</td>\n",
       "      <td>20.000000</td>\n",
       "      <td>20.000000</td>\n",
       "    </tr>\n",
       "    <tr>\n",
       "      <th>mean</th>\n",
       "      <td>0.087305</td>\n",
       "      <td>0.085965</td>\n",
       "      <td>0.084898</td>\n",
       "      <td>0.084107</td>\n",
       "      <td>0.081889</td>\n",
       "    </tr>\n",
       "    <tr>\n",
       "      <th>std</th>\n",
       "      <td>0.001489</td>\n",
       "      <td>0.002041</td>\n",
       "      <td>0.001461</td>\n",
       "      <td>0.002319</td>\n",
       "      <td>0.001942</td>\n",
       "    </tr>\n",
       "    <tr>\n",
       "      <th>min</th>\n",
       "      <td>0.082889</td>\n",
       "      <td>0.081235</td>\n",
       "      <td>0.081726</td>\n",
       "      <td>0.079564</td>\n",
       "      <td>0.077565</td>\n",
       "    </tr>\n",
       "    <tr>\n",
       "      <th>25%</th>\n",
       "      <td>0.087862</td>\n",
       "      <td>0.084700</td>\n",
       "      <td>0.084096</td>\n",
       "      <td>0.082943</td>\n",
       "      <td>0.080665</td>\n",
       "    </tr>\n",
       "    <tr>\n",
       "      <th>50%</th>\n",
       "      <td>0.087934</td>\n",
       "      <td>0.086520</td>\n",
       "      <td>0.084675</td>\n",
       "      <td>0.084117</td>\n",
       "      <td>0.081291</td>\n",
       "    </tr>\n",
       "    <tr>\n",
       "      <th>75%</th>\n",
       "      <td>0.087934</td>\n",
       "      <td>0.086980</td>\n",
       "      <td>0.086087</td>\n",
       "      <td>0.085754</td>\n",
       "      <td>0.083135</td>\n",
       "    </tr>\n",
       "    <tr>\n",
       "      <th>max</th>\n",
       "      <td>0.088868</td>\n",
       "      <td>0.089754</td>\n",
       "      <td>0.087224</td>\n",
       "      <td>0.087849</td>\n",
       "      <td>0.085597</td>\n",
       "    </tr>\n",
       "  </tbody>\n",
       "</table>\n",
       "</div>"
      ],
      "text/plain": [
       "               8          4          3          2          1\n",
       "count  20.000000  20.000000  20.000000  20.000000  20.000000\n",
       "mean    0.087305   0.085965   0.084898   0.084107   0.081889\n",
       "std     0.001489   0.002041   0.001461   0.002319   0.001942\n",
       "min     0.082889   0.081235   0.081726   0.079564   0.077565\n",
       "25%     0.087862   0.084700   0.084096   0.082943   0.080665\n",
       "50%     0.087934   0.086520   0.084675   0.084117   0.081291\n",
       "75%     0.087934   0.086980   0.086087   0.085754   0.083135\n",
       "max     0.088868   0.089754   0.087224   0.087849   0.085597"
      ]
     },
     "execution_count": 37,
     "metadata": {},
     "output_type": "execute_result"
    }
   ],
   "source": [
    "L = pd.read_csv('../../../results/losses_random_removal_improving_mnist.csv', index_col=0)\n",
    "L = L.T\n",
    "L.describe()"
   ]
  },
  {
   "cell_type": "code",
   "execution_count": 38,
   "metadata": {},
   "outputs": [],
   "source": [
    "L[L.columns[::-1]].describe().drop(['count']).round(4).to_latex('../../../latex/tables/losses_random_removal_improving_mnist.tex', bold_rows=True)"
   ]
  },
  {
   "cell_type": "code",
   "execution_count": 33,
   "metadata": {},
   "outputs": [
    {
     "data": {
      "text/html": [
       "<div>\n",
       "<style scoped>\n",
       "    .dataframe tbody tr th:only-of-type {\n",
       "        vertical-align: middle;\n",
       "    }\n",
       "\n",
       "    .dataframe tbody tr th {\n",
       "        vertical-align: top;\n",
       "    }\n",
       "\n",
       "    .dataframe thead th {\n",
       "        text-align: right;\n",
       "    }\n",
       "</style>\n",
       "<table border=\"1\" class=\"dataframe\">\n",
       "  <thead>\n",
       "    <tr style=\"text-align: right;\">\n",
       "      <th></th>\n",
       "      <th>64</th>\n",
       "      <th>32</th>\n",
       "      <th>16</th>\n",
       "      <th>8</th>\n",
       "      <th>4</th>\n",
       "      <th>2</th>\n",
       "      <th>1</th>\n",
       "    </tr>\n",
       "  </thead>\n",
       "  <tbody>\n",
       "    <tr>\n",
       "      <th>count</th>\n",
       "      <td>1000.000000</td>\n",
       "      <td>1000.000000</td>\n",
       "      <td>1000.000000</td>\n",
       "      <td>1000.000000</td>\n",
       "      <td>1000.000000</td>\n",
       "      <td>1000.000000</td>\n",
       "      <td>1000.000000</td>\n",
       "    </tr>\n",
       "    <tr>\n",
       "      <th>mean</th>\n",
       "      <td>0.706201</td>\n",
       "      <td>0.460722</td>\n",
       "      <td>0.393947</td>\n",
       "      <td>0.373015</td>\n",
       "      <td>0.364346</td>\n",
       "      <td>0.360122</td>\n",
       "      <td>0.357810</td>\n",
       "    </tr>\n",
       "    <tr>\n",
       "      <th>std</th>\n",
       "      <td>0.118168</td>\n",
       "      <td>0.049531</td>\n",
       "      <td>0.022848</td>\n",
       "      <td>0.013691</td>\n",
       "      <td>0.009820</td>\n",
       "      <td>0.007008</td>\n",
       "      <td>0.004880</td>\n",
       "    </tr>\n",
       "    <tr>\n",
       "      <th>min</th>\n",
       "      <td>0.472961</td>\n",
       "      <td>0.372549</td>\n",
       "      <td>0.351513</td>\n",
       "      <td>0.344837</td>\n",
       "      <td>0.343449</td>\n",
       "      <td>0.345162</td>\n",
       "      <td>0.345931</td>\n",
       "    </tr>\n",
       "    <tr>\n",
       "      <th>25%</th>\n",
       "      <td>0.623537</td>\n",
       "      <td>0.424450</td>\n",
       "      <td>0.377217</td>\n",
       "      <td>0.362925</td>\n",
       "      <td>0.357621</td>\n",
       "      <td>0.355903</td>\n",
       "      <td>0.355735</td>\n",
       "    </tr>\n",
       "    <tr>\n",
       "      <th>50%</th>\n",
       "      <td>0.686746</td>\n",
       "      <td>0.450386</td>\n",
       "      <td>0.389976</td>\n",
       "      <td>0.371131</td>\n",
       "      <td>0.362512</td>\n",
       "      <td>0.358449</td>\n",
       "      <td>0.356431</td>\n",
       "    </tr>\n",
       "    <tr>\n",
       "      <th>75%</th>\n",
       "      <td>0.761893</td>\n",
       "      <td>0.485715</td>\n",
       "      <td>0.406018</td>\n",
       "      <td>0.381101</td>\n",
       "      <td>0.369336</td>\n",
       "      <td>0.363180</td>\n",
       "      <td>0.359089</td>\n",
       "    </tr>\n",
       "    <tr>\n",
       "      <th>max</th>\n",
       "      <td>1.364899</td>\n",
       "      <td>0.707925</td>\n",
       "      <td>0.510603</td>\n",
       "      <td>0.429679</td>\n",
       "      <td>0.403501</td>\n",
       "      <td>0.405484</td>\n",
       "      <td>0.379082</td>\n",
       "    </tr>\n",
       "  </tbody>\n",
       "</table>\n",
       "</div>"
      ],
      "text/plain": [
       "                64           32           16           8            4   \\\n",
       "count  1000.000000  1000.000000  1000.000000  1000.000000  1000.000000   \n",
       "mean      0.706201     0.460722     0.393947     0.373015     0.364346   \n",
       "std       0.118168     0.049531     0.022848     0.013691     0.009820   \n",
       "min       0.472961     0.372549     0.351513     0.344837     0.343449   \n",
       "25%       0.623537     0.424450     0.377217     0.362925     0.357621   \n",
       "50%       0.686746     0.450386     0.389976     0.371131     0.362512   \n",
       "75%       0.761893     0.485715     0.406018     0.381101     0.369336   \n",
       "max       1.364899     0.707925     0.510603     0.429679     0.403501   \n",
       "\n",
       "                2            1   \n",
       "count  1000.000000  1000.000000  \n",
       "mean      0.360122     0.357810  \n",
       "std       0.007008     0.004880  \n",
       "min       0.345162     0.345931  \n",
       "25%       0.355903     0.355735  \n",
       "50%       0.358449     0.356431  \n",
       "75%       0.363180     0.359089  \n",
       "max       0.405484     0.379082  "
      ]
     },
     "execution_count": 33,
     "metadata": {},
     "output_type": "execute_result"
    }
   ],
   "source": [
    "L = pd.read_csv('../../../results/losses_random_removal_fmnist.csv', index_col=0)\n",
    "L = L.T\n",
    "L.describe()"
   ]
  },
  {
   "cell_type": "code",
   "execution_count": 40,
   "metadata": {},
   "outputs": [],
   "source": [
    "L[L.columns[::-1]].describe().drop(['count']).round(4).to_latex('../../../latex/tables/losses_random_removal_fmnist.tex', bold_rows=True)"
   ]
  },
  {
   "cell_type": "code",
   "execution_count": 34,
   "metadata": {},
   "outputs": [],
   "source": [
    "L2 = L[L.columns[::-1]].describe().drop(['count']).round(4)"
   ]
  },
  {
   "cell_type": "code",
   "execution_count": 41,
   "metadata": {},
   "outputs": [
    {
     "data": {
      "text/html": [
       "<div>\n",
       "<style scoped>\n",
       "    .dataframe tbody tr th:only-of-type {\n",
       "        vertical-align: middle;\n",
       "    }\n",
       "\n",
       "    .dataframe tbody tr th {\n",
       "        vertical-align: top;\n",
       "    }\n",
       "\n",
       "    .dataframe thead th {\n",
       "        text-align: right;\n",
       "    }\n",
       "</style>\n",
       "<table border=\"1\" class=\"dataframe\">\n",
       "  <thead>\n",
       "    <tr style=\"text-align: right;\">\n",
       "      <th></th>\n",
       "      <th>8</th>\n",
       "      <th>4</th>\n",
       "      <th>3</th>\n",
       "      <th>2</th>\n",
       "      <th>1</th>\n",
       "    </tr>\n",
       "  </thead>\n",
       "  <tbody>\n",
       "    <tr>\n",
       "      <th>count</th>\n",
       "      <td>20.000000</td>\n",
       "      <td>20.000000</td>\n",
       "      <td>20.000000</td>\n",
       "      <td>20.000000</td>\n",
       "      <td>20.000000</td>\n",
       "    </tr>\n",
       "    <tr>\n",
       "      <th>mean</th>\n",
       "      <td>0.352263</td>\n",
       "      <td>0.346888</td>\n",
       "      <td>0.344741</td>\n",
       "      <td>0.344445</td>\n",
       "      <td>0.343323</td>\n",
       "    </tr>\n",
       "    <tr>\n",
       "      <th>std</th>\n",
       "      <td>0.002992</td>\n",
       "      <td>0.003630</td>\n",
       "      <td>0.003713</td>\n",
       "      <td>0.003941</td>\n",
       "      <td>0.003447</td>\n",
       "    </tr>\n",
       "    <tr>\n",
       "      <th>min</th>\n",
       "      <td>0.347569</td>\n",
       "      <td>0.340290</td>\n",
       "      <td>0.337891</td>\n",
       "      <td>0.335182</td>\n",
       "      <td>0.338291</td>\n",
       "    </tr>\n",
       "    <tr>\n",
       "      <th>25%</th>\n",
       "      <td>0.349627</td>\n",
       "      <td>0.344326</td>\n",
       "      <td>0.341571</td>\n",
       "      <td>0.342375</td>\n",
       "      <td>0.341254</td>\n",
       "    </tr>\n",
       "    <tr>\n",
       "      <th>50%</th>\n",
       "      <td>0.352323</td>\n",
       "      <td>0.346583</td>\n",
       "      <td>0.344369</td>\n",
       "      <td>0.344093</td>\n",
       "      <td>0.342546</td>\n",
       "    </tr>\n",
       "    <tr>\n",
       "      <th>75%</th>\n",
       "      <td>0.355735</td>\n",
       "      <td>0.349196</td>\n",
       "      <td>0.347719</td>\n",
       "      <td>0.346062</td>\n",
       "      <td>0.344211</td>\n",
       "    </tr>\n",
       "    <tr>\n",
       "      <th>max</th>\n",
       "      <td>0.355735</td>\n",
       "      <td>0.355291</td>\n",
       "      <td>0.351043</td>\n",
       "      <td>0.351513</td>\n",
       "      <td>0.350519</td>\n",
       "    </tr>\n",
       "  </tbody>\n",
       "</table>\n",
       "</div>"
      ],
      "text/plain": [
       "               8          4          3          2          1\n",
       "count  20.000000  20.000000  20.000000  20.000000  20.000000\n",
       "mean    0.352263   0.346888   0.344741   0.344445   0.343323\n",
       "std     0.002992   0.003630   0.003713   0.003941   0.003447\n",
       "min     0.347569   0.340290   0.337891   0.335182   0.338291\n",
       "25%     0.349627   0.344326   0.341571   0.342375   0.341254\n",
       "50%     0.352323   0.346583   0.344369   0.344093   0.342546\n",
       "75%     0.355735   0.349196   0.347719   0.346062   0.344211\n",
       "max     0.355735   0.355291   0.351043   0.351513   0.350519"
      ]
     },
     "execution_count": 41,
     "metadata": {},
     "output_type": "execute_result"
    }
   ],
   "source": [
    "L = pd.read_csv('../../../results/losses_random_removal_improving_fmnist.csv', index_col=0)\n",
    "L = L.T\n",
    "L.describe()"
   ]
  },
  {
   "cell_type": "code",
   "execution_count": 42,
   "metadata": {},
   "outputs": [],
   "source": [
    "L[L.columns[::-1]].describe().drop(['count']).round(4).to_latex('../../../latex/tables/losses_random_removal_improving_fmnist.tex', bold_rows=True)"
   ]
  },
  {
   "cell_type": "code",
   "execution_count": 43,
   "metadata": {},
   "outputs": [
    {
     "data": {
      "text/html": [
       "<div>\n",
       "<style scoped>\n",
       "    .dataframe tbody tr th:only-of-type {\n",
       "        vertical-align: middle;\n",
       "    }\n",
       "\n",
       "    .dataframe tbody tr th {\n",
       "        vertical-align: top;\n",
       "    }\n",
       "\n",
       "    .dataframe thead th {\n",
       "        text-align: right;\n",
       "    }\n",
       "</style>\n",
       "<table border=\"1\" class=\"dataframe\">\n",
       "  <thead>\n",
       "    <tr style=\"text-align: right;\">\n",
       "      <th></th>\n",
       "      <th>8</th>\n",
       "      <th>4</th>\n",
       "      <th>3</th>\n",
       "      <th>2</th>\n",
       "      <th>1</th>\n",
       "    </tr>\n",
       "  </thead>\n",
       "  <tbody>\n",
       "    <tr>\n",
       "      <th>count</th>\n",
       "      <td>20.000000</td>\n",
       "      <td>20.000000</td>\n",
       "      <td>20.000000</td>\n",
       "      <td>20.000000</td>\n",
       "      <td>20.000000</td>\n",
       "    </tr>\n",
       "    <tr>\n",
       "      <th>mean</th>\n",
       "      <td>2.400000</td>\n",
       "      <td>5.800000</td>\n",
       "      <td>8.250000</td>\n",
       "      <td>8.900000</td>\n",
       "      <td>7.400000</td>\n",
       "    </tr>\n",
       "    <tr>\n",
       "      <th>std</th>\n",
       "      <td>3.761299</td>\n",
       "      <td>3.302312</td>\n",
       "      <td>2.731396</td>\n",
       "      <td>2.789076</td>\n",
       "      <td>1.698296</td>\n",
       "    </tr>\n",
       "    <tr>\n",
       "      <th>min</th>\n",
       "      <td>0.000000</td>\n",
       "      <td>0.000000</td>\n",
       "      <td>3.000000</td>\n",
       "      <td>4.000000</td>\n",
       "      <td>5.000000</td>\n",
       "    </tr>\n",
       "    <tr>\n",
       "      <th>25%</th>\n",
       "      <td>0.000000</td>\n",
       "      <td>4.000000</td>\n",
       "      <td>6.000000</td>\n",
       "      <td>7.500000</td>\n",
       "      <td>6.000000</td>\n",
       "    </tr>\n",
       "    <tr>\n",
       "      <th>50%</th>\n",
       "      <td>0.000000</td>\n",
       "      <td>4.000000</td>\n",
       "      <td>9.000000</td>\n",
       "      <td>8.000000</td>\n",
       "      <td>7.000000</td>\n",
       "    </tr>\n",
       "    <tr>\n",
       "      <th>75%</th>\n",
       "      <td>8.000000</td>\n",
       "      <td>8.000000</td>\n",
       "      <td>9.750000</td>\n",
       "      <td>10.000000</td>\n",
       "      <td>8.250000</td>\n",
       "    </tr>\n",
       "    <tr>\n",
       "      <th>max</th>\n",
       "      <td>8.000000</td>\n",
       "      <td>12.000000</td>\n",
       "      <td>12.000000</td>\n",
       "      <td>16.000000</td>\n",
       "      <td>11.000000</td>\n",
       "    </tr>\n",
       "  </tbody>\n",
       "</table>\n",
       "</div>"
      ],
      "text/plain": [
       "               8          4          3          2          1\n",
       "count  20.000000  20.000000  20.000000  20.000000  20.000000\n",
       "mean    2.400000   5.800000   8.250000   8.900000   7.400000\n",
       "std     3.761299   3.302312   2.731396   2.789076   1.698296\n",
       "min     0.000000   0.000000   3.000000   4.000000   5.000000\n",
       "25%     0.000000   4.000000   6.000000   7.500000   6.000000\n",
       "50%     0.000000   4.000000   9.000000   8.000000   7.000000\n",
       "75%     8.000000   8.000000   9.750000  10.000000   8.250000\n",
       "max     8.000000  12.000000  12.000000  16.000000  11.000000"
      ]
     },
     "execution_count": 43,
     "metadata": {},
     "output_type": "execute_result"
    }
   ],
   "source": [
    "NR = pd.read_csv('../../../results/number_nodes_removed_random_removal_improving_mnist.csv', index_col=0)\n",
    "NR = NR.T\n",
    "NR.describe()"
   ]
  },
  {
   "cell_type": "code",
   "execution_count": 44,
   "metadata": {},
   "outputs": [],
   "source": [
    "NR[NR.columns[::-1]].describe().drop(['count']).round(4).to_latex('../../../latex/tables/number_nodes_removed_random_removal_improving_mnist.tex', bold_rows=True)"
   ]
  },
  {
   "cell_type": "code",
   "execution_count": 45,
   "metadata": {},
   "outputs": [
    {
     "data": {
      "text/html": [
       "<div>\n",
       "<style scoped>\n",
       "    .dataframe tbody tr th:only-of-type {\n",
       "        vertical-align: middle;\n",
       "    }\n",
       "\n",
       "    .dataframe tbody tr th {\n",
       "        vertical-align: top;\n",
       "    }\n",
       "\n",
       "    .dataframe thead th {\n",
       "        text-align: right;\n",
       "    }\n",
       "</style>\n",
       "<table border=\"1\" class=\"dataframe\">\n",
       "  <thead>\n",
       "    <tr style=\"text-align: right;\">\n",
       "      <th></th>\n",
       "      <th>8</th>\n",
       "      <th>4</th>\n",
       "      <th>3</th>\n",
       "      <th>2</th>\n",
       "      <th>1</th>\n",
       "    </tr>\n",
       "  </thead>\n",
       "  <tbody>\n",
       "    <tr>\n",
       "      <th>count</th>\n",
       "      <td>20.000000</td>\n",
       "      <td>20.000000</td>\n",
       "      <td>20.000000</td>\n",
       "      <td>20.000000</td>\n",
       "      <td>20.000000</td>\n",
       "    </tr>\n",
       "    <tr>\n",
       "      <th>mean</th>\n",
       "      <td>5.600000</td>\n",
       "      <td>8.400000</td>\n",
       "      <td>10.650000</td>\n",
       "      <td>8.600000</td>\n",
       "      <td>5.500000</td>\n",
       "    </tr>\n",
       "    <tr>\n",
       "      <th>std</th>\n",
       "      <td>3.761299</td>\n",
       "      <td>3.408967</td>\n",
       "      <td>3.150188</td>\n",
       "      <td>1.846761</td>\n",
       "      <td>1.572795</td>\n",
       "    </tr>\n",
       "    <tr>\n",
       "      <th>min</th>\n",
       "      <td>0.000000</td>\n",
       "      <td>4.000000</td>\n",
       "      <td>3.000000</td>\n",
       "      <td>6.000000</td>\n",
       "      <td>2.000000</td>\n",
       "    </tr>\n",
       "    <tr>\n",
       "      <th>25%</th>\n",
       "      <td>0.000000</td>\n",
       "      <td>7.000000</td>\n",
       "      <td>9.000000</td>\n",
       "      <td>8.000000</td>\n",
       "      <td>5.000000</td>\n",
       "    </tr>\n",
       "    <tr>\n",
       "      <th>50%</th>\n",
       "      <td>8.000000</td>\n",
       "      <td>8.000000</td>\n",
       "      <td>12.000000</td>\n",
       "      <td>8.000000</td>\n",
       "      <td>5.500000</td>\n",
       "    </tr>\n",
       "    <tr>\n",
       "      <th>75%</th>\n",
       "      <td>8.000000</td>\n",
       "      <td>12.000000</td>\n",
       "      <td>12.000000</td>\n",
       "      <td>10.000000</td>\n",
       "      <td>6.250000</td>\n",
       "    </tr>\n",
       "    <tr>\n",
       "      <th>max</th>\n",
       "      <td>8.000000</td>\n",
       "      <td>16.000000</td>\n",
       "      <td>18.000000</td>\n",
       "      <td>12.000000</td>\n",
       "      <td>8.000000</td>\n",
       "    </tr>\n",
       "  </tbody>\n",
       "</table>\n",
       "</div>"
      ],
      "text/plain": [
       "               8          4          3          2          1\n",
       "count  20.000000  20.000000  20.000000  20.000000  20.000000\n",
       "mean    5.600000   8.400000  10.650000   8.600000   5.500000\n",
       "std     3.761299   3.408967   3.150188   1.846761   1.572795\n",
       "min     0.000000   4.000000   3.000000   6.000000   2.000000\n",
       "25%     0.000000   7.000000   9.000000   8.000000   5.000000\n",
       "50%     8.000000   8.000000  12.000000   8.000000   5.500000\n",
       "75%     8.000000  12.000000  12.000000  10.000000   6.250000\n",
       "max     8.000000  16.000000  18.000000  12.000000   8.000000"
      ]
     },
     "execution_count": 45,
     "metadata": {},
     "output_type": "execute_result"
    }
   ],
   "source": [
    "NR = pd.read_csv('../../../results/number_nodes_removed_random_removal_improving_fmnist.csv', index_col=0)\n",
    "NR = NR.T\n",
    "NR.describe()"
   ]
  },
  {
   "cell_type": "code",
   "execution_count": 46,
   "metadata": {},
   "outputs": [],
   "source": [
    "NR[NR.columns[::-1]].describe().drop(['count']).round(4).to_latex('../../../latex/tables/number_nodes_removed_random_removal_improving_fmnist.tex', bold_rows=True)"
   ]
  },
  {
   "cell_type": "code",
   "execution_count": 50,
   "metadata": {},
   "outputs": [],
   "source": [
    "NI = pd.read_csv('../../../results/single_layer_node_importance_mnist.csv', index_col=0)\n",
    "NI.describe().drop(['count']).round(2).to_latex('../../../latex/tables/single_layer_node_importance_mnist.tex', bold_rows=True)"
   ]
  },
  {
   "cell_type": "code",
   "execution_count": 49,
   "metadata": {},
   "outputs": [
    {
     "data": {
      "text/html": [
       "<div>\n",
       "<style scoped>\n",
       "    .dataframe tbody tr th:only-of-type {\n",
       "        vertical-align: middle;\n",
       "    }\n",
       "\n",
       "    .dataframe tbody tr th {\n",
       "        vertical-align: top;\n",
       "    }\n",
       "\n",
       "    .dataframe thead th {\n",
       "        text-align: right;\n",
       "    }\n",
       "</style>\n",
       "<table border=\"1\" class=\"dataframe\">\n",
       "  <thead>\n",
       "    <tr style=\"text-align: right;\">\n",
       "      <th></th>\n",
       "      <th>Zero Nodes</th>\n",
       "      <th>Worse Nodes</th>\n",
       "      <th>Important Nodes</th>\n",
       "    </tr>\n",
       "  </thead>\n",
       "  <tbody>\n",
       "    <tr>\n",
       "      <th>mean</th>\n",
       "      <td>2.26</td>\n",
       "      <td>13.86</td>\n",
       "      <td>111.88</td>\n",
       "    </tr>\n",
       "    <tr>\n",
       "      <th>std</th>\n",
       "      <td>1.43</td>\n",
       "      <td>6.00</td>\n",
       "      <td>5.90</td>\n",
       "    </tr>\n",
       "    <tr>\n",
       "      <th>min</th>\n",
       "      <td>0.00</td>\n",
       "      <td>4.00</td>\n",
       "      <td>100.00</td>\n",
       "    </tr>\n",
       "    <tr>\n",
       "      <th>25%</th>\n",
       "      <td>1.00</td>\n",
       "      <td>9.00</td>\n",
       "      <td>107.25</td>\n",
       "    </tr>\n",
       "    <tr>\n",
       "      <th>50%</th>\n",
       "      <td>2.50</td>\n",
       "      <td>13.00</td>\n",
       "      <td>112.00</td>\n",
       "    </tr>\n",
       "    <tr>\n",
       "      <th>75%</th>\n",
       "      <td>3.00</td>\n",
       "      <td>18.00</td>\n",
       "      <td>116.75</td>\n",
       "    </tr>\n",
       "    <tr>\n",
       "      <th>max</th>\n",
       "      <td>5.00</td>\n",
       "      <td>27.00</td>\n",
       "      <td>123.00</td>\n",
       "    </tr>\n",
       "  </tbody>\n",
       "</table>\n",
       "</div>"
      ],
      "text/plain": [
       "      Zero Nodes  Worse Nodes  Important Nodes\n",
       "mean        2.26        13.86           111.88\n",
       "std         1.43         6.00             5.90\n",
       "min         0.00         4.00           100.00\n",
       "25%         1.00         9.00           107.25\n",
       "50%         2.50        13.00           112.00\n",
       "75%         3.00        18.00           116.75\n",
       "max         5.00        27.00           123.00"
      ]
     },
     "execution_count": 49,
     "metadata": {},
     "output_type": "execute_result"
    }
   ],
   "source": [
    "NI.describe().drop(['count']).round(2)"
   ]
  },
  {
   "cell_type": "code",
   "execution_count": 51,
   "metadata": {},
   "outputs": [],
   "source": [
    "NI = pd.read_csv('../../../results/single_layer_node_importance_fmnist.csv', index_col=0)\n",
    "NI.describe().drop(['count']).round(2).to_latex('../../../latex/tables/single_layer_node_importance_fmnist.tex', bold_rows=True)"
   ]
  },
  {
   "cell_type": "code",
   "execution_count": 52,
   "metadata": {},
   "outputs": [
    {
     "data": {
      "text/html": [
       "<div>\n",
       "<style scoped>\n",
       "    .dataframe tbody tr th:only-of-type {\n",
       "        vertical-align: middle;\n",
       "    }\n",
       "\n",
       "    .dataframe tbody tr th {\n",
       "        vertical-align: top;\n",
       "    }\n",
       "\n",
       "    .dataframe thead th {\n",
       "        text-align: right;\n",
       "    }\n",
       "</style>\n",
       "<table border=\"1\" class=\"dataframe\">\n",
       "  <thead>\n",
       "    <tr style=\"text-align: right;\">\n",
       "      <th></th>\n",
       "      <th>Zero Nodes</th>\n",
       "      <th>Worse Nodes</th>\n",
       "      <th>Important Nodes</th>\n",
       "    </tr>\n",
       "  </thead>\n",
       "  <tbody>\n",
       "    <tr>\n",
       "      <th>mean</th>\n",
       "      <td>13.96</td>\n",
       "      <td>20.92</td>\n",
       "      <td>93.12</td>\n",
       "    </tr>\n",
       "    <tr>\n",
       "      <th>std</th>\n",
       "      <td>3.36</td>\n",
       "      <td>6.50</td>\n",
       "      <td>7.02</td>\n",
       "    </tr>\n",
       "    <tr>\n",
       "      <th>min</th>\n",
       "      <td>5.00</td>\n",
       "      <td>8.00</td>\n",
       "      <td>80.00</td>\n",
       "    </tr>\n",
       "    <tr>\n",
       "      <th>25%</th>\n",
       "      <td>12.00</td>\n",
       "      <td>16.00</td>\n",
       "      <td>89.00</td>\n",
       "    </tr>\n",
       "    <tr>\n",
       "      <th>50%</th>\n",
       "      <td>14.00</td>\n",
       "      <td>19.50</td>\n",
       "      <td>92.00</td>\n",
       "    </tr>\n",
       "    <tr>\n",
       "      <th>75%</th>\n",
       "      <td>16.00</td>\n",
       "      <td>25.75</td>\n",
       "      <td>97.75</td>\n",
       "    </tr>\n",
       "    <tr>\n",
       "      <th>max</th>\n",
       "      <td>24.00</td>\n",
       "      <td>36.00</td>\n",
       "      <td>115.00</td>\n",
       "    </tr>\n",
       "  </tbody>\n",
       "</table>\n",
       "</div>"
      ],
      "text/plain": [
       "      Zero Nodes  Worse Nodes  Important Nodes\n",
       "mean       13.96        20.92            93.12\n",
       "std         3.36         6.50             7.02\n",
       "min         5.00         8.00            80.00\n",
       "25%        12.00        16.00            89.00\n",
       "50%        14.00        19.50            92.00\n",
       "75%        16.00        25.75            97.75\n",
       "max        24.00        36.00           115.00"
      ]
     },
     "execution_count": 52,
     "metadata": {},
     "output_type": "execute_result"
    }
   ],
   "source": [
    "NI.describe().drop(['count']).round(2)"
   ]
  },
  {
   "cell_type": "code",
   "execution_count": 53,
   "metadata": {},
   "outputs": [],
   "source": [
    "NI = pd.read_csv('../../../results/single_layer_node_importance_val_mnist.csv', index_col=0)\n",
    "NI.describe().drop(['count']).round(2).to_latex('../../../latex/tables/single_layer_node_importance_val_mnist.tex', bold_rows=True)"
   ]
  },
  {
   "cell_type": "code",
   "execution_count": 54,
   "metadata": {},
   "outputs": [
    {
     "data": {
      "text/html": [
       "<div>\n",
       "<style scoped>\n",
       "    .dataframe tbody tr th:only-of-type {\n",
       "        vertical-align: middle;\n",
       "    }\n",
       "\n",
       "    .dataframe tbody tr th {\n",
       "        vertical-align: top;\n",
       "    }\n",
       "\n",
       "    .dataframe thead th {\n",
       "        text-align: right;\n",
       "    }\n",
       "</style>\n",
       "<table border=\"1\" class=\"dataframe\">\n",
       "  <thead>\n",
       "    <tr style=\"text-align: right;\">\n",
       "      <th></th>\n",
       "      <th>Zero Nodes</th>\n",
       "      <th>Worse Nodes</th>\n",
       "      <th>Important Nodes</th>\n",
       "    </tr>\n",
       "  </thead>\n",
       "  <tbody>\n",
       "    <tr>\n",
       "      <th>mean</th>\n",
       "      <td>2.12</td>\n",
       "      <td>24.64</td>\n",
       "      <td>101.24</td>\n",
       "    </tr>\n",
       "    <tr>\n",
       "      <th>std</th>\n",
       "      <td>1.60</td>\n",
       "      <td>6.47</td>\n",
       "      <td>6.20</td>\n",
       "    </tr>\n",
       "    <tr>\n",
       "      <th>min</th>\n",
       "      <td>0.00</td>\n",
       "      <td>11.00</td>\n",
       "      <td>86.00</td>\n",
       "    </tr>\n",
       "    <tr>\n",
       "      <th>25%</th>\n",
       "      <td>1.00</td>\n",
       "      <td>19.00</td>\n",
       "      <td>96.25</td>\n",
       "    </tr>\n",
       "    <tr>\n",
       "      <th>50%</th>\n",
       "      <td>2.00</td>\n",
       "      <td>24.00</td>\n",
       "      <td>102.00</td>\n",
       "    </tr>\n",
       "    <tr>\n",
       "      <th>75%</th>\n",
       "      <td>3.00</td>\n",
       "      <td>29.75</td>\n",
       "      <td>105.00</td>\n",
       "    </tr>\n",
       "    <tr>\n",
       "      <th>max</th>\n",
       "      <td>5.00</td>\n",
       "      <td>39.00</td>\n",
       "      <td>112.00</td>\n",
       "    </tr>\n",
       "  </tbody>\n",
       "</table>\n",
       "</div>"
      ],
      "text/plain": [
       "      Zero Nodes  Worse Nodes  Important Nodes\n",
       "mean        2.12        24.64           101.24\n",
       "std         1.60         6.47             6.20\n",
       "min         0.00        11.00            86.00\n",
       "25%         1.00        19.00            96.25\n",
       "50%         2.00        24.00           102.00\n",
       "75%         3.00        29.75           105.00\n",
       "max         5.00        39.00           112.00"
      ]
     },
     "execution_count": 54,
     "metadata": {},
     "output_type": "execute_result"
    }
   ],
   "source": [
    "NI.describe().drop(['count']).round(2)"
   ]
  },
  {
   "cell_type": "code",
   "execution_count": 55,
   "metadata": {},
   "outputs": [],
   "source": [
    "NI = pd.read_csv('../../../results/single_layer_node_importance_val_fmnist.csv', index_col=0)\n",
    "NI.describe().drop(['count']).round(2).to_latex('../../../latex/tables/single_layer_node_importance_val_fmnist.tex', bold_rows=True)"
   ]
  },
  {
   "cell_type": "code",
   "execution_count": 56,
   "metadata": {},
   "outputs": [
    {
     "data": {
      "text/html": [
       "<div>\n",
       "<style scoped>\n",
       "    .dataframe tbody tr th:only-of-type {\n",
       "        vertical-align: middle;\n",
       "    }\n",
       "\n",
       "    .dataframe tbody tr th {\n",
       "        vertical-align: top;\n",
       "    }\n",
       "\n",
       "    .dataframe thead th {\n",
       "        text-align: right;\n",
       "    }\n",
       "</style>\n",
       "<table border=\"1\" class=\"dataframe\">\n",
       "  <thead>\n",
       "    <tr style=\"text-align: right;\">\n",
       "      <th></th>\n",
       "      <th>Zero Nodes</th>\n",
       "      <th>Worse Nodes</th>\n",
       "      <th>Important Nodes</th>\n",
       "    </tr>\n",
       "  </thead>\n",
       "  <tbody>\n",
       "    <tr>\n",
       "      <th>mean</th>\n",
       "      <td>15.32</td>\n",
       "      <td>27.54</td>\n",
       "      <td>85.14</td>\n",
       "    </tr>\n",
       "    <tr>\n",
       "      <th>std</th>\n",
       "      <td>3.04</td>\n",
       "      <td>6.79</td>\n",
       "      <td>6.46</td>\n",
       "    </tr>\n",
       "    <tr>\n",
       "      <th>min</th>\n",
       "      <td>10.00</td>\n",
       "      <td>14.00</td>\n",
       "      <td>71.00</td>\n",
       "    </tr>\n",
       "    <tr>\n",
       "      <th>25%</th>\n",
       "      <td>13.00</td>\n",
       "      <td>22.25</td>\n",
       "      <td>80.50</td>\n",
       "    </tr>\n",
       "    <tr>\n",
       "      <th>50%</th>\n",
       "      <td>15.00</td>\n",
       "      <td>26.50</td>\n",
       "      <td>86.00</td>\n",
       "    </tr>\n",
       "    <tr>\n",
       "      <th>75%</th>\n",
       "      <td>18.00</td>\n",
       "      <td>32.75</td>\n",
       "      <td>90.75</td>\n",
       "    </tr>\n",
       "    <tr>\n",
       "      <th>max</th>\n",
       "      <td>21.00</td>\n",
       "      <td>41.00</td>\n",
       "      <td>97.00</td>\n",
       "    </tr>\n",
       "  </tbody>\n",
       "</table>\n",
       "</div>"
      ],
      "text/plain": [
       "      Zero Nodes  Worse Nodes  Important Nodes\n",
       "mean       15.32        27.54            85.14\n",
       "std         3.04         6.79             6.46\n",
       "min        10.00        14.00            71.00\n",
       "25%        13.00        22.25            80.50\n",
       "50%        15.00        26.50            86.00\n",
       "75%        18.00        32.75            90.75\n",
       "max        21.00        41.00            97.00"
      ]
     },
     "execution_count": 56,
     "metadata": {},
     "output_type": "execute_result"
    }
   ],
   "source": [
    "NI.describe().drop(['count']).round(2)"
   ]
  },
  {
   "cell_type": "code",
   "execution_count": null,
   "metadata": {},
   "outputs": [],
   "source": []
  },
  {
   "cell_type": "code",
   "execution_count": 57,
   "metadata": {},
   "outputs": [],
   "source": [
    "NI = pd.read_csv('../../../results/multi_layer_1_node_importance_mnist.csv', index_col=0)\n",
    "NI.describe().drop(['count']).round(2).to_latex('../../../latex/tables/multi_layer_1_node_importance_mnist.tex', bold_rows=True)"
   ]
  },
  {
   "cell_type": "code",
   "execution_count": 58,
   "metadata": {},
   "outputs": [],
   "source": [
    "NI = pd.read_csv('../../../results/multi_layer_2_node_importance_mnist.csv', index_col=0)\n",
    "NI.describe().drop(['count']).round(2).to_latex('../../../latex/tables/multi_layer_2_node_importance_mnist.tex', bold_rows=True)"
   ]
  },
  {
   "cell_type": "code",
   "execution_count": 59,
   "metadata": {},
   "outputs": [],
   "source": [
    "NI = pd.read_csv('../../../results/multi_layer_3_node_importance_mnist.csv', index_col=0)\n",
    "NI.describe().drop(['count']).round(2).to_latex('../../../latex/tables/multi_layer_3_node_importance_mnist.tex', bold_rows=True)"
   ]
  },
  {
   "cell_type": "code",
   "execution_count": null,
   "metadata": {},
   "outputs": [],
   "source": []
  },
  {
   "cell_type": "code",
   "execution_count": 60,
   "metadata": {},
   "outputs": [],
   "source": [
    "NI = pd.read_csv('../../../results/multi_layer_1_node_importance_fmnist.csv', index_col=0)\n",
    "NI.describe().drop(['count']).round(2).to_latex('../../../latex/tables/multi_layer_1_node_importance_fmnist.tex', bold_rows=True)"
   ]
  },
  {
   "cell_type": "code",
   "execution_count": 61,
   "metadata": {},
   "outputs": [],
   "source": [
    "NI = pd.read_csv('../../../results/multi_layer_2_node_importance_fmnist.csv', index_col=0)\n",
    "NI.describe().drop(['count']).round(2).to_latex('../../../latex/tables/multi_layer_2_node_importance_fmnist.tex', bold_rows=True)"
   ]
  },
  {
   "cell_type": "code",
   "execution_count": 62,
   "metadata": {},
   "outputs": [],
   "source": [
    "NI = pd.read_csv('../../../results/multi_layer_3_node_importance_fmnist.csv', index_col=0)\n",
    "NI.describe().drop(['count']).round(2).to_latex('../../../latex/tables/multi_layer_3_node_importance_fmnist.tex', bold_rows=True)"
   ]
  },
  {
   "cell_type": "code",
   "execution_count": null,
   "metadata": {},
   "outputs": [],
   "source": []
  },
  {
   "cell_type": "code",
   "execution_count": 63,
   "metadata": {},
   "outputs": [],
   "source": [
    "NI = pd.read_csv('../../../results/multi_layer_1_node_importance_val_mnist.csv', index_col=0)\n",
    "NI.describe().drop(['count']).round(2).to_latex('../../../latex/tables/multi_layer_1_node_importance_val_mnist.tex', bold_rows=True)"
   ]
  },
  {
   "cell_type": "code",
   "execution_count": 64,
   "metadata": {},
   "outputs": [],
   "source": [
    "NI = pd.read_csv('../../../results/multi_layer_2_node_importance_val_mnist.csv', index_col=0)\n",
    "NI.describe().drop(['count']).round(2).to_latex('../../../latex/tables/multi_layer_2_node_importance_val_mnist.tex', bold_rows=True)"
   ]
  },
  {
   "cell_type": "code",
   "execution_count": 65,
   "metadata": {},
   "outputs": [],
   "source": [
    "NI = pd.read_csv('../../../results/multi_layer_3_node_importance_val_mnist.csv', index_col=0)\n",
    "NI.describe().drop(['count']).round(2).to_latex('../../../latex/tables/multi_layer_3_node_importance_val_mnist.tex', bold_rows=True)"
   ]
  },
  {
   "cell_type": "code",
   "execution_count": null,
   "metadata": {},
   "outputs": [],
   "source": []
  },
  {
   "cell_type": "code",
   "execution_count": 66,
   "metadata": {},
   "outputs": [],
   "source": [
    "NI = pd.read_csv('../../../results/multi_layer_1_node_importance_val_fmnist.csv', index_col=0)\n",
    "NI.describe().drop(['count']).round(2).to_latex('../../../latex/tables/multi_layer_1_node_importance_val_fmnist.tex', bold_rows=True)"
   ]
  },
  {
   "cell_type": "code",
   "execution_count": 67,
   "metadata": {},
   "outputs": [],
   "source": [
    "NI = pd.read_csv('../../../results/multi_layer_2_node_importance_val_fmnist.csv', index_col=0)\n",
    "NI.describe().drop(['count']).round(2).to_latex('../../../latex/tables/multi_layer_2_node_importance_val_fmnist.tex', bold_rows=True)"
   ]
  },
  {
   "cell_type": "code",
   "execution_count": 68,
   "metadata": {},
   "outputs": [],
   "source": [
    "NI = pd.read_csv('../../../results/multi_layer_3_node_importance_val_fmnist.csv', index_col=0)\n",
    "NI.describe().drop(['count']).round(2).to_latex('../../../latex/tables/multi_layer_3_node_importance_val_fmnist.tex', bold_rows=True)"
   ]
  },
  {
   "cell_type": "code",
   "execution_count": null,
   "metadata": {},
   "outputs": [],
   "source": []
  },
  {
   "cell_type": "code",
   "execution_count": 69,
   "metadata": {},
   "outputs": [],
   "source": [
    "NI = pd.read_csv('../../../results/CNN_dense_node_importance_mnist.csv', index_col=0)\n",
    "NI.describe().drop(['count']).round(2).to_latex('../../../latex/tables/CNN_dense_node_importance_mnist.tex', bold_rows=True)"
   ]
  },
  {
   "cell_type": "code",
   "execution_count": 70,
   "metadata": {},
   "outputs": [],
   "source": [
    "NI = pd.read_csv('../../../results/CNN_conv_1_node_importance_mnist.csv', index_col=0)\n",
    "NI.describe().drop(['count']).round(2).to_latex('../../../latex/tables/CNN_conv_1_node_importance_mnist.tex', bold_rows=True)"
   ]
  },
  {
   "cell_type": "code",
   "execution_count": 71,
   "metadata": {},
   "outputs": [],
   "source": [
    "NI = pd.read_csv('../../../results/CNN_conv_2_node_importance_mnist.csv', index_col=0)\n",
    "NI.describe().drop(['count']).round(2).to_latex('../../../latex/tables/CNN_conv_2_node_importance_mnist.tex', bold_rows=True)"
   ]
  },
  {
   "cell_type": "code",
   "execution_count": 72,
   "metadata": {},
   "outputs": [],
   "source": [
    "NI = pd.read_csv('../../../results/CNN_conv_3_node_importance_mnist.csv', index_col=0)\n",
    "NI.describe().drop(['count']).round(2).to_latex('../../../latex/tables/CNN_conv_3_node_importance_mnist.tex', bold_rows=True)"
   ]
  },
  {
   "cell_type": "code",
   "execution_count": 73,
   "metadata": {},
   "outputs": [],
   "source": [
    "NI = pd.read_csv('../../../results/CNN_conv_4_node_importance_mnist.csv', index_col=0)\n",
    "NI.describe().drop(['count']).round(2).to_latex('../../../latex/tables/CNN_conv_4_node_importance_mnist.tex', bold_rows=True)"
   ]
  },
  {
   "cell_type": "code",
   "execution_count": null,
   "metadata": {},
   "outputs": [],
   "source": []
  },
  {
   "cell_type": "code",
   "execution_count": 74,
   "metadata": {},
   "outputs": [],
   "source": [
    "NI = pd.read_csv('../../../results/CNN_dense_node_importance_fmnist.csv', index_col=0)\n",
    "NI.describe().drop(['count']).round(2).to_latex('../../../latex/tables/CNN_dense_node_importance_fmnist.tex', bold_rows=True)"
   ]
  },
  {
   "cell_type": "code",
   "execution_count": 75,
   "metadata": {},
   "outputs": [],
   "source": [
    "NI = pd.read_csv('../../../results/CNN_conv_1_node_importance_fmnist.csv', index_col=0)\n",
    "NI.describe().drop(['count']).round(2).to_latex('../../../latex/tables/CNN_conv_1_node_importance_fmnist.tex', bold_rows=True)"
   ]
  },
  {
   "cell_type": "code",
   "execution_count": 76,
   "metadata": {},
   "outputs": [],
   "source": [
    "NI = pd.read_csv('../../../results/CNN_conv_2_node_importance_fmnist.csv', index_col=0)\n",
    "NI.describe().drop(['count']).round(2).to_latex('../../../latex/tables/CNN_conv_2_node_importance_fmnist.tex', bold_rows=True)"
   ]
  },
  {
   "cell_type": "code",
   "execution_count": 77,
   "metadata": {},
   "outputs": [],
   "source": [
    "NI = pd.read_csv('../../../results/CNN_conv_3_node_importance_fmnist.csv', index_col=0)\n",
    "NI.describe().drop(['count']).round(2).to_latex('../../../latex/tables/CNN_conv_3_node_importance_fmnist.tex', bold_rows=True)"
   ]
  },
  {
   "cell_type": "code",
   "execution_count": 78,
   "metadata": {},
   "outputs": [],
   "source": [
    "NI = pd.read_csv('../../../results/CNN_conv_4_node_importance_mnist.csv', index_col=0)\n",
    "NI.describe().drop(['count']).round(2).to_latex('../../../latex/tables/CNN_conv_4_node_importance_fmnist.tex', bold_rows=True)"
   ]
  },
  {
   "cell_type": "code",
   "execution_count": null,
   "metadata": {},
   "outputs": [],
   "source": []
  },
  {
   "cell_type": "code",
   "execution_count": 79,
   "metadata": {},
   "outputs": [],
   "source": [
    "NI = pd.read_csv('../../../results/CNN_dense_node_importance_cifar.csv', index_col=0)\n",
    "NI.describe().drop(['count']).round(2).to_latex('../../../latex/tables/CNN_dense_node_importance_cifar.tex', bold_rows=True)"
   ]
  },
  {
   "cell_type": "code",
   "execution_count": 80,
   "metadata": {},
   "outputs": [],
   "source": [
    "NI = pd.read_csv('../../../results/CNN_conv_1_node_importance_cifar.csv', index_col=0)\n",
    "NI.describe().drop(['count']).round(2).to_latex('../../../latex/tables/CNN_conv_1_node_importance_cifar.tex', bold_rows=True)"
   ]
  },
  {
   "cell_type": "code",
   "execution_count": 81,
   "metadata": {},
   "outputs": [],
   "source": [
    "NI = pd.read_csv('../../../results/CNN_conv_2_node_importance_cifar.csv', index_col=0)\n",
    "NI.describe().drop(['count']).round(2).to_latex('../../../latex/tables/CNN_conv_2_node_importance_cifar.tex', bold_rows=True)"
   ]
  },
  {
   "cell_type": "code",
   "execution_count": 82,
   "metadata": {},
   "outputs": [],
   "source": [
    "NI = pd.read_csv('../../../results/CNN_conv_3_node_importance_cifar.csv', index_col=0)\n",
    "NI.describe().drop(['count']).round(2).to_latex('../../../latex/tables/CNN_conv_3_node_importance_cifar.tex', bold_rows=True)"
   ]
  },
  {
   "cell_type": "code",
   "execution_count": 83,
   "metadata": {},
   "outputs": [],
   "source": [
    "NI = pd.read_csv('../../../results/CNN_conv_4_node_importance_cifar.csv', index_col=0)\n",
    "NI.describe().drop(['count']).round(2).to_latex('../../../latex/tables/CNN_conv_4_node_importance_cifar.tex', bold_rows=True)"
   ]
  },
  {
   "cell_type": "code",
   "execution_count": null,
   "metadata": {},
   "outputs": [],
   "source": []
  },
  {
   "cell_type": "code",
   "execution_count": 84,
   "metadata": {},
   "outputs": [],
   "source": [
    "NI = pd.read_csv('../../../results/CNN_dense_node_importance_val_mnist.csv', index_col=0)\n",
    "NI.describe().drop(['count']).round(2).to_latex('../../../latex/tables/CNN_dense_node_importance_val_mnist.tex', bold_rows=True)"
   ]
  },
  {
   "cell_type": "code",
   "execution_count": 85,
   "metadata": {},
   "outputs": [],
   "source": [
    "NI = pd.read_csv('../../../results/CNN_conv_1_node_importance_val_mnist.csv', index_col=0)\n",
    "NI.describe().drop(['count']).round(2).to_latex('../../../latex/tables/CNN_conv_1_node_importance_val_mnist.tex', bold_rows=True)"
   ]
  },
  {
   "cell_type": "code",
   "execution_count": 86,
   "metadata": {},
   "outputs": [],
   "source": [
    "NI = pd.read_csv('../../../results/CNN_conv_2_node_importance_val_mnist.csv', index_col=0)\n",
    "NI.describe().drop(['count']).round(2).to_latex('../../../latex/tables/CNN_conv_2_node_importance_val_mnist.tex', bold_rows=True)"
   ]
  },
  {
   "cell_type": "code",
   "execution_count": 87,
   "metadata": {},
   "outputs": [],
   "source": [
    "NI = pd.read_csv('../../../results/CNN_conv_3_node_importance_val_mnist.csv', index_col=0)\n",
    "NI.describe().drop(['count']).round(2).to_latex('../../../latex/tables/CNN_conv_3_node_importance_val_mnist.tex', bold_rows=True)"
   ]
  },
  {
   "cell_type": "code",
   "execution_count": 88,
   "metadata": {},
   "outputs": [],
   "source": [
    "NI = pd.read_csv('../../../results/CNN_conv_4_node_importance_val_mnist.csv', index_col=0)\n",
    "NI.describe().drop(['count']).round(2).to_latex('../../../latex/tables/CNN_conv_4_node_importance_val_mnist.tex', bold_rows=True)"
   ]
  },
  {
   "cell_type": "code",
   "execution_count": null,
   "metadata": {},
   "outputs": [],
   "source": []
  },
  {
   "cell_type": "code",
   "execution_count": 89,
   "metadata": {},
   "outputs": [],
   "source": [
    "NI = pd.read_csv('../../../results/CNN_dense_node_importance_val_fmnist.csv', index_col=0)\n",
    "NI.describe().drop(['count']).round(2).to_latex('../../../latex/tables/CNN_dense_node_importance_val_fmnist.tex', bold_rows=True)"
   ]
  },
  {
   "cell_type": "code",
   "execution_count": 90,
   "metadata": {},
   "outputs": [],
   "source": [
    "NI = pd.read_csv('../../../results/CNN_conv_1_node_importance_val_fmnist.csv', index_col=0)\n",
    "NI.describe().drop(['count']).round(2).to_latex('../../../latex/tables/CNN_conv_1_node_importance_val_fmnist.tex', bold_rows=True)"
   ]
  },
  {
   "cell_type": "code",
   "execution_count": 91,
   "metadata": {},
   "outputs": [],
   "source": [
    "NI = pd.read_csv('../../../results/CNN_conv_2_node_importance_val_fmnist.csv', index_col=0)\n",
    "NI.describe().drop(['count']).round(2).to_latex('../../../latex/tables/CNN_conv_2_node_importance_val_fmnist.tex', bold_rows=True)"
   ]
  },
  {
   "cell_type": "code",
   "execution_count": 92,
   "metadata": {},
   "outputs": [],
   "source": [
    "NI = pd.read_csv('../../../results/CNN_conv_3_node_importance_val_fmnist.csv', index_col=0)\n",
    "NI.describe().drop(['count']).round(2).to_latex('../../../latex/tables/CNN_conv_3_node_importance_val_fmnist.tex', bold_rows=True)"
   ]
  },
  {
   "cell_type": "code",
   "execution_count": 93,
   "metadata": {},
   "outputs": [],
   "source": [
    "NI = pd.read_csv('../../../results/CNN_conv_4_node_importance_val_fmnist.csv', index_col=0)\n",
    "NI.describe().drop(['count']).round(2).to_latex('../../../latex/tables/CNN_conv_4_node_importance_val_fmnist.tex', bold_rows=True)"
   ]
  },
  {
   "cell_type": "code",
   "execution_count": null,
   "metadata": {},
   "outputs": [],
   "source": []
  },
  {
   "cell_type": "code",
   "execution_count": 94,
   "metadata": {},
   "outputs": [],
   "source": [
    "NI = pd.read_csv('../../../results/CNN_dense_node_importance_val_cifar.csv', index_col=0)\n",
    "NI.describe().drop(['count']).round(2).to_latex('../../../latex/tables/CNN_dense_node_importance_val_cifar.tex', bold_rows=True)"
   ]
  },
  {
   "cell_type": "code",
   "execution_count": 95,
   "metadata": {},
   "outputs": [],
   "source": [
    "NI = pd.read_csv('../../../results/CNN_conv_1_node_importance_val_cifar.csv', index_col=0)\n",
    "NI.describe().drop(['count']).round(2).to_latex('../../../latex/tables/CNN_conv_1_node_importance_val_cifar.tex', bold_rows=True)"
   ]
  },
  {
   "cell_type": "code",
   "execution_count": 96,
   "metadata": {},
   "outputs": [],
   "source": [
    "NI = pd.read_csv('../../../results/CNN_conv_2_node_importance_val_cifar.csv', index_col=0)\n",
    "NI.describe().drop(['count']).round(2).to_latex('../../../latex/tables/CNN_conv_2_node_importance_val_cifar.tex', bold_rows=True)"
   ]
  },
  {
   "cell_type": "code",
   "execution_count": 97,
   "metadata": {},
   "outputs": [],
   "source": [
    "NI = pd.read_csv('../../../results/CNN_conv_3_node_importance_val_cifar.csv', index_col=0)\n",
    "NI.describe().drop(['count']).round(2).to_latex('../../../latex/tables/CNN_conv_3_node_importance_val_cifar.tex', bold_rows=True)"
   ]
  },
  {
   "cell_type": "code",
   "execution_count": 98,
   "metadata": {},
   "outputs": [],
   "source": [
    "NI = pd.read_csv('../../../results/CNN_conv_4_node_importance_val_cifar.csv', index_col=0)\n",
    "NI.describe().drop(['count']).round(2).to_latex('../../../latex/tables/CNN_conv_4_node_importance_val_cifar.tex', bold_rows=True)"
   ]
  },
  {
   "cell_type": "code",
   "execution_count": null,
   "metadata": {},
   "outputs": [],
   "source": []
  },
  {
   "cell_type": "code",
   "execution_count": 103,
   "metadata": {},
   "outputs": [],
   "source": [
    "NR = pd.read_csv('../../../results/num_removed_ANN_pre_calc_mnist.csv', index_col=0)\n",
    "NR.columns = ['Number of Nodes']\n",
    "NR.describe().drop(['count']).round(2).to_latex('../../../latex/tables/num_removed_ANN_pre_calc_mnist.tex', bold_rows=True)"
   ]
  },
  {
   "cell_type": "code",
   "execution_count": 104,
   "metadata": {},
   "outputs": [],
   "source": [
    "A = pd.read_csv('../../../results/change_accuracy_ANN_pre_calc_mnist.csv', index_col=0)\n",
    "A.columns = ['Change in Accuracy']\n",
    "A.describe().drop(['count']).round(4).to_latex('../../../latex/tables/change_accuracy_ANN_pre_calc_mnist.tex', bold_rows=True)"
   ]
  },
  {
   "cell_type": "code",
   "execution_count": 105,
   "metadata": {},
   "outputs": [],
   "source": [
    "L = pd.read_csv('../../../results/chnage_loss_ANN_pre_calc_mnist.csv', index_col=0)\n",
    "L.columns = ['Change in Loss']\n",
    "L.describe().drop(['count']).round(4).to_latex('../../../latex/tables/change_loss_ANN_pre_calc_mnist.tex', bold_rows=True)"
   ]
  },
  {
   "cell_type": "code",
   "execution_count": null,
   "metadata": {},
   "outputs": [],
   "source": []
  },
  {
   "cell_type": "code",
   "execution_count": 106,
   "metadata": {},
   "outputs": [],
   "source": [
    "NR = pd.read_csv('../../../results/num_removed_ANN_pre_calc_fmnist.csv', index_col=0)\n",
    "NR.columns = ['Number of Nodes']\n",
    "NR.describe().drop(['count']).round(2).to_latex('../../../latex/tables/num_removed_ANN_pre_calc_fmnist.tex', bold_rows=True)"
   ]
  },
  {
   "cell_type": "code",
   "execution_count": 107,
   "metadata": {},
   "outputs": [],
   "source": [
    "A = pd.read_csv('../../../results/change_accuracy_ANN_pre_calc_fmnist.csv', index_col=0)\n",
    "A.columns = ['Change in Accuracy']\n",
    "A.describe().drop(['count']).round(4).to_latex('../../../latex/tables/change_accuracy_ANN_pre_calc_fmnist.tex', bold_rows=True)"
   ]
  },
  {
   "cell_type": "code",
   "execution_count": 108,
   "metadata": {},
   "outputs": [],
   "source": [
    "L = pd.read_csv('../../../results/chnage_loss_ANN_pre_calc_fmnist.csv', index_col=0)\n",
    "L.columns = ['Change in Loss']\n",
    "L.describe().drop(['count']).round(4).to_latex('../../../latex/tables/change_loss_ANN_pre_calc_fmnist.tex', bold_rows=True)"
   ]
  },
  {
   "cell_type": "code",
   "execution_count": null,
   "metadata": {},
   "outputs": [],
   "source": []
  },
  {
   "cell_type": "code",
   "execution_count": 109,
   "metadata": {},
   "outputs": [],
   "source": [
    "NR = pd.read_csv('../../../results/num_removed_ANN_pre_calc_val_mnist.csv', index_col=0)\n",
    "NR.columns = ['Number of Nodes']\n",
    "NR.describe().drop(['count']).round(2).to_latex('../../../latex/tables/num_removed_ANN_pre_calc_val_mnist.tex', bold_rows=True)"
   ]
  },
  {
   "cell_type": "code",
   "execution_count": 110,
   "metadata": {},
   "outputs": [],
   "source": [
    "A = pd.read_csv('../../../results/change_accuracy_ANN_pre_calc_val_mnist.csv', index_col=0)\n",
    "A.columns = ['Change in Accuracy']\n",
    "A.describe().drop(['count']).round(4).to_latex('../../../latex/tables/change_accuracy_ANN_pre_calc_val_mnist.tex', bold_rows=True)"
   ]
  },
  {
   "cell_type": "code",
   "execution_count": 111,
   "metadata": {},
   "outputs": [],
   "source": [
    "L = pd.read_csv('../../../results/chnage_loss_ANN_pre_calc_val_mnist.csv', index_col=0)\n",
    "L.columns = ['Change in Loss']\n",
    "L.describe().drop(['count']).round(4).to_latex('../../../latex/tables/change_loss_ANN_pre_calc_val_mnist.tex', bold_rows=True)"
   ]
  },
  {
   "cell_type": "code",
   "execution_count": null,
   "metadata": {},
   "outputs": [],
   "source": []
  },
  {
   "cell_type": "code",
   "execution_count": 112,
   "metadata": {},
   "outputs": [],
   "source": [
    "NR = pd.read_csv('../../../results/num_removed_ANN_pre_calc_val_fmnist.csv', index_col=0)\n",
    "NR.columns = ['Number of Nodes']\n",
    "NR.describe().drop(['count']).round(2).to_latex('../../../latex/tables/num_removed_ANN_pre_calc_val_fmnist.tex', bold_rows=True)"
   ]
  },
  {
   "cell_type": "code",
   "execution_count": 113,
   "metadata": {},
   "outputs": [],
   "source": [
    "A = pd.read_csv('../../../results/change_accuracy_ANN_pre_calc_val_fmnist.csv', index_col=0)\n",
    "A.columns = ['Change in Accuracy']\n",
    "A.describe().drop(['count']).round(4).to_latex('../../../latex/tables/change_accuracy_ANN_pre_calc_val_fmnist.tex', bold_rows=True)"
   ]
  },
  {
   "cell_type": "code",
   "execution_count": 114,
   "metadata": {},
   "outputs": [],
   "source": [
    "L = pd.read_csv('../../../results/chnage_loss_ANN_pre_calc_val_fmnist.csv', index_col=0)\n",
    "L.columns = ['Change in Loss']\n",
    "L.describe().drop(['count']).round(4).to_latex('../../../latex/tables/change_loss_ANN_pre_calc_val_fmnist.tex', bold_rows=True)"
   ]
  },
  {
   "cell_type": "code",
   "execution_count": null,
   "metadata": {},
   "outputs": [],
   "source": []
  },
  {
   "cell_type": "code",
   "execution_count": 115,
   "metadata": {},
   "outputs": [],
   "source": [
    "NR = pd.read_csv('../../../results/num_removed_MLP_pre_calc_mnist.csv', index_col=0)\n",
    "NR.describe().drop(['count']).round(2).to_latex('../../../latex/tables/num_removed_MLP_pre_calc_mnist.tex', bold_rows=True)"
   ]
  },
  {
   "cell_type": "code",
   "execution_count": 116,
   "metadata": {},
   "outputs": [],
   "source": [
    "A = pd.read_csv('../../../results/change_accuracy_MLP_pre_calc_mnist.csv', index_col=0)\n",
    "A.columns = ['Change in Accuracy']\n",
    "A.describe().drop(['count']).round(4).to_latex('../../../latex/tables/change_accuracy_MLP_pre_calc_mnist.tex', bold_rows=True)"
   ]
  },
  {
   "cell_type": "code",
   "execution_count": 117,
   "metadata": {},
   "outputs": [],
   "source": [
    "L = pd.read_csv('../../../results/chnage_loss_MLP_pre_calc_mnist.csv', index_col=0)\n",
    "L.columns = ['Change in Loss']\n",
    "L.describe().drop(['count']).round(4).to_latex('../../../latex/tables/change_loss_MLP_pre_calc_mnist.tex', bold_rows=True)"
   ]
  },
  {
   "cell_type": "code",
   "execution_count": null,
   "metadata": {},
   "outputs": [],
   "source": []
  },
  {
   "cell_type": "code",
   "execution_count": 118,
   "metadata": {},
   "outputs": [],
   "source": [
    "NR = pd.read_csv('../../../results/num_removed_MLP_pre_calc_fmnist.csv', index_col=0)\n",
    "NR.describe().drop(['count']).round(2).to_latex('../../../latex/tables/num_removed_MLP_pre_calc_fmnist.tex', bold_rows=True)"
   ]
  },
  {
   "cell_type": "code",
   "execution_count": 119,
   "metadata": {},
   "outputs": [],
   "source": [
    "A = pd.read_csv('../../../results/change_accuracy_MLP_pre_calc_fmnist.csv', index_col=0)\n",
    "A.columns = ['Change in Accuracy']\n",
    "A.describe().drop(['count']).round(4).to_latex('../../../latex/tables/change_accuracy_MLP_pre_calc_fmnist.tex', bold_rows=True)"
   ]
  },
  {
   "cell_type": "code",
   "execution_count": 120,
   "metadata": {},
   "outputs": [],
   "source": [
    "L = pd.read_csv('../../../results/chnage_loss_MLP_pre_calc_fmnist.csv', index_col=0)\n",
    "L.columns = ['Change in Loss']\n",
    "L.describe().drop(['count']).round(4).to_latex('../../../latex/tables/change_loss_MLP_pre_calc_fmnist.tex', bold_rows=True)"
   ]
  },
  {
   "cell_type": "code",
   "execution_count": null,
   "metadata": {},
   "outputs": [],
   "source": []
  },
  {
   "cell_type": "code",
   "execution_count": 121,
   "metadata": {},
   "outputs": [],
   "source": [
    "NR = pd.read_csv('../../../results/num_removed_MLP_pre_calc_val_mnist.csv', index_col=0)\n",
    "NR.describe().drop(['count']).round(2).to_latex('../../../latex/tables/num_removed_MLP_pre_calc_val_mnist.tex', bold_rows=True)"
   ]
  },
  {
   "cell_type": "code",
   "execution_count": 122,
   "metadata": {},
   "outputs": [],
   "source": [
    "A = pd.read_csv('../../../results/change_accuracy_MLP_pre_calc_val_mnist.csv', index_col=0)\n",
    "A.columns = ['Change in Accuracy']\n",
    "A.describe().drop(['count']).round(4).to_latex('../../../latex/tables/change_accuracy_MLP_pre_calc_val_mnist.tex', bold_rows=True)"
   ]
  },
  {
   "cell_type": "code",
   "execution_count": 123,
   "metadata": {},
   "outputs": [],
   "source": [
    "L = pd.read_csv('../../../results/chnage_loss_MLP_pre_calc_val_mnist.csv', index_col=0)\n",
    "L.columns = ['Change in Loss']\n",
    "L.describe().drop(['count']).round(4).to_latex('../../../latex/tables/change_loss_MLP_pre_calc_val_mnist.tex', bold_rows=True)"
   ]
  },
  {
   "cell_type": "code",
   "execution_count": null,
   "metadata": {},
   "outputs": [],
   "source": []
  },
  {
   "cell_type": "code",
   "execution_count": 124,
   "metadata": {},
   "outputs": [],
   "source": [
    "NR = pd.read_csv('../../../results/num_removed_MLP_pre_calc_val_fmnist.csv', index_col=0)\n",
    "NR.describe().drop(['count']).round(2).to_latex('../../../latex/tables/num_removed_MLP_pre_calc_val_fmnist.tex', bold_rows=True)"
   ]
  },
  {
   "cell_type": "code",
   "execution_count": 125,
   "metadata": {},
   "outputs": [],
   "source": [
    "A = pd.read_csv('../../../results/change_accuracy_MLP_pre_calc_val_fmnist.csv', index_col=0)\n",
    "A.columns = ['Change in Accuracy']\n",
    "A.describe().drop(['count']).round(4).to_latex('../../../latex/tables/change_accuracy_MLP_pre_calc_val_fmnist.tex', bold_rows=True)"
   ]
  },
  {
   "cell_type": "code",
   "execution_count": 126,
   "metadata": {},
   "outputs": [],
   "source": [
    "L = pd.read_csv('../../../results/chnage_loss_MLP_pre_calc_val_fmnist.csv', index_col=0)\n",
    "L.columns = ['Change in Loss']\n",
    "L.describe().drop(['count']).round(4).to_latex('../../../latex/tables/change_loss_MLP_pre_calc_val_fmnist.tex', bold_rows=True)"
   ]
  },
  {
   "cell_type": "code",
   "execution_count": null,
   "metadata": {},
   "outputs": [],
   "source": []
  },
  {
   "cell_type": "code",
   "execution_count": 127,
   "metadata": {},
   "outputs": [],
   "source": [
    "NR = pd.read_csv('../../../results/num_removed_CNN_pre_calc_mnist.csv', index_col=0)\n",
    "NR.describe().drop(['count']).round(2).to_latex('../../../latex/tables/num_removed_CNN_pre_calc_mnist.tex', bold_rows=True)"
   ]
  },
  {
   "cell_type": "code",
   "execution_count": 128,
   "metadata": {},
   "outputs": [],
   "source": [
    "A = pd.read_csv('../../../results/change_accuracy_CNN_pre_calc_mnist.csv', index_col=0)\n",
    "A.columns = ['Change in Accuracy']\n",
    "A.describe().drop(['count']).round(4).to_latex('../../../latex/tables/change_accuracy_CNN_pre_calc_mnist.tex', bold_rows=True)"
   ]
  },
  {
   "cell_type": "code",
   "execution_count": 129,
   "metadata": {},
   "outputs": [],
   "source": [
    "L = pd.read_csv('../../../results/chnage_loss_CNN_pre_calc_mnist.csv', index_col=0)\n",
    "L.columns = ['Change in Loss']\n",
    "L.describe().drop(['count']).round(4).to_latex('../../../latex/tables/change_loss_CNN_pre_calc_mnist.tex', bold_rows=True)"
   ]
  },
  {
   "cell_type": "code",
   "execution_count": null,
   "metadata": {},
   "outputs": [],
   "source": []
  },
  {
   "cell_type": "code",
   "execution_count": 130,
   "metadata": {},
   "outputs": [],
   "source": [
    "NR = pd.read_csv('../../../results/num_removed_CNN_pre_calc_fmnist.csv', index_col=0)\n",
    "NR.describe().drop(['count']).round(2).to_latex('../../../latex/tables/num_removed_CNN_pre_calc_fmnist.tex', bold_rows=True)"
   ]
  },
  {
   "cell_type": "code",
   "execution_count": 131,
   "metadata": {},
   "outputs": [],
   "source": [
    "A = pd.read_csv('../../../results/change_accuracy_CNN_pre_calc_fmnist.csv', index_col=0)\n",
    "A.columns = ['Change in Accuracy']\n",
    "A.describe().drop(['count']).round(4).to_latex('../../../latex/tables/change_accuracy_CNN_pre_calc_fmnist.tex', bold_rows=True)"
   ]
  },
  {
   "cell_type": "code",
   "execution_count": 132,
   "metadata": {},
   "outputs": [],
   "source": [
    "L = pd.read_csv('../../../results/chnage_loss_CNN_pre_calc_fmnist.csv', index_col=0)\n",
    "L.columns = ['Change in Loss']\n",
    "L.describe().drop(['count']).round(4).to_latex('../../../latex/tables/change_loss_CNN_pre_calc_fmnist.tex', bold_rows=True)"
   ]
  },
  {
   "cell_type": "code",
   "execution_count": null,
   "metadata": {},
   "outputs": [],
   "source": []
  },
  {
   "cell_type": "code",
   "execution_count": 133,
   "metadata": {},
   "outputs": [],
   "source": [
    "NR = pd.read_csv('../../../results/num_removed_CNN_pre_calc_cifar.csv', index_col=0)\n",
    "NR.describe().drop(['count']).round(2).to_latex('../../../latex/tables/num_removed_CNN_pre_calc_cifar.tex', bold_rows=True)"
   ]
  },
  {
   "cell_type": "code",
   "execution_count": 134,
   "metadata": {},
   "outputs": [],
   "source": [
    "A = pd.read_csv('../../../results/change_accuracy_CNN_pre_calc_cifar.csv', index_col=0)\n",
    "A.columns = ['Change in Accuracy']\n",
    "A.describe().drop(['count']).round(4).to_latex('../../../latex/tables/change_accuracy_CNN_pre_calc_cifar.tex', bold_rows=True)"
   ]
  },
  {
   "cell_type": "code",
   "execution_count": 135,
   "metadata": {},
   "outputs": [],
   "source": [
    "L = pd.read_csv('../../../results/chnage_loss_CNN_pre_calc_cifar.csv', index_col=0)\n",
    "L.columns = ['Change in Loss']\n",
    "L.describe().drop(['count']).round(4).to_latex('../../../latex/tables/change_loss_CNN_pre_calc_cifar.tex', bold_rows=True)"
   ]
  },
  {
   "cell_type": "code",
   "execution_count": null,
   "metadata": {},
   "outputs": [],
   "source": []
  },
  {
   "cell_type": "code",
   "execution_count": 136,
   "metadata": {},
   "outputs": [],
   "source": [
    "NR = pd.read_csv('../../../results/num_removed_CNN_pre_calc_val_mnist.csv', index_col=0)\n",
    "NR.describe().drop(['count']).round(2).to_latex('../../../latex/tables/num_removed_CNN_pre_calc_val_mnist.tex', bold_rows=True)"
   ]
  },
  {
   "cell_type": "code",
   "execution_count": 137,
   "metadata": {},
   "outputs": [],
   "source": [
    "A = pd.read_csv('../../../results/change_accuracy_CNN_pre_calc_val_mnist.csv', index_col=0)\n",
    "A.columns = ['Change in Accuracy']\n",
    "A.describe().drop(['count']).round(4).to_latex('../../../latex/tables/change_accuracy_CNN_pre_calc_val_mnist.tex', bold_rows=True)"
   ]
  },
  {
   "cell_type": "code",
   "execution_count": 138,
   "metadata": {},
   "outputs": [],
   "source": [
    "L = pd.read_csv('../../../results/chnage_loss_CNN_pre_calc_val_mnist.csv', index_col=0)\n",
    "L.columns = ['Change in Loss']\n",
    "L.describe().drop(['count']).round(4).to_latex('../../../latex/tables/change_loss_CNN_pre_calc_val_mnist.tex', bold_rows=True)"
   ]
  },
  {
   "cell_type": "code",
   "execution_count": null,
   "metadata": {},
   "outputs": [],
   "source": []
  },
  {
   "cell_type": "code",
   "execution_count": 139,
   "metadata": {},
   "outputs": [],
   "source": [
    "NR = pd.read_csv('../../../results/num_removed_CNN_pre_calc_val_fmnist.csv', index_col=0)\n",
    "NR.describe().drop(['count']).round(2).to_latex('../../../latex/tables/num_removed_CNN_pre_calc_val_fmnist.tex', bold_rows=True)"
   ]
  },
  {
   "cell_type": "code",
   "execution_count": 140,
   "metadata": {},
   "outputs": [],
   "source": [
    "A = pd.read_csv('../../../results/change_accuracy_CNN_pre_calc_val_fmnist.csv', index_col=0)\n",
    "A.columns = ['Change in Accuracy']\n",
    "A.describe().drop(['count']).round(4).to_latex('../../../latex/tables/change_accuracy_CNN_pre_calc_val_fmnist.tex', bold_rows=True)"
   ]
  },
  {
   "cell_type": "code",
   "execution_count": 141,
   "metadata": {},
   "outputs": [],
   "source": [
    "L = pd.read_csv('../../../results/chnage_loss_CNN_pre_calc_val_fmnist.csv', index_col=0)\n",
    "L.columns = ['Change in Loss']\n",
    "L.describe().drop(['count']).round(4).to_latex('../../../latex/tables/change_loss_CNN_pre_calc_val_fmnist.tex', bold_rows=True)"
   ]
  },
  {
   "cell_type": "code",
   "execution_count": null,
   "metadata": {},
   "outputs": [],
   "source": []
  },
  {
   "cell_type": "code",
   "execution_count": 142,
   "metadata": {},
   "outputs": [],
   "source": [
    "NR = pd.read_csv('../../../results/num_removed_CNN_pre_calc_val_cifar.csv', index_col=0)\n",
    "NR.describe().drop(['count']).round(2).to_latex('../../../latex/tables/num_removed_CNN_pre_calc_val_cifar.tex', bold_rows=True)"
   ]
  },
  {
   "cell_type": "code",
   "execution_count": 143,
   "metadata": {},
   "outputs": [],
   "source": [
    "A = pd.read_csv('../../../results/change_accuracy_CNN_pre_calc_val_cifar.csv', index_col=0)\n",
    "A.columns = ['Change in Accuracy']\n",
    "A.describe().drop(['count']).round(4).to_latex('../../../latex/tables/change_accuracy_CNN_pre_calc_val_cifar.tex', bold_rows=True)"
   ]
  },
  {
   "cell_type": "code",
   "execution_count": 144,
   "metadata": {},
   "outputs": [],
   "source": [
    "L = pd.read_csv('../../../results/chnage_loss_CNN_pre_calc_val_cifar.csv', index_col=0)\n",
    "L.columns = ['Change in Loss']\n",
    "L.describe().drop(['count']).round(4).to_latex('../../../latex/tables/change_loss_CNN_pre_calc_val_cifar.tex', bold_rows=True)"
   ]
  },
  {
   "cell_type": "code",
   "execution_count": null,
   "metadata": {},
   "outputs": [],
   "source": []
  },
  {
   "cell_type": "code",
   "execution_count": null,
   "metadata": {},
   "outputs": [],
   "source": []
  },
  {
   "cell_type": "code",
   "execution_count": 8,
   "metadata": {},
   "outputs": [],
   "source": [
    "NI = pd.read_csv('../../../results/dropout/node_imp_ANN_dropout_mnist.csv', header=[0,1], index_col=0)\n",
    "NI.describe().drop(['count']).round(2).to_latex('../../../latex/tables/dropout/node_imp_ANN_mnist.tex', bold_rows=True, multicolumn_format='c')"
   ]
  },
  {
   "cell_type": "code",
   "execution_count": 9,
   "metadata": {},
   "outputs": [],
   "source": [
    "AvgNI = pd.read_csv('../../../results/dropout/avg_node_imp_ANN_dropout_mnist.csv', header=[0,1], index_col=0)\n",
    "AvgNI.describe().drop(['count']).round(4).to_latex('../../../latex/tables/dropout/avg_node_imp_ANN_mnist.tex', bold_rows=True, multicolumn_format='c')"
   ]
  },
  {
   "cell_type": "code",
   "execution_count": 10,
   "metadata": {},
   "outputs": [],
   "source": [
    "A = pd.read_csv('../../../results/dropout/avg_acc_ANN_dropout_mnist.csv', index_col=0)\n",
    "A.describe().drop(['count']).round(4).to_latex('../../../latex/tables/dropout/avg_acc_ANN_mnist.tex', bold_rows=True)"
   ]
  },
  {
   "cell_type": "code",
   "execution_count": 11,
   "metadata": {},
   "outputs": [],
   "source": [
    "L = pd.read_csv('../../../results/dropout/loss_ANN_dropout_mnist.csv', index_col=0)\n",
    "L.describe().drop(['count']).round(4).to_latex('../../../latex/tables/dropout/avg_loss_ANN_mnist.tex', bold_rows=True)"
   ]
  },
  {
   "cell_type": "code",
   "execution_count": null,
   "metadata": {},
   "outputs": [],
   "source": []
  },
  {
   "cell_type": "code",
   "execution_count": 12,
   "metadata": {},
   "outputs": [],
   "source": [
    "NI = pd.read_csv('../../../results/dropout/node_imp_ANN_dropout_fmnist.csv', header=[0,1], index_col=0)\n",
    "NI.describe().drop(['count']).round(2).to_latex('../../../latex/tables/dropout/node_imp_ANN_fmnist.tex', bold_rows=True, multicolumn_format='c')"
   ]
  },
  {
   "cell_type": "code",
   "execution_count": 13,
   "metadata": {},
   "outputs": [],
   "source": [
    "AvgNI = pd.read_csv('../../../results/dropout/avg_node_imp_ANN_dropout_fmnist.csv', header=[0,1], index_col=0)\n",
    "AvgNI.describe().drop(['count']).round(4).to_latex('../../../latex/tables/dropout/avg_node_imp_ANN_fmnist.tex', bold_rows=True, multicolumn_format='c')"
   ]
  },
  {
   "cell_type": "code",
   "execution_count": 14,
   "metadata": {},
   "outputs": [],
   "source": [
    "A = pd.read_csv('../../../results/dropout/avg_acc_ANN_dropout_fmnist.csv', index_col=0)\n",
    "A.describe().drop(['count']).round(4).to_latex('../../../latex/tables/dropout/avg_acc_ANN_fmnist.tex', bold_rows=True)"
   ]
  },
  {
   "cell_type": "code",
   "execution_count": 15,
   "metadata": {},
   "outputs": [],
   "source": [
    "L = pd.read_csv('../../../results/dropout/loss_ANN_dropout_fmnist.csv', index_col=0)\n",
    "L.describe().drop(['count']).round(4).to_latex('../../../latex/tables/dropout/avg_loss_ANN_fmnist.tex', bold_rows=True)"
   ]
  },
  {
   "cell_type": "code",
   "execution_count": null,
   "metadata": {},
   "outputs": [],
   "source": []
  },
  {
   "cell_type": "code",
   "execution_count": 16,
   "metadata": {},
   "outputs": [],
   "source": [
    "NI = pd.read_csv('../../../results/dropout/node_imp_MLP_dropout_1_mnist.csv', header=[0,1], index_col=0)\n",
    "NI.describe().drop(['count']).round(2).to_latex('../../../latex/tables/dropout/node_imp_MLP_1_mnist.tex', bold_rows=True, multicolumn_format='c')"
   ]
  },
  {
   "cell_type": "code",
   "execution_count": 17,
   "metadata": {},
   "outputs": [],
   "source": [
    "AvgNI = pd.read_csv('../../../results/dropout/avg_node_imp_MLP_dropout_1_mnist.csv', header=[0,1], index_col=0)\n",
    "AvgNI.describe().drop(['count']).round(4).to_latex('../../../latex/tables/dropout/avg_node_imp_MLP_1_mnist.tex', bold_rows=True, multicolumn_format='c')"
   ]
  },
  {
   "cell_type": "code",
   "execution_count": 18,
   "metadata": {},
   "outputs": [],
   "source": [
    "NI = pd.read_csv('../../../results/dropout/node_imp_MLP_dropout_2_mnist.csv', header=[0,1], index_col=0)\n",
    "NI.describe().drop(['count']).round(2).to_latex('../../../latex/tables/dropout/node_imp_MLP_2_mnist.tex', bold_rows=True, multicolumn_format='c')"
   ]
  },
  {
   "cell_type": "code",
   "execution_count": 19,
   "metadata": {},
   "outputs": [],
   "source": [
    "AvgNI = pd.read_csv('../../../results/dropout/avg_node_imp_MLP_dropout_2_mnist.csv', header=[0,1], index_col=0)\n",
    "AvgNI.describe().drop(['count']).round(4).to_latex('../../../latex/tables/dropout/avg_node_imp_MLP_2_mnist.tex', bold_rows=True, multicolumn_format='c')"
   ]
  },
  {
   "cell_type": "code",
   "execution_count": 20,
   "metadata": {},
   "outputs": [],
   "source": [
    "NI = pd.read_csv('../../../results/dropout/node_imp_MLP_dropout_3_mnist.csv', header=[0,1], index_col=0)\n",
    "NI.describe().drop(['count']).round(2).to_latex('../../../latex/tables/dropout/node_imp_MLP_3_mnist.tex', bold_rows=True, multicolumn_format='c')"
   ]
  },
  {
   "cell_type": "code",
   "execution_count": 22,
   "metadata": {},
   "outputs": [],
   "source": [
    "AvgNI = pd.read_csv('../../../results/dropout/avg_node_imp_MLP_dropout_3_mnist.csv', header=[0,1], index_col=0)\n",
    "AvgNI.describe().drop(['count']).round(4).to_latex('../../../latex/tables/dropout/avg_node_imp_MLP_3_mnist.tex', bold_rows=True, multicolumn_format='c')"
   ]
  },
  {
   "cell_type": "code",
   "execution_count": 25,
   "metadata": {},
   "outputs": [],
   "source": [
    "A = pd.read_csv('../../../results/dropout/avg_acc_MLP_dropout_mnist.csv', index_col=0)\n",
    "A.describe().drop(['count']).round(4).to_latex('../../../latex/tables/dropout/avg_acc_MLP_mnist.tex', bold_rows=True)"
   ]
  },
  {
   "cell_type": "code",
   "execution_count": 26,
   "metadata": {},
   "outputs": [],
   "source": [
    "L = pd.read_csv('../../../results/dropout/loss_MLP_dropout_mnist.csv', index_col=0)\n",
    "L.describe().drop(['count']).round(4).to_latex('../../../latex/tables/dropout/avg_loss_MLP_mnist.tex', bold_rows=True)"
   ]
  },
  {
   "cell_type": "code",
   "execution_count": null,
   "metadata": {},
   "outputs": [],
   "source": []
  },
  {
   "cell_type": "code",
   "execution_count": 27,
   "metadata": {},
   "outputs": [],
   "source": [
    "NI = pd.read_csv('../../../results/dropout/node_imp_MLP_dropout_1_fmnist.csv', header=[0,1], index_col=0)\n",
    "NI.describe().drop(['count']).round(2).to_latex('../../../latex/tables/dropout/node_imp_MLP_1_fmnist.tex', bold_rows=True, multicolumn_format='c')"
   ]
  },
  {
   "cell_type": "code",
   "execution_count": 28,
   "metadata": {},
   "outputs": [],
   "source": [
    "AvgNI = pd.read_csv('../../../results/dropout/avg_node_imp_MLP_dropout_1_fmnist.csv', header=[0,1], index_col=0)\n",
    "AvgNI.describe().drop(['count']).round(4).to_latex('../../../latex/tables/dropout/avg_node_imp_MLP_1_fmnist.tex', bold_rows=True, multicolumn_format='c')"
   ]
  },
  {
   "cell_type": "code",
   "execution_count": 29,
   "metadata": {},
   "outputs": [],
   "source": [
    "NI = pd.read_csv('../../../results/dropout/node_imp_MLP_dropout_2_fmnist.csv', header=[0,1], index_col=0)\n",
    "NI.describe().drop(['count']).round(2).to_latex('../../../latex/tables/dropout/node_imp_MLP_2_fmnist.tex', bold_rows=True, multicolumn_format='c')"
   ]
  },
  {
   "cell_type": "code",
   "execution_count": 30,
   "metadata": {},
   "outputs": [],
   "source": [
    "AvgNI = pd.read_csv('../../../results/dropout/avg_node_imp_MLP_dropout_2_fmnist.csv', header=[0,1], index_col=0)\n",
    "AvgNI.describe().drop(['count']).round(4).to_latex('../../../latex/tables/dropout/avg_node_imp_MLP_2_fmnist.tex', bold_rows=True, multicolumn_format='c')"
   ]
  },
  {
   "cell_type": "code",
   "execution_count": 31,
   "metadata": {},
   "outputs": [],
   "source": [
    "NI = pd.read_csv('../../../results/dropout/node_imp_MLP_dropout_3_fmnist.csv', header=[0,1], index_col=0)\n",
    "NI.describe().drop(['count']).round(2).to_latex('../../../latex/tables/dropout/node_imp_MLP_3_fmnist.tex', bold_rows=True, multicolumn_format='c')"
   ]
  },
  {
   "cell_type": "code",
   "execution_count": 32,
   "metadata": {},
   "outputs": [],
   "source": [
    "AvgNI = pd.read_csv('../../../results/dropout/avg_node_imp_MLP_dropout_3_fmnist.csv', header=[0,1], index_col=0)\n",
    "AvgNI.describe().drop(['count']).round(4).to_latex('../../../latex/tables/dropout/avg_node_imp_MLP_3_fmnist.tex', bold_rows=True, multicolumn_format='c')"
   ]
  },
  {
   "cell_type": "code",
   "execution_count": 33,
   "metadata": {},
   "outputs": [],
   "source": [
    "A = pd.read_csv('../../../results/dropout/avg_acc_MLP_dropout_fmnist.csv', index_col=0)\n",
    "A.describe().drop(['count']).round(4).to_latex('../../../latex/tables/dropout/avg_acc_MLP_fmnist.tex', bold_rows=True)"
   ]
  },
  {
   "cell_type": "code",
   "execution_count": 34,
   "metadata": {},
   "outputs": [],
   "source": [
    "L = pd.read_csv('../../../results/dropout/loss_MLP_dropout_fmnist.csv', index_col=0)\n",
    "L.describe().drop(['count']).round(4).to_latex('../../../latex/tables/dropout/avg_loss_MLP_fmnist.tex', bold_rows=True)"
   ]
  },
  {
   "cell_type": "code",
   "execution_count": null,
   "metadata": {},
   "outputs": [],
   "source": []
  },
  {
   "cell_type": "code",
   "execution_count": null,
   "metadata": {},
   "outputs": [],
   "source": []
  },
  {
   "cell_type": "code",
   "execution_count": 128,
   "metadata": {},
   "outputs": [],
   "source": [
    "NI = pd.read_csv('../../../results/node_imp_ANN_batch_mnist.csv', header=[0,1], index_col=0)\n",
    "NI.describe().drop(['count']).round(2).to_latex('../../../latex/tables/batch/node_imp_ANN_mnist.tex', bold_rows=True, multicolumn_format='c')"
   ]
  },
  {
   "cell_type": "code",
   "execution_count": 129,
   "metadata": {},
   "outputs": [],
   "source": [
    "AvgNI = pd.read_csv('../../../results/avg_node_imp_ANN_batch_mnist.csv', header=[0,1], index_col=0)\n",
    "AvgNI.describe().drop(['count']).round(4).to_latex('../../../latex/tables/batch/avg_node_imp_ANN_mnist.tex', bold_rows=True, multicolumn_format='c')"
   ]
  },
  {
   "cell_type": "code",
   "execution_count": 130,
   "metadata": {},
   "outputs": [],
   "source": [
    "A = pd.read_csv('../../../results/avg_acc_ANN_batch_mnist.csv', index_col=0)\n",
    "A.describe().drop(['count']).round(4).to_latex('../../../latex/tables/batch/avg_acc_ANN_mnist.tex', bold_rows=True)"
   ]
  },
  {
   "cell_type": "code",
   "execution_count": 131,
   "metadata": {},
   "outputs": [],
   "source": [
    "L = pd.read_csv('../../../results/loss_ANN_batch_mnist.csv', index_col=0)\n",
    "L.describe().drop(['count']).round(4).to_latex('../../../latex/tables/batch/avg_loss_ANN_mnist.tex', bold_rows=True)"
   ]
  },
  {
   "cell_type": "code",
   "execution_count": null,
   "metadata": {},
   "outputs": [],
   "source": []
  },
  {
   "cell_type": "code",
   "execution_count": 40,
   "metadata": {},
   "outputs": [],
   "source": [
    "NI = pd.read_csv('../../../results/node_imp_ANN_batch_fmnist.csv', header=[0,1], index_col=0)\n",
    "NI.describe().drop(['count']).round(2).to_latex('../../../latex/tables/batch/node_imp_ANN_fmnist.tex', bold_rows=True, multicolumn_format='c')"
   ]
  },
  {
   "cell_type": "code",
   "execution_count": 41,
   "metadata": {},
   "outputs": [],
   "source": [
    "AvgNI = pd.read_csv('../../../results/avg_node_imp_ANN_batch_fmnist.csv', header=[0,1], index_col=0)\n",
    "AvgNI.describe().drop(['count']).round(4).to_latex('../../../latex/tables/batch/avg_node_imp_ANN_fmnist.tex', bold_rows=True, multicolumn_format='c')"
   ]
  },
  {
   "cell_type": "code",
   "execution_count": 42,
   "metadata": {},
   "outputs": [],
   "source": [
    "A = pd.read_csv('../../../results/acc_ANN_batch_fmnist.csv', index_col=0)\n",
    "A.describe().drop(['count']).round(4).to_latex('../../../latex/tables/batch/avg_acc_ANN_fmnist.tex', bold_rows=True)"
   ]
  },
  {
   "cell_type": "code",
   "execution_count": 43,
   "metadata": {},
   "outputs": [],
   "source": [
    "L = pd.read_csv('../../../results/loss_ANN_batch_fmnist.csv', index_col=0)\n",
    "L.describe().drop(['count']).round(4).to_latex('../../../latex/tables/batch/avg_loss_ANN_fmnist.tex', bold_rows=True)"
   ]
  },
  {
   "cell_type": "code",
   "execution_count": null,
   "metadata": {},
   "outputs": [],
   "source": []
  },
  {
   "cell_type": "code",
   "execution_count": 44,
   "metadata": {},
   "outputs": [],
   "source": [
    "NI = pd.read_csv('../../../results/node_imp_MLP_l1_batch_mnist.csv', header=[0,1], index_col=0)\n",
    "NI.describe().drop(['count']).round(2).to_latex('../../../latex/tables/batch/node_imp_MLP_1_mnist.tex', bold_rows=True, multicolumn_format='c')"
   ]
  },
  {
   "cell_type": "code",
   "execution_count": 45,
   "metadata": {},
   "outputs": [],
   "source": [
    "AvgNI = pd.read_csv('../../../results/avg_node_imp_MLP_l1_batch_mnist.csv', header=[0,1], index_col=0)\n",
    "AvgNI.describe().drop(['count']).round(4).to_latex('../../../latex/tables/batch/avg_node_imp_MLP_1_mnist.tex', bold_rows=True, multicolumn_format='c')"
   ]
  },
  {
   "cell_type": "code",
   "execution_count": 46,
   "metadata": {},
   "outputs": [],
   "source": [
    "NI = pd.read_csv('../../../results/node_imp_MLP_l2_batch_mnist.csv', header=[0,1], index_col=0)\n",
    "NI.describe().drop(['count']).round(2).to_latex('../../../latex/tables/batch/node_imp_MLP_2_mnist.tex', bold_rows=True, multicolumn_format='c')"
   ]
  },
  {
   "cell_type": "code",
   "execution_count": 47,
   "metadata": {},
   "outputs": [],
   "source": [
    "AvgNI = pd.read_csv('../../../results/avg_node_imp_MLP_l2_batch_mnist.csv', header=[0,1], index_col=0)\n",
    "AvgNI.describe().drop(['count']).round(4).to_latex('../../../latex/tables/batch/avg_node_imp_MLP_2_mnist.tex', bold_rows=True, multicolumn_format='c')"
   ]
  },
  {
   "cell_type": "code",
   "execution_count": 48,
   "metadata": {},
   "outputs": [],
   "source": [
    "NI = pd.read_csv('../../../results/node_imp_MLP_l3_batch_mnist.csv', header=[0,1], index_col=0)\n",
    "NI.describe().drop(['count']).round(2).to_latex('../../../latex/tables/batch/node_imp_MLP_3_mnist.tex', bold_rows=True, multicolumn_format='c')"
   ]
  },
  {
   "cell_type": "code",
   "execution_count": 49,
   "metadata": {},
   "outputs": [],
   "source": [
    "AvgNI = pd.read_csv('../../../results/avg_node_imp_MLP_l3_batch_mnist.csv', header=[0,1], index_col=0)\n",
    "AvgNI.describe().drop(['count']).round(4).to_latex('../../../latex/tables/batch/avg_node_imp_MLP_3_mnist.tex', bold_rows=True, multicolumn_format='c')"
   ]
  },
  {
   "cell_type": "code",
   "execution_count": 50,
   "metadata": {},
   "outputs": [],
   "source": [
    "A = pd.read_csv('../../../results/acc_MLP_batch_mnist.csv', index_col=0)\n",
    "A.describe().drop(['count']).round(4).to_latex('../../../latex/tables/batch/avg_acc_MLP_mnist.tex', bold_rows=True)"
   ]
  },
  {
   "cell_type": "code",
   "execution_count": 51,
   "metadata": {},
   "outputs": [],
   "source": [
    "L = pd.read_csv('../../../results/loss_MLP_batch_mnist.csv', index_col=0)\n",
    "L.describe().drop(['count']).round(4).to_latex('../../../latex/tables/batch/avg_loss_MLP_mnist.tex', bold_rows=True)"
   ]
  },
  {
   "cell_type": "code",
   "execution_count": null,
   "metadata": {},
   "outputs": [],
   "source": []
  },
  {
   "cell_type": "code",
   "execution_count": 52,
   "metadata": {},
   "outputs": [],
   "source": [
    "NI = pd.read_csv('../../../results/node_imp_MLP_l1_batch_fmnist.csv', header=[0,1], index_col=0)\n",
    "NI.describe().drop(['count']).round(2).to_latex('../../../latex/tables/batch/node_imp_MLP_1_fmnist.tex', bold_rows=True, multicolumn_format='c')"
   ]
  },
  {
   "cell_type": "code",
   "execution_count": 53,
   "metadata": {},
   "outputs": [],
   "source": [
    "AvgNI = pd.read_csv('../../../results/avg_node_imp_MLP_l1_batch_fmnist.csv', header=[0,1], index_col=0)\n",
    "AvgNI.describe().drop(['count']).round(4).to_latex('../../../latex/tables/batch/avg_node_imp_MLP_1_fmnist.tex', bold_rows=True, multicolumn_format='c')"
   ]
  },
  {
   "cell_type": "code",
   "execution_count": 54,
   "metadata": {},
   "outputs": [],
   "source": [
    "NI = pd.read_csv('../../../results/node_imp_MLP_l2_batch_fmnist.csv', header=[0,1], index_col=0)\n",
    "NI.describe().drop(['count']).round(2).to_latex('../../../latex/tables/batch/node_imp_MLP_2_fmnist.tex', bold_rows=True, multicolumn_format='c')"
   ]
  },
  {
   "cell_type": "code",
   "execution_count": 55,
   "metadata": {},
   "outputs": [],
   "source": [
    "AvgNI = pd.read_csv('../../../results/avg_node_imp_MLP_l2_batch_fmnist.csv', header=[0,1], index_col=0)\n",
    "AvgNI.describe().drop(['count']).round(4).to_latex('../../../latex/tables/batch/avg_node_imp_MLP_2_fmnist.tex', bold_rows=True, multicolumn_format='c')"
   ]
  },
  {
   "cell_type": "code",
   "execution_count": 56,
   "metadata": {},
   "outputs": [],
   "source": [
    "NI = pd.read_csv('../../../results/node_imp_MLP_l3_batch_fmnist.csv', header=[0,1], index_col=0)\n",
    "NI.describe().drop(['count']).round(2).to_latex('../../../latex/tables/batch/node_imp_MLP_3_fmnist.tex', bold_rows=True, multicolumn_format='c')"
   ]
  },
  {
   "cell_type": "code",
   "execution_count": 57,
   "metadata": {},
   "outputs": [],
   "source": [
    "AvgNI = pd.read_csv('../../../results/avg_node_imp_MLP_l3_batch_fmnist.csv', header=[0,1], index_col=0)\n",
    "AvgNI.describe().drop(['count']).round(4).to_latex('../../../latex/tables/batch/avg_node_imp_MLP_3_fmnist.tex', bold_rows=True, multicolumn_format='c')"
   ]
  },
  {
   "cell_type": "code",
   "execution_count": 58,
   "metadata": {},
   "outputs": [],
   "source": [
    "A = pd.read_csv('../../../results/acc_MLP_batch_fmnist.csv', index_col=0)\n",
    "A.describe().drop(['count']).round(4).to_latex('../../../latex/tables/batch/avg_acc_MLP_fmnist.tex', bold_rows=True)"
   ]
  },
  {
   "cell_type": "code",
   "execution_count": 59,
   "metadata": {},
   "outputs": [],
   "source": [
    "L = pd.read_csv('../../../results/loss_MLP_batch_fmnist.csv', index_col=0)\n",
    "L.describe().drop(['count']).round(4).to_latex('../../../latex/tables/batch/avg_loss_MLP_fmnist.tex', bold_rows=True)"
   ]
  },
  {
   "cell_type": "code",
   "execution_count": null,
   "metadata": {},
   "outputs": [],
   "source": []
  },
  {
   "cell_type": "code",
   "execution_count": null,
   "metadata": {},
   "outputs": [],
   "source": []
  },
  {
   "cell_type": "code",
   "execution_count": 60,
   "metadata": {},
   "outputs": [],
   "source": [
    "NI = pd.read_csv('../../../results/node_imp_CNN_l1_batch_mnist.csv', header=[0,1], index_col=0)\n",
    "NI.describe().drop(['count']).round(2).to_latex('../../../latex/tables/batch/node_imp_CNN_1_mnist.tex', bold_rows=True, multicolumn_format='c')"
   ]
  },
  {
   "cell_type": "code",
   "execution_count": 61,
   "metadata": {},
   "outputs": [],
   "source": [
    "AvgNI = pd.read_csv('../../../results/avg_node_imp_CNN_l1_batch_mnist.csv', header=[0,1], index_col=0)\n",
    "AvgNI.describe().drop(['count']).round(4).to_latex('../../../latex/tables/batch/avg_node_imp_CNN_1_mnist.tex', bold_rows=True, multicolumn_format='c')"
   ]
  },
  {
   "cell_type": "code",
   "execution_count": 62,
   "metadata": {},
   "outputs": [],
   "source": [
    "NI = pd.read_csv('../../../results/node_imp_CNN_l2_batch_mnist.csv', header=[0,1], index_col=0)\n",
    "NI.describe().drop(['count']).round(2).to_latex('../../../latex/tables/batch/node_imp_CNN_2_mnist.tex', bold_rows=True, multicolumn_format='c')"
   ]
  },
  {
   "cell_type": "code",
   "execution_count": 63,
   "metadata": {},
   "outputs": [],
   "source": [
    "AvgNI = pd.read_csv('../../../results/avg_node_imp_CNN_l2_batch_mnist.csv', header=[0,1], index_col=0)\n",
    "AvgNI.describe().drop(['count']).round(4).to_latex('../../../latex/tables/batch/avg_node_imp_CNN_2_mnist.tex', bold_rows=True, multicolumn_format='c')"
   ]
  },
  {
   "cell_type": "code",
   "execution_count": 64,
   "metadata": {},
   "outputs": [],
   "source": [
    "NI = pd.read_csv('../../../results/node_imp_CNN_l3_batch_mnist.csv', header=[0,1], index_col=0)\n",
    "NI.describe().drop(['count']).round(2).to_latex('../../../latex/tables/batch/node_imp_CNN_3_mnist.tex', bold_rows=True, multicolumn_format='c')"
   ]
  },
  {
   "cell_type": "code",
   "execution_count": 65,
   "metadata": {},
   "outputs": [],
   "source": [
    "AvgNI = pd.read_csv('../../../results/avg_node_imp_CNN_l3_batch_mnist.csv', header=[0,1], index_col=0)\n",
    "AvgNI.describe().drop(['count']).round(4).to_latex('../../../latex/tables/batch/avg_node_imp_CNN_3_mnist.tex', bold_rows=True, multicolumn_format='c')"
   ]
  },
  {
   "cell_type": "code",
   "execution_count": 66,
   "metadata": {},
   "outputs": [],
   "source": [
    "NI = pd.read_csv('../../../results/node_imp_CNN_l4_batch_mnist.csv', header=[0,1], index_col=0)\n",
    "NI.describe().drop(['count']).round(2).to_latex('../../../latex/tables/batch/node_imp_CNN_4_mnist.tex', bold_rows=True, multicolumn_format='c')"
   ]
  },
  {
   "cell_type": "code",
   "execution_count": 67,
   "metadata": {},
   "outputs": [],
   "source": [
    "AvgNI = pd.read_csv('../../../results/avg_node_imp_CNN_l4_batch_mnist.csv', header=[0,1], index_col=0)\n",
    "AvgNI.describe().drop(['count']).round(4).to_latex('../../../latex/tables/batch/avg_node_imp_CNN_4_mnist.tex', bold_rows=True, multicolumn_format='c')"
   ]
  },
  {
   "cell_type": "code",
   "execution_count": 74,
   "metadata": {},
   "outputs": [],
   "source": [
    "NI = pd.read_csv('../../../results/node_imp_CNN_l5_batch_mnist.csv', header=[0,1], index_col=0)\n",
    "NI.describe().drop(['count']).round(2).to_latex('../../../latex/tables/batch/node_imp_CNN_5_mnist.tex', bold_rows=True, multicolumn_format='c')"
   ]
  },
  {
   "cell_type": "code",
   "execution_count": 69,
   "metadata": {},
   "outputs": [],
   "source": [
    "AvgNI = pd.read_csv('../../../results/avg_node_imp_CNN_l5_batch_mnist.csv', header=[0,1], index_col=0)\n",
    "AvgNI.describe().drop(['count']).round(4).to_latex('../../../latex/tables/batch/avg_node_imp_CNN_5_mnist.tex', bold_rows=True, multicolumn_format='c')"
   ]
  },
  {
   "cell_type": "code",
   "execution_count": 72,
   "metadata": {},
   "outputs": [],
   "source": [
    "A = pd.read_csv('../../../results/acc_CNN_batch_mnist.csv', index_col=0)\n",
    "A.describe().drop(['count']).round(4).to_latex('../../../latex/tables/batch/avg_acc_CNN_mnist.tex', bold_rows=True)"
   ]
  },
  {
   "cell_type": "code",
   "execution_count": 73,
   "metadata": {},
   "outputs": [],
   "source": [
    "L = pd.read_csv('../../../results/loss_CNN_batch_mnist.csv', index_col=0)\n",
    "L.describe().drop(['count']).round(4).to_latex('../../../latex/tables/batch/avg_loss_CNN_mnist.tex', bold_rows=True)"
   ]
  },
  {
   "cell_type": "code",
   "execution_count": null,
   "metadata": {},
   "outputs": [],
   "source": []
  },
  {
   "cell_type": "code",
   "execution_count": 75,
   "metadata": {},
   "outputs": [],
   "source": [
    "NI = pd.read_csv('../../../results/node_imp_CNN_l1_batch_fmnist.csv', header=[0,1], index_col=0)\n",
    "NI.describe().drop(['count']).round(2).to_latex('../../../latex/tables/batch/node_imp_CNN_1_fmnist.tex', bold_rows=True, multicolumn_format='c')"
   ]
  },
  {
   "cell_type": "code",
   "execution_count": 76,
   "metadata": {},
   "outputs": [],
   "source": [
    "AvgNI = pd.read_csv('../../../results/avg_node_imp_CNN_l1_batch_fmnist.csv', header=[0,1], index_col=0)\n",
    "AvgNI.describe().drop(['count']).round(4).to_latex('../../../latex/tables/batch/avg_node_imp_CNN_1_fmnist.tex', bold_rows=True, multicolumn_format='c')"
   ]
  },
  {
   "cell_type": "code",
   "execution_count": 77,
   "metadata": {},
   "outputs": [],
   "source": [
    "NI = pd.read_csv('../../../results/node_imp_CNN_l2_batch_fmnist.csv', header=[0,1], index_col=0)\n",
    "NI.describe().drop(['count']).round(2).to_latex('../../../latex/tables/batch/node_imp_CNN_2_fmnist.tex', bold_rows=True, multicolumn_format='c')"
   ]
  },
  {
   "cell_type": "code",
   "execution_count": 78,
   "metadata": {},
   "outputs": [],
   "source": [
    "AvgNI = pd.read_csv('../../../results/avg_node_imp_CNN_l2_batch_fmnist.csv', header=[0,1], index_col=0)\n",
    "AvgNI.describe().drop(['count']).round(4).to_latex('../../../latex/tables/batch/avg_node_imp_CNN_2_fmnist.tex', bold_rows=True, multicolumn_format='c')"
   ]
  },
  {
   "cell_type": "code",
   "execution_count": 79,
   "metadata": {},
   "outputs": [],
   "source": [
    "NI = pd.read_csv('../../../results/node_imp_CNN_l3_batch_fmnist.csv', header=[0,1], index_col=0)\n",
    "NI.describe().drop(['count']).round(2).to_latex('../../../latex/tables/batch/node_imp_CNN_3_fmnist.tex', bold_rows=True, multicolumn_format='c')"
   ]
  },
  {
   "cell_type": "code",
   "execution_count": 80,
   "metadata": {},
   "outputs": [],
   "source": [
    "AvgNI = pd.read_csv('../../../results/avg_node_imp_CNN_l3_batch_fmnist.csv', header=[0,1], index_col=0)\n",
    "AvgNI.describe().drop(['count']).round(4).to_latex('../../../latex/tables/batch/avg_node_imp_CNN_3_fmnist.tex', bold_rows=True, multicolumn_format='c')"
   ]
  },
  {
   "cell_type": "code",
   "execution_count": 81,
   "metadata": {},
   "outputs": [],
   "source": [
    "NI = pd.read_csv('../../../results/node_imp_CNN_l4_batch_fmnist.csv', header=[0,1], index_col=0)\n",
    "NI.describe().drop(['count']).round(2).to_latex('../../../latex/tables/batch/node_imp_CNN_4_fmnist.tex', bold_rows=True, multicolumn_format='c')"
   ]
  },
  {
   "cell_type": "code",
   "execution_count": 82,
   "metadata": {},
   "outputs": [],
   "source": [
    "AvgNI = pd.read_csv('../../../results/avg_node_imp_CNN_l4_batch_fmnist.csv', header=[0,1], index_col=0)\n",
    "AvgNI.describe().drop(['count']).round(4).to_latex('../../../latex/tables/batch/avg_node_imp_CNN_4_fmnist.tex', bold_rows=True, multicolumn_format='c')"
   ]
  },
  {
   "cell_type": "code",
   "execution_count": 83,
   "metadata": {},
   "outputs": [],
   "source": [
    "NI = pd.read_csv('../../../results/node_imp_CNN_l5_batch_fmnist.csv', header=[0,1], index_col=0)\n",
    "NI.describe().drop(['count']).round(2).to_latex('../../../latex/tables/batch/node_imp_CNN_5_fmnist.tex', bold_rows=True, multicolumn_format='c')"
   ]
  },
  {
   "cell_type": "code",
   "execution_count": 84,
   "metadata": {},
   "outputs": [],
   "source": [
    "AvgNI = pd.read_csv('../../../results/avg_node_imp_CNN_l5_batch_fmnist.csv', header=[0,1], index_col=0)\n",
    "AvgNI.describe().drop(['count']).round(4).to_latex('../../../latex/tables/batch/avg_node_imp_CNN_5_fmnist.tex', bold_rows=True, multicolumn_format='c')"
   ]
  },
  {
   "cell_type": "code",
   "execution_count": 85,
   "metadata": {},
   "outputs": [],
   "source": [
    "A = pd.read_csv('../../../results/acc_CNN_batch_fmnist.csv', index_col=0)\n",
    "A.describe().drop(['count']).round(4).to_latex('../../../latex/tables/batch/avg_acc_CNN_fmnist.tex', bold_rows=True)"
   ]
  },
  {
   "cell_type": "code",
   "execution_count": 86,
   "metadata": {},
   "outputs": [],
   "source": [
    "L = pd.read_csv('../../../results/loss_CNN_batch_fmnist.csv', index_col=0)\n",
    "L.describe().drop(['count']).round(4).to_latex('../../../latex/tables/batch/avg_loss_CNN_fmnist.tex', bold_rows=True)"
   ]
  },
  {
   "cell_type": "code",
   "execution_count": null,
   "metadata": {},
   "outputs": [],
   "source": []
  },
  {
   "cell_type": "code",
   "execution_count": 87,
   "metadata": {},
   "outputs": [],
   "source": [
    "NI = pd.read_csv('../../../results/node_imp_CNN_l1_batch_cifar.csv', header=[0,1], index_col=0)\n",
    "NI.describe().drop(['count']).round(2).to_latex('../../../latex/tables/batch/node_imp_CNN_1_cifar.tex', bold_rows=True, multicolumn_format='c')"
   ]
  },
  {
   "cell_type": "code",
   "execution_count": 88,
   "metadata": {},
   "outputs": [],
   "source": [
    "AvgNI = pd.read_csv('../../../results/avg_node_imp_CNN_l1_batch_cifar.csv', header=[0,1], index_col=0)\n",
    "AvgNI.describe().drop(['count']).round(4).to_latex('../../../latex/tables/batch/avg_node_imp_CNN_1_cifar.tex', bold_rows=True, multicolumn_format='c')"
   ]
  },
  {
   "cell_type": "code",
   "execution_count": 89,
   "metadata": {},
   "outputs": [],
   "source": [
    "NI = pd.read_csv('../../../results/node_imp_CNN_l2_batch_cifar.csv', header=[0,1], index_col=0)\n",
    "NI.describe().drop(['count']).round(2).to_latex('../../../latex/tables/batch/node_imp_CNN_2_cifar.tex', bold_rows=True, multicolumn_format='c')"
   ]
  },
  {
   "cell_type": "code",
   "execution_count": 90,
   "metadata": {},
   "outputs": [],
   "source": [
    "AvgNI = pd.read_csv('../../../results/avg_node_imp_CNN_l2_batch_cifar.csv', header=[0,1], index_col=0)\n",
    "AvgNI.describe().drop(['count']).round(4).to_latex('../../../latex/tables/batch/avg_node_imp_CNN_2_cifar.tex', bold_rows=True, multicolumn_format='c')"
   ]
  },
  {
   "cell_type": "code",
   "execution_count": 91,
   "metadata": {},
   "outputs": [],
   "source": [
    "NI = pd.read_csv('../../../results/node_imp_CNN_l3_batch_cifar.csv', header=[0,1], index_col=0)\n",
    "NI.describe().drop(['count']).round(2).to_latex('../../../latex/tables/batch/node_imp_CNN_3_cifar.tex', bold_rows=True, multicolumn_format='c')"
   ]
  },
  {
   "cell_type": "code",
   "execution_count": 92,
   "metadata": {},
   "outputs": [],
   "source": [
    "AvgNI = pd.read_csv('../../../results/avg_node_imp_CNN_l3_batch_cifar.csv', header=[0,1], index_col=0)\n",
    "AvgNI.describe().drop(['count']).round(4).to_latex('../../../latex/tables/batch/avg_node_imp_CNN_3_cifar.tex', bold_rows=True, multicolumn_format='c')"
   ]
  },
  {
   "cell_type": "code",
   "execution_count": 93,
   "metadata": {},
   "outputs": [],
   "source": [
    "NI = pd.read_csv('../../../results/node_imp_CNN_l4_batch_cifar.csv', header=[0,1], index_col=0)\n",
    "NI.describe().drop(['count']).round(2).to_latex('../../../latex/tables/batch/node_imp_CNN_4_cifar.tex', bold_rows=True, multicolumn_format='c')"
   ]
  },
  {
   "cell_type": "code",
   "execution_count": 94,
   "metadata": {},
   "outputs": [],
   "source": [
    "AvgNI = pd.read_csv('../../../results/avg_node_imp_CNN_l4_batch_cifar.csv', header=[0,1], index_col=0)\n",
    "AvgNI.describe().drop(['count']).round(4).to_latex('../../../latex/tables/batch/avg_node_imp_CNN_4_cifar.tex', bold_rows=True, multicolumn_format='c')"
   ]
  },
  {
   "cell_type": "code",
   "execution_count": 95,
   "metadata": {},
   "outputs": [],
   "source": [
    "NI = pd.read_csv('../../../results/node_imp_CNN_l5_batch_cifar.csv', header=[0,1], index_col=0)\n",
    "NI.describe().drop(['count']).round(2).to_latex('../../../latex/tables/batch/node_imp_CNN_5_cifar.tex', bold_rows=True, multicolumn_format='c')"
   ]
  },
  {
   "cell_type": "code",
   "execution_count": 96,
   "metadata": {},
   "outputs": [],
   "source": [
    "AvgNI = pd.read_csv('../../../results/avg_node_imp_CNN_l5_batch_cifar.csv', header=[0,1], index_col=0)\n",
    "AvgNI.describe().drop(['count']).round(4).to_latex('../../../latex/tables/batch/avg_node_imp_CNN_5_cifar.tex', bold_rows=True, multicolumn_format='c')"
   ]
  },
  {
   "cell_type": "code",
   "execution_count": 97,
   "metadata": {},
   "outputs": [],
   "source": [
    "A = pd.read_csv('../../../results/acc_CNN_batch_cifar.csv', index_col=0)\n",
    "A.describe().drop(['count']).round(4).to_latex('../../../latex/tables/batch/avg_acc_CNN_cifar.tex', bold_rows=True)"
   ]
  },
  {
   "cell_type": "code",
   "execution_count": 98,
   "metadata": {},
   "outputs": [],
   "source": [
    "L = pd.read_csv('../../../results/loss_CNN_batch_cifar.csv', index_col=0)\n",
    "L.describe().drop(['count']).round(4).to_latex('../../../latex/tables/batch/avg_loss_CNN_cifar.tex', bold_rows=True)"
   ]
  },
  {
   "cell_type": "code",
   "execution_count": null,
   "metadata": {},
   "outputs": [],
   "source": []
  },
  {
   "cell_type": "code",
   "execution_count": null,
   "metadata": {},
   "outputs": [],
   "source": []
  },
  {
   "cell_type": "code",
   "execution_count": 99,
   "metadata": {},
   "outputs": [],
   "source": [
    "A = pd.read_csv('../../../results/acc_ANN_iter_weights_mnist.csv', index_col=0)\n",
    "A.describe().drop(['count']).round(4).to_latex('../../../latex/tables/iter_weights/acc_ANN_mnist.tex', bold_rows=True)"
   ]
  },
  {
   "cell_type": "code",
   "execution_count": 100,
   "metadata": {},
   "outputs": [],
   "source": [
    "L = pd.read_csv('../../../results/loss_ANN_iter_weights_mnist.csv', index_col=0)\n",
    "L.describe().drop(['count']).round(4).to_latex('../../../latex/tables/iter_weights/loss_ANN_mnist.tex', bold_rows=True)"
   ]
  },
  {
   "cell_type": "code",
   "execution_count": null,
   "metadata": {},
   "outputs": [],
   "source": []
  },
  {
   "cell_type": "code",
   "execution_count": 126,
   "metadata": {},
   "outputs": [],
   "source": [
    "A = pd.read_csv('../../../results/acc_ANN_iter_weights_fmnist.csv', index_col=0)\n",
    "A.describe().drop(['count']).round(4).to_latex('../../../latex/tables/iter_weights/acc_ANN_fmnist.tex', bold_rows=True)"
   ]
  },
  {
   "cell_type": "code",
   "execution_count": 127,
   "metadata": {},
   "outputs": [],
   "source": [
    "L = pd.read_csv('../../../results/loss_ANN_iter_weights_fmnist.csv', index_col=0)\n",
    "L.describe().drop(['count']).round(4).to_latex('../../../latex/tables/iter_weights/loss_ANN_fmnist.tex', bold_rows=True)"
   ]
  },
  {
   "cell_type": "code",
   "execution_count": null,
   "metadata": {},
   "outputs": [],
   "source": []
  },
  {
   "cell_type": "code",
   "execution_count": null,
   "metadata": {},
   "outputs": [],
   "source": []
  },
  {
   "cell_type": "code",
   "execution_count": 103,
   "metadata": {},
   "outputs": [],
   "source": [
    "A = pd.read_csv('../../../results/acc_MLP_iter_weights_mnist.csv', index_col=0)\n",
    "A.describe().drop(['count']).round(4).to_latex('../../../latex/tables/iter_weights/acc_MLP_mnist.tex', bold_rows=True)"
   ]
  },
  {
   "cell_type": "code",
   "execution_count": 104,
   "metadata": {},
   "outputs": [],
   "source": [
    "L = pd.read_csv('../../../results/loss_MLP_iter_weights_mnist.csv', index_col=0)\n",
    "L.describe().drop(['count']).round(4).to_latex('../../../latex/tables/iter_weights/loss_MLP_mnist.tex', bold_rows=True)"
   ]
  },
  {
   "cell_type": "code",
   "execution_count": null,
   "metadata": {},
   "outputs": [],
   "source": []
  },
  {
   "cell_type": "code",
   "execution_count": 105,
   "metadata": {},
   "outputs": [],
   "source": [
    "A = pd.read_csv('../../../results/acc_MLP_iter_weights_fmnist.csv', index_col=0)\n",
    "A.describe().drop(['count']).round(4).to_latex('../../../latex/tables/iter_weights/acc_MLP_fmnist.tex', bold_rows=True)"
   ]
  },
  {
   "cell_type": "code",
   "execution_count": 106,
   "metadata": {},
   "outputs": [],
   "source": [
    "L = pd.read_csv('../../../results/loss_MLP_iter_weights_fmnist.csv', index_col=0)\n",
    "L.describe().drop(['count']).round(4).to_latex('../../../latex/tables/iter_weights/loss_MLP_fmnist.tex', bold_rows=True)"
   ]
  },
  {
   "cell_type": "code",
   "execution_count": null,
   "metadata": {},
   "outputs": [],
   "source": []
  },
  {
   "cell_type": "code",
   "execution_count": null,
   "metadata": {},
   "outputs": [],
   "source": []
  },
  {
   "cell_type": "code",
   "execution_count": 107,
   "metadata": {},
   "outputs": [],
   "source": [
    "A = pd.read_csv('../../../results/acc_CNN_iter_weights_mnist.csv', index_col=0)\n",
    "A.describe().drop(['count']).round(4).to_latex('../../../latex/tables/iter_weights/acc_CNN_mnist.tex', bold_rows=True)"
   ]
  },
  {
   "cell_type": "code",
   "execution_count": 108,
   "metadata": {},
   "outputs": [],
   "source": [
    "L = pd.read_csv('../../../results/loss_CNN_iter_weights_mnist.csv', index_col=0)\n",
    "L.describe().drop(['count']).round(4).to_latex('../../../latex/tables/iter_weights/loss_CNN_mnist.tex', bold_rows=True)"
   ]
  },
  {
   "cell_type": "code",
   "execution_count": null,
   "metadata": {},
   "outputs": [],
   "source": []
  },
  {
   "cell_type": "code",
   "execution_count": 109,
   "metadata": {},
   "outputs": [],
   "source": [
    "A = pd.read_csv('../../../results/acc_CNN_iter_weights_fmnist.csv', index_col=0)\n",
    "A.describe().drop(['count']).round(4).to_latex('../../../latex/tables/iter_weights/acc_CNN_fmnist.tex', bold_rows=True)"
   ]
  },
  {
   "cell_type": "code",
   "execution_count": 110,
   "metadata": {},
   "outputs": [],
   "source": [
    "L = pd.read_csv('../../../results/loss_CNN_iter_weights_fmnist.csv', index_col=0)\n",
    "L.describe().drop(['count']).round(4).to_latex('../../../latex/tables/iter_weights/loss_CNN_fmnist.tex', bold_rows=True)"
   ]
  },
  {
   "cell_type": "code",
   "execution_count": null,
   "metadata": {},
   "outputs": [],
   "source": []
  },
  {
   "cell_type": "code",
   "execution_count": null,
   "metadata": {},
   "outputs": [],
   "source": []
  },
  {
   "cell_type": "code",
   "execution_count": null,
   "metadata": {},
   "outputs": [],
   "source": []
  },
  {
   "cell_type": "code",
   "execution_count": 2,
   "metadata": {},
   "outputs": [],
   "source": [
    "DCA = pd.read_csv('../../../results/diff_class_acc_CNN_class_mnist.csv', index_col=0)\n",
    "DCA.describe().drop(['count']).round(4).to_latex('../../../latex/tables/class/diff_class_acc_CNN_mnist.tex', bold_rows=True)"
   ]
  },
  {
   "cell_type": "code",
   "execution_count": 3,
   "metadata": {},
   "outputs": [],
   "source": [
    "OCA = pd.read_csv('../../../results/old_class_acc_CNN_class_mnist.csv', index_col=0)\n",
    "OCA.describe().drop(['count']).round(4).to_latex('../../../latex/tables/class/old_class_acc_CNN_mnist.tex', bold_rows=True)"
   ]
  },
  {
   "cell_type": "code",
   "execution_count": 4,
   "metadata": {},
   "outputs": [],
   "source": [
    "NCA = pd.read_csv('../../../results/new_class_acc_CNN_class_mnist.csv', index_col=0)\n",
    "NCA.describe().drop(['count']).round(4).to_latex('../../../latex/tables/class/new_class_acc_CNN_mnist.tex', bold_rows=True)"
   ]
  },
  {
   "cell_type": "code",
   "execution_count": 5,
   "metadata": {},
   "outputs": [],
   "source": [
    "A = pd.read_csv('../../../results/acc_CNN_class_mnist.csv', index_col=0)\n",
    "A.describe().drop(['count']).round(4).to_latex('../../../latex/tables/class/acc_CNN_mnist.tex', bold_rows=True)"
   ]
  },
  {
   "cell_type": "code",
   "execution_count": 6,
   "metadata": {},
   "outputs": [],
   "source": [
    "L = pd.read_csv('../../../results/loss_CNN_class_mnist.csv', index_col=0)\n",
    "L.describe().drop(['count']).round(4).to_latex('../../../latex/tables/class/loss_CNN_mnist.tex', bold_rows=True)"
   ]
  },
  {
   "cell_type": "code",
   "execution_count": null,
   "metadata": {},
   "outputs": [],
   "source": []
  },
  {
   "cell_type": "code",
   "execution_count": 7,
   "metadata": {},
   "outputs": [],
   "source": [
    "DCA = pd.read_csv('../../../results/diff_class_acc_CNN_class_fmnist.csv', index_col=0)\n",
    "DCA.describe().drop(['count']).round(4).to_latex('../../../latex/tables/class/diff_class_acc_CNN_fmnist.tex', bold_rows=True)"
   ]
  },
  {
   "cell_type": "code",
   "execution_count": 8,
   "metadata": {},
   "outputs": [],
   "source": [
    "OCA = pd.read_csv('../../../results/old_class_acc_CNN_class_fmnist.csv', index_col=0)\n",
    "OCA.describe().drop(['count']).round(4).to_latex('../../../latex/tables/class/old_class_acc_CNN_fmnist.tex', bold_rows=True)"
   ]
  },
  {
   "cell_type": "code",
   "execution_count": 9,
   "metadata": {},
   "outputs": [],
   "source": [
    "NCA = pd.read_csv('../../../results/new_class_acc_CNN_class_fmnist.csv', index_col=0)\n",
    "NCA.describe().drop(['count']).round(4).to_latex('../../../latex/tables/class/new_class_acc_CNN_fmnist.tex', bold_rows=True)"
   ]
  },
  {
   "cell_type": "code",
   "execution_count": 10,
   "metadata": {},
   "outputs": [],
   "source": [
    "A = pd.read_csv('../../../results/acc_CNN_class_fmnist.csv', index_col=0)\n",
    "A.describe().drop(['count']).round(4).to_latex('../../../latex/tables/class/acc_CNN_fmnist.tex', bold_rows=True)"
   ]
  },
  {
   "cell_type": "code",
   "execution_count": 11,
   "metadata": {},
   "outputs": [],
   "source": [
    "L = pd.read_csv('../../../results/loss_CNN_class_fmnist.csv', index_col=0)\n",
    "L.describe().drop(['count']).round(4).to_latex('../../../latex/tables/class/loss_CNN_fmnist.tex', bold_rows=True)"
   ]
  },
  {
   "cell_type": "code",
   "execution_count": null,
   "metadata": {},
   "outputs": [],
   "source": []
  },
  {
   "cell_type": "code",
   "execution_count": 12,
   "metadata": {},
   "outputs": [],
   "source": [
    "DCA = pd.read_csv('../../../results/diff_class_acc_CNN_class_cifar.csv', index_col=0)\n",
    "DCA.describe().drop(['count']).round(4).to_latex('../../../latex/tables/class/diff_class_acc_CNN_cifar.tex', bold_rows=True)"
   ]
  },
  {
   "cell_type": "code",
   "execution_count": 13,
   "metadata": {},
   "outputs": [],
   "source": [
    "OCA = pd.read_csv('../../../results/old_class_acc_CNN_class_cifar.csv', index_col=0)\n",
    "OCA.describe().drop(['count']).round(4).to_latex('../../../latex/tables/class/old_class_acc_CNN_cifar.tex', bold_rows=True)"
   ]
  },
  {
   "cell_type": "code",
   "execution_count": 14,
   "metadata": {},
   "outputs": [],
   "source": [
    "NCA = pd.read_csv('../../../results/new_class_acc_CNN_class_cifar.csv', index_col=0)\n",
    "NCA.describe().drop(['count']).round(4).to_latex('../../../latex/tables/class/new_class_acc_CNN_cifar.tex', bold_rows=True)"
   ]
  },
  {
   "cell_type": "code",
   "execution_count": 15,
   "metadata": {},
   "outputs": [],
   "source": [
    "A = pd.read_csv('../../../results/acc_CNN_class_cifar.csv', index_col=0)\n",
    "A.describe().drop(['count']).round(4).to_latex('../../../latex/tables/class/acc_CNN_cifar.tex', bold_rows=True)"
   ]
  },
  {
   "cell_type": "code",
   "execution_count": 16,
   "metadata": {},
   "outputs": [],
   "source": [
    "L = pd.read_csv('../../../results/loss_CNN_class_cifar.csv', index_col=0)\n",
    "L.describe().drop(['count']).round(4).to_latex('../../../latex/tables/class/loss_CNN_cifar.tex', bold_rows=True)"
   ]
  },
  {
   "cell_type": "code",
   "execution_count": null,
   "metadata": {},
   "outputs": [],
   "source": []
  },
  {
   "cell_type": "code",
   "execution_count": 2,
   "metadata": {},
   "outputs": [],
   "source": [
    "NR = pd.read_csv('../../../results/num_removed_MLP_exh_pru_mnist.csv', index_col=0)\n",
    "NR.describe().drop(['count']).round(2).to_latex('../../../latex/tables/exh_pru/num_removed_MLP_exh_pru_mnist.tex', bold_rows=True)"
   ]
  },
  {
   "cell_type": "code",
   "execution_count": 3,
   "metadata": {},
   "outputs": [],
   "source": [
    "NR = pd.read_csv('../../../results/num_removed_MLP_exh_pru_val_mnist.csv', index_col=0)\n",
    "NR.describe().drop(['count']).round(2).to_latex('../../../latex/tables/exh_pru/num_removed_MLP_exh_pru_val_mnist.tex', bold_rows=True)"
   ]
  },
  {
   "cell_type": "code",
   "execution_count": 4,
   "metadata": {},
   "outputs": [],
   "source": [
    "NR = pd.read_csv('../../../results/num_removed_MLP_exh_pru_fmnist.csv', index_col=0)\n",
    "NR.describe().drop(['count']).round(2).to_latex('../../../latex/tables/exh_pru/num_removed_MLP_exh_pru_fmnist.tex', bold_rows=True)"
   ]
  },
  {
   "cell_type": "code",
   "execution_count": 5,
   "metadata": {},
   "outputs": [],
   "source": [
    "NR = pd.read_csv('../../../results/num_removed_MLP_exh_pru_val_fmnist.csv', index_col=0)\n",
    "NR.describe().drop(['count']).round(2).to_latex('../../../latex/tables/exh_pru/num_removed_MLP_exh_pru_val_fmnist.tex', bold_rows=True)"
   ]
  },
  {
   "cell_type": "code",
   "execution_count": null,
   "metadata": {},
   "outputs": [],
   "source": []
  },
  {
   "cell_type": "code",
   "execution_count": 6,
   "metadata": {},
   "outputs": [],
   "source": [
    "NR = pd.read_csv('../../../results/num_removed_CNN_exh_pru_val_mnist.csv', index_col=0)\n",
    "NR.describe().drop(['count']).round(2).to_latex('../../../latex/tables/exh_pru/num_removed_CNN_exh_pru_val_mnist.tex', bold_rows=True)"
   ]
  },
  {
   "cell_type": "code",
   "execution_count": 7,
   "metadata": {},
   "outputs": [],
   "source": [
    "NR = pd.read_csv('../../../results/num_removed_CNN_exh_pru_val_fmnist.csv', index_col=0)\n",
    "NR.describe().drop(['count']).round(2).to_latex('../../../latex/tables/exh_pru/num_removed_CNN_exh_pru_val_fmnist.tex', bold_rows=True)"
   ]
  },
  {
   "cell_type": "code",
   "execution_count": 8,
   "metadata": {},
   "outputs": [],
   "source": [
    "NR = pd.read_csv('../../../results/num_removed_CNN_exh_pru_val_cifar.csv', index_col=0)\n",
    "NR.describe().drop(['count']).round(2).to_latex('../../../latex/tables/exh_pru/num_removed_CNN_exh_pru_val_cifar.tex', bold_rows=True)"
   ]
  },
  {
   "cell_type": "code",
   "execution_count": null,
   "metadata": {},
   "outputs": [],
   "source": []
  },
  {
   "cell_type": "code",
   "execution_count": 9,
   "metadata": {},
   "outputs": [],
   "source": [
    "NR = pd.read_csv('../../../results/num_removed_MLP_greed_ex_mnist.csv', index_col=0)\n",
    "NR.describe().drop(['count']).round(2).to_latex('../../../latex/tables/greed_pru/num_removed_MLP_greed_ex_mnist.tex', bold_rows=True)"
   ]
  },
  {
   "cell_type": "code",
   "execution_count": 10,
   "metadata": {},
   "outputs": [],
   "source": [
    "NR = pd.read_csv('../../../results/num_removed_MLP_greed_ex_2_mnist.csv', index_col=0)\n",
    "NR.describe().drop(['count']).round(2).to_latex('../../../latex/tables/greed_pru/num_removed_MLP_greed_ex_2_mnist.tex', bold_rows=True)"
   ]
  },
  {
   "cell_type": "code",
   "execution_count": 11,
   "metadata": {},
   "outputs": [],
   "source": [
    "NR = pd.read_csv('../../../results/num_removed_MLP_greed_ex_fmnist.csv', index_col=0)\n",
    "NR.describe().drop(['count']).round(2).to_latex('../../../latex/tables/greed_pru/num_removed_MLP_greed_ex_fmnist.tex', bold_rows=True)"
   ]
  },
  {
   "cell_type": "code",
   "execution_count": 12,
   "metadata": {},
   "outputs": [],
   "source": [
    "NR = pd.read_csv('../../../results/num_removed_MLP_greed_ex_2_fmnist.csv', index_col=0)\n",
    "NR.describe().drop(['count']).round(2).to_latex('../../../latex/tables/greed_pru/num_removed_MLP_greed_ex_2_fmnist.tex', bold_rows=True)"
   ]
  },
  {
   "cell_type": "code",
   "execution_count": null,
   "metadata": {},
   "outputs": [],
   "source": []
  },
  {
   "cell_type": "code",
   "execution_count": 13,
   "metadata": {},
   "outputs": [],
   "source": [
    "NR = pd.read_csv('../../../results/num_removed_CNN_greed_ex_mnist.csv', index_col=0)\n",
    "NR.describe().drop(['count']).round(2).to_latex('../../../latex/tables/greed_pru/num_removed_CNN_greed_ex_mnist.tex', bold_rows=True)"
   ]
  },
  {
   "cell_type": "code",
   "execution_count": 14,
   "metadata": {},
   "outputs": [],
   "source": [
    "NR = pd.read_csv('../../../results/num_removed_CNN_greed_ex_fmnist.csv', index_col=0)\n",
    "NR.describe().drop(['count']).round(2).to_latex('../../../latex/tables/greed_pru/num_removed_CNN_greed_ex_fmnist.tex', bold_rows=True)"
   ]
  },
  {
   "cell_type": "code",
   "execution_count": 15,
   "metadata": {},
   "outputs": [],
   "source": [
    "NR = pd.read_csv('../../../results/num_removed_CNN_greed_ex_cifar.csv', index_col=0)\n",
    "NR.describe().drop(['count']).round(2).to_latex('../../../latex/tables/greed_pru/num_removed_CNN_greed_ex_cifar.tex', bold_rows=True)"
   ]
  },
  {
   "cell_type": "code",
   "execution_count": 16,
   "metadata": {},
   "outputs": [],
   "source": [
    "NR = pd.read_csv('../../../results/num_removed_CNN_greed_ex_2_mnist.csv', index_col=0)\n",
    "NR.describe().drop(['count']).round(2).to_latex('../../../latex/tables/greed_pru/num_removed_CNN_greed_ex_2_mnist.tex', bold_rows=True)"
   ]
  },
  {
   "cell_type": "code",
   "execution_count": 17,
   "metadata": {},
   "outputs": [],
   "source": [
    "NR = pd.read_csv('../../../results/num_removed_CNN_greed_ex_2_fmnist.csv', index_col=0)\n",
    "NR.describe().drop(['count']).round(2).to_latex('../../../latex/tables/greed_pru/num_removed_CNN_greed_ex_2_fmnist.tex', bold_rows=True)"
   ]
  },
  {
   "cell_type": "code",
   "execution_count": 18,
   "metadata": {},
   "outputs": [],
   "source": [
    "NR = pd.read_csv('../../../results/num_removed_CNN_greed_ex_2_cifar.csv', index_col=0)\n",
    "NR.describe().drop(['count']).round(2).to_latex('../../../latex/tables/greed_pru/num_removed_CNN_greed_ex_2_cifar.tex', bold_rows=True)"
   ]
  },
  {
   "cell_type": "code",
   "execution_count": null,
   "metadata": {},
   "outputs": [],
   "source": []
  },
  {
   "cell_type": "code",
   "execution_count": 19,
   "metadata": {},
   "outputs": [],
   "source": [
    "Time = pd.read_csv('../../../results/time_MLP_greed_ex_mnist.csv', index_col=0)\n",
    "Time.describe().drop(['count']).round(2).to_latex('../../../latex/tables/greed_pru/time_MLP_greed_ex_mnist.tex', bold_rows=True)"
   ]
  },
  {
   "cell_type": "code",
   "execution_count": 20,
   "metadata": {},
   "outputs": [],
   "source": [
    "Time = pd.read_csv('../../../results/time_MLP_greed_ex_fmnist.csv', index_col=0)\n",
    "Time.describe().drop(['count']).round(2).to_latex('../../../latex/tables/greed_pru/time_MLP_greed_ex_fmnist.tex', bold_rows=True)"
   ]
  },
  {
   "cell_type": "code",
   "execution_count": 21,
   "metadata": {},
   "outputs": [],
   "source": [
    "Time = pd.read_csv('../../../results/time_CNN_greed_ex_mnist.csv', index_col=0)\n",
    "Time.describe().drop(['count']).round(2).to_latex('../../../latex/tables/greed_pru/time_CNN_greed_ex_mnist.tex', bold_rows=True)"
   ]
  },
  {
   "cell_type": "code",
   "execution_count": 22,
   "metadata": {},
   "outputs": [],
   "source": [
    "Time = pd.read_csv('../../../results/time_CNN_greed_ex_fmnist.csv', index_col=0)\n",
    "Time.describe().drop(['count']).round(2).to_latex('../../../latex/tables/greed_pru/time_CNN_greed_ex_fmnist.tex', bold_rows=True)"
   ]
  },
  {
   "cell_type": "code",
   "execution_count": 23,
   "metadata": {},
   "outputs": [],
   "source": [
    "Time = pd.read_csv('../../../results/time_CNN_greed_ex_cifar.csv', index_col=0)\n",
    "Time.describe().drop(['count']).round(2).to_latex('../../../latex/tables/greed_pru/time_CNN_greed_ex_cifar.tex', bold_rows=True)"
   ]
  },
  {
   "cell_type": "code",
   "execution_count": null,
   "metadata": {},
   "outputs": [],
   "source": []
  },
  {
   "cell_type": "code",
   "execution_count": 24,
   "metadata": {},
   "outputs": [],
   "source": [
    "NR = pd.read_csv('../../../results/num_removed_ANN_exh_pru_mnist.csv', index_col=0)\n",
    "NR.describe().drop(['count']).round(2).to_latex('../../../latex/tables/exh_pru/num_removed_ANN_exh_pru_mnist.tex', bold_rows=True)"
   ]
  },
  {
   "cell_type": "code",
   "execution_count": 25,
   "metadata": {},
   "outputs": [],
   "source": [
    "A = pd.read_csv('../../../results/change_accuracy_ANN_exh_pru_mnist.csv', index_col=0)\n",
    "A.describe().drop(['count']).round(4).to_latex('../../../latex/tables/exh_pru/change_accuracy_ANN_exh_pru_mnist.tex', bold_rows=True)"
   ]
  },
  {
   "cell_type": "code",
   "execution_count": 26,
   "metadata": {},
   "outputs": [],
   "source": [
    "L = pd.read_csv('../../../results/chnage_loss_ANN_exh_pru_mnist.csv', index_col=0)\n",
    "L.describe().drop(['count']).round(4).to_latex('../../../latex/tables/exh_pru/change_loss_ANN_exh_pru_mnist.tex', bold_rows=True)"
   ]
  },
  {
   "cell_type": "code",
   "execution_count": 27,
   "metadata": {},
   "outputs": [],
   "source": [
    "NR = pd.read_csv('../../../results/num_removed_ANN_exh_pru_val_mnist.csv', index_col=0)\n",
    "NR.describe().drop(['count']).round(2).to_latex('../../../latex/tables/exh_pru/num_removed_ANN_exh_pru_val_mnist.tex', bold_rows=True)"
   ]
  },
  {
   "cell_type": "code",
   "execution_count": 28,
   "metadata": {},
   "outputs": [],
   "source": [
    "A = pd.read_csv('../../../results/change_accuracy_ANN_exh_pru_val_mnist.csv', index_col=0)\n",
    "A.describe().drop(['count']).round(4).to_latex('../../../latex/tables/exh_pru/change_accuracy_ANN_exh_pru_val_mnist.tex', bold_rows=True)"
   ]
  },
  {
   "cell_type": "code",
   "execution_count": 29,
   "metadata": {},
   "outputs": [],
   "source": [
    "L = pd.read_csv('../../../results/chnage_loss_ANN_exh_pru_val_mnist.csv', index_col=0)\n",
    "L.describe().drop(['count']).round(4).to_latex('../../../latex/tables/exh_pru/change_loss_ANN_exh_pru_val_mnist.tex', bold_rows=True)"
   ]
  },
  {
   "cell_type": "code",
   "execution_count": null,
   "metadata": {},
   "outputs": [],
   "source": []
  },
  {
   "cell_type": "code",
   "execution_count": 30,
   "metadata": {},
   "outputs": [],
   "source": [
    "NR = pd.read_csv('../../../results/num_removed_ANN_exh_pru_fmnist.csv', index_col=0)\n",
    "NR.describe().drop(['count']).round(2).to_latex('../../../latex/tables/exh_pru/num_removed_ANN_exh_pru_fmnist.tex', bold_rows=True)"
   ]
  },
  {
   "cell_type": "code",
   "execution_count": 31,
   "metadata": {},
   "outputs": [],
   "source": [
    "A = pd.read_csv('../../../results/change_accuracy_ANN_exh_pru_fmnist.csv', index_col=0)\n",
    "A.describe().drop(['count']).round(4).to_latex('../../../latex/tables/exh_pru/change_accuracy_ANN_exh_pru_fmnist.tex', bold_rows=True)"
   ]
  },
  {
   "cell_type": "code",
   "execution_count": 32,
   "metadata": {},
   "outputs": [],
   "source": [
    "L = pd.read_csv('../../../results/chnage_loss_ANN_exh_pru_fmnist.csv', index_col=0)\n",
    "L.describe().drop(['count']).round(4).to_latex('../../../latex/tables/exh_pru/change_loss_ANN_exh_pru_fmnist.tex', bold_rows=True)"
   ]
  },
  {
   "cell_type": "code",
   "execution_count": 33,
   "metadata": {},
   "outputs": [],
   "source": [
    "NR = pd.read_csv('../../../results/num_removed_ANN_exh_pru_val_fmnist.csv', index_col=0)\n",
    "NR.describe().drop(['count']).round(2).to_latex('../../../latex/tables/exh_pru/num_removed_ANN_exh_pru_val_fmnist.tex', bold_rows=True)"
   ]
  },
  {
   "cell_type": "code",
   "execution_count": 34,
   "metadata": {},
   "outputs": [],
   "source": [
    "A = pd.read_csv('../../../results/change_accuracy_ANN_exh_pru_val_fmnist.csv', index_col=0)\n",
    "A.describe().drop(['count']).round(4).to_latex('../../../latex/tables/exh_pru/change_accuracy_ANN_exh_pru_val_fmnist.tex', bold_rows=True)"
   ]
  },
  {
   "cell_type": "code",
   "execution_count": 35,
   "metadata": {},
   "outputs": [],
   "source": [
    "L = pd.read_csv('../../../results/chnage_loss_ANN_exh_pru_val_fmnist.csv', index_col=0)\n",
    "L.describe().drop(['count']).round(4).to_latex('../../../latex/tables/exh_pru/change_loss_ANN_exh_pru_val_fmnist.tex', bold_rows=True)"
   ]
  },
  {
   "cell_type": "code",
   "execution_count": null,
   "metadata": {},
   "outputs": [],
   "source": []
  },
  {
   "cell_type": "code",
   "execution_count": 36,
   "metadata": {},
   "outputs": [],
   "source": [
    "A = pd.read_csv('../../../results/change_accuracy_MLP_exh_pru_mnist.csv', index_col=0)\n",
    "A.describe().drop(['count']).round(4).to_latex('../../../latex/tables/exh_pru/change_accuracy_MLP_exh_pru_mnist.tex', bold_rows=True)"
   ]
  },
  {
   "cell_type": "code",
   "execution_count": 37,
   "metadata": {},
   "outputs": [],
   "source": [
    "L = pd.read_csv('../../../results/chnage_loss_MLP_exh_pru_mnist.csv', index_col=0)\n",
    "L.describe().drop(['count']).round(4).to_latex('../../../latex/tables/exh_pru/change_loss_MLP_exh_pru_mnist.tex', bold_rows=True)"
   ]
  },
  {
   "cell_type": "code",
   "execution_count": 38,
   "metadata": {},
   "outputs": [],
   "source": [
    "A = pd.read_csv('../../../results/change_accuracy_MLP_exh_pru_val_mnist.csv', index_col=0)\n",
    "A.describe().drop(['count']).round(4).to_latex('../../../latex/tables/exh_pru/change_accuracy_MLP_exh_pru_val_mnist.tex', bold_rows=True)"
   ]
  },
  {
   "cell_type": "code",
   "execution_count": 39,
   "metadata": {},
   "outputs": [],
   "source": [
    "L = pd.read_csv('../../../results/chnage_loss_MLP_exh_pru_val_mnist.csv', index_col=0)\n",
    "L.describe().drop(['count']).round(4).to_latex('../../../latex/tables/exh_pru/change_loss_MLP_exh_pru_val_mnist.tex', bold_rows=True)"
   ]
  },
  {
   "cell_type": "code",
   "execution_count": null,
   "metadata": {},
   "outputs": [],
   "source": []
  },
  {
   "cell_type": "code",
   "execution_count": 40,
   "metadata": {},
   "outputs": [],
   "source": [
    "A = pd.read_csv('../../../results/change_accuracy_MLP_exh_pru_fmnist.csv', index_col=0)\n",
    "A.describe().drop(['count']).round(4).to_latex('../../../latex/tables/exh_pru/change_accuracy_MLP_exh_pru_fmnist.tex', bold_rows=True)"
   ]
  },
  {
   "cell_type": "code",
   "execution_count": 41,
   "metadata": {},
   "outputs": [],
   "source": [
    "L = pd.read_csv('../../../results/chnage_loss_MLP_exh_pru_fmnist.csv', index_col=0)\n",
    "L.describe().drop(['count']).round(4).to_latex('../../../latex/tables/exh_pru/change_loss_MLP_exh_pru_fmnist.tex', bold_rows=True)"
   ]
  },
  {
   "cell_type": "code",
   "execution_count": 42,
   "metadata": {},
   "outputs": [],
   "source": [
    "A = pd.read_csv('../../../results/change_accuracy_MLP_exh_pru_val_fmnist.csv', index_col=0)\n",
    "A.describe().drop(['count']).round(4).to_latex('../../../latex/tables/exh_pru/change_accuracy_MLP_exh_pru_val_fmnist.tex', bold_rows=True)"
   ]
  },
  {
   "cell_type": "code",
   "execution_count": 43,
   "metadata": {},
   "outputs": [],
   "source": [
    "L = pd.read_csv('../../../results/chnage_loss_MLP_exh_pru_val_fmnist.csv', index_col=0)\n",
    "L.describe().drop(['count']).round(4).to_latex('../../../latex/tables/exh_pru/change_loss_MLP_exh_pru_val_fmnist.tex', bold_rows=True)"
   ]
  },
  {
   "cell_type": "code",
   "execution_count": null,
   "metadata": {},
   "outputs": [],
   "source": []
  },
  {
   "cell_type": "code",
   "execution_count": 44,
   "metadata": {},
   "outputs": [],
   "source": [
    "A = pd.read_csv('../../../results/change_accuracy_CNN_exh_pru_val_mnist.csv', index_col=0)\n",
    "A.describe().drop(['count']).round(4).to_latex('../../../latex/tables/exh_pru/change_accuracy_CNN_exh_pru_val_mnist.tex', bold_rows=True)"
   ]
  },
  {
   "cell_type": "code",
   "execution_count": 45,
   "metadata": {},
   "outputs": [],
   "source": [
    "L = pd.read_csv('../../../results/chnage_loss_CNN_exh_pru_val_mnist.csv', index_col=0)\n",
    "L.describe().drop(['count']).round(4).to_latex('../../../latex/tables/exh_pru/change_loss_CNN_exh_pru_val_mnist.tex', bold_rows=True)"
   ]
  },
  {
   "cell_type": "code",
   "execution_count": null,
   "metadata": {},
   "outputs": [],
   "source": []
  },
  {
   "cell_type": "code",
   "execution_count": 46,
   "metadata": {},
   "outputs": [],
   "source": [
    "A = pd.read_csv('../../../results/change_accuracy_CNN_exh_pru_val_fmnist.csv', index_col=0)\n",
    "A.describe().drop(['count']).round(4).to_latex('../../../latex/tables/exh_pru/change_accuracy_CNN_exh_pru_val_fmnist.tex', bold_rows=True)"
   ]
  },
  {
   "cell_type": "code",
   "execution_count": 47,
   "metadata": {},
   "outputs": [],
   "source": [
    "L = pd.read_csv('../../../results/chnage_loss_CNN_exh_pru_val_fmnist.csv', index_col=0)\n",
    "L.describe().drop(['count']).round(4).to_latex('../../../latex/tables/exh_pru/change_loss_CNN_exh_pru_val_fmnist.tex', bold_rows=True)"
   ]
  },
  {
   "cell_type": "code",
   "execution_count": null,
   "metadata": {},
   "outputs": [],
   "source": []
  },
  {
   "cell_type": "code",
   "execution_count": 48,
   "metadata": {},
   "outputs": [],
   "source": [
    "A = pd.read_csv('../../../results/change_accuracy_CNN_exh_pru_val_cifar.csv', index_col=0)\n",
    "A.describe().drop(['count']).round(4).to_latex('../../../latex/tables/exh_pru/change_accuracy_CNN_exh_pru_val_cifar.tex', bold_rows=True)"
   ]
  },
  {
   "cell_type": "code",
   "execution_count": 49,
   "metadata": {},
   "outputs": [],
   "source": [
    "L = pd.read_csv('../../../results/chnage_loss_CNN_exh_pru_val_cifar.csv', index_col=0)\n",
    "L.describe().drop(['count']).round(4).to_latex('../../../latex/tables/exh_pru/change_loss_CNN_exh_pru_val_cifar.tex', bold_rows=True)"
   ]
  },
  {
   "cell_type": "code",
   "execution_count": null,
   "metadata": {},
   "outputs": [],
   "source": []
  },
  {
   "cell_type": "code",
   "execution_count": null,
   "metadata": {},
   "outputs": [],
   "source": []
  },
  {
   "cell_type": "code",
   "execution_count": 9,
   "metadata": {},
   "outputs": [
    {
     "data": {
      "text/html": [
       "<div>\n",
       "<style scoped>\n",
       "    .dataframe tbody tr th:only-of-type {\n",
       "        vertical-align: middle;\n",
       "    }\n",
       "\n",
       "    .dataframe tbody tr th {\n",
       "        vertical-align: top;\n",
       "    }\n",
       "\n",
       "    .dataframe thead th {\n",
       "        text-align: right;\n",
       "    }\n",
       "</style>\n",
       "<table border=\"1\" class=\"dataframe\">\n",
       "  <thead>\n",
       "    <tr style=\"text-align: right;\">\n",
       "      <th></th>\n",
       "      <th>mean</th>\n",
       "      <th>std</th>\n",
       "      <th>min</th>\n",
       "      <th>25%</th>\n",
       "      <th>50%</th>\n",
       "      <th>75%</th>\n",
       "      <th>max</th>\n",
       "    </tr>\n",
       "  </thead>\n",
       "  <tbody>\n",
       "    <tr>\n",
       "      <th>1</th>\n",
       "      <td>0.9720</td>\n",
       "      <td>0.0009</td>\n",
       "      <td>0.9687</td>\n",
       "      <td>0.9715</td>\n",
       "      <td>0.9721</td>\n",
       "      <td>0.9726</td>\n",
       "      <td>0.9736</td>\n",
       "    </tr>\n",
       "    <tr>\n",
       "      <th>2</th>\n",
       "      <td>0.9714</td>\n",
       "      <td>0.0013</td>\n",
       "      <td>0.9624</td>\n",
       "      <td>0.9708</td>\n",
       "      <td>0.9717</td>\n",
       "      <td>0.9724</td>\n",
       "      <td>0.9743</td>\n",
       "    </tr>\n",
       "    <tr>\n",
       "      <th>4</th>\n",
       "      <td>0.9704</td>\n",
       "      <td>0.0020</td>\n",
       "      <td>0.9602</td>\n",
       "      <td>0.9694</td>\n",
       "      <td>0.9708</td>\n",
       "      <td>0.9719</td>\n",
       "      <td>0.9744</td>\n",
       "    </tr>\n",
       "    <tr>\n",
       "      <th>8</th>\n",
       "      <td>0.9681</td>\n",
       "      <td>0.0032</td>\n",
       "      <td>0.9523</td>\n",
       "      <td>0.9664</td>\n",
       "      <td>0.9685</td>\n",
       "      <td>0.9704</td>\n",
       "      <td>0.9749</td>\n",
       "    </tr>\n",
       "    <tr>\n",
       "      <th>16</th>\n",
       "      <td>0.9619</td>\n",
       "      <td>0.0056</td>\n",
       "      <td>0.9270</td>\n",
       "      <td>0.9588</td>\n",
       "      <td>0.9628</td>\n",
       "      <td>0.9660</td>\n",
       "      <td>0.9724</td>\n",
       "    </tr>\n",
       "    <tr>\n",
       "      <th>32</th>\n",
       "      <td>0.9427</td>\n",
       "      <td>0.0130</td>\n",
       "      <td>0.8861</td>\n",
       "      <td>0.9364</td>\n",
       "      <td>0.9448</td>\n",
       "      <td>0.9526</td>\n",
       "      <td>0.9662</td>\n",
       "    </tr>\n",
       "    <tr>\n",
       "      <th>64</th>\n",
       "      <td>0.8485</td>\n",
       "      <td>0.0417</td>\n",
       "      <td>0.6831</td>\n",
       "      <td>0.8215</td>\n",
       "      <td>0.8546</td>\n",
       "      <td>0.8803</td>\n",
       "      <td>0.9328</td>\n",
       "    </tr>\n",
       "  </tbody>\n",
       "</table>\n",
       "</div>"
      ],
      "text/plain": [
       "      mean     std     min     25%     50%     75%     max\n",
       "1   0.9720  0.0009  0.9687  0.9715  0.9721  0.9726  0.9736\n",
       "2   0.9714  0.0013  0.9624  0.9708  0.9717  0.9724  0.9743\n",
       "4   0.9704  0.0020  0.9602  0.9694  0.9708  0.9719  0.9744\n",
       "8   0.9681  0.0032  0.9523  0.9664  0.9685  0.9704  0.9749\n",
       "16  0.9619  0.0056  0.9270  0.9588  0.9628  0.9660  0.9724\n",
       "32  0.9427  0.0130  0.8861  0.9364  0.9448  0.9526  0.9662\n",
       "64  0.8485  0.0417  0.6831  0.8215  0.8546  0.8803  0.9328"
      ]
     },
     "execution_count": 9,
     "metadata": {},
     "output_type": "execute_result"
    }
   ],
   "source": [
    "A1.T"
   ]
  },
  {
   "cell_type": "code",
   "execution_count": 8,
   "metadata": {},
   "outputs": [
    {
     "data": {
      "text/html": [
       "<div>\n",
       "<style scoped>\n",
       "    .dataframe tbody tr th:only-of-type {\n",
       "        vertical-align: middle;\n",
       "    }\n",
       "\n",
       "    .dataframe tbody tr th {\n",
       "        vertical-align: top;\n",
       "    }\n",
       "\n",
       "    .dataframe thead th {\n",
       "        text-align: right;\n",
       "    }\n",
       "</style>\n",
       "<table border=\"1\" class=\"dataframe\">\n",
       "  <thead>\n",
       "    <tr style=\"text-align: right;\">\n",
       "      <th></th>\n",
       "      <th>mean</th>\n",
       "      <th>std</th>\n",
       "      <th>min</th>\n",
       "      <th>25%</th>\n",
       "      <th>50%</th>\n",
       "      <th>75%</th>\n",
       "      <th>max</th>\n",
       "    </tr>\n",
       "  </thead>\n",
       "  <tbody>\n",
       "    <tr>\n",
       "      <th>1</th>\n",
       "      <td>0.0895</td>\n",
       "      <td>0.0026</td>\n",
       "      <td>0.0848</td>\n",
       "      <td>0.0877</td>\n",
       "      <td>0.0890</td>\n",
       "      <td>0.0908</td>\n",
       "      <td>0.0997</td>\n",
       "    </tr>\n",
       "    <tr>\n",
       "      <th>2</th>\n",
       "      <td>0.0914</td>\n",
       "      <td>0.0038</td>\n",
       "      <td>0.0839</td>\n",
       "      <td>0.0887</td>\n",
       "      <td>0.0907</td>\n",
       "      <td>0.0932</td>\n",
       "      <td>0.1245</td>\n",
       "    </tr>\n",
       "    <tr>\n",
       "      <th>4</th>\n",
       "      <td>0.0948</td>\n",
       "      <td>0.0058</td>\n",
       "      <td>0.0838</td>\n",
       "      <td>0.0907</td>\n",
       "      <td>0.0937</td>\n",
       "      <td>0.0981</td>\n",
       "      <td>0.1292</td>\n",
       "    </tr>\n",
       "    <tr>\n",
       "      <th>8</th>\n",
       "      <td>0.1024</td>\n",
       "      <td>0.0095</td>\n",
       "      <td>0.0844</td>\n",
       "      <td>0.0957</td>\n",
       "      <td>0.1012</td>\n",
       "      <td>0.1069</td>\n",
       "      <td>0.1489</td>\n",
       "    </tr>\n",
       "    <tr>\n",
       "      <th>16</th>\n",
       "      <td>0.1216</td>\n",
       "      <td>0.0164</td>\n",
       "      <td>0.0901</td>\n",
       "      <td>0.1101</td>\n",
       "      <td>0.1186</td>\n",
       "      <td>0.1305</td>\n",
       "      <td>0.2233</td>\n",
       "    </tr>\n",
       "    <tr>\n",
       "      <th>32</th>\n",
       "      <td>0.1794</td>\n",
       "      <td>0.0361</td>\n",
       "      <td>0.1127</td>\n",
       "      <td>0.1516</td>\n",
       "      <td>0.1738</td>\n",
       "      <td>0.1980</td>\n",
       "      <td>0.3409</td>\n",
       "    </tr>\n",
       "    <tr>\n",
       "      <th>64</th>\n",
       "      <td>0.4466</td>\n",
       "      <td>0.1074</td>\n",
       "      <td>0.2306</td>\n",
       "      <td>0.3662</td>\n",
       "      <td>0.4313</td>\n",
       "      <td>0.5112</td>\n",
       "      <td>0.9883</td>\n",
       "    </tr>\n",
       "  </tbody>\n",
       "</table>\n",
       "</div>"
      ],
      "text/plain": [
       "      mean     std     min     25%     50%     75%     max\n",
       "1   0.0895  0.0026  0.0848  0.0877  0.0890  0.0908  0.0997\n",
       "2   0.0914  0.0038  0.0839  0.0887  0.0907  0.0932  0.1245\n",
       "4   0.0948  0.0058  0.0838  0.0907  0.0937  0.0981  0.1292\n",
       "8   0.1024  0.0095  0.0844  0.0957  0.1012  0.1069  0.1489\n",
       "16  0.1216  0.0164  0.0901  0.1101  0.1186  0.1305  0.2233\n",
       "32  0.1794  0.0361  0.1127  0.1516  0.1738  0.1980  0.3409\n",
       "64  0.4466  0.1074  0.2306  0.3662  0.4313  0.5112  0.9883"
      ]
     },
     "execution_count": 8,
     "metadata": {},
     "output_type": "execute_result"
    }
   ],
   "source": [
    "L1.T"
   ]
  },
  {
   "cell_type": "code",
   "execution_count": 37,
   "metadata": {},
   "outputs": [
    {
     "data": {
      "text/plain": [
       "[(1, 'MNIST'),\n",
       " (1, 'Fashion MNIST'),\n",
       " (2, 'MNIST'),\n",
       " (2, 'Fashion MNIST'),\n",
       " (4, 'MNIST'),\n",
       " (4, 'Fashion MNIST'),\n",
       " (8, 'MNIST'),\n",
       " (8, 'Fashion MNIST'),\n",
       " (16, 'MNIST'),\n",
       " (16, 'Fashion MNIST'),\n",
       " (32, 'MNIST'),\n",
       " (32, 'Fashion MNIST'),\n",
       " (64, 'MNIST'),\n",
       " (64, 'Fashion MNIST')]"
      ]
     },
     "execution_count": 37,
     "metadata": {},
     "output_type": "execute_result"
    }
   ],
   "source": [
    "node_num = [1,1,2,2,4,4,8,8,16,16,32,32,64,64]\n",
    "datasets = ['MNIST', 'Fashion MNIST', 'MNIST', 'Fashion MNIST', 'MNIST', 'Fashion MNIST', 'MNIST', 'Fashion MNIST', 'MNIST', 'Fashion MNIST', 'MNIST', 'Fashion MNIST', 'MNIST', 'Fashion MNIST']\n",
    "tuples = list(zip(node_num, datasets))\n",
    "tuples"
   ]
  },
  {
   "cell_type": "code",
   "execution_count": 38,
   "metadata": {},
   "outputs": [],
   "source": [
    "index = pd.MultiIndex.from_tuples(tuples, names=['Number of Nodes', 'Dataset'])"
   ]
  },
  {
   "cell_type": "code",
   "execution_count": 39,
   "metadata": {},
   "outputs": [
    {
     "data": {
      "text/plain": [
       "[('mean', 'Accuracy'),\n",
       " ('mean', 'Loss'),\n",
       " ('std', 'Accuracy'),\n",
       " ('std', 'Loss'),\n",
       " ('min', 'Accuracy'),\n",
       " ('min', 'Loss'),\n",
       " ('25%', 'Accuracy'),\n",
       " ('25%', 'Loss'),\n",
       " ('50%', 'Accuracy'),\n",
       " ('50%', 'Loss'),\n",
       " ('75%', 'Accuracy'),\n",
       " ('75%', 'Loss'),\n",
       " ('max', 'Accuracy'),\n",
       " ('max', 'Loss')]"
      ]
     },
     "execution_count": 39,
     "metadata": {},
     "output_type": "execute_result"
    }
   ],
   "source": [
    "node_num = ['mean', 'mean', 'std', 'std', 'min', 'min', '25%', '25%', '50%', '50%', '75%', '75%', 'max', 'max']\n",
    "datasets = ['Accuracy', 'Loss', 'Accuracy', 'Loss', 'Accuracy', 'Loss', 'Accuracy', 'Loss', 'Accuracy', 'Loss', 'Accuracy', 'Loss', 'Accuracy', 'Loss']\n",
    "tuples = list(zip(node_num, datasets))\n",
    "tuples"
   ]
  },
  {
   "cell_type": "code",
   "execution_count": 45,
   "metadata": {},
   "outputs": [],
   "source": [
    "col = pd.MultiIndex.from_tuples(tuples, names=['', ''])"
   ]
  },
  {
   "cell_type": "code",
   "execution_count": 153,
   "metadata": {},
   "outputs": [],
   "source": [
    "test = pd.concat([pd.concat([A1.T, L1.T], axis=1, keys=['Accuracy', 'Loss']), pd.concat([A2.T, L2.T], axis=1, keys=['Accuracy', 'Loss'])], keys=['MNIST', 'Fashion MNIST'])"
   ]
  },
  {
   "cell_type": "code",
   "execution_count": 154,
   "metadata": {},
   "outputs": [
    {
     "data": {
      "text/html": [
       "<div>\n",
       "<style scoped>\n",
       "    .dataframe tbody tr th:only-of-type {\n",
       "        vertical-align: middle;\n",
       "    }\n",
       "\n",
       "    .dataframe tbody tr th {\n",
       "        vertical-align: top;\n",
       "    }\n",
       "\n",
       "    .dataframe thead tr th {\n",
       "        text-align: left;\n",
       "    }\n",
       "</style>\n",
       "<table border=\"1\" class=\"dataframe\">\n",
       "  <thead>\n",
       "    <tr>\n",
       "      <th></th>\n",
       "      <th></th>\n",
       "      <th colspan=\"7\" halign=\"left\">Accuracy</th>\n",
       "      <th colspan=\"7\" halign=\"left\">Loss</th>\n",
       "    </tr>\n",
       "    <tr>\n",
       "      <th></th>\n",
       "      <th></th>\n",
       "      <th>mean</th>\n",
       "      <th>std</th>\n",
       "      <th>min</th>\n",
       "      <th>25%</th>\n",
       "      <th>50%</th>\n",
       "      <th>75%</th>\n",
       "      <th>max</th>\n",
       "      <th>mean</th>\n",
       "      <th>std</th>\n",
       "      <th>min</th>\n",
       "      <th>25%</th>\n",
       "      <th>50%</th>\n",
       "      <th>75%</th>\n",
       "      <th>max</th>\n",
       "    </tr>\n",
       "  </thead>\n",
       "  <tbody>\n",
       "    <tr>\n",
       "      <th rowspan=\"7\" valign=\"top\">MNIST</th>\n",
       "      <th>1</th>\n",
       "      <td>0.9720</td>\n",
       "      <td>0.0009</td>\n",
       "      <td>0.9687</td>\n",
       "      <td>0.9715</td>\n",
       "      <td>0.9721</td>\n",
       "      <td>0.9726</td>\n",
       "      <td>0.9736</td>\n",
       "      <td>0.0895</td>\n",
       "      <td>0.0026</td>\n",
       "      <td>0.0848</td>\n",
       "      <td>0.0877</td>\n",
       "      <td>0.0890</td>\n",
       "      <td>0.0908</td>\n",
       "      <td>0.0997</td>\n",
       "    </tr>\n",
       "    <tr>\n",
       "      <th>2</th>\n",
       "      <td>0.9714</td>\n",
       "      <td>0.0013</td>\n",
       "      <td>0.9624</td>\n",
       "      <td>0.9708</td>\n",
       "      <td>0.9717</td>\n",
       "      <td>0.9724</td>\n",
       "      <td>0.9743</td>\n",
       "      <td>0.0914</td>\n",
       "      <td>0.0038</td>\n",
       "      <td>0.0839</td>\n",
       "      <td>0.0887</td>\n",
       "      <td>0.0907</td>\n",
       "      <td>0.0932</td>\n",
       "      <td>0.1245</td>\n",
       "    </tr>\n",
       "    <tr>\n",
       "      <th>4</th>\n",
       "      <td>0.9704</td>\n",
       "      <td>0.0020</td>\n",
       "      <td>0.9602</td>\n",
       "      <td>0.9694</td>\n",
       "      <td>0.9708</td>\n",
       "      <td>0.9719</td>\n",
       "      <td>0.9744</td>\n",
       "      <td>0.0948</td>\n",
       "      <td>0.0058</td>\n",
       "      <td>0.0838</td>\n",
       "      <td>0.0907</td>\n",
       "      <td>0.0937</td>\n",
       "      <td>0.0981</td>\n",
       "      <td>0.1292</td>\n",
       "    </tr>\n",
       "    <tr>\n",
       "      <th>8</th>\n",
       "      <td>0.9681</td>\n",
       "      <td>0.0032</td>\n",
       "      <td>0.9523</td>\n",
       "      <td>0.9664</td>\n",
       "      <td>0.9685</td>\n",
       "      <td>0.9704</td>\n",
       "      <td>0.9749</td>\n",
       "      <td>0.1024</td>\n",
       "      <td>0.0095</td>\n",
       "      <td>0.0844</td>\n",
       "      <td>0.0957</td>\n",
       "      <td>0.1012</td>\n",
       "      <td>0.1069</td>\n",
       "      <td>0.1489</td>\n",
       "    </tr>\n",
       "    <tr>\n",
       "      <th>16</th>\n",
       "      <td>0.9619</td>\n",
       "      <td>0.0056</td>\n",
       "      <td>0.9270</td>\n",
       "      <td>0.9588</td>\n",
       "      <td>0.9628</td>\n",
       "      <td>0.9660</td>\n",
       "      <td>0.9724</td>\n",
       "      <td>0.1216</td>\n",
       "      <td>0.0164</td>\n",
       "      <td>0.0901</td>\n",
       "      <td>0.1101</td>\n",
       "      <td>0.1186</td>\n",
       "      <td>0.1305</td>\n",
       "      <td>0.2233</td>\n",
       "    </tr>\n",
       "    <tr>\n",
       "      <th>32</th>\n",
       "      <td>0.9427</td>\n",
       "      <td>0.0130</td>\n",
       "      <td>0.8861</td>\n",
       "      <td>0.9364</td>\n",
       "      <td>0.9448</td>\n",
       "      <td>0.9526</td>\n",
       "      <td>0.9662</td>\n",
       "      <td>0.1794</td>\n",
       "      <td>0.0361</td>\n",
       "      <td>0.1127</td>\n",
       "      <td>0.1516</td>\n",
       "      <td>0.1738</td>\n",
       "      <td>0.1980</td>\n",
       "      <td>0.3409</td>\n",
       "    </tr>\n",
       "    <tr>\n",
       "      <th>64</th>\n",
       "      <td>0.8485</td>\n",
       "      <td>0.0417</td>\n",
       "      <td>0.6831</td>\n",
       "      <td>0.8215</td>\n",
       "      <td>0.8546</td>\n",
       "      <td>0.8803</td>\n",
       "      <td>0.9328</td>\n",
       "      <td>0.4466</td>\n",
       "      <td>0.1074</td>\n",
       "      <td>0.2306</td>\n",
       "      <td>0.3662</td>\n",
       "      <td>0.4313</td>\n",
       "      <td>0.5112</td>\n",
       "      <td>0.9883</td>\n",
       "    </tr>\n",
       "    <tr>\n",
       "      <th rowspan=\"7\" valign=\"top\">Fashion MNIST</th>\n",
       "      <th>1</th>\n",
       "      <td>0.8677</td>\n",
       "      <td>0.0021</td>\n",
       "      <td>0.8578</td>\n",
       "      <td>0.8670</td>\n",
       "      <td>0.8684</td>\n",
       "      <td>0.8686</td>\n",
       "      <td>0.8726</td>\n",
       "      <td>0.3578</td>\n",
       "      <td>0.0049</td>\n",
       "      <td>0.3459</td>\n",
       "      <td>0.3557</td>\n",
       "      <td>0.3564</td>\n",
       "      <td>0.3591</td>\n",
       "      <td>0.3791</td>\n",
       "    </tr>\n",
       "    <tr>\n",
       "      <th>2</th>\n",
       "      <td>0.8667</td>\n",
       "      <td>0.0030</td>\n",
       "      <td>0.8470</td>\n",
       "      <td>0.8653</td>\n",
       "      <td>0.8674</td>\n",
       "      <td>0.8685</td>\n",
       "      <td>0.8735</td>\n",
       "      <td>0.3601</td>\n",
       "      <td>0.0070</td>\n",
       "      <td>0.3452</td>\n",
       "      <td>0.3559</td>\n",
       "      <td>0.3584</td>\n",
       "      <td>0.3632</td>\n",
       "      <td>0.4055</td>\n",
       "    </tr>\n",
       "    <tr>\n",
       "      <th>4</th>\n",
       "      <td>0.8652</td>\n",
       "      <td>0.0042</td>\n",
       "      <td>0.8470</td>\n",
       "      <td>0.8632</td>\n",
       "      <td>0.8659</td>\n",
       "      <td>0.8681</td>\n",
       "      <td>0.8745</td>\n",
       "      <td>0.3643</td>\n",
       "      <td>0.0098</td>\n",
       "      <td>0.3434</td>\n",
       "      <td>0.3576</td>\n",
       "      <td>0.3625</td>\n",
       "      <td>0.3693</td>\n",
       "      <td>0.4035</td>\n",
       "    </tr>\n",
       "    <tr>\n",
       "      <th>8</th>\n",
       "      <td>0.8618</td>\n",
       "      <td>0.0059</td>\n",
       "      <td>0.8405</td>\n",
       "      <td>0.8582</td>\n",
       "      <td>0.8626</td>\n",
       "      <td>0.8663</td>\n",
       "      <td>0.8767</td>\n",
       "      <td>0.3730</td>\n",
       "      <td>0.0137</td>\n",
       "      <td>0.3448</td>\n",
       "      <td>0.3629</td>\n",
       "      <td>0.3711</td>\n",
       "      <td>0.3811</td>\n",
       "      <td>0.4297</td>\n",
       "    </tr>\n",
       "    <tr>\n",
       "      <th>16</th>\n",
       "      <td>0.8543</td>\n",
       "      <td>0.0096</td>\n",
       "      <td>0.8050</td>\n",
       "      <td>0.8491</td>\n",
       "      <td>0.8558</td>\n",
       "      <td>0.8611</td>\n",
       "      <td>0.8747</td>\n",
       "      <td>0.3939</td>\n",
       "      <td>0.0228</td>\n",
       "      <td>0.3515</td>\n",
       "      <td>0.3772</td>\n",
       "      <td>0.3900</td>\n",
       "      <td>0.4060</td>\n",
       "      <td>0.5106</td>\n",
       "    </tr>\n",
       "    <tr>\n",
       "      <th>32</th>\n",
       "      <td>0.8295</td>\n",
       "      <td>0.0200</td>\n",
       "      <td>0.7382</td>\n",
       "      <td>0.8190</td>\n",
       "      <td>0.8336</td>\n",
       "      <td>0.8441</td>\n",
       "      <td>0.8656</td>\n",
       "      <td>0.4607</td>\n",
       "      <td>0.0495</td>\n",
       "      <td>0.3725</td>\n",
       "      <td>0.4245</td>\n",
       "      <td>0.4504</td>\n",
       "      <td>0.4857</td>\n",
       "      <td>0.7079</td>\n",
       "    </tr>\n",
       "    <tr>\n",
       "      <th>64</th>\n",
       "      <td>0.7394</td>\n",
       "      <td>0.0443</td>\n",
       "      <td>0.5493</td>\n",
       "      <td>0.7171</td>\n",
       "      <td>0.7437</td>\n",
       "      <td>0.7698</td>\n",
       "      <td>0.8307</td>\n",
       "      <td>0.7062</td>\n",
       "      <td>0.1182</td>\n",
       "      <td>0.4730</td>\n",
       "      <td>0.6235</td>\n",
       "      <td>0.6867</td>\n",
       "      <td>0.7619</td>\n",
       "      <td>1.3649</td>\n",
       "    </tr>\n",
       "  </tbody>\n",
       "</table>\n",
       "</div>"
      ],
      "text/plain": [
       "                 Accuracy                                                  \\\n",
       "                     mean     std     min     25%     50%     75%     max   \n",
       "MNIST         1    0.9720  0.0009  0.9687  0.9715  0.9721  0.9726  0.9736   \n",
       "              2    0.9714  0.0013  0.9624  0.9708  0.9717  0.9724  0.9743   \n",
       "              4    0.9704  0.0020  0.9602  0.9694  0.9708  0.9719  0.9744   \n",
       "              8    0.9681  0.0032  0.9523  0.9664  0.9685  0.9704  0.9749   \n",
       "              16   0.9619  0.0056  0.9270  0.9588  0.9628  0.9660  0.9724   \n",
       "              32   0.9427  0.0130  0.8861  0.9364  0.9448  0.9526  0.9662   \n",
       "              64   0.8485  0.0417  0.6831  0.8215  0.8546  0.8803  0.9328   \n",
       "Fashion MNIST 1    0.8677  0.0021  0.8578  0.8670  0.8684  0.8686  0.8726   \n",
       "              2    0.8667  0.0030  0.8470  0.8653  0.8674  0.8685  0.8735   \n",
       "              4    0.8652  0.0042  0.8470  0.8632  0.8659  0.8681  0.8745   \n",
       "              8    0.8618  0.0059  0.8405  0.8582  0.8626  0.8663  0.8767   \n",
       "              16   0.8543  0.0096  0.8050  0.8491  0.8558  0.8611  0.8747   \n",
       "              32   0.8295  0.0200  0.7382  0.8190  0.8336  0.8441  0.8656   \n",
       "              64   0.7394  0.0443  0.5493  0.7171  0.7437  0.7698  0.8307   \n",
       "\n",
       "                    Loss                                                  \n",
       "                    mean     std     min     25%     50%     75%     max  \n",
       "MNIST         1   0.0895  0.0026  0.0848  0.0877  0.0890  0.0908  0.0997  \n",
       "              2   0.0914  0.0038  0.0839  0.0887  0.0907  0.0932  0.1245  \n",
       "              4   0.0948  0.0058  0.0838  0.0907  0.0937  0.0981  0.1292  \n",
       "              8   0.1024  0.0095  0.0844  0.0957  0.1012  0.1069  0.1489  \n",
       "              16  0.1216  0.0164  0.0901  0.1101  0.1186  0.1305  0.2233  \n",
       "              32  0.1794  0.0361  0.1127  0.1516  0.1738  0.1980  0.3409  \n",
       "              64  0.4466  0.1074  0.2306  0.3662  0.4313  0.5112  0.9883  \n",
       "Fashion MNIST 1   0.3578  0.0049  0.3459  0.3557  0.3564  0.3591  0.3791  \n",
       "              2   0.3601  0.0070  0.3452  0.3559  0.3584  0.3632  0.4055  \n",
       "              4   0.3643  0.0098  0.3434  0.3576  0.3625  0.3693  0.4035  \n",
       "              8   0.3730  0.0137  0.3448  0.3629  0.3711  0.3811  0.4297  \n",
       "              16  0.3939  0.0228  0.3515  0.3772  0.3900  0.4060  0.5106  \n",
       "              32  0.4607  0.0495  0.3725  0.4245  0.4504  0.4857  0.7079  \n",
       "              64  0.7062  0.1182  0.4730  0.6235  0.6867  0.7619  1.3649  "
      ]
     },
     "execution_count": 154,
     "metadata": {},
     "output_type": "execute_result"
    }
   ],
   "source": [
    "test"
   ]
  },
  {
   "cell_type": "code",
   "execution_count": 155,
   "metadata": {},
   "outputs": [],
   "source": [
    "test = test.reorder_levels([1,0])"
   ]
  },
  {
   "cell_type": "code",
   "execution_count": 156,
   "metadata": {},
   "outputs": [
    {
     "data": {
      "text/html": [
       "<div>\n",
       "<style scoped>\n",
       "    .dataframe tbody tr th:only-of-type {\n",
       "        vertical-align: middle;\n",
       "    }\n",
       "\n",
       "    .dataframe tbody tr th {\n",
       "        vertical-align: top;\n",
       "    }\n",
       "\n",
       "    .dataframe thead tr th {\n",
       "        text-align: left;\n",
       "    }\n",
       "</style>\n",
       "<table border=\"1\" class=\"dataframe\">\n",
       "  <thead>\n",
       "    <tr>\n",
       "      <th></th>\n",
       "      <th></th>\n",
       "      <th colspan=\"7\" halign=\"left\">Accuracy</th>\n",
       "      <th colspan=\"7\" halign=\"left\">Loss</th>\n",
       "    </tr>\n",
       "    <tr>\n",
       "      <th></th>\n",
       "      <th></th>\n",
       "      <th>mean</th>\n",
       "      <th>std</th>\n",
       "      <th>min</th>\n",
       "      <th>25%</th>\n",
       "      <th>50%</th>\n",
       "      <th>75%</th>\n",
       "      <th>max</th>\n",
       "      <th>mean</th>\n",
       "      <th>std</th>\n",
       "      <th>min</th>\n",
       "      <th>25%</th>\n",
       "      <th>50%</th>\n",
       "      <th>75%</th>\n",
       "      <th>max</th>\n",
       "    </tr>\n",
       "  </thead>\n",
       "  <tbody>\n",
       "    <tr>\n",
       "      <th>1</th>\n",
       "      <th>MNIST</th>\n",
       "      <td>0.9720</td>\n",
       "      <td>0.0009</td>\n",
       "      <td>0.9687</td>\n",
       "      <td>0.9715</td>\n",
       "      <td>0.9721</td>\n",
       "      <td>0.9726</td>\n",
       "      <td>0.9736</td>\n",
       "      <td>0.0895</td>\n",
       "      <td>0.0026</td>\n",
       "      <td>0.0848</td>\n",
       "      <td>0.0877</td>\n",
       "      <td>0.0890</td>\n",
       "      <td>0.0908</td>\n",
       "      <td>0.0997</td>\n",
       "    </tr>\n",
       "    <tr>\n",
       "      <th>2</th>\n",
       "      <th>MNIST</th>\n",
       "      <td>0.9714</td>\n",
       "      <td>0.0013</td>\n",
       "      <td>0.9624</td>\n",
       "      <td>0.9708</td>\n",
       "      <td>0.9717</td>\n",
       "      <td>0.9724</td>\n",
       "      <td>0.9743</td>\n",
       "      <td>0.0914</td>\n",
       "      <td>0.0038</td>\n",
       "      <td>0.0839</td>\n",
       "      <td>0.0887</td>\n",
       "      <td>0.0907</td>\n",
       "      <td>0.0932</td>\n",
       "      <td>0.1245</td>\n",
       "    </tr>\n",
       "    <tr>\n",
       "      <th>4</th>\n",
       "      <th>MNIST</th>\n",
       "      <td>0.9704</td>\n",
       "      <td>0.0020</td>\n",
       "      <td>0.9602</td>\n",
       "      <td>0.9694</td>\n",
       "      <td>0.9708</td>\n",
       "      <td>0.9719</td>\n",
       "      <td>0.9744</td>\n",
       "      <td>0.0948</td>\n",
       "      <td>0.0058</td>\n",
       "      <td>0.0838</td>\n",
       "      <td>0.0907</td>\n",
       "      <td>0.0937</td>\n",
       "      <td>0.0981</td>\n",
       "      <td>0.1292</td>\n",
       "    </tr>\n",
       "    <tr>\n",
       "      <th>8</th>\n",
       "      <th>MNIST</th>\n",
       "      <td>0.9681</td>\n",
       "      <td>0.0032</td>\n",
       "      <td>0.9523</td>\n",
       "      <td>0.9664</td>\n",
       "      <td>0.9685</td>\n",
       "      <td>0.9704</td>\n",
       "      <td>0.9749</td>\n",
       "      <td>0.1024</td>\n",
       "      <td>0.0095</td>\n",
       "      <td>0.0844</td>\n",
       "      <td>0.0957</td>\n",
       "      <td>0.1012</td>\n",
       "      <td>0.1069</td>\n",
       "      <td>0.1489</td>\n",
       "    </tr>\n",
       "    <tr>\n",
       "      <th>16</th>\n",
       "      <th>MNIST</th>\n",
       "      <td>0.9619</td>\n",
       "      <td>0.0056</td>\n",
       "      <td>0.9270</td>\n",
       "      <td>0.9588</td>\n",
       "      <td>0.9628</td>\n",
       "      <td>0.9660</td>\n",
       "      <td>0.9724</td>\n",
       "      <td>0.1216</td>\n",
       "      <td>0.0164</td>\n",
       "      <td>0.0901</td>\n",
       "      <td>0.1101</td>\n",
       "      <td>0.1186</td>\n",
       "      <td>0.1305</td>\n",
       "      <td>0.2233</td>\n",
       "    </tr>\n",
       "    <tr>\n",
       "      <th>32</th>\n",
       "      <th>MNIST</th>\n",
       "      <td>0.9427</td>\n",
       "      <td>0.0130</td>\n",
       "      <td>0.8861</td>\n",
       "      <td>0.9364</td>\n",
       "      <td>0.9448</td>\n",
       "      <td>0.9526</td>\n",
       "      <td>0.9662</td>\n",
       "      <td>0.1794</td>\n",
       "      <td>0.0361</td>\n",
       "      <td>0.1127</td>\n",
       "      <td>0.1516</td>\n",
       "      <td>0.1738</td>\n",
       "      <td>0.1980</td>\n",
       "      <td>0.3409</td>\n",
       "    </tr>\n",
       "    <tr>\n",
       "      <th>64</th>\n",
       "      <th>MNIST</th>\n",
       "      <td>0.8485</td>\n",
       "      <td>0.0417</td>\n",
       "      <td>0.6831</td>\n",
       "      <td>0.8215</td>\n",
       "      <td>0.8546</td>\n",
       "      <td>0.8803</td>\n",
       "      <td>0.9328</td>\n",
       "      <td>0.4466</td>\n",
       "      <td>0.1074</td>\n",
       "      <td>0.2306</td>\n",
       "      <td>0.3662</td>\n",
       "      <td>0.4313</td>\n",
       "      <td>0.5112</td>\n",
       "      <td>0.9883</td>\n",
       "    </tr>\n",
       "    <tr>\n",
       "      <th>1</th>\n",
       "      <th>Fashion MNIST</th>\n",
       "      <td>0.8677</td>\n",
       "      <td>0.0021</td>\n",
       "      <td>0.8578</td>\n",
       "      <td>0.8670</td>\n",
       "      <td>0.8684</td>\n",
       "      <td>0.8686</td>\n",
       "      <td>0.8726</td>\n",
       "      <td>0.3578</td>\n",
       "      <td>0.0049</td>\n",
       "      <td>0.3459</td>\n",
       "      <td>0.3557</td>\n",
       "      <td>0.3564</td>\n",
       "      <td>0.3591</td>\n",
       "      <td>0.3791</td>\n",
       "    </tr>\n",
       "    <tr>\n",
       "      <th>2</th>\n",
       "      <th>Fashion MNIST</th>\n",
       "      <td>0.8667</td>\n",
       "      <td>0.0030</td>\n",
       "      <td>0.8470</td>\n",
       "      <td>0.8653</td>\n",
       "      <td>0.8674</td>\n",
       "      <td>0.8685</td>\n",
       "      <td>0.8735</td>\n",
       "      <td>0.3601</td>\n",
       "      <td>0.0070</td>\n",
       "      <td>0.3452</td>\n",
       "      <td>0.3559</td>\n",
       "      <td>0.3584</td>\n",
       "      <td>0.3632</td>\n",
       "      <td>0.4055</td>\n",
       "    </tr>\n",
       "    <tr>\n",
       "      <th>4</th>\n",
       "      <th>Fashion MNIST</th>\n",
       "      <td>0.8652</td>\n",
       "      <td>0.0042</td>\n",
       "      <td>0.8470</td>\n",
       "      <td>0.8632</td>\n",
       "      <td>0.8659</td>\n",
       "      <td>0.8681</td>\n",
       "      <td>0.8745</td>\n",
       "      <td>0.3643</td>\n",
       "      <td>0.0098</td>\n",
       "      <td>0.3434</td>\n",
       "      <td>0.3576</td>\n",
       "      <td>0.3625</td>\n",
       "      <td>0.3693</td>\n",
       "      <td>0.4035</td>\n",
       "    </tr>\n",
       "    <tr>\n",
       "      <th>8</th>\n",
       "      <th>Fashion MNIST</th>\n",
       "      <td>0.8618</td>\n",
       "      <td>0.0059</td>\n",
       "      <td>0.8405</td>\n",
       "      <td>0.8582</td>\n",
       "      <td>0.8626</td>\n",
       "      <td>0.8663</td>\n",
       "      <td>0.8767</td>\n",
       "      <td>0.3730</td>\n",
       "      <td>0.0137</td>\n",
       "      <td>0.3448</td>\n",
       "      <td>0.3629</td>\n",
       "      <td>0.3711</td>\n",
       "      <td>0.3811</td>\n",
       "      <td>0.4297</td>\n",
       "    </tr>\n",
       "    <tr>\n",
       "      <th>16</th>\n",
       "      <th>Fashion MNIST</th>\n",
       "      <td>0.8543</td>\n",
       "      <td>0.0096</td>\n",
       "      <td>0.8050</td>\n",
       "      <td>0.8491</td>\n",
       "      <td>0.8558</td>\n",
       "      <td>0.8611</td>\n",
       "      <td>0.8747</td>\n",
       "      <td>0.3939</td>\n",
       "      <td>0.0228</td>\n",
       "      <td>0.3515</td>\n",
       "      <td>0.3772</td>\n",
       "      <td>0.3900</td>\n",
       "      <td>0.4060</td>\n",
       "      <td>0.5106</td>\n",
       "    </tr>\n",
       "    <tr>\n",
       "      <th>32</th>\n",
       "      <th>Fashion MNIST</th>\n",
       "      <td>0.8295</td>\n",
       "      <td>0.0200</td>\n",
       "      <td>0.7382</td>\n",
       "      <td>0.8190</td>\n",
       "      <td>0.8336</td>\n",
       "      <td>0.8441</td>\n",
       "      <td>0.8656</td>\n",
       "      <td>0.4607</td>\n",
       "      <td>0.0495</td>\n",
       "      <td>0.3725</td>\n",
       "      <td>0.4245</td>\n",
       "      <td>0.4504</td>\n",
       "      <td>0.4857</td>\n",
       "      <td>0.7079</td>\n",
       "    </tr>\n",
       "    <tr>\n",
       "      <th>64</th>\n",
       "      <th>Fashion MNIST</th>\n",
       "      <td>0.7394</td>\n",
       "      <td>0.0443</td>\n",
       "      <td>0.5493</td>\n",
       "      <td>0.7171</td>\n",
       "      <td>0.7437</td>\n",
       "      <td>0.7698</td>\n",
       "      <td>0.8307</td>\n",
       "      <td>0.7062</td>\n",
       "      <td>0.1182</td>\n",
       "      <td>0.4730</td>\n",
       "      <td>0.6235</td>\n",
       "      <td>0.6867</td>\n",
       "      <td>0.7619</td>\n",
       "      <td>1.3649</td>\n",
       "    </tr>\n",
       "  </tbody>\n",
       "</table>\n",
       "</div>"
      ],
      "text/plain": [
       "                 Accuracy                                                  \\\n",
       "                     mean     std     min     25%     50%     75%     max   \n",
       "1  MNIST           0.9720  0.0009  0.9687  0.9715  0.9721  0.9726  0.9736   \n",
       "2  MNIST           0.9714  0.0013  0.9624  0.9708  0.9717  0.9724  0.9743   \n",
       "4  MNIST           0.9704  0.0020  0.9602  0.9694  0.9708  0.9719  0.9744   \n",
       "8  MNIST           0.9681  0.0032  0.9523  0.9664  0.9685  0.9704  0.9749   \n",
       "16 MNIST           0.9619  0.0056  0.9270  0.9588  0.9628  0.9660  0.9724   \n",
       "32 MNIST           0.9427  0.0130  0.8861  0.9364  0.9448  0.9526  0.9662   \n",
       "64 MNIST           0.8485  0.0417  0.6831  0.8215  0.8546  0.8803  0.9328   \n",
       "1  Fashion MNIST   0.8677  0.0021  0.8578  0.8670  0.8684  0.8686  0.8726   \n",
       "2  Fashion MNIST   0.8667  0.0030  0.8470  0.8653  0.8674  0.8685  0.8735   \n",
       "4  Fashion MNIST   0.8652  0.0042  0.8470  0.8632  0.8659  0.8681  0.8745   \n",
       "8  Fashion MNIST   0.8618  0.0059  0.8405  0.8582  0.8626  0.8663  0.8767   \n",
       "16 Fashion MNIST   0.8543  0.0096  0.8050  0.8491  0.8558  0.8611  0.8747   \n",
       "32 Fashion MNIST   0.8295  0.0200  0.7382  0.8190  0.8336  0.8441  0.8656   \n",
       "64 Fashion MNIST   0.7394  0.0443  0.5493  0.7171  0.7437  0.7698  0.8307   \n",
       "\n",
       "                    Loss                                                  \n",
       "                    mean     std     min     25%     50%     75%     max  \n",
       "1  MNIST          0.0895  0.0026  0.0848  0.0877  0.0890  0.0908  0.0997  \n",
       "2  MNIST          0.0914  0.0038  0.0839  0.0887  0.0907  0.0932  0.1245  \n",
       "4  MNIST          0.0948  0.0058  0.0838  0.0907  0.0937  0.0981  0.1292  \n",
       "8  MNIST          0.1024  0.0095  0.0844  0.0957  0.1012  0.1069  0.1489  \n",
       "16 MNIST          0.1216  0.0164  0.0901  0.1101  0.1186  0.1305  0.2233  \n",
       "32 MNIST          0.1794  0.0361  0.1127  0.1516  0.1738  0.1980  0.3409  \n",
       "64 MNIST          0.4466  0.1074  0.2306  0.3662  0.4313  0.5112  0.9883  \n",
       "1  Fashion MNIST  0.3578  0.0049  0.3459  0.3557  0.3564  0.3591  0.3791  \n",
       "2  Fashion MNIST  0.3601  0.0070  0.3452  0.3559  0.3584  0.3632  0.4055  \n",
       "4  Fashion MNIST  0.3643  0.0098  0.3434  0.3576  0.3625  0.3693  0.4035  \n",
       "8  Fashion MNIST  0.3730  0.0137  0.3448  0.3629  0.3711  0.3811  0.4297  \n",
       "16 Fashion MNIST  0.3939  0.0228  0.3515  0.3772  0.3900  0.4060  0.5106  \n",
       "32 Fashion MNIST  0.4607  0.0495  0.3725  0.4245  0.4504  0.4857  0.7079  \n",
       "64 Fashion MNIST  0.7062  0.1182  0.4730  0.6235  0.6867  0.7619  1.3649  "
      ]
     },
     "execution_count": 156,
     "metadata": {},
     "output_type": "execute_result"
    }
   ],
   "source": [
    "test"
   ]
  },
  {
   "cell_type": "code",
   "execution_count": 157,
   "metadata": {},
   "outputs": [
    {
     "data": {
      "text/html": [
       "<div>\n",
       "<style scoped>\n",
       "    .dataframe tbody tr th:only-of-type {\n",
       "        vertical-align: middle;\n",
       "    }\n",
       "\n",
       "    .dataframe tbody tr th {\n",
       "        vertical-align: top;\n",
       "    }\n",
       "\n",
       "    .dataframe thead tr th {\n",
       "        text-align: left;\n",
       "    }\n",
       "\n",
       "    .dataframe thead tr:last-of-type th {\n",
       "        text-align: right;\n",
       "    }\n",
       "</style>\n",
       "<table border=\"1\" class=\"dataframe\">\n",
       "  <thead>\n",
       "    <tr>\n",
       "      <th></th>\n",
       "      <th></th>\n",
       "      <th colspan=\"7\" halign=\"left\">Accuracy</th>\n",
       "      <th colspan=\"7\" halign=\"left\">Loss</th>\n",
       "    </tr>\n",
       "    <tr>\n",
       "      <th></th>\n",
       "      <th></th>\n",
       "      <th>mean</th>\n",
       "      <th>std</th>\n",
       "      <th>min</th>\n",
       "      <th>25%</th>\n",
       "      <th>50%</th>\n",
       "      <th>75%</th>\n",
       "      <th>max</th>\n",
       "      <th>mean</th>\n",
       "      <th>std</th>\n",
       "      <th>min</th>\n",
       "      <th>25%</th>\n",
       "      <th>50%</th>\n",
       "      <th>75%</th>\n",
       "      <th>max</th>\n",
       "    </tr>\n",
       "    <tr>\n",
       "      <th>Number of Nodes</th>\n",
       "      <th>Dataset</th>\n",
       "      <th></th>\n",
       "      <th></th>\n",
       "      <th></th>\n",
       "      <th></th>\n",
       "      <th></th>\n",
       "      <th></th>\n",
       "      <th></th>\n",
       "      <th></th>\n",
       "      <th></th>\n",
       "      <th></th>\n",
       "      <th></th>\n",
       "      <th></th>\n",
       "      <th></th>\n",
       "      <th></th>\n",
       "    </tr>\n",
       "  </thead>\n",
       "  <tbody>\n",
       "    <tr>\n",
       "      <th rowspan=\"2\" valign=\"top\">1</th>\n",
       "      <th>MNIST</th>\n",
       "      <td>0.9720</td>\n",
       "      <td>0.0009</td>\n",
       "      <td>0.9687</td>\n",
       "      <td>0.9715</td>\n",
       "      <td>0.9721</td>\n",
       "      <td>0.9726</td>\n",
       "      <td>0.9736</td>\n",
       "      <td>0.0895</td>\n",
       "      <td>0.0026</td>\n",
       "      <td>0.0848</td>\n",
       "      <td>0.0877</td>\n",
       "      <td>0.0890</td>\n",
       "      <td>0.0908</td>\n",
       "      <td>0.0997</td>\n",
       "    </tr>\n",
       "    <tr>\n",
       "      <th>Fashion MNIST</th>\n",
       "      <td>0.8677</td>\n",
       "      <td>0.0021</td>\n",
       "      <td>0.8578</td>\n",
       "      <td>0.8670</td>\n",
       "      <td>0.8684</td>\n",
       "      <td>0.8686</td>\n",
       "      <td>0.8726</td>\n",
       "      <td>0.3578</td>\n",
       "      <td>0.0049</td>\n",
       "      <td>0.3459</td>\n",
       "      <td>0.3557</td>\n",
       "      <td>0.3564</td>\n",
       "      <td>0.3591</td>\n",
       "      <td>0.3791</td>\n",
       "    </tr>\n",
       "    <tr>\n",
       "      <th rowspan=\"2\" valign=\"top\">2</th>\n",
       "      <th>MNIST</th>\n",
       "      <td>0.9714</td>\n",
       "      <td>0.0013</td>\n",
       "      <td>0.9624</td>\n",
       "      <td>0.9708</td>\n",
       "      <td>0.9717</td>\n",
       "      <td>0.9724</td>\n",
       "      <td>0.9743</td>\n",
       "      <td>0.0914</td>\n",
       "      <td>0.0038</td>\n",
       "      <td>0.0839</td>\n",
       "      <td>0.0887</td>\n",
       "      <td>0.0907</td>\n",
       "      <td>0.0932</td>\n",
       "      <td>0.1245</td>\n",
       "    </tr>\n",
       "    <tr>\n",
       "      <th>Fashion MNIST</th>\n",
       "      <td>0.8667</td>\n",
       "      <td>0.0030</td>\n",
       "      <td>0.8470</td>\n",
       "      <td>0.8653</td>\n",
       "      <td>0.8674</td>\n",
       "      <td>0.8685</td>\n",
       "      <td>0.8735</td>\n",
       "      <td>0.3601</td>\n",
       "      <td>0.0070</td>\n",
       "      <td>0.3452</td>\n",
       "      <td>0.3559</td>\n",
       "      <td>0.3584</td>\n",
       "      <td>0.3632</td>\n",
       "      <td>0.4055</td>\n",
       "    </tr>\n",
       "    <tr>\n",
       "      <th rowspan=\"2\" valign=\"top\">4</th>\n",
       "      <th>MNIST</th>\n",
       "      <td>0.9704</td>\n",
       "      <td>0.0020</td>\n",
       "      <td>0.9602</td>\n",
       "      <td>0.9694</td>\n",
       "      <td>0.9708</td>\n",
       "      <td>0.9719</td>\n",
       "      <td>0.9744</td>\n",
       "      <td>0.0948</td>\n",
       "      <td>0.0058</td>\n",
       "      <td>0.0838</td>\n",
       "      <td>0.0907</td>\n",
       "      <td>0.0937</td>\n",
       "      <td>0.0981</td>\n",
       "      <td>0.1292</td>\n",
       "    </tr>\n",
       "    <tr>\n",
       "      <th>Fashion MNIST</th>\n",
       "      <td>0.8652</td>\n",
       "      <td>0.0042</td>\n",
       "      <td>0.8470</td>\n",
       "      <td>0.8632</td>\n",
       "      <td>0.8659</td>\n",
       "      <td>0.8681</td>\n",
       "      <td>0.8745</td>\n",
       "      <td>0.3643</td>\n",
       "      <td>0.0098</td>\n",
       "      <td>0.3434</td>\n",
       "      <td>0.3576</td>\n",
       "      <td>0.3625</td>\n",
       "      <td>0.3693</td>\n",
       "      <td>0.4035</td>\n",
       "    </tr>\n",
       "    <tr>\n",
       "      <th rowspan=\"2\" valign=\"top\">8</th>\n",
       "      <th>MNIST</th>\n",
       "      <td>0.9681</td>\n",
       "      <td>0.0032</td>\n",
       "      <td>0.9523</td>\n",
       "      <td>0.9664</td>\n",
       "      <td>0.9685</td>\n",
       "      <td>0.9704</td>\n",
       "      <td>0.9749</td>\n",
       "      <td>0.1024</td>\n",
       "      <td>0.0095</td>\n",
       "      <td>0.0844</td>\n",
       "      <td>0.0957</td>\n",
       "      <td>0.1012</td>\n",
       "      <td>0.1069</td>\n",
       "      <td>0.1489</td>\n",
       "    </tr>\n",
       "    <tr>\n",
       "      <th>Fashion MNIST</th>\n",
       "      <td>0.8618</td>\n",
       "      <td>0.0059</td>\n",
       "      <td>0.8405</td>\n",
       "      <td>0.8582</td>\n",
       "      <td>0.8626</td>\n",
       "      <td>0.8663</td>\n",
       "      <td>0.8767</td>\n",
       "      <td>0.3730</td>\n",
       "      <td>0.0137</td>\n",
       "      <td>0.3448</td>\n",
       "      <td>0.3629</td>\n",
       "      <td>0.3711</td>\n",
       "      <td>0.3811</td>\n",
       "      <td>0.4297</td>\n",
       "    </tr>\n",
       "    <tr>\n",
       "      <th rowspan=\"2\" valign=\"top\">16</th>\n",
       "      <th>MNIST</th>\n",
       "      <td>0.9619</td>\n",
       "      <td>0.0056</td>\n",
       "      <td>0.9270</td>\n",
       "      <td>0.9588</td>\n",
       "      <td>0.9628</td>\n",
       "      <td>0.9660</td>\n",
       "      <td>0.9724</td>\n",
       "      <td>0.1216</td>\n",
       "      <td>0.0164</td>\n",
       "      <td>0.0901</td>\n",
       "      <td>0.1101</td>\n",
       "      <td>0.1186</td>\n",
       "      <td>0.1305</td>\n",
       "      <td>0.2233</td>\n",
       "    </tr>\n",
       "    <tr>\n",
       "      <th>Fashion MNIST</th>\n",
       "      <td>0.8543</td>\n",
       "      <td>0.0096</td>\n",
       "      <td>0.8050</td>\n",
       "      <td>0.8491</td>\n",
       "      <td>0.8558</td>\n",
       "      <td>0.8611</td>\n",
       "      <td>0.8747</td>\n",
       "      <td>0.3939</td>\n",
       "      <td>0.0228</td>\n",
       "      <td>0.3515</td>\n",
       "      <td>0.3772</td>\n",
       "      <td>0.3900</td>\n",
       "      <td>0.4060</td>\n",
       "      <td>0.5106</td>\n",
       "    </tr>\n",
       "    <tr>\n",
       "      <th rowspan=\"2\" valign=\"top\">32</th>\n",
       "      <th>MNIST</th>\n",
       "      <td>0.9427</td>\n",
       "      <td>0.0130</td>\n",
       "      <td>0.8861</td>\n",
       "      <td>0.9364</td>\n",
       "      <td>0.9448</td>\n",
       "      <td>0.9526</td>\n",
       "      <td>0.9662</td>\n",
       "      <td>0.1794</td>\n",
       "      <td>0.0361</td>\n",
       "      <td>0.1127</td>\n",
       "      <td>0.1516</td>\n",
       "      <td>0.1738</td>\n",
       "      <td>0.1980</td>\n",
       "      <td>0.3409</td>\n",
       "    </tr>\n",
       "    <tr>\n",
       "      <th>Fashion MNIST</th>\n",
       "      <td>0.8295</td>\n",
       "      <td>0.0200</td>\n",
       "      <td>0.7382</td>\n",
       "      <td>0.8190</td>\n",
       "      <td>0.8336</td>\n",
       "      <td>0.8441</td>\n",
       "      <td>0.8656</td>\n",
       "      <td>0.4607</td>\n",
       "      <td>0.0495</td>\n",
       "      <td>0.3725</td>\n",
       "      <td>0.4245</td>\n",
       "      <td>0.4504</td>\n",
       "      <td>0.4857</td>\n",
       "      <td>0.7079</td>\n",
       "    </tr>\n",
       "    <tr>\n",
       "      <th rowspan=\"2\" valign=\"top\">64</th>\n",
       "      <th>MNIST</th>\n",
       "      <td>0.8485</td>\n",
       "      <td>0.0417</td>\n",
       "      <td>0.6831</td>\n",
       "      <td>0.8215</td>\n",
       "      <td>0.8546</td>\n",
       "      <td>0.8803</td>\n",
       "      <td>0.9328</td>\n",
       "      <td>0.4466</td>\n",
       "      <td>0.1074</td>\n",
       "      <td>0.2306</td>\n",
       "      <td>0.3662</td>\n",
       "      <td>0.4313</td>\n",
       "      <td>0.5112</td>\n",
       "      <td>0.9883</td>\n",
       "    </tr>\n",
       "    <tr>\n",
       "      <th>Fashion MNIST</th>\n",
       "      <td>0.7394</td>\n",
       "      <td>0.0443</td>\n",
       "      <td>0.5493</td>\n",
       "      <td>0.7171</td>\n",
       "      <td>0.7437</td>\n",
       "      <td>0.7698</td>\n",
       "      <td>0.8307</td>\n",
       "      <td>0.7062</td>\n",
       "      <td>0.1182</td>\n",
       "      <td>0.4730</td>\n",
       "      <td>0.6235</td>\n",
       "      <td>0.6867</td>\n",
       "      <td>0.7619</td>\n",
       "      <td>1.3649</td>\n",
       "    </tr>\n",
       "  </tbody>\n",
       "</table>\n",
       "</div>"
      ],
      "text/plain": [
       "                              Accuracy                                  \\\n",
       "                                  mean     std     min     25%     50%   \n",
       "Number of Nodes Dataset                                                  \n",
       "1               MNIST           0.9720  0.0009  0.9687  0.9715  0.9721   \n",
       "                Fashion MNIST   0.8677  0.0021  0.8578  0.8670  0.8684   \n",
       "2               MNIST           0.9714  0.0013  0.9624  0.9708  0.9717   \n",
       "                Fashion MNIST   0.8667  0.0030  0.8470  0.8653  0.8674   \n",
       "4               MNIST           0.9704  0.0020  0.9602  0.9694  0.9708   \n",
       "                Fashion MNIST   0.8652  0.0042  0.8470  0.8632  0.8659   \n",
       "8               MNIST           0.9681  0.0032  0.9523  0.9664  0.9685   \n",
       "                Fashion MNIST   0.8618  0.0059  0.8405  0.8582  0.8626   \n",
       "16              MNIST           0.9619  0.0056  0.9270  0.9588  0.9628   \n",
       "                Fashion MNIST   0.8543  0.0096  0.8050  0.8491  0.8558   \n",
       "32              MNIST           0.9427  0.0130  0.8861  0.9364  0.9448   \n",
       "                Fashion MNIST   0.8295  0.0200  0.7382  0.8190  0.8336   \n",
       "64              MNIST           0.8485  0.0417  0.6831  0.8215  0.8546   \n",
       "                Fashion MNIST   0.7394  0.0443  0.5493  0.7171  0.7437   \n",
       "\n",
       "                                                 Loss                          \\\n",
       "                                  75%     max    mean     std     min     25%   \n",
       "Number of Nodes Dataset                                                         \n",
       "1               MNIST          0.9726  0.9736  0.0895  0.0026  0.0848  0.0877   \n",
       "                Fashion MNIST  0.8686  0.8726  0.3578  0.0049  0.3459  0.3557   \n",
       "2               MNIST          0.9724  0.9743  0.0914  0.0038  0.0839  0.0887   \n",
       "                Fashion MNIST  0.8685  0.8735  0.3601  0.0070  0.3452  0.3559   \n",
       "4               MNIST          0.9719  0.9744  0.0948  0.0058  0.0838  0.0907   \n",
       "                Fashion MNIST  0.8681  0.8745  0.3643  0.0098  0.3434  0.3576   \n",
       "8               MNIST          0.9704  0.9749  0.1024  0.0095  0.0844  0.0957   \n",
       "                Fashion MNIST  0.8663  0.8767  0.3730  0.0137  0.3448  0.3629   \n",
       "16              MNIST          0.9660  0.9724  0.1216  0.0164  0.0901  0.1101   \n",
       "                Fashion MNIST  0.8611  0.8747  0.3939  0.0228  0.3515  0.3772   \n",
       "32              MNIST          0.9526  0.9662  0.1794  0.0361  0.1127  0.1516   \n",
       "                Fashion MNIST  0.8441  0.8656  0.4607  0.0495  0.3725  0.4245   \n",
       "64              MNIST          0.8803  0.9328  0.4466  0.1074  0.2306  0.3662   \n",
       "                Fashion MNIST  0.7698  0.8307  0.7062  0.1182  0.4730  0.6235   \n",
       "\n",
       "                                                       \n",
       "                                  50%     75%     max  \n",
       "Number of Nodes Dataset                                \n",
       "1               MNIST          0.0890  0.0908  0.0997  \n",
       "                Fashion MNIST  0.3564  0.3591  0.3791  \n",
       "2               MNIST          0.0907  0.0932  0.1245  \n",
       "                Fashion MNIST  0.3584  0.3632  0.4055  \n",
       "4               MNIST          0.0937  0.0981  0.1292  \n",
       "                Fashion MNIST  0.3625  0.3693  0.4035  \n",
       "8               MNIST          0.1012  0.1069  0.1489  \n",
       "                Fashion MNIST  0.3711  0.3811  0.4297  \n",
       "16              MNIST          0.1186  0.1305  0.2233  \n",
       "                Fashion MNIST  0.3900  0.4060  0.5106  \n",
       "32              MNIST          0.1738  0.1980  0.3409  \n",
       "                Fashion MNIST  0.4504  0.4857  0.7079  \n",
       "64              MNIST          0.4313  0.5112  0.9883  \n",
       "                Fashion MNIST  0.6867  0.7619  1.3649  "
      ]
     },
     "execution_count": 157,
     "metadata": {},
     "output_type": "execute_result"
    }
   ],
   "source": [
    "test.reindex(index)"
   ]
  },
  {
   "cell_type": "code",
   "execution_count": 158,
   "metadata": {},
   "outputs": [],
   "source": [
    "test = test.reorder_levels([1,0], axis=1)"
   ]
  },
  {
   "cell_type": "code",
   "execution_count": 159,
   "metadata": {},
   "outputs": [
    {
     "data": {
      "text/html": [
       "<div>\n",
       "<style scoped>\n",
       "    .dataframe tbody tr th:only-of-type {\n",
       "        vertical-align: middle;\n",
       "    }\n",
       "\n",
       "    .dataframe tbody tr th {\n",
       "        vertical-align: top;\n",
       "    }\n",
       "\n",
       "    .dataframe thead tr th {\n",
       "        text-align: left;\n",
       "    }\n",
       "</style>\n",
       "<table border=\"1\" class=\"dataframe\">\n",
       "  <thead>\n",
       "    <tr>\n",
       "      <th></th>\n",
       "      <th></th>\n",
       "      <th>mean</th>\n",
       "      <th>std</th>\n",
       "      <th>min</th>\n",
       "      <th>25%</th>\n",
       "      <th>50%</th>\n",
       "      <th>75%</th>\n",
       "      <th>max</th>\n",
       "      <th>mean</th>\n",
       "      <th>std</th>\n",
       "      <th>min</th>\n",
       "      <th>25%</th>\n",
       "      <th>50%</th>\n",
       "      <th>75%</th>\n",
       "      <th>max</th>\n",
       "    </tr>\n",
       "    <tr>\n",
       "      <th></th>\n",
       "      <th></th>\n",
       "      <th>Accuracy</th>\n",
       "      <th>Accuracy</th>\n",
       "      <th>Accuracy</th>\n",
       "      <th>Accuracy</th>\n",
       "      <th>Accuracy</th>\n",
       "      <th>Accuracy</th>\n",
       "      <th>Accuracy</th>\n",
       "      <th>Loss</th>\n",
       "      <th>Loss</th>\n",
       "      <th>Loss</th>\n",
       "      <th>Loss</th>\n",
       "      <th>Loss</th>\n",
       "      <th>Loss</th>\n",
       "      <th>Loss</th>\n",
       "    </tr>\n",
       "  </thead>\n",
       "  <tbody>\n",
       "    <tr>\n",
       "      <th>1</th>\n",
       "      <th>MNIST</th>\n",
       "      <td>0.9720</td>\n",
       "      <td>0.0009</td>\n",
       "      <td>0.9687</td>\n",
       "      <td>0.9715</td>\n",
       "      <td>0.9721</td>\n",
       "      <td>0.9726</td>\n",
       "      <td>0.9736</td>\n",
       "      <td>0.0895</td>\n",
       "      <td>0.0026</td>\n",
       "      <td>0.0848</td>\n",
       "      <td>0.0877</td>\n",
       "      <td>0.0890</td>\n",
       "      <td>0.0908</td>\n",
       "      <td>0.0997</td>\n",
       "    </tr>\n",
       "    <tr>\n",
       "      <th>2</th>\n",
       "      <th>MNIST</th>\n",
       "      <td>0.9714</td>\n",
       "      <td>0.0013</td>\n",
       "      <td>0.9624</td>\n",
       "      <td>0.9708</td>\n",
       "      <td>0.9717</td>\n",
       "      <td>0.9724</td>\n",
       "      <td>0.9743</td>\n",
       "      <td>0.0914</td>\n",
       "      <td>0.0038</td>\n",
       "      <td>0.0839</td>\n",
       "      <td>0.0887</td>\n",
       "      <td>0.0907</td>\n",
       "      <td>0.0932</td>\n",
       "      <td>0.1245</td>\n",
       "    </tr>\n",
       "    <tr>\n",
       "      <th>4</th>\n",
       "      <th>MNIST</th>\n",
       "      <td>0.9704</td>\n",
       "      <td>0.0020</td>\n",
       "      <td>0.9602</td>\n",
       "      <td>0.9694</td>\n",
       "      <td>0.9708</td>\n",
       "      <td>0.9719</td>\n",
       "      <td>0.9744</td>\n",
       "      <td>0.0948</td>\n",
       "      <td>0.0058</td>\n",
       "      <td>0.0838</td>\n",
       "      <td>0.0907</td>\n",
       "      <td>0.0937</td>\n",
       "      <td>0.0981</td>\n",
       "      <td>0.1292</td>\n",
       "    </tr>\n",
       "    <tr>\n",
       "      <th>8</th>\n",
       "      <th>MNIST</th>\n",
       "      <td>0.9681</td>\n",
       "      <td>0.0032</td>\n",
       "      <td>0.9523</td>\n",
       "      <td>0.9664</td>\n",
       "      <td>0.9685</td>\n",
       "      <td>0.9704</td>\n",
       "      <td>0.9749</td>\n",
       "      <td>0.1024</td>\n",
       "      <td>0.0095</td>\n",
       "      <td>0.0844</td>\n",
       "      <td>0.0957</td>\n",
       "      <td>0.1012</td>\n",
       "      <td>0.1069</td>\n",
       "      <td>0.1489</td>\n",
       "    </tr>\n",
       "    <tr>\n",
       "      <th>16</th>\n",
       "      <th>MNIST</th>\n",
       "      <td>0.9619</td>\n",
       "      <td>0.0056</td>\n",
       "      <td>0.9270</td>\n",
       "      <td>0.9588</td>\n",
       "      <td>0.9628</td>\n",
       "      <td>0.9660</td>\n",
       "      <td>0.9724</td>\n",
       "      <td>0.1216</td>\n",
       "      <td>0.0164</td>\n",
       "      <td>0.0901</td>\n",
       "      <td>0.1101</td>\n",
       "      <td>0.1186</td>\n",
       "      <td>0.1305</td>\n",
       "      <td>0.2233</td>\n",
       "    </tr>\n",
       "    <tr>\n",
       "      <th>32</th>\n",
       "      <th>MNIST</th>\n",
       "      <td>0.9427</td>\n",
       "      <td>0.0130</td>\n",
       "      <td>0.8861</td>\n",
       "      <td>0.9364</td>\n",
       "      <td>0.9448</td>\n",
       "      <td>0.9526</td>\n",
       "      <td>0.9662</td>\n",
       "      <td>0.1794</td>\n",
       "      <td>0.0361</td>\n",
       "      <td>0.1127</td>\n",
       "      <td>0.1516</td>\n",
       "      <td>0.1738</td>\n",
       "      <td>0.1980</td>\n",
       "      <td>0.3409</td>\n",
       "    </tr>\n",
       "    <tr>\n",
       "      <th>64</th>\n",
       "      <th>MNIST</th>\n",
       "      <td>0.8485</td>\n",
       "      <td>0.0417</td>\n",
       "      <td>0.6831</td>\n",
       "      <td>0.8215</td>\n",
       "      <td>0.8546</td>\n",
       "      <td>0.8803</td>\n",
       "      <td>0.9328</td>\n",
       "      <td>0.4466</td>\n",
       "      <td>0.1074</td>\n",
       "      <td>0.2306</td>\n",
       "      <td>0.3662</td>\n",
       "      <td>0.4313</td>\n",
       "      <td>0.5112</td>\n",
       "      <td>0.9883</td>\n",
       "    </tr>\n",
       "    <tr>\n",
       "      <th>1</th>\n",
       "      <th>Fashion MNIST</th>\n",
       "      <td>0.8677</td>\n",
       "      <td>0.0021</td>\n",
       "      <td>0.8578</td>\n",
       "      <td>0.8670</td>\n",
       "      <td>0.8684</td>\n",
       "      <td>0.8686</td>\n",
       "      <td>0.8726</td>\n",
       "      <td>0.3578</td>\n",
       "      <td>0.0049</td>\n",
       "      <td>0.3459</td>\n",
       "      <td>0.3557</td>\n",
       "      <td>0.3564</td>\n",
       "      <td>0.3591</td>\n",
       "      <td>0.3791</td>\n",
       "    </tr>\n",
       "    <tr>\n",
       "      <th>2</th>\n",
       "      <th>Fashion MNIST</th>\n",
       "      <td>0.8667</td>\n",
       "      <td>0.0030</td>\n",
       "      <td>0.8470</td>\n",
       "      <td>0.8653</td>\n",
       "      <td>0.8674</td>\n",
       "      <td>0.8685</td>\n",
       "      <td>0.8735</td>\n",
       "      <td>0.3601</td>\n",
       "      <td>0.0070</td>\n",
       "      <td>0.3452</td>\n",
       "      <td>0.3559</td>\n",
       "      <td>0.3584</td>\n",
       "      <td>0.3632</td>\n",
       "      <td>0.4055</td>\n",
       "    </tr>\n",
       "    <tr>\n",
       "      <th>4</th>\n",
       "      <th>Fashion MNIST</th>\n",
       "      <td>0.8652</td>\n",
       "      <td>0.0042</td>\n",
       "      <td>0.8470</td>\n",
       "      <td>0.8632</td>\n",
       "      <td>0.8659</td>\n",
       "      <td>0.8681</td>\n",
       "      <td>0.8745</td>\n",
       "      <td>0.3643</td>\n",
       "      <td>0.0098</td>\n",
       "      <td>0.3434</td>\n",
       "      <td>0.3576</td>\n",
       "      <td>0.3625</td>\n",
       "      <td>0.3693</td>\n",
       "      <td>0.4035</td>\n",
       "    </tr>\n",
       "    <tr>\n",
       "      <th>8</th>\n",
       "      <th>Fashion MNIST</th>\n",
       "      <td>0.8618</td>\n",
       "      <td>0.0059</td>\n",
       "      <td>0.8405</td>\n",
       "      <td>0.8582</td>\n",
       "      <td>0.8626</td>\n",
       "      <td>0.8663</td>\n",
       "      <td>0.8767</td>\n",
       "      <td>0.3730</td>\n",
       "      <td>0.0137</td>\n",
       "      <td>0.3448</td>\n",
       "      <td>0.3629</td>\n",
       "      <td>0.3711</td>\n",
       "      <td>0.3811</td>\n",
       "      <td>0.4297</td>\n",
       "    </tr>\n",
       "    <tr>\n",
       "      <th>16</th>\n",
       "      <th>Fashion MNIST</th>\n",
       "      <td>0.8543</td>\n",
       "      <td>0.0096</td>\n",
       "      <td>0.8050</td>\n",
       "      <td>0.8491</td>\n",
       "      <td>0.8558</td>\n",
       "      <td>0.8611</td>\n",
       "      <td>0.8747</td>\n",
       "      <td>0.3939</td>\n",
       "      <td>0.0228</td>\n",
       "      <td>0.3515</td>\n",
       "      <td>0.3772</td>\n",
       "      <td>0.3900</td>\n",
       "      <td>0.4060</td>\n",
       "      <td>0.5106</td>\n",
       "    </tr>\n",
       "    <tr>\n",
       "      <th>32</th>\n",
       "      <th>Fashion MNIST</th>\n",
       "      <td>0.8295</td>\n",
       "      <td>0.0200</td>\n",
       "      <td>0.7382</td>\n",
       "      <td>0.8190</td>\n",
       "      <td>0.8336</td>\n",
       "      <td>0.8441</td>\n",
       "      <td>0.8656</td>\n",
       "      <td>0.4607</td>\n",
       "      <td>0.0495</td>\n",
       "      <td>0.3725</td>\n",
       "      <td>0.4245</td>\n",
       "      <td>0.4504</td>\n",
       "      <td>0.4857</td>\n",
       "      <td>0.7079</td>\n",
       "    </tr>\n",
       "    <tr>\n",
       "      <th>64</th>\n",
       "      <th>Fashion MNIST</th>\n",
       "      <td>0.7394</td>\n",
       "      <td>0.0443</td>\n",
       "      <td>0.5493</td>\n",
       "      <td>0.7171</td>\n",
       "      <td>0.7437</td>\n",
       "      <td>0.7698</td>\n",
       "      <td>0.8307</td>\n",
       "      <td>0.7062</td>\n",
       "      <td>0.1182</td>\n",
       "      <td>0.4730</td>\n",
       "      <td>0.6235</td>\n",
       "      <td>0.6867</td>\n",
       "      <td>0.7619</td>\n",
       "      <td>1.3649</td>\n",
       "    </tr>\n",
       "  </tbody>\n",
       "</table>\n",
       "</div>"
      ],
      "text/plain": [
       "                     mean      std      min      25%      50%      75%  \\\n",
       "                 Accuracy Accuracy Accuracy Accuracy Accuracy Accuracy   \n",
       "1  MNIST           0.9720   0.0009   0.9687   0.9715   0.9721   0.9726   \n",
       "2  MNIST           0.9714   0.0013   0.9624   0.9708   0.9717   0.9724   \n",
       "4  MNIST           0.9704   0.0020   0.9602   0.9694   0.9708   0.9719   \n",
       "8  MNIST           0.9681   0.0032   0.9523   0.9664   0.9685   0.9704   \n",
       "16 MNIST           0.9619   0.0056   0.9270   0.9588   0.9628   0.9660   \n",
       "32 MNIST           0.9427   0.0130   0.8861   0.9364   0.9448   0.9526   \n",
       "64 MNIST           0.8485   0.0417   0.6831   0.8215   0.8546   0.8803   \n",
       "1  Fashion MNIST   0.8677   0.0021   0.8578   0.8670   0.8684   0.8686   \n",
       "2  Fashion MNIST   0.8667   0.0030   0.8470   0.8653   0.8674   0.8685   \n",
       "4  Fashion MNIST   0.8652   0.0042   0.8470   0.8632   0.8659   0.8681   \n",
       "8  Fashion MNIST   0.8618   0.0059   0.8405   0.8582   0.8626   0.8663   \n",
       "16 Fashion MNIST   0.8543   0.0096   0.8050   0.8491   0.8558   0.8611   \n",
       "32 Fashion MNIST   0.8295   0.0200   0.7382   0.8190   0.8336   0.8441   \n",
       "64 Fashion MNIST   0.7394   0.0443   0.5493   0.7171   0.7437   0.7698   \n",
       "\n",
       "                      max    mean     std     min     25%     50%     75%  \\\n",
       "                 Accuracy    Loss    Loss    Loss    Loss    Loss    Loss   \n",
       "1  MNIST           0.9736  0.0895  0.0026  0.0848  0.0877  0.0890  0.0908   \n",
       "2  MNIST           0.9743  0.0914  0.0038  0.0839  0.0887  0.0907  0.0932   \n",
       "4  MNIST           0.9744  0.0948  0.0058  0.0838  0.0907  0.0937  0.0981   \n",
       "8  MNIST           0.9749  0.1024  0.0095  0.0844  0.0957  0.1012  0.1069   \n",
       "16 MNIST           0.9724  0.1216  0.0164  0.0901  0.1101  0.1186  0.1305   \n",
       "32 MNIST           0.9662  0.1794  0.0361  0.1127  0.1516  0.1738  0.1980   \n",
       "64 MNIST           0.9328  0.4466  0.1074  0.2306  0.3662  0.4313  0.5112   \n",
       "1  Fashion MNIST   0.8726  0.3578  0.0049  0.3459  0.3557  0.3564  0.3591   \n",
       "2  Fashion MNIST   0.8735  0.3601  0.0070  0.3452  0.3559  0.3584  0.3632   \n",
       "4  Fashion MNIST   0.8745  0.3643  0.0098  0.3434  0.3576  0.3625  0.3693   \n",
       "8  Fashion MNIST   0.8767  0.3730  0.0137  0.3448  0.3629  0.3711  0.3811   \n",
       "16 Fashion MNIST   0.8747  0.3939  0.0228  0.3515  0.3772  0.3900  0.4060   \n",
       "32 Fashion MNIST   0.8656  0.4607  0.0495  0.3725  0.4245  0.4504  0.4857   \n",
       "64 Fashion MNIST   0.8307  0.7062  0.1182  0.4730  0.6235  0.6867  0.7619   \n",
       "\n",
       "                     max  \n",
       "                    Loss  \n",
       "1  MNIST          0.0997  \n",
       "2  MNIST          0.1245  \n",
       "4  MNIST          0.1292  \n",
       "8  MNIST          0.1489  \n",
       "16 MNIST          0.2233  \n",
       "32 MNIST          0.3409  \n",
       "64 MNIST          0.9883  \n",
       "1  Fashion MNIST  0.3791  \n",
       "2  Fashion MNIST  0.4055  \n",
       "4  Fashion MNIST  0.4035  \n",
       "8  Fashion MNIST  0.4297  \n",
       "16 Fashion MNIST  0.5106  \n",
       "32 Fashion MNIST  0.7079  \n",
       "64 Fashion MNIST  1.3649  "
      ]
     },
     "execution_count": 159,
     "metadata": {},
     "output_type": "execute_result"
    }
   ],
   "source": [
    "test"
   ]
  },
  {
   "cell_type": "code",
   "execution_count": 161,
   "metadata": {},
   "outputs": [],
   "source": [
    "test = test.reindex(col, axis=1)"
   ]
  },
  {
   "cell_type": "code",
   "execution_count": 162,
   "metadata": {},
   "outputs": [
    {
     "data": {
      "text/html": [
       "<div>\n",
       "<style scoped>\n",
       "    .dataframe tbody tr th:only-of-type {\n",
       "        vertical-align: middle;\n",
       "    }\n",
       "\n",
       "    .dataframe tbody tr th {\n",
       "        vertical-align: top;\n",
       "    }\n",
       "\n",
       "    .dataframe thead tr th {\n",
       "        text-align: left;\n",
       "    }\n",
       "</style>\n",
       "<table border=\"1\" class=\"dataframe\">\n",
       "  <thead>\n",
       "    <tr>\n",
       "      <th></th>\n",
       "      <th></th>\n",
       "      <th colspan=\"2\" halign=\"left\">mean</th>\n",
       "      <th colspan=\"2\" halign=\"left\">std</th>\n",
       "      <th colspan=\"2\" halign=\"left\">min</th>\n",
       "      <th colspan=\"2\" halign=\"left\">25%</th>\n",
       "      <th colspan=\"2\" halign=\"left\">50%</th>\n",
       "      <th colspan=\"2\" halign=\"left\">75%</th>\n",
       "      <th colspan=\"2\" halign=\"left\">max</th>\n",
       "    </tr>\n",
       "    <tr>\n",
       "      <th></th>\n",
       "      <th></th>\n",
       "      <th>Accuracy</th>\n",
       "      <th>Loss</th>\n",
       "      <th>Accuracy</th>\n",
       "      <th>Loss</th>\n",
       "      <th>Accuracy</th>\n",
       "      <th>Loss</th>\n",
       "      <th>Accuracy</th>\n",
       "      <th>Loss</th>\n",
       "      <th>Accuracy</th>\n",
       "      <th>Loss</th>\n",
       "      <th>Accuracy</th>\n",
       "      <th>Loss</th>\n",
       "      <th>Accuracy</th>\n",
       "      <th>Loss</th>\n",
       "    </tr>\n",
       "  </thead>\n",
       "  <tbody>\n",
       "    <tr>\n",
       "      <th>1</th>\n",
       "      <th>MNIST</th>\n",
       "      <td>0.9720</td>\n",
       "      <td>0.0895</td>\n",
       "      <td>0.0009</td>\n",
       "      <td>0.0026</td>\n",
       "      <td>0.9687</td>\n",
       "      <td>0.0848</td>\n",
       "      <td>0.9715</td>\n",
       "      <td>0.0877</td>\n",
       "      <td>0.9721</td>\n",
       "      <td>0.0890</td>\n",
       "      <td>0.9726</td>\n",
       "      <td>0.0908</td>\n",
       "      <td>0.9736</td>\n",
       "      <td>0.0997</td>\n",
       "    </tr>\n",
       "    <tr>\n",
       "      <th>2</th>\n",
       "      <th>MNIST</th>\n",
       "      <td>0.9714</td>\n",
       "      <td>0.0914</td>\n",
       "      <td>0.0013</td>\n",
       "      <td>0.0038</td>\n",
       "      <td>0.9624</td>\n",
       "      <td>0.0839</td>\n",
       "      <td>0.9708</td>\n",
       "      <td>0.0887</td>\n",
       "      <td>0.9717</td>\n",
       "      <td>0.0907</td>\n",
       "      <td>0.9724</td>\n",
       "      <td>0.0932</td>\n",
       "      <td>0.9743</td>\n",
       "      <td>0.1245</td>\n",
       "    </tr>\n",
       "    <tr>\n",
       "      <th>4</th>\n",
       "      <th>MNIST</th>\n",
       "      <td>0.9704</td>\n",
       "      <td>0.0948</td>\n",
       "      <td>0.0020</td>\n",
       "      <td>0.0058</td>\n",
       "      <td>0.9602</td>\n",
       "      <td>0.0838</td>\n",
       "      <td>0.9694</td>\n",
       "      <td>0.0907</td>\n",
       "      <td>0.9708</td>\n",
       "      <td>0.0937</td>\n",
       "      <td>0.9719</td>\n",
       "      <td>0.0981</td>\n",
       "      <td>0.9744</td>\n",
       "      <td>0.1292</td>\n",
       "    </tr>\n",
       "    <tr>\n",
       "      <th>8</th>\n",
       "      <th>MNIST</th>\n",
       "      <td>0.9681</td>\n",
       "      <td>0.1024</td>\n",
       "      <td>0.0032</td>\n",
       "      <td>0.0095</td>\n",
       "      <td>0.9523</td>\n",
       "      <td>0.0844</td>\n",
       "      <td>0.9664</td>\n",
       "      <td>0.0957</td>\n",
       "      <td>0.9685</td>\n",
       "      <td>0.1012</td>\n",
       "      <td>0.9704</td>\n",
       "      <td>0.1069</td>\n",
       "      <td>0.9749</td>\n",
       "      <td>0.1489</td>\n",
       "    </tr>\n",
       "    <tr>\n",
       "      <th>16</th>\n",
       "      <th>MNIST</th>\n",
       "      <td>0.9619</td>\n",
       "      <td>0.1216</td>\n",
       "      <td>0.0056</td>\n",
       "      <td>0.0164</td>\n",
       "      <td>0.9270</td>\n",
       "      <td>0.0901</td>\n",
       "      <td>0.9588</td>\n",
       "      <td>0.1101</td>\n",
       "      <td>0.9628</td>\n",
       "      <td>0.1186</td>\n",
       "      <td>0.9660</td>\n",
       "      <td>0.1305</td>\n",
       "      <td>0.9724</td>\n",
       "      <td>0.2233</td>\n",
       "    </tr>\n",
       "    <tr>\n",
       "      <th>32</th>\n",
       "      <th>MNIST</th>\n",
       "      <td>0.9427</td>\n",
       "      <td>0.1794</td>\n",
       "      <td>0.0130</td>\n",
       "      <td>0.0361</td>\n",
       "      <td>0.8861</td>\n",
       "      <td>0.1127</td>\n",
       "      <td>0.9364</td>\n",
       "      <td>0.1516</td>\n",
       "      <td>0.9448</td>\n",
       "      <td>0.1738</td>\n",
       "      <td>0.9526</td>\n",
       "      <td>0.1980</td>\n",
       "      <td>0.9662</td>\n",
       "      <td>0.3409</td>\n",
       "    </tr>\n",
       "    <tr>\n",
       "      <th>64</th>\n",
       "      <th>MNIST</th>\n",
       "      <td>0.8485</td>\n",
       "      <td>0.4466</td>\n",
       "      <td>0.0417</td>\n",
       "      <td>0.1074</td>\n",
       "      <td>0.6831</td>\n",
       "      <td>0.2306</td>\n",
       "      <td>0.8215</td>\n",
       "      <td>0.3662</td>\n",
       "      <td>0.8546</td>\n",
       "      <td>0.4313</td>\n",
       "      <td>0.8803</td>\n",
       "      <td>0.5112</td>\n",
       "      <td>0.9328</td>\n",
       "      <td>0.9883</td>\n",
       "    </tr>\n",
       "    <tr>\n",
       "      <th>1</th>\n",
       "      <th>Fashion MNIST</th>\n",
       "      <td>0.8677</td>\n",
       "      <td>0.3578</td>\n",
       "      <td>0.0021</td>\n",
       "      <td>0.0049</td>\n",
       "      <td>0.8578</td>\n",
       "      <td>0.3459</td>\n",
       "      <td>0.8670</td>\n",
       "      <td>0.3557</td>\n",
       "      <td>0.8684</td>\n",
       "      <td>0.3564</td>\n",
       "      <td>0.8686</td>\n",
       "      <td>0.3591</td>\n",
       "      <td>0.8726</td>\n",
       "      <td>0.3791</td>\n",
       "    </tr>\n",
       "    <tr>\n",
       "      <th>2</th>\n",
       "      <th>Fashion MNIST</th>\n",
       "      <td>0.8667</td>\n",
       "      <td>0.3601</td>\n",
       "      <td>0.0030</td>\n",
       "      <td>0.0070</td>\n",
       "      <td>0.8470</td>\n",
       "      <td>0.3452</td>\n",
       "      <td>0.8653</td>\n",
       "      <td>0.3559</td>\n",
       "      <td>0.8674</td>\n",
       "      <td>0.3584</td>\n",
       "      <td>0.8685</td>\n",
       "      <td>0.3632</td>\n",
       "      <td>0.8735</td>\n",
       "      <td>0.4055</td>\n",
       "    </tr>\n",
       "    <tr>\n",
       "      <th>4</th>\n",
       "      <th>Fashion MNIST</th>\n",
       "      <td>0.8652</td>\n",
       "      <td>0.3643</td>\n",
       "      <td>0.0042</td>\n",
       "      <td>0.0098</td>\n",
       "      <td>0.8470</td>\n",
       "      <td>0.3434</td>\n",
       "      <td>0.8632</td>\n",
       "      <td>0.3576</td>\n",
       "      <td>0.8659</td>\n",
       "      <td>0.3625</td>\n",
       "      <td>0.8681</td>\n",
       "      <td>0.3693</td>\n",
       "      <td>0.8745</td>\n",
       "      <td>0.4035</td>\n",
       "    </tr>\n",
       "    <tr>\n",
       "      <th>8</th>\n",
       "      <th>Fashion MNIST</th>\n",
       "      <td>0.8618</td>\n",
       "      <td>0.3730</td>\n",
       "      <td>0.0059</td>\n",
       "      <td>0.0137</td>\n",
       "      <td>0.8405</td>\n",
       "      <td>0.3448</td>\n",
       "      <td>0.8582</td>\n",
       "      <td>0.3629</td>\n",
       "      <td>0.8626</td>\n",
       "      <td>0.3711</td>\n",
       "      <td>0.8663</td>\n",
       "      <td>0.3811</td>\n",
       "      <td>0.8767</td>\n",
       "      <td>0.4297</td>\n",
       "    </tr>\n",
       "    <tr>\n",
       "      <th>16</th>\n",
       "      <th>Fashion MNIST</th>\n",
       "      <td>0.8543</td>\n",
       "      <td>0.3939</td>\n",
       "      <td>0.0096</td>\n",
       "      <td>0.0228</td>\n",
       "      <td>0.8050</td>\n",
       "      <td>0.3515</td>\n",
       "      <td>0.8491</td>\n",
       "      <td>0.3772</td>\n",
       "      <td>0.8558</td>\n",
       "      <td>0.3900</td>\n",
       "      <td>0.8611</td>\n",
       "      <td>0.4060</td>\n",
       "      <td>0.8747</td>\n",
       "      <td>0.5106</td>\n",
       "    </tr>\n",
       "    <tr>\n",
       "      <th>32</th>\n",
       "      <th>Fashion MNIST</th>\n",
       "      <td>0.8295</td>\n",
       "      <td>0.4607</td>\n",
       "      <td>0.0200</td>\n",
       "      <td>0.0495</td>\n",
       "      <td>0.7382</td>\n",
       "      <td>0.3725</td>\n",
       "      <td>0.8190</td>\n",
       "      <td>0.4245</td>\n",
       "      <td>0.8336</td>\n",
       "      <td>0.4504</td>\n",
       "      <td>0.8441</td>\n",
       "      <td>0.4857</td>\n",
       "      <td>0.8656</td>\n",
       "      <td>0.7079</td>\n",
       "    </tr>\n",
       "    <tr>\n",
       "      <th>64</th>\n",
       "      <th>Fashion MNIST</th>\n",
       "      <td>0.7394</td>\n",
       "      <td>0.7062</td>\n",
       "      <td>0.0443</td>\n",
       "      <td>0.1182</td>\n",
       "      <td>0.5493</td>\n",
       "      <td>0.4730</td>\n",
       "      <td>0.7171</td>\n",
       "      <td>0.6235</td>\n",
       "      <td>0.7437</td>\n",
       "      <td>0.6867</td>\n",
       "      <td>0.7698</td>\n",
       "      <td>0.7619</td>\n",
       "      <td>0.8307</td>\n",
       "      <td>1.3649</td>\n",
       "    </tr>\n",
       "  </tbody>\n",
       "</table>\n",
       "</div>"
      ],
      "text/plain": [
       "                     mean              std              min              25%  \\\n",
       "                 Accuracy    Loss Accuracy    Loss Accuracy    Loss Accuracy   \n",
       "1  MNIST           0.9720  0.0895   0.0009  0.0026   0.9687  0.0848   0.9715   \n",
       "2  MNIST           0.9714  0.0914   0.0013  0.0038   0.9624  0.0839   0.9708   \n",
       "4  MNIST           0.9704  0.0948   0.0020  0.0058   0.9602  0.0838   0.9694   \n",
       "8  MNIST           0.9681  0.1024   0.0032  0.0095   0.9523  0.0844   0.9664   \n",
       "16 MNIST           0.9619  0.1216   0.0056  0.0164   0.9270  0.0901   0.9588   \n",
       "32 MNIST           0.9427  0.1794   0.0130  0.0361   0.8861  0.1127   0.9364   \n",
       "64 MNIST           0.8485  0.4466   0.0417  0.1074   0.6831  0.2306   0.8215   \n",
       "1  Fashion MNIST   0.8677  0.3578   0.0021  0.0049   0.8578  0.3459   0.8670   \n",
       "2  Fashion MNIST   0.8667  0.3601   0.0030  0.0070   0.8470  0.3452   0.8653   \n",
       "4  Fashion MNIST   0.8652  0.3643   0.0042  0.0098   0.8470  0.3434   0.8632   \n",
       "8  Fashion MNIST   0.8618  0.3730   0.0059  0.0137   0.8405  0.3448   0.8582   \n",
       "16 Fashion MNIST   0.8543  0.3939   0.0096  0.0228   0.8050  0.3515   0.8491   \n",
       "32 Fashion MNIST   0.8295  0.4607   0.0200  0.0495   0.7382  0.3725   0.8190   \n",
       "64 Fashion MNIST   0.7394  0.7062   0.0443  0.1182   0.5493  0.4730   0.7171   \n",
       "\n",
       "                              50%              75%              max          \n",
       "                    Loss Accuracy    Loss Accuracy    Loss Accuracy    Loss  \n",
       "1  MNIST          0.0877   0.9721  0.0890   0.9726  0.0908   0.9736  0.0997  \n",
       "2  MNIST          0.0887   0.9717  0.0907   0.9724  0.0932   0.9743  0.1245  \n",
       "4  MNIST          0.0907   0.9708  0.0937   0.9719  0.0981   0.9744  0.1292  \n",
       "8  MNIST          0.0957   0.9685  0.1012   0.9704  0.1069   0.9749  0.1489  \n",
       "16 MNIST          0.1101   0.9628  0.1186   0.9660  0.1305   0.9724  0.2233  \n",
       "32 MNIST          0.1516   0.9448  0.1738   0.9526  0.1980   0.9662  0.3409  \n",
       "64 MNIST          0.3662   0.8546  0.4313   0.8803  0.5112   0.9328  0.9883  \n",
       "1  Fashion MNIST  0.3557   0.8684  0.3564   0.8686  0.3591   0.8726  0.3791  \n",
       "2  Fashion MNIST  0.3559   0.8674  0.3584   0.8685  0.3632   0.8735  0.4055  \n",
       "4  Fashion MNIST  0.3576   0.8659  0.3625   0.8681  0.3693   0.8745  0.4035  \n",
       "8  Fashion MNIST  0.3629   0.8626  0.3711   0.8663  0.3811   0.8767  0.4297  \n",
       "16 Fashion MNIST  0.3772   0.8558  0.3900   0.8611  0.4060   0.8747  0.5106  \n",
       "32 Fashion MNIST  0.4245   0.8336  0.4504   0.8441  0.4857   0.8656  0.7079  \n",
       "64 Fashion MNIST  0.6235   0.7437  0.6867   0.7698  0.7619   0.8307  1.3649  "
      ]
     },
     "execution_count": 162,
     "metadata": {},
     "output_type": "execute_result"
    }
   ],
   "source": [
    "test"
   ]
  },
  {
   "cell_type": "code",
   "execution_count": 164,
   "metadata": {},
   "outputs": [],
   "source": [
    "test = test.reindex(index)"
   ]
  },
  {
   "cell_type": "code",
   "execution_count": 165,
   "metadata": {},
   "outputs": [
    {
     "data": {
      "text/html": [
       "<div>\n",
       "<style scoped>\n",
       "    .dataframe tbody tr th:only-of-type {\n",
       "        vertical-align: middle;\n",
       "    }\n",
       "\n",
       "    .dataframe tbody tr th {\n",
       "        vertical-align: top;\n",
       "    }\n",
       "\n",
       "    .dataframe thead tr th {\n",
       "        text-align: left;\n",
       "    }\n",
       "\n",
       "    .dataframe thead tr:last-of-type th {\n",
       "        text-align: right;\n",
       "    }\n",
       "</style>\n",
       "<table border=\"1\" class=\"dataframe\">\n",
       "  <thead>\n",
       "    <tr>\n",
       "      <th></th>\n",
       "      <th></th>\n",
       "      <th colspan=\"2\" halign=\"left\">mean</th>\n",
       "      <th colspan=\"2\" halign=\"left\">std</th>\n",
       "      <th colspan=\"2\" halign=\"left\">min</th>\n",
       "      <th colspan=\"2\" halign=\"left\">25%</th>\n",
       "      <th colspan=\"2\" halign=\"left\">50%</th>\n",
       "      <th colspan=\"2\" halign=\"left\">75%</th>\n",
       "      <th colspan=\"2\" halign=\"left\">max</th>\n",
       "    </tr>\n",
       "    <tr>\n",
       "      <th></th>\n",
       "      <th></th>\n",
       "      <th>Accuracy</th>\n",
       "      <th>Loss</th>\n",
       "      <th>Accuracy</th>\n",
       "      <th>Loss</th>\n",
       "      <th>Accuracy</th>\n",
       "      <th>Loss</th>\n",
       "      <th>Accuracy</th>\n",
       "      <th>Loss</th>\n",
       "      <th>Accuracy</th>\n",
       "      <th>Loss</th>\n",
       "      <th>Accuracy</th>\n",
       "      <th>Loss</th>\n",
       "      <th>Accuracy</th>\n",
       "      <th>Loss</th>\n",
       "    </tr>\n",
       "    <tr>\n",
       "      <th>Number of Nodes</th>\n",
       "      <th>Dataset</th>\n",
       "      <th></th>\n",
       "      <th></th>\n",
       "      <th></th>\n",
       "      <th></th>\n",
       "      <th></th>\n",
       "      <th></th>\n",
       "      <th></th>\n",
       "      <th></th>\n",
       "      <th></th>\n",
       "      <th></th>\n",
       "      <th></th>\n",
       "      <th></th>\n",
       "      <th></th>\n",
       "      <th></th>\n",
       "    </tr>\n",
       "  </thead>\n",
       "  <tbody>\n",
       "    <tr>\n",
       "      <th rowspan=\"2\" valign=\"top\">1</th>\n",
       "      <th>MNIST</th>\n",
       "      <td>0.9720</td>\n",
       "      <td>0.0895</td>\n",
       "      <td>0.0009</td>\n",
       "      <td>0.0026</td>\n",
       "      <td>0.9687</td>\n",
       "      <td>0.0848</td>\n",
       "      <td>0.9715</td>\n",
       "      <td>0.0877</td>\n",
       "      <td>0.9721</td>\n",
       "      <td>0.0890</td>\n",
       "      <td>0.9726</td>\n",
       "      <td>0.0908</td>\n",
       "      <td>0.9736</td>\n",
       "      <td>0.0997</td>\n",
       "    </tr>\n",
       "    <tr>\n",
       "      <th>Fashion MNIST</th>\n",
       "      <td>0.8677</td>\n",
       "      <td>0.3578</td>\n",
       "      <td>0.0021</td>\n",
       "      <td>0.0049</td>\n",
       "      <td>0.8578</td>\n",
       "      <td>0.3459</td>\n",
       "      <td>0.8670</td>\n",
       "      <td>0.3557</td>\n",
       "      <td>0.8684</td>\n",
       "      <td>0.3564</td>\n",
       "      <td>0.8686</td>\n",
       "      <td>0.3591</td>\n",
       "      <td>0.8726</td>\n",
       "      <td>0.3791</td>\n",
       "    </tr>\n",
       "    <tr>\n",
       "      <th rowspan=\"2\" valign=\"top\">2</th>\n",
       "      <th>MNIST</th>\n",
       "      <td>0.9714</td>\n",
       "      <td>0.0914</td>\n",
       "      <td>0.0013</td>\n",
       "      <td>0.0038</td>\n",
       "      <td>0.9624</td>\n",
       "      <td>0.0839</td>\n",
       "      <td>0.9708</td>\n",
       "      <td>0.0887</td>\n",
       "      <td>0.9717</td>\n",
       "      <td>0.0907</td>\n",
       "      <td>0.9724</td>\n",
       "      <td>0.0932</td>\n",
       "      <td>0.9743</td>\n",
       "      <td>0.1245</td>\n",
       "    </tr>\n",
       "    <tr>\n",
       "      <th>Fashion MNIST</th>\n",
       "      <td>0.8667</td>\n",
       "      <td>0.3601</td>\n",
       "      <td>0.0030</td>\n",
       "      <td>0.0070</td>\n",
       "      <td>0.8470</td>\n",
       "      <td>0.3452</td>\n",
       "      <td>0.8653</td>\n",
       "      <td>0.3559</td>\n",
       "      <td>0.8674</td>\n",
       "      <td>0.3584</td>\n",
       "      <td>0.8685</td>\n",
       "      <td>0.3632</td>\n",
       "      <td>0.8735</td>\n",
       "      <td>0.4055</td>\n",
       "    </tr>\n",
       "    <tr>\n",
       "      <th rowspan=\"2\" valign=\"top\">4</th>\n",
       "      <th>MNIST</th>\n",
       "      <td>0.9704</td>\n",
       "      <td>0.0948</td>\n",
       "      <td>0.0020</td>\n",
       "      <td>0.0058</td>\n",
       "      <td>0.9602</td>\n",
       "      <td>0.0838</td>\n",
       "      <td>0.9694</td>\n",
       "      <td>0.0907</td>\n",
       "      <td>0.9708</td>\n",
       "      <td>0.0937</td>\n",
       "      <td>0.9719</td>\n",
       "      <td>0.0981</td>\n",
       "      <td>0.9744</td>\n",
       "      <td>0.1292</td>\n",
       "    </tr>\n",
       "    <tr>\n",
       "      <th>Fashion MNIST</th>\n",
       "      <td>0.8652</td>\n",
       "      <td>0.3643</td>\n",
       "      <td>0.0042</td>\n",
       "      <td>0.0098</td>\n",
       "      <td>0.8470</td>\n",
       "      <td>0.3434</td>\n",
       "      <td>0.8632</td>\n",
       "      <td>0.3576</td>\n",
       "      <td>0.8659</td>\n",
       "      <td>0.3625</td>\n",
       "      <td>0.8681</td>\n",
       "      <td>0.3693</td>\n",
       "      <td>0.8745</td>\n",
       "      <td>0.4035</td>\n",
       "    </tr>\n",
       "    <tr>\n",
       "      <th rowspan=\"2\" valign=\"top\">8</th>\n",
       "      <th>MNIST</th>\n",
       "      <td>0.9681</td>\n",
       "      <td>0.1024</td>\n",
       "      <td>0.0032</td>\n",
       "      <td>0.0095</td>\n",
       "      <td>0.9523</td>\n",
       "      <td>0.0844</td>\n",
       "      <td>0.9664</td>\n",
       "      <td>0.0957</td>\n",
       "      <td>0.9685</td>\n",
       "      <td>0.1012</td>\n",
       "      <td>0.9704</td>\n",
       "      <td>0.1069</td>\n",
       "      <td>0.9749</td>\n",
       "      <td>0.1489</td>\n",
       "    </tr>\n",
       "    <tr>\n",
       "      <th>Fashion MNIST</th>\n",
       "      <td>0.8618</td>\n",
       "      <td>0.3730</td>\n",
       "      <td>0.0059</td>\n",
       "      <td>0.0137</td>\n",
       "      <td>0.8405</td>\n",
       "      <td>0.3448</td>\n",
       "      <td>0.8582</td>\n",
       "      <td>0.3629</td>\n",
       "      <td>0.8626</td>\n",
       "      <td>0.3711</td>\n",
       "      <td>0.8663</td>\n",
       "      <td>0.3811</td>\n",
       "      <td>0.8767</td>\n",
       "      <td>0.4297</td>\n",
       "    </tr>\n",
       "    <tr>\n",
       "      <th rowspan=\"2\" valign=\"top\">16</th>\n",
       "      <th>MNIST</th>\n",
       "      <td>0.9619</td>\n",
       "      <td>0.1216</td>\n",
       "      <td>0.0056</td>\n",
       "      <td>0.0164</td>\n",
       "      <td>0.9270</td>\n",
       "      <td>0.0901</td>\n",
       "      <td>0.9588</td>\n",
       "      <td>0.1101</td>\n",
       "      <td>0.9628</td>\n",
       "      <td>0.1186</td>\n",
       "      <td>0.9660</td>\n",
       "      <td>0.1305</td>\n",
       "      <td>0.9724</td>\n",
       "      <td>0.2233</td>\n",
       "    </tr>\n",
       "    <tr>\n",
       "      <th>Fashion MNIST</th>\n",
       "      <td>0.8543</td>\n",
       "      <td>0.3939</td>\n",
       "      <td>0.0096</td>\n",
       "      <td>0.0228</td>\n",
       "      <td>0.8050</td>\n",
       "      <td>0.3515</td>\n",
       "      <td>0.8491</td>\n",
       "      <td>0.3772</td>\n",
       "      <td>0.8558</td>\n",
       "      <td>0.3900</td>\n",
       "      <td>0.8611</td>\n",
       "      <td>0.4060</td>\n",
       "      <td>0.8747</td>\n",
       "      <td>0.5106</td>\n",
       "    </tr>\n",
       "    <tr>\n",
       "      <th rowspan=\"2\" valign=\"top\">32</th>\n",
       "      <th>MNIST</th>\n",
       "      <td>0.9427</td>\n",
       "      <td>0.1794</td>\n",
       "      <td>0.0130</td>\n",
       "      <td>0.0361</td>\n",
       "      <td>0.8861</td>\n",
       "      <td>0.1127</td>\n",
       "      <td>0.9364</td>\n",
       "      <td>0.1516</td>\n",
       "      <td>0.9448</td>\n",
       "      <td>0.1738</td>\n",
       "      <td>0.9526</td>\n",
       "      <td>0.1980</td>\n",
       "      <td>0.9662</td>\n",
       "      <td>0.3409</td>\n",
       "    </tr>\n",
       "    <tr>\n",
       "      <th>Fashion MNIST</th>\n",
       "      <td>0.8295</td>\n",
       "      <td>0.4607</td>\n",
       "      <td>0.0200</td>\n",
       "      <td>0.0495</td>\n",
       "      <td>0.7382</td>\n",
       "      <td>0.3725</td>\n",
       "      <td>0.8190</td>\n",
       "      <td>0.4245</td>\n",
       "      <td>0.8336</td>\n",
       "      <td>0.4504</td>\n",
       "      <td>0.8441</td>\n",
       "      <td>0.4857</td>\n",
       "      <td>0.8656</td>\n",
       "      <td>0.7079</td>\n",
       "    </tr>\n",
       "    <tr>\n",
       "      <th rowspan=\"2\" valign=\"top\">64</th>\n",
       "      <th>MNIST</th>\n",
       "      <td>0.8485</td>\n",
       "      <td>0.4466</td>\n",
       "      <td>0.0417</td>\n",
       "      <td>0.1074</td>\n",
       "      <td>0.6831</td>\n",
       "      <td>0.2306</td>\n",
       "      <td>0.8215</td>\n",
       "      <td>0.3662</td>\n",
       "      <td>0.8546</td>\n",
       "      <td>0.4313</td>\n",
       "      <td>0.8803</td>\n",
       "      <td>0.5112</td>\n",
       "      <td>0.9328</td>\n",
       "      <td>0.9883</td>\n",
       "    </tr>\n",
       "    <tr>\n",
       "      <th>Fashion MNIST</th>\n",
       "      <td>0.7394</td>\n",
       "      <td>0.7062</td>\n",
       "      <td>0.0443</td>\n",
       "      <td>0.1182</td>\n",
       "      <td>0.5493</td>\n",
       "      <td>0.4730</td>\n",
       "      <td>0.7171</td>\n",
       "      <td>0.6235</td>\n",
       "      <td>0.7437</td>\n",
       "      <td>0.6867</td>\n",
       "      <td>0.7698</td>\n",
       "      <td>0.7619</td>\n",
       "      <td>0.8307</td>\n",
       "      <td>1.3649</td>\n",
       "    </tr>\n",
       "  </tbody>\n",
       "</table>\n",
       "</div>"
      ],
      "text/plain": [
       "                                  mean              std              min  \\\n",
       "                              Accuracy    Loss Accuracy    Loss Accuracy   \n",
       "Number of Nodes Dataset                                                    \n",
       "1               MNIST           0.9720  0.0895   0.0009  0.0026   0.9687   \n",
       "                Fashion MNIST   0.8677  0.3578   0.0021  0.0049   0.8578   \n",
       "2               MNIST           0.9714  0.0914   0.0013  0.0038   0.9624   \n",
       "                Fashion MNIST   0.8667  0.3601   0.0030  0.0070   0.8470   \n",
       "4               MNIST           0.9704  0.0948   0.0020  0.0058   0.9602   \n",
       "                Fashion MNIST   0.8652  0.3643   0.0042  0.0098   0.8470   \n",
       "8               MNIST           0.9681  0.1024   0.0032  0.0095   0.9523   \n",
       "                Fashion MNIST   0.8618  0.3730   0.0059  0.0137   0.8405   \n",
       "16              MNIST           0.9619  0.1216   0.0056  0.0164   0.9270   \n",
       "                Fashion MNIST   0.8543  0.3939   0.0096  0.0228   0.8050   \n",
       "32              MNIST           0.9427  0.1794   0.0130  0.0361   0.8861   \n",
       "                Fashion MNIST   0.8295  0.4607   0.0200  0.0495   0.7382   \n",
       "64              MNIST           0.8485  0.4466   0.0417  0.1074   0.6831   \n",
       "                Fashion MNIST   0.7394  0.7062   0.0443  0.1182   0.5493   \n",
       "\n",
       "                                           25%              50%          \\\n",
       "                                 Loss Accuracy    Loss Accuracy    Loss   \n",
       "Number of Nodes Dataset                                                   \n",
       "1               MNIST          0.0848   0.9715  0.0877   0.9721  0.0890   \n",
       "                Fashion MNIST  0.3459   0.8670  0.3557   0.8684  0.3564   \n",
       "2               MNIST          0.0839   0.9708  0.0887   0.9717  0.0907   \n",
       "                Fashion MNIST  0.3452   0.8653  0.3559   0.8674  0.3584   \n",
       "4               MNIST          0.0838   0.9694  0.0907   0.9708  0.0937   \n",
       "                Fashion MNIST  0.3434   0.8632  0.3576   0.8659  0.3625   \n",
       "8               MNIST          0.0844   0.9664  0.0957   0.9685  0.1012   \n",
       "                Fashion MNIST  0.3448   0.8582  0.3629   0.8626  0.3711   \n",
       "16              MNIST          0.0901   0.9588  0.1101   0.9628  0.1186   \n",
       "                Fashion MNIST  0.3515   0.8491  0.3772   0.8558  0.3900   \n",
       "32              MNIST          0.1127   0.9364  0.1516   0.9448  0.1738   \n",
       "                Fashion MNIST  0.3725   0.8190  0.4245   0.8336  0.4504   \n",
       "64              MNIST          0.2306   0.8215  0.3662   0.8546  0.4313   \n",
       "                Fashion MNIST  0.4730   0.7171  0.6235   0.7437  0.6867   \n",
       "\n",
       "                                   75%              max          \n",
       "                              Accuracy    Loss Accuracy    Loss  \n",
       "Number of Nodes Dataset                                          \n",
       "1               MNIST           0.9726  0.0908   0.9736  0.0997  \n",
       "                Fashion MNIST   0.8686  0.3591   0.8726  0.3791  \n",
       "2               MNIST           0.9724  0.0932   0.9743  0.1245  \n",
       "                Fashion MNIST   0.8685  0.3632   0.8735  0.4055  \n",
       "4               MNIST           0.9719  0.0981   0.9744  0.1292  \n",
       "                Fashion MNIST   0.8681  0.3693   0.8745  0.4035  \n",
       "8               MNIST           0.9704  0.1069   0.9749  0.1489  \n",
       "                Fashion MNIST   0.8663  0.3811   0.8767  0.4297  \n",
       "16              MNIST           0.9660  0.1305   0.9724  0.2233  \n",
       "                Fashion MNIST   0.8611  0.4060   0.8747  0.5106  \n",
       "32              MNIST           0.9526  0.1980   0.9662  0.3409  \n",
       "                Fashion MNIST   0.8441  0.4857   0.8656  0.7079  \n",
       "64              MNIST           0.8803  0.5112   0.9328  0.9883  \n",
       "                Fashion MNIST   0.7698  0.7619   0.8307  1.3649  "
      ]
     },
     "execution_count": 165,
     "metadata": {},
     "output_type": "execute_result"
    }
   ],
   "source": [
    "test"
   ]
  },
  {
   "cell_type": "code",
   "execution_count": 166,
   "metadata": {},
   "outputs": [],
   "source": [
    "test.to_latex('test.tex', multirow=True, multicolumn_format='c', bold_rows=True, longtable=True)"
   ]
  },
  {
   "cell_type": "code",
   "execution_count": null,
   "metadata": {},
   "outputs": [],
   "source": []
  }
 ],
 "metadata": {
  "kernelspec": {
   "display_name": "Python 3",
   "language": "python",
   "name": "python3"
  },
  "language_info": {
   "codemirror_mode": {
    "name": "ipython",
    "version": 3
   },
   "file_extension": ".py",
   "mimetype": "text/x-python",
   "name": "python",
   "nbconvert_exporter": "python",
   "pygments_lexer": "ipython3",
   "version": "3.7.6"
  }
 },
 "nbformat": 4,
 "nbformat_minor": 4
}
