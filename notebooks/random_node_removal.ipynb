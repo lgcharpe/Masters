{
 "cells": [
  {
   "cell_type": "code",
   "execution_count": 1,
   "metadata": {},
   "outputs": [],
   "source": [
    "from __future__ import absolute_import, division, print_function\n",
    "from __future__ import unicode_literals"
   ]
  },
  {
   "cell_type": "code",
   "execution_count": 2,
   "metadata": {},
   "outputs": [],
   "source": [
    "import tensorflow as tf\n",
    "import numpy as np\n",
    "import copy\n",
    "import tqdm\n",
    "import IProgress\n",
    "from hfunc import models\n",
    "from hfunc import metrics"
   ]
  },
  {
   "cell_type": "code",
   "execution_count": 3,
   "metadata": {},
   "outputs": [],
   "source": [
    "mnist = tf.keras.datasets.mnist\n",
    "\n",
    "(x_train, y_train), (x_test, y_test) = mnist.load_data()\n",
    "x_train, x_test = x_train / 255.0, x_test / 255.0  # Converting interger values to floats (0 to 1)"
   ]
  },
  {
   "cell_type": "code",
   "execution_count": 4,
   "metadata": {},
   "outputs": [
    {
     "output_type": "stream",
     "name": "stdout",
     "text": "Epoch 1/10\n1875/1875 [==============================] - 4s 2ms/step - loss: 0.2630 - accuracy: 0.9251 - val_loss: 0.1346 - val_accuracy: 0.9592\nEpoch 2/10\n1875/1875 [==============================] - 4s 2ms/step - loss: 0.1137 - accuracy: 0.9660 - val_loss: 0.0959 - val_accuracy: 0.9715\nEpoch 3/10\n1875/1875 [==============================] - 4s 2ms/step - loss: 0.0772 - accuracy: 0.9765 - val_loss: 0.0906 - val_accuracy: 0.9714\nEpoch 4/10\n1875/1875 [==============================] - 4s 2ms/step - loss: 0.0591 - accuracy: 0.9816 - val_loss: 0.0817 - val_accuracy: 0.9742\nEpoch 5/10\n1875/1875 [==============================] - 4s 2ms/step - loss: 0.0451 - accuracy: 0.9859 - val_loss: 0.0710 - val_accuracy: 0.9775\nEpoch 6/10\n1875/1875 [==============================] - 4s 2ms/step - loss: 0.0366 - accuracy: 0.9887 - val_loss: 0.0800 - val_accuracy: 0.9759\nEpoch 7/10\n1875/1875 [==============================] - 4s 2ms/step - loss: 0.0290 - accuracy: 0.9908 - val_loss: 0.0731 - val_accuracy: 0.9798\nEpoch 8/10\n1875/1875 [==============================] - 4s 2ms/step - loss: 0.0228 - accuracy: 0.9929 - val_loss: 0.0770 - val_accuracy: 0.9766\nEpoch 9/10\n1875/1875 [==============================] - 4s 2ms/step - loss: 0.0194 - accuracy: 0.9942 - val_loss: 0.0755 - val_accuracy: 0.9784\nEpoch 10/10\n1875/1875 [==============================] - 4s 2ms/step - loss: 0.0167 - accuracy: 0.9949 - val_loss: 0.0860 - val_accuracy: 0.9774\n"
    }
   ],
   "source": [
    "model, r = models.train_basic_ANN(x_train, y_train, 128, (x_test, y_test))"
   ]
  },
  {
   "cell_type": "code",
   "execution_count": 5,
   "metadata": {},
   "outputs": [
    {
     "output_type": "stream",
     "name": "stdout",
     "text": "313/313 - 1s - loss: 0.0860 - accuracy: 0.9774\n"
    }
   ],
   "source": [
    "loss, acc = model.evaluate(x_test, y_test, verbose=2)"
   ]
  },
  {
   "cell_type": "code",
   "execution_count": 6,
   "metadata": {},
   "outputs": [],
   "source": [
    "class_accuracy = metrics.ClassAccuracy()\n",
    "y_pred = model.predict(x_test)"
   ]
  },
  {
   "cell_type": "code",
   "execution_count": 7,
   "metadata": {},
   "outputs": [],
   "source": [
    "class_accuracy.update_state(y_test, y_pred)"
   ]
  },
  {
   "cell_type": "code",
   "execution_count": 8,
   "metadata": {},
   "outputs": [
    {
     "output_type": "execute_result",
     "data": {
      "text/plain": "<tf.Tensor: shape=(10,), dtype=float64, numpy=\narray([0.99285714, 0.9938326 , 0.96414729, 0.97821782, 0.96028513,\n       0.96188341, 0.9874739 , 0.97081712, 0.97638604, 0.9851338 ])>"
     },
     "metadata": {},
     "execution_count": 8
    }
   ],
   "source": [
    "class_accuracy.result()"
   ]
  },
  {
   "cell_type": "code",
   "execution_count": null,
   "metadata": {},
   "outputs": [],
   "source": []
  }
 ],
 "metadata": {
  "language_info": {
   "codemirror_mode": {
    "name": "ipython",
    "version": 3
   },
   "file_extension": ".py",
   "mimetype": "text/x-python",
   "name": "python",
   "nbconvert_exporter": "python",
   "pygments_lexer": "ipython3",
   "version": "3.7.6-final"
  },
  "orig_nbformat": 2,
  "kernelspec": {
   "name": "python37664bitmastercondad556aba890334ca2b025f74f5b164268",
   "display_name": "Python 3.7.6 64-bit ('master': conda)"
  }
 },
 "nbformat": 4,
 "nbformat_minor": 2
}