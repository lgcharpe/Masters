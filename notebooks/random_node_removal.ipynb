{
 "cells": [
  {
   "cell_type": "code",
   "execution_count": 1,
   "metadata": {},
   "outputs": [],
   "source": [
    "from __future__ import absolute_import, division, print_function\n",
    "from __future__ import unicode_literals"
   ]
  },
  {
   "cell_type": "code",
   "execution_count": 2,
   "metadata": {},
   "outputs": [],
   "source": [
    "import tensorflow as tf\n",
    "import numpy as np\n",
    "import copy\n",
    "import tqdm\n",
    "import IProgress\n",
    "from hfunc import models"
   ]
  },
  {
   "cell_type": "code",
   "execution_count": 4,
   "metadata": {},
   "outputs": [],
   "source": [
    "mnist = tf.keras.datasets.mnist\n",
    "\n",
    "(x_train, y_train), (x_test, y_test) = mnist.load_data()\n",
    "x_train, x_test = x_train / 255.0, x_test / 255.0  # Converting interger values to floats (0 to 1)"
   ]
  },
  {
   "cell_type": "code",
   "execution_count": 5,
   "metadata": {},
   "outputs": [
    {
     "output_type": "stream",
     "name": "stdout",
     "text": "Epoch 1/10\n1875/1875 [==============================] - 4s 2ms/step - loss: 0.2574 - accuracy: 0.9260 - val_loss: 0.1412 - val_accuracy: 0.9582\nEpoch 2/10\n1875/1875 [==============================] - 4s 2ms/step - loss: 0.1148 - accuracy: 0.9671 - val_loss: 0.0965 - val_accuracy: 0.9706\nEpoch 3/10\n1875/1875 [==============================] - 4s 2ms/step - loss: 0.0790 - accuracy: 0.9763 - val_loss: 0.0917 - val_accuracy: 0.9722\nEpoch 4/10\n1875/1875 [==============================] - 4s 2ms/step - loss: 0.0590 - accuracy: 0.9815 - val_loss: 0.0781 - val_accuracy: 0.9757\nEpoch 5/10\n1875/1875 [==============================] - 4s 2ms/step - loss: 0.0440 - accuracy: 0.9865 - val_loss: 0.0806 - val_accuracy: 0.9763\nEpoch 6/10\n1875/1875 [==============================] - 4s 2ms/step - loss: 0.0352 - accuracy: 0.9887 - val_loss: 0.0803 - val_accuracy: 0.9767\nEpoch 7/10\n1875/1875 [==============================] - 4s 2ms/step - loss: 0.0282 - accuracy: 0.9913 - val_loss: 0.0797 - val_accuracy: 0.9766\nEpoch 8/10\n1875/1875 [==============================] - 4s 2ms/step - loss: 0.0233 - accuracy: 0.9927 - val_loss: 0.0842 - val_accuracy: 0.9749\nEpoch 9/10\n1875/1875 [==============================] - 4s 2ms/step - loss: 0.0190 - accuracy: 0.9940 - val_loss: 0.0821 - val_accuracy: 0.9779\nEpoch 10/10\n1875/1875 [==============================] - 4s 2ms/step - loss: 0.0153 - accuracy: 0.9953 - val_loss: 0.0858 - val_accuracy: 0.9759\n"
    }
   ],
   "source": [
    "model, r = models.train_basic_ANN(x_train, y_train, 128, (x_test, y_test))"
   ]
  },
  {
   "cell_type": "code",
   "execution_count": 6,
   "metadata": {},
   "outputs": [
    {
     "output_type": "stream",
     "name": "stdout",
     "text": "313/313 - 1s - loss: 0.0858 - accuracy: 0.9759\n"
    }
   ],
   "source": [
    "loss, acc = model.evaluate(x_test, y_test, verbose=2)"
   ]
  },
  {
   "cell_type": "code",
   "execution_count": 7,
   "metadata": {},
   "outputs": [],
   "source": [
    "class ClassAccuracy(tf.keras.metrics.Metric):\n",
    "\n",
    "    def __init__(self, name='class_accuracy', **kwargs):\n",
    "        super(ClassAccuracy, self).__init__(name=name, **kwargs)\n",
    "\n",
    "    def update_state(self, y_true, y_pred):\n",
    "        K = len(set(y_test))\n",
    "        oyp = tf.one_hot(tf.argmax(y_pred, axis=1), K)\n",
    "        oyt = tf.one_hot(y_test, K)\n",
    "        accuracies = tf.reduce_mean(tf.cast(oyp == oyt, tf.float32), axis=0)\n",
    "        self.accuracies = accuracies\n",
    "    \n",
    "    def result(self):\n",
    "        return self.accuracies"
   ]
  },
  {
   "cell_type": "code",
   "execution_count": 8,
   "metadata": {},
   "outputs": [],
   "source": [
    "y_pred = model.predict(x_test)"
   ]
  },
  {
   "cell_type": "code",
   "execution_count": 22,
   "metadata": {},
   "outputs": [
    {
     "output_type": "stream",
     "name": "stdout",
     "text": "tf.Tensor(\n[[0. 0. 0. ... 1. 0. 0.]\n [0. 0. 1. ... 0. 0. 0.]\n [0. 1. 0. ... 0. 0. 0.]\n ...\n [0. 0. 0. ... 0. 0. 0.]\n [0. 0. 0. ... 0. 0. 0.]\n [0. 0. 0. ... 0. 0. 0.]], shape=(10000, 10), dtype=float32)\n"
    }
   ],
   "source": [
    "print(tf.one_hot(tf.argmax(y_pred, axis=1), 10))"
   ]
  },
  {
   "cell_type": "code",
   "execution_count": 9,
   "metadata": {},
   "outputs": [
    {
     "output_type": "stream",
     "name": "stdout",
     "text": "[7 2 1 ... 4 5 6]\n"
    }
   ],
   "source": [
    "print(y_test)"
   ]
  },
  {
   "cell_type": "code",
   "execution_count": 14,
   "metadata": {},
   "outputs": [
    {
     "output_type": "execute_result",
     "data": {
      "text/plain": "<tf.Tensor: shape=(10000,), dtype=float16, numpy=array([1., 1., 1., ..., 1., 1., 1.], dtype=float16)>"
     },
     "metadata": {},
     "execution_count": 14
    }
   ],
   "source": [
    "tf.cast(y_test == tf.argmax(y_pred, axis=1), tf.float16)"
   ]
  },
  {
   "cell_type": "code",
   "execution_count": 16,
   "metadata": {},
   "outputs": [
    {
     "output_type": "execute_result",
     "data": {
      "text/plain": "<tf.Tensor: shape=(), dtype=float32, numpy=0.9759>"
     },
     "metadata": {},
     "execution_count": 16
    }
   ],
   "source": [
    "tf.reduce_mean(tf.cast(y_test == tf.argmax(y_pred, axis=1), tf.float32))"
   ]
  },
  {
   "cell_type": "code",
   "execution_count": 18,
   "metadata": {},
   "outputs": [
    {
     "output_type": "execute_result",
     "data": {
      "text/plain": "<tf.Tensor: shape=(10,), dtype=float32, numpy=\narray([0.9969, 0.9964, 0.9951, 0.9944, 0.9946, 0.9944, 0.9963, 0.995 ,\n       0.9946, 0.9941], dtype=float32)>"
     },
     "metadata": {},
     "execution_count": 18
    }
   ],
   "source": [
    "tf.reduce_mean(tf.cast(tf.one_hot(y_test, len(set(y_test))) == tf.one_hot(tf.argmax(y_pred, axis=1), 10), tf.float32), axis=0)"
   ]
  },
  {
   "cell_type": "code",
   "execution_count": null,
   "metadata": {},
   "outputs": [],
   "source": []
  }
 ],
 "metadata": {
  "language_info": {
   "codemirror_mode": {
    "name": "ipython",
    "version": 3
   },
   "file_extension": ".py",
   "mimetype": "text/x-python",
   "name": "python",
   "nbconvert_exporter": "python",
   "pygments_lexer": "ipython3",
   "version": "3.7.6-final"
  },
  "orig_nbformat": 2,
  "kernelspec": {
   "name": "python37664bitmastercondad556aba890334ca2b025f74f5b164268",
   "display_name": "Python 3.7.6 64-bit ('master': conda)"
  }
 },
 "nbformat": 4,
 "nbformat_minor": 2
}