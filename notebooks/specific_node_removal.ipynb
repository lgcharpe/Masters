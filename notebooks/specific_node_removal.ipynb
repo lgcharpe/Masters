{
 "cells": [
  {
   "cell_type": "code",
   "execution_count": 1,
   "metadata": {},
   "outputs": [],
   "source": [
    "from __future__ import absolute_import, division, print_function\n",
    "from __future__ import unicode_literals"
   ]
  },
  {
   "cell_type": "code",
   "execution_count": 2,
   "metadata": {},
   "outputs": [],
   "source": [
    "import tensorflow as tf\n",
    "import numpy as np\n",
    "import copy\n",
    "import tqdm\n",
    "import IProgress\n",
    "from hfunc import models\n",
    "from hfunc import metrics"
   ]
  },
  {
   "cell_type": "code",
   "execution_count": 3,
   "metadata": {},
   "outputs": [],
   "source": [
    "fashion_mnist = tf.keras.datasets.fashion_mnist\n",
    "class_accuracy = metrics.ClassAccuracy()\n",
    "\n",
    "(x_train, y_train), (x_test, y_test) = fashion_mnist.load_data()\n",
    "x_train, x_test = x_train / 255.0, x_test / 255.0  # Converting interger values to floats (0 to 1)"
   ]
  },
  {
   "cell_type": "code",
   "execution_count": null,
   "metadata": {},
   "outputs": [],
   "source": [
    "model = tf.keras.models.Sequential([\n",
    "        tf.keras.layers.Flatten(input_shape=(28, 28)),\n",
    "        tf.keras.layers.Dense(128, activation='relu'),\n",
    "        tf.keras.layers.Dense(10, activation='softmax')\n",
    "    ])\n",
    "    \n",
    "model.compile(optimizer='adam', loss='sparse_categorical_crossentropy', metrics=['accuracy'])\n",
    "model.fit(x_train, y_train, epochs=10)\n",
    "loss, acc = model.evaluate(x_test, y_test, verbose=2)\n",
    "end_not_reached = True\n",
    "improved = False\n",
    "size = 128\n",
    "tol = -1e-30\n",
    "current_pos = 0\n",
    "best_pos = -1\n",
    "best_change = tol\n",
    "original = model.get_weights()\n",
    "bas = [acc]\n",
    "bls = [loss]\n",
    "best_weights = model.get_weights()\n",
    "nodes_removed = []\n",
    "best_acc = 0\n",
    "best_loss = 1e20\n",
    "ol = loss\n",
    "oa = acc\n",
    "num_removed = 0\n",
    "while end_not_reached or improved:\n",
    "    if not(end_not_reached):\n",
    "        end_not_reached = True\n",
    "        improved = False\n",
    "        current_pos = 0\n",
    "        size -= 1\n",
    "        nodes_removed += [best_pos]\n",
    "        best_weights[0][:,best_pos] = 0\n",
    "        best_weights[1][best_pos] = 0\n",
    "        best_weights[2][best_pos,:] = 0\n",
    "        best_pos = -1\n",
    "        tol -= best_change\n",
    "        ol = best_loss\n",
    "        oa = best_acc\n",
    "        bas += [best_acc]\n",
    "        bls += [best_loss]\n",
    "        print(\"Improvement has occured!! Accuracy:\", best_acc, \"--- Loss:\", best_loss, '--- Change:', best_change, '--- New tol:', tol)\n",
    "        best_change = tol\n",
    "        num_removed += 1\n",
    "    if current_pos in nodes_removed:\n",
    "        current_pos += 1\n",
    "        if current_pos - num_removed >= size:\n",
    "            end_not_reached = False\n",
    "        continue\n",
    "    w = copy.deepcopy(best_weights)\n",
    "    w[0][:,current_pos] = 0\n",
    "    w[1][current_pos] = 0\n",
    "    w[2][current_pos,:] = 0\n",
    "    model.set_weights(w)\n",
    "    nl, na = model.evaluate(x_test, y_test, verbose=0)\n",
    "    if 0.8*(na - oa) + 0.2*(ol - nl) >= best_change:\n",
    "        best_change = 0.8*(na - oa) + 0.2*(ol - nl)\n",
    "        print(best_change)\n",
    "        best_pos = current_pos\n",
    "        improved = True\n",
    "        best_acc = na\n",
    "        best_loss = nl\n",
    "        print(\"Found something better\")\n",
    "    current_pos += 1\n",
    "    if current_pos - num_removed >= size:\n",
    "        end_not_reached = False\n",
    "    if current_pos%20 == 0:\n",
    "        print(\"Did 20 iterations\")\n",
    "\n",
    "model.set_weights(best_weights)\n",
    "loss2, acc2 = model.evaluate(x_test, y_test, verbose=2)"
   ]
  },
  {
   "cell_type": "code",
   "execution_count": null,
   "metadata": {},
   "outputs": [],
   "source": [
    "print(loss - loss2)\n",
    "print(acc2 - acc)\n",
    "print((loss - loss2)/loss * 100)\n",
    "print((acc2 - acc)/acc * 100)\n",
    "print(num_removed)\n",
    "print(best_weights[1])"
   ]
  },
  {
   "cell_type": "code",
   "execution_count": null,
   "metadata": {},
   "outputs": [],
   "source": [
    "or_model = tf.keras.models.Sequential([\n",
    "        tf.keras.layers.Flatten(input_shape=(28, 28)),\n",
    "        tf.keras.layers.Dense(128, activation='relu'),\n",
    "        tf.keras.layers.Dense(10, activation='softmax')\n",
    "    ])\n",
    "    \n",
    "or_model.compile(optimizer='adam', loss='sparse_categorical_crossentropy', metrics=['accuracy'])\n",
    "or_model.set_weights(original)\n",
    "print(or_model.get_weights()[1])"
   ]
  },
  {
   "cell_type": "code",
   "execution_count": null,
   "metadata": {},
   "outputs": [],
   "source": [
    "model.evaluate(x_train, y_train, verbose=2)"
   ]
  },
  {
   "cell_type": "code",
   "execution_count": null,
   "metadata": {},
   "outputs": [],
   "source": [
    "or_model.evaluate(x_train, y_train, verbose=2)"
   ]
  },
  {
   "cell_type": "code",
   "execution_count": null,
   "metadata": {},
   "outputs": [],
   "source": [
    "model.evaluate(x_test, y_test, verbose=2)"
   ]
  },
  {
   "cell_type": "code",
   "execution_count": null,
   "metadata": {},
   "outputs": [],
   "source": [
    "or_model.evaluate(x_test, y_test, verbose=2)"
   ]
  },
  {
   "cell_type": "code",
   "execution_count": null,
   "metadata": {},
   "outputs": [],
   "source": [
    "red_model = tf.keras.models.Sequential([\n",
    "        tf.keras.layers.Flatten(input_shape=(28, 28)),\n",
    "        tf.keras.layers.Dense(128-num_removed, activation='relu'),\n",
    "        tf.keras.layers.Dense(10, activation='softmax')\n",
    "    ])\n",
    "    \n",
    "red_model.compile(optimizer='adam', loss='sparse_categorical_crossentropy', metrics=['accuracy'])\n",
    "red_model.fit(x_train, y_train, epochs=100, verbose=1)\n",
    "red_model.evaluate(x_test, y_test, verbose=2)"
   ]
  },
  {
   "cell_type": "code",
   "execution_count": null,
   "metadata": {},
   "outputs": [],
   "source": [
    "red_model.fit(x_train, y_train, epochs=15, verbose=1)\n",
    "red_model.evaluate(x_test, y_test, verbose=2)"
   ]
  },
  {
   "cell_type": "code",
   "execution_count": null,
   "metadata": {},
   "outputs": [],
   "source": [
    "import os\n",
    "from tensorflow import keras\n",
    "import datetime"
   ]
  },
  {
   "cell_type": "code",
   "execution_count": null,
   "metadata": {},
   "outputs": [],
   "source": [
    "reduced_path = f'C:/Users/lucas/Documents/Masters/models/reduced/fashion_mnist_128_{128-num_removed}'\n",
    "original_path = f'C:/Users/lucas/Documents/Masters/models/orininal/fashion_mnist_128_{128-num_removed}'\n",
    "full_reduced_path = f'C:/Users/lucas/Documents/Masters/models/full_reduced/fashion_mnist_128_{128-num_removed}'"
   ]
  },
  {
   "cell_type": "code",
   "execution_count": null,
   "metadata": {},
   "outputs": [],
   "source": [
    "model.save_weights(reduced_path)"
   ]
  },
  {
   "cell_type": "code",
   "execution_count": null,
   "metadata": {},
   "outputs": [],
   "source": [
    "or_model.save_weights(original_path)"
   ]
  },
  {
   "cell_type": "code",
   "execution_count": null,
   "metadata": {},
   "outputs": [],
   "source": [
    "new_weights = [np.zeros((best_weights[0].shape[0], best_weights[0].shape[1] - num_removed)), np.zeros((best_weights[1].shape[0] - num_removed)), np.zeros((best_weights[2].shape[0] - num_removed, best_weights[2].shape[1])), best_weights[3]]\n",
    "\n",
    "j = 0\n",
    "for i in range(len(best_weights[1])):\n",
    "    if i not in nodes_removed:\n",
    "        new_weights[0][:, j] = best_weights[0][:, i]\n",
    "        new_weights[1][j] = best_weights[1][i]\n",
    "        new_weights[2][j, :] = best_weights[2][i, :]\n",
    "        j = j + 1"
   ]
  },
  {
   "cell_type": "code",
   "execution_count": null,
   "metadata": {},
   "outputs": [],
   "source": [
    "red_model = tf.keras.models.Sequential([\n",
    "        tf.keras.layers.Flatten(input_shape=(28, 28)),\n",
    "        tf.keras.layers.Dense(12, activation='relu'),\n",
    "        tf.keras.layers.Dense(10, activation='softmax')\n",
    "    ])\n",
    "    \n",
    "red_model.compile(optimizer='adam', loss='sparse_categorical_crossentropy', metrics=['accuracy'])\n",
    "red_model.set_weights(new_weights)\n",
    "red_model.save_weights(full_reduced_path)\n",
    "red_model.evaluate(x_test, y_test, verbose=2)"
   ]
  },
  {
   "cell_type": "code",
   "execution_count": null,
   "metadata": {},
   "outputs": [],
   "source": [
    "red_model.set_weights(new_weights)\n",
    "red_model.fit(x_train, y_train, epochs=15, verbose=1, batch_size=4096)\n",
    "red_model.evaluate(x_test, y_test, verbose=2, batch_size=256)"
   ]
  },
  {
   "cell_type": "code",
   "execution_count": null,
   "metadata": {},
   "outputs": [],
   "source": [
    "new_model = tf.keras.models.Sequential([\n",
    "        tf.keras.layers.Flatten(input_shape=(28, 28)),\n",
    "        tf.keras.layers.Dense(128, activation='relu'),\n",
    "        tf.keras.layers.Dense(10, activation='softmax')\n",
    "    ])\n",
    "new_model.compile(optimizer='adam', loss='sparse_categorical_crossentropy', metrics=['accuracy'])\n",
    "new_model.set_weights(best_weights)\n",
    "new_model.evaluate(x_test, y_test, verbose=2)\n",
    "new_model.fit(x_train, y_train, epochs=10, verbose=1, batch_size=2048)\n",
    "new_model.evaluate(x_test, y_test, verbose=2)"
   ]
  },
  {
   "cell_type": "code",
   "execution_count": null,
   "metadata": {},
   "outputs": [],
   "source": [
    "loss, acc = new_model.evaluate(x_test, y_test, verbose=2)\n",
    "end_not_reached = True\n",
    "improved = False\n",
    "size = 128\n",
    "tol = -1e-30\n",
    "current_pos = 0\n",
    "best_pos = -1\n",
    "best_change = tol\n",
    "original2 = new_model.get_weights()\n",
    "bas2 = [acc]\n",
    "bls2 = [loss]\n",
    "best_weights2 = new_model.get_weights()\n",
    "nodes_removed2 = []\n",
    "best_acc = 0\n",
    "best_loss = 1e20\n",
    "ol = loss\n",
    "oa = acc\n",
    "num_removed2 = 0\n",
    "while end_not_reached or improved:\n",
    "    if not(end_not_reached):\n",
    "        end_not_reached = True\n",
    "        improved = False\n",
    "        current_pos = 0\n",
    "        size -= 1\n",
    "        nodes_removed2 += [best_pos]\n",
    "        best_weights2[0][:,best_pos] = 0\n",
    "        best_weights2[1][best_pos] = 0\n",
    "        best_weights2[2][best_pos,:] = 0\n",
    "        best_pos = -1\n",
    "        tol -= best_change\n",
    "        ol = best_loss\n",
    "        oa = best_acc\n",
    "        bas2 += [best_acc]\n",
    "        bls2 += [best_loss]\n",
    "        print(\"Improvement has occured!! Accuracy:\", best_acc, \"--- Loss:\", best_loss, '--- Change:', best_change, '--- New tol:', tol)\n",
    "        best_change = tol\n",
    "        num_removed2 += 1\n",
    "    if current_pos in nodes_removed2:\n",
    "        current_pos += 1\n",
    "        if current_pos - num_removed2 >= size:\n",
    "            end_not_reached = False\n",
    "        continue\n",
    "    w = copy.deepcopy(best_weights2)\n",
    "    w[0][:,current_pos] = 0\n",
    "    w[1][current_pos] = 0\n",
    "    w[2][current_pos,:] = 0\n",
    "    new_model.set_weights(w)\n",
    "    nl, na = new_model.evaluate(x_test, y_test, verbose=0)\n",
    "    print(f\"Node {current_pos}:\", 0.8*(na - oa) + 0.2*(ol - nl))\n",
    "    if 0.8*(na - oa) + 0.2*(ol - nl) > best_change:\n",
    "        best_change = 0.8*(na - oa) + 0.2*(ol - nl)\n",
    "        print(best_change)\n",
    "        best_pos = current_pos\n",
    "        improved = True\n",
    "        best_acc = na\n",
    "        best_loss = nl\n",
    "        print(\"Found something better\")\n",
    "    current_pos += 1\n",
    "    if current_pos - num_removed2 >= size:\n",
    "        end_not_reached = False\n",
    "    if current_pos%20 == 0:\n",
    "        print(\"Did 20 iterations\")\n",
    "\n",
    "new_model.set_weights(best_weights2)\n",
    "loss2, acc2 = new_model.evaluate(x_test, y_test, verbose=2)"
   ]
  },
  {
   "cell_type": "code",
   "execution_count": null,
   "metadata": {},
   "outputs": [],
   "source": [
    "tester_model = tf.keras.models.Sequential([\n",
    "        tf.keras.layers.Flatten(input_shape=(28, 28)),\n",
    "        tf.keras.layers.Dense(128, activation='relu'),\n",
    "        tf.keras.layers.Dense(10, activation='softmax')\n",
    "    ])\n",
    "tester_model.compile(optimizer='adam', loss='sparse_categorical_crossentropy', metrics=['accuracy'])"
   ]
  },
  {
   "cell_type": "code",
   "execution_count": null,
   "metadata": {},
   "outputs": [],
   "source": [
    "l, a = or_model.evaluate(x_test, y_test, verbose=2)\n",
    "or_weights = or_model.get_weights()\n",
    "size = 128\n",
    "for i in range(128):\n",
    "    w = copy.deepcopy(or_weights)\n",
    "    w[0][:,i] = 0\n",
    "    w[1][i] = 0\n",
    "    w[2][i,:] = 0\n",
    "    tester_model.set_weights(w)\n",
    "    nl, na = tester_model.evaluate(x_test, y_test, verbose=0)\n",
    "    print(f\"Node {i}:\", 0.6*(na - a) + 0.4*(l - nl))"
   ]
  },
  {
   "cell_type": "code",
   "execution_count": null,
   "metadata": {},
   "outputs": [],
   "source": [
    "num_test = 20\n",
    "num_zeros = np.zeros(num_test)\n",
    "num_worse = np.zeros(num_test)\n",
    "num_important = np.zeros(num_test)\n",
    "losses = np.zeros(num_test)\n",
    "accs = np.zeros(num_test)\n",
    "zero_nodes = []\n",
    "worsening_nodes = []\n",
    "important_nodes = []\n",
    "tol = -1e-4\n",
    "for j in range(num_test):\n",
    "    blank_model = tf.keras.models.Sequential([\n",
    "            tf.keras.layers.Flatten(input_shape=(28, 28)),\n",
    "            tf.keras.layers.Dense(128, activation='relu'),\n",
    "            tf.keras.layers.Dense(10, activation='softmax')\n",
    "        ])\n",
    "    blank_model.compile(optimizer='adam', loss='sparse_categorical_crossentropy', metrics=['accuracy'])\n",
    "    blank_model.fit(x_train, y_train, epochs=10)\n",
    "    l, a = blank_model.evaluate(x_test, y_test, verbose=2)\n",
    "    losses[j] = l\n",
    "    accs[j] = a\n",
    "    z = []\n",
    "    wr = []\n",
    "    imp = []\n",
    "    for i in range(128):\n",
    "        w = blank_model.get_weights()\n",
    "        w[0][:,i] = 0\n",
    "        w[1][i] = 0\n",
    "        w[2][i,:] = 0\n",
    "        tester_model.set_weights(w)\n",
    "        nl, na = tester_model.evaluate(x_test, y_test, verbose=0)\n",
    "        change = 0.8*(na - a) + 0.2*(l - nl)\n",
    "        if change <= 0 and change >= tol:\n",
    "            num_zeros[j] += 1\n",
    "            z += [i]\n",
    "        elif change > 0:\n",
    "            num_worse[j] += 1\n",
    "            wr += [i]\n",
    "        else:\n",
    "            num_important[j] += 1\n",
    "            imp += [i]\n",
    "    zero_nodes += [z]\n",
    "    worsening_nodes += [wr]\n",
    "    important_nodes += [imp]"
   ]
  },
  {
   "cell_type": "code",
   "execution_count": null,
   "metadata": {},
   "outputs": [],
   "source": [
    "print(num_zeros)\n",
    "print(num_worse)\n",
    "print(num_important)"
   ]
  }
 ],
 "metadata": {
  "language_info": {
   "codemirror_mode": {
    "name": "ipython",
    "version": 3
   },
   "file_extension": ".py",
   "mimetype": "text/x-python",
   "name": "python",
   "nbconvert_exporter": "python",
   "pygments_lexer": "ipython3",
   "version": "3.7.6-final"
  },
  "orig_nbformat": 2,
  "kernelspec": {
   "name": "python37664bitmastercondad556aba890334ca2b025f74f5b164268",
   "display_name": "Python 3.7.6 64-bit ('master': conda)"
  }
 },
 "nbformat": 4,
 "nbformat_minor": 2
}